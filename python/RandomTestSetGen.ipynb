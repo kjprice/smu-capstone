{
 "cells": [
  {
   "cell_type": "code",
   "execution_count": 14,
   "metadata": {},
   "outputs": [],
   "source": [
    "\n",
    "#root_dir =  \"C:/Users/aln15/Documents/SMUHomeWork/Capstone\"\n",
    "DATA_DIR =  \"C:/\"\n",
    "#DATA_DIR = \"C:/Users/aln15/Documents/SMUHomeWork/Capstone\"\n",
    "ASL_ALPHABET_TRAIN_DATASET_FULL = os.path.join(DATA_DIR, \"/asl_alphabet_train\")\n",
    "ASL_ALPHABET_TRAIN_DATASET = os.path.join(DATA_DIR, \"/asl_alphabet_train2\")\n",
    "ASL_ALPHABET_TEST_DATASET = os.path.join(DATA_DIR, \"/asl_alphabet_test2\")\n",
    "\n"
   ]
  },
  {
   "cell_type": "code",
   "execution_count": 15,
   "metadata": {},
   "outputs": [],
   "source": [
    "# Create the seperate/ new directories for training/Validation and test images\n",
    "asl_folders = ['A','B','C','D','E','F','G','H','I','J','K','L','M','N','O','P','Q','R','S','T','U','V','W','X','Y','Z','del','space','nothing']\n",
    "for signFolder in range (len(asl_folders)): \n",
    "    sign_dir = os.path.join(ASL_ALPHABET_TRAIN_DATASET_FULL, asl_folders[signFolder])\n",
    "    letter_folder = os.path.join(asl_folders[signFolder] + r'\\'')\n",
    "   # print(sign_dir, letter_folder)\n",
    "                                                               \n",
    "    test_out_dir = ntpath.dirname(os.path.join(ASL_ALPHABET_TEST_DATASET, letter_folder))\n",
    "    os.mkdir(test_out_dir)\n",
    "    train_out_dir = ntpath.dirname(os.path.join(ASL_ALPHABET_TRAIN_DATASET, letter_folder))\n",
    "    os.mkdir(train_out_dir)\n"
   ]
  },
  {
   "cell_type": "code",
   "execution_count": null,
   "metadata": {},
   "outputs": [],
   "source": [
    "#randomly select 25% of the original images to go into the test folder structure and rest to go to the training/validation folders\n",
    "# and copy the images to the appropriate folder\n",
    "\n",
    "from skimage import io\n",
    "import os, ntpath\n",
    "import glob\n",
    "import random\n",
    "import shutil\n",
    "\n",
    "test_percent = .25;\n",
    "\n",
    "\n",
    "\n",
    "def get_class(img_path):\n",
    "    return int(img_path.split('/')[-2])\n",
    "\n",
    "\n",
    "\n",
    "imgs = []\n",
    "labels = []\n",
    "asl_folders = ['A','B','C','D','E','F','G','H','I','J','K','L','M','N','O','P','Q','R','S','T','U','V','W','X','Y','Z','del','space']\n",
    "#asl_folders = ['A']\n",
    "\n",
    "#all_img_paths = glob.glob(os.path.join(root_dir, '*/*.ppm'))\n",
    "all_img_paths = [ASL_ALPHABET_TRAIN_DATASET_FULL]         \n",
    "#np.random.shuffle(all_img_paths)\n",
    "for img_path in all_img_paths:\n",
    "    dataset_dir = os.path.join(root_dir,img_path)\n",
    "    for signFolder in range (len(asl_folders)): \n",
    "         sign_dir = os.path.join(dataset_dir, asl_folders[signFolder]) \n",
    "         letter_folder = os.path.join(asl_folders[signFolder], str(\" \"))\n",
    "         in_dir = ntpath.dirname(os.path.join(img_path, letter_folder))\n",
    "         \n",
    "         filelist = os.listdir(in_dir) # dir is your directory path\n",
    "         number_files = len(filelist)\n",
    "         label = letter_folder[0:-2]\n",
    "            \n",
    "         test_out_dir = ntpath.dirname(os.path.join(ASL_ALPHABET_TEST_DATASET, letter_folder))\n",
    "         train_out_dir = ntpath.dirname(os.path.join(ASL_ALPHABET_TRAIN_DATASET, letter_folder))\n",
    "    \n",
    "         for x in range(int(test_percent * number_files)):\n",
    "            test_fname = label+str(random.randint(1,number_files))+\".jpg\" \n",
    "            for infile in os.listdir(in_dir): \n",
    "                full_path_name = os.path.join(in_dir, infile)                  \n",
    "                if infile == test_fname: \n",
    "                    shutil.copy(full_path_name, test_out_dir)\n",
    "                else: \n",
    "                    shutil.copy(full_path_name, train_out_dir)\n",
    "                \n",
    "                \n",
    "  "
   ]
  }
 ],
 "metadata": {
  "kernelspec": {
   "display_name": "Python 3",
   "language": "python",
   "name": "python3"
  },
  "language_info": {
   "codemirror_mode": {
    "name": "ipython",
    "version": 3
   },
   "file_extension": ".py",
   "mimetype": "text/x-python",
   "name": "python",
   "nbconvert_exporter": "python",
   "pygments_lexer": "ipython3",
   "version": "3.6.5"
  }
 },
 "nbformat": 4,
 "nbformat_minor": 2
}
