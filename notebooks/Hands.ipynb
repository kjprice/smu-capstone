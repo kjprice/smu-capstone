{
 "cells": [
  {
   "cell_type": "markdown",
   "metadata": {},
   "source": [
    "# TODO:\n",
    "- Create model and layers\n",
    "- Review the differences in layers (mostly looking at the first numerical argument in the layer creation)\n",
    "- Use a subset of the train/test data to create MVP"
   ]
  },
  {
   "cell_type": "code",
   "execution_count": 1,
   "metadata": {},
   "outputs": [
    {
     "name": "stderr",
     "output_type": "stream",
     "text": [
      "/usr/local/lib/python3.6/site-packages/h5py/__init__.py:36: FutureWarning: Conversion of the second argument of issubdtype from `float` to `np.floating` is deprecated. In future, it will be treated as `np.float64 == np.dtype(float).type`.\n",
      "  from ._conv import register_converters as _register_converters\n",
      "Using TensorFlow backend.\n"
     ]
    }
   ],
   "source": [
    "import sklearn as sk\n",
    "from keras import layers, models, optimizers\n",
    "from keras.preprocessing.image import ImageDataGenerator\n",
    "import os\n",
    "import datetime"
   ]
  },
  {
   "cell_type": "code",
   "execution_count": 2,
   "metadata": {},
   "outputs": [],
   "source": [
    "## Setup constants\n",
    "IMAGE_SHAPE=(256, 256, 3)\n",
    "\n",
    "DATA_DIR = '../data'\n",
    "DATA_FABRICATED_DIR = os.path.join(DATA_DIR, 'fabricated')\n",
    "\n",
    "IMAGE_TEST_DIR = os.path.join(DATA_FABRICATED_DIR, 'hands_test')\n",
    "IMAGE_VALIDATION_DIR = os.path.join(DATA_FABRICATED_DIR, 'hands_validation')\n",
    "IMAGE_TRAIN_DIR = os.path.join(DATA_FABRICATED_DIR, 'hands_train')\n",
    "\n",
    "SAVED_MODEL_DIR = os.path.join(DATA_DIR, 'models')"
   ]
  },
  {
   "cell_type": "code",
   "execution_count": 3,
   "metadata": {},
   "outputs": [
    {
     "data": {
      "text/plain": [
       "<keras.engine.sequential.Sequential at 0x115d57828>"
      ]
     },
     "execution_count": 3,
     "metadata": {},
     "output_type": "execute_result"
    }
   ],
   "source": [
    "def create_model():\n",
    "    model = models.Sequential()\n",
    "    model.add(layers.Conv2D(32, (3, 3), activation='relu',\n",
    "                            input_shape=IMAGE_SHAPE))\n",
    "    model.add(layers.MaxPooling2D((2, 2)))\n",
    "    model.add(layers.Conv2D(64, (3, 3), activation='relu'))\n",
    "    model.add(layers.MaxPooling2D((2, 2)))\n",
    "    model.add(layers.Conv2D(128, (3, 3), activation='relu'))\n",
    "    model.add(layers.MaxPooling2D((2, 2)))\n",
    "    model.add(layers.Conv2D(128, (3, 3), activation='relu'))\n",
    "    model.add(layers.MaxPooling2D((2, 2)))\n",
    "    model.add(layers.Flatten())\n",
    "    model.add(layers.Dense(512, activation='relu'))\n",
    "    model.add(layers.Dense(1, activation='sigmoid'))\n",
    "    \n",
    "    model.compile(loss='binary_crossentropy',\n",
    "                  optimizer=optimizers.RMSprop(lr=1e-4),\n",
    "                  metrics=['acc'])\n",
    "    return model\n",
    "\n",
    "create_model()"
   ]
  },
  {
   "cell_type": "code",
   "execution_count": 4,
   "metadata": {},
   "outputs": [
    {
     "name": "stdout",
     "output_type": "stream",
     "text": [
      "Found 18655 images belonging to 2 classes.\n",
      "Found 11121 images belonging to 2 classes.\n"
     ]
    },
    {
     "data": {
      "text/plain": [
       "[<keras_preprocessing.image.DirectoryIterator at 0x115d576a0>,\n",
       " <keras_preprocessing.image.DirectoryIterator at 0x115ed1cc0>]"
      ]
     },
     "execution_count": 4,
     "metadata": {},
     "output_type": "execute_result"
    }
   ],
   "source": [
    "def create_data_generator():\n",
    "    # All images will be rescaled by 1./255\n",
    "    train_datagen = ImageDataGenerator(rescale=1./255)\n",
    "    validation_datagen = ImageDataGenerator(rescale=1./255)\n",
    "\n",
    "    train_generator = train_datagen.flow_from_directory(\n",
    "            # This is the target directory\n",
    "            IMAGE_TRAIN_DIR,\n",
    "            target_size=[IMAGE_SHAPE[0], IMAGE_SHAPE[1]],\n",
    "            batch_size=20,\n",
    "            # Since we use binary_crossentropy loss, we need binary labels\n",
    "            class_mode='binary')\n",
    "\n",
    "    validation_generator = validation_datagen.flow_from_directory(\n",
    "            IMAGE_VALIDATION_DIR,\n",
    "            target_size=[IMAGE_SHAPE[0], IMAGE_SHAPE[1]],\n",
    "            batch_size=20,\n",
    "            class_mode='binary')\n",
    "    \n",
    "    return [train_generator, validation_generator]\n",
    "\n",
    "create_data_generator()"
   ]
  },
  {
   "cell_type": "code",
   "execution_count": null,
   "metadata": {},
   "outputs": [
    {
     "name": "stdout",
     "output_type": "stream",
     "text": [
      "Found 18655 images belonging to 2 classes.\n",
      "Found 11121 images belonging to 2 classes.\n",
      "Epoch 1/2\n",
      " 12/100 [==>...........................] - ETA: 2:47 - loss: 0.4975 - acc: 0.7375"
     ]
    }
   ],
   "source": [
    "model = create_model()\n",
    "train_generator, validation_generator = create_data_generator()\n",
    "\n",
    "history = model.fit_generator(\n",
    "      train_generator,\n",
    "      steps_per_epoch=100,\n",
    "      epochs=2,\n",
    "      validation_data=validation_generator,\n",
    "      validation_steps=50)"
   ]
  },
  {
   "cell_type": "markdown",
   "metadata": {},
   "source": [
    "## Test Model"
   ]
  },
  {
   "cell_type": "code",
   "execution_count": null,
   "metadata": {},
   "outputs": [],
   "source": [
    "# take in a few images\n",
    "# reshape\n",
    "# model.evaluate(test_images, test_labels)"
   ]
  },
  {
   "cell_type": "markdown",
   "metadata": {},
   "source": [
    "## Save Model"
   ]
  },
  {
   "cell_type": "code",
   "execution_count": null,
   "metadata": {},
   "outputs": [],
   "source": [
    "def ensure_model_directory_exists():\n",
    "    try:\n",
    "        os.mkdir(SAVED_MODEL_DIR)\n",
    "    except:\n",
    "        print('Tried to create \"{}\" but it already exists'.format(SAVED_MODEL_DIR))\n",
    "\n",
    "def save_model():\n",
    "    ensure_model_directory_exists()\n",
    "\n",
    "    last_item_accuracy = history.history['acc'][-1]\n",
    "    timestamp_raw = str(datetime.datetime.now())\n",
    "    timestamp_without_milliseconds = timestamp_raw.split('.')[0]\n",
    "    \n",
    "    model_filename = '{}___{}.h5'.format(timestamp_without_milliseconds, last_item_accuracy)\n",
    "    model_filepath = os.path.join(SAVED_MODEL_DIR, model_filename)\n",
    "    \n",
    "    print('saving file {}'.format(model_filepath))\n",
    "\n",
    "    model.save(model_filepath)\n",
    "save_model()"
   ]
  },
  {
   "cell_type": "code",
   "execution_count": null,
   "metadata": {},
   "outputs": [],
   "source": []
  }
 ],
 "metadata": {
  "kernelspec": {
   "display_name": "Python 3",
   "language": "python",
   "name": "python3"
  },
  "language_info": {
   "codemirror_mode": {
    "name": "ipython",
    "version": 3
   },
   "file_extension": ".py",
   "mimetype": "text/x-python",
   "name": "python",
   "nbconvert_exporter": "python",
   "pygments_lexer": "ipython3",
   "version": "3.6.5"
  }
 },
 "nbformat": 4,
 "nbformat_minor": 2
}
