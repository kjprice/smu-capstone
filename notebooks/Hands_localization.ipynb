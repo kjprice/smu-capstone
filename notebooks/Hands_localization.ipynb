{
 "cells": [
  {
   "cell_type": "code",
   "execution_count": 32,
   "metadata": {},
   "outputs": [],
   "source": [
    "import numpy as np\n",
    "import keras\n",
    "from keras.models import load_model, Model\n",
    "from keras.preprocessing.image import ImageDataGenerator, img_to_array, load_img, array_to_img\n",
    "from keras.layers import Dense\n",
    "\n",
    "import matplotlib.pyplot as plt\n",
    "import matplotlib.patches as patches\n",
    "\n",
    "\n",
    "import scipy.io\n",
    "import cv2\n",
    "import os"
   ]
  },
  {
   "cell_type": "code",
   "execution_count": 2,
   "metadata": {},
   "outputs": [],
   "source": [
    "HANDS_DATASET = '../data/original/hand_dataset'\n",
    "\n",
    "IMAGE_TEST_DIR = os.path.join(HANDS_DATASET, 'test_dataset/test_data')\n",
    "IMAGE_VALIDATION_DIR = os.path.join(HANDS_DATASET, 'validation_dataset/validation_data')\n",
    "IMAGE_TRAIN_DIR = os.path.join(HANDS_DATASET, 'training_dataset/training_data')\n",
    "\n",
    "IMAGE_SHAPE=(200, 200, 3)"
   ]
  },
  {
   "cell_type": "code",
   "execution_count": 3,
   "metadata": {},
   "outputs": [],
   "source": [
    "conv_base = load_model('../data/models/2018-10-09 20:54:49___0.940677957009461.h5')"
   ]
  },
  {
   "cell_type": "code",
   "execution_count": 4,
   "metadata": {},
   "outputs": [
    {
     "name": "stdout",
     "output_type": "stream",
     "text": [
      "_________________________________________________________________\n",
      "Layer (type)                 Output Shape              Param #   \n",
      "=================================================================\n",
      "conv2d_5 (Conv2D)            (None, 126, 126, 32)      896       \n",
      "_________________________________________________________________\n",
      "max_pooling2d_5 (MaxPooling2 (None, 63, 63, 32)        0         \n",
      "_________________________________________________________________\n",
      "conv2d_6 (Conv2D)            (None, 61, 61, 64)        18496     \n",
      "_________________________________________________________________\n",
      "max_pooling2d_6 (MaxPooling2 (None, 30, 30, 64)        0         \n",
      "_________________________________________________________________\n",
      "conv2d_7 (Conv2D)            (None, 28, 28, 128)       73856     \n",
      "_________________________________________________________________\n",
      "max_pooling2d_7 (MaxPooling2 (None, 14, 14, 128)       0         \n",
      "_________________________________________________________________\n",
      "conv2d_8 (Conv2D)            (None, 12, 12, 128)       147584    \n",
      "_________________________________________________________________\n",
      "max_pooling2d_8 (MaxPooling2 (None, 6, 6, 128)         0         \n",
      "_________________________________________________________________\n",
      "dropout_2 (Dropout)          (None, 6, 6, 128)         0         \n",
      "_________________________________________________________________\n",
      "flatten_2 (Flatten)          (None, 4608)              0         \n",
      "_________________________________________________________________\n",
      "dense_3 (Dense)              (None, 512)               2359808   \n",
      "_________________________________________________________________\n",
      "dense_4 (Dense)              (None, 1)                 513       \n",
      "=================================================================\n",
      "Total params: 2,601,153\n",
      "Trainable params: 2,601,153\n",
      "Non-trainable params: 0\n",
      "_________________________________________________________________\n"
     ]
    }
   ],
   "source": [
    "conv_base.summary()"
   ]
  },
  {
   "cell_type": "code",
   "execution_count": 5,
   "metadata": {},
   "outputs": [],
   "source": [
    "# Create new model\n",
    "# Get input\n",
    "new_input = conv_base.input\n",
    "# Find the layer to connect\n",
    "hidden_layer = conv_base.layers[-2].output\n",
    "# Connect a new layer on it\n",
    "new_output = Dense(2) (hidden_layer)\n",
    "# Build a new model\n",
    "model = Model(new_input, new_output)"
   ]
  },
  {
   "cell_type": "code",
   "execution_count": 6,
   "metadata": {},
   "outputs": [
    {
     "name": "stdout",
     "output_type": "stream",
     "text": [
      "_________________________________________________________________\n",
      "Layer (type)                 Output Shape              Param #   \n",
      "=================================================================\n",
      "conv2d_5_input (InputLayer)  (None, 128, 128, 3)       0         \n",
      "_________________________________________________________________\n",
      "conv2d_5 (Conv2D)            (None, 126, 126, 32)      896       \n",
      "_________________________________________________________________\n",
      "max_pooling2d_5 (MaxPooling2 (None, 63, 63, 32)        0         \n",
      "_________________________________________________________________\n",
      "conv2d_6 (Conv2D)            (None, 61, 61, 64)        18496     \n",
      "_________________________________________________________________\n",
      "max_pooling2d_6 (MaxPooling2 (None, 30, 30, 64)        0         \n",
      "_________________________________________________________________\n",
      "conv2d_7 (Conv2D)            (None, 28, 28, 128)       73856     \n",
      "_________________________________________________________________\n",
      "max_pooling2d_7 (MaxPooling2 (None, 14, 14, 128)       0         \n",
      "_________________________________________________________________\n",
      "conv2d_8 (Conv2D)            (None, 12, 12, 128)       147584    \n",
      "_________________________________________________________________\n",
      "max_pooling2d_8 (MaxPooling2 (None, 6, 6, 128)         0         \n",
      "_________________________________________________________________\n",
      "dropout_2 (Dropout)          (None, 6, 6, 128)         0         \n",
      "_________________________________________________________________\n",
      "flatten_2 (Flatten)          (None, 4608)              0         \n",
      "_________________________________________________________________\n",
      "dense_3 (Dense)              (None, 512)               2359808   \n",
      "_________________________________________________________________\n",
      "dense_1 (Dense)              (None, 2)                 1026      \n",
      "=================================================================\n",
      "Total params: 2,601,666\n",
      "Trainable params: 2,601,666\n",
      "Non-trainable params: 0\n",
      "_________________________________________________________________\n"
     ]
    }
   ],
   "source": [
    "model.summary()"
   ]
  },
  {
   "cell_type": "markdown",
   "metadata": {},
   "source": [
    "## TODO:\n",
    "\n",
    "- Load all annotations\n",
    "- Create histogram/table of how how many hands are typically in an image\n",
    "- Take only a subset of the hands\n",
    "- Draw the square around image\n",
    "- Make sure they line up"
   ]
  },
  {
   "cell_type": "code",
   "execution_count": 7,
   "metadata": {},
   "outputs": [
    {
     "data": {
      "text/plain": [
       "5"
      ]
     },
     "execution_count": 7,
     "metadata": {},
     "output_type": "execute_result"
    }
   ],
   "source": [
    "def load_annotations(file):\n",
    "    f = scipy.io.loadmat(file)\n",
    "    #print(f.keys())\n",
    "    #print(f['boxes'])\n",
    "    #print(f)\n",
    "    data = f.get('boxes')\n",
    "    data = np.array(data)\n",
    "    \n",
    "    # We only want the rectangular points from each annotation\n",
    "    image_annotations = []\n",
    "    for hand in data[0]:\n",
    "        # I'm not entirely sure why, but the shape of each file seems to be wrapped in a lot of empty lists\n",
    "        polygon_points = hand[0][0]\n",
    "        # We only want the first four items (that actually make up the polygon)\n",
    "        polygon_points = list(polygon_points)[:4]\n",
    "        # Again, each point has an empty list wrapped around\n",
    "        polygon_points = [point[0] for point in polygon_points]\n",
    "        # points are actually reversed, we want them to be [x, y], but matlab really likes them as [y, x]\n",
    "        image_annotations.append([[point[1], point[0]] for point in polygon_points])\n",
    "        \n",
    "\n",
    "    return image_annotations\n",
    "\n",
    "len(load_annotations('/Users/kjprice/Library/Projects/smu/capstone/data/original/hand_dataset/validation_dataset/validation_data/annotations/Movie_4weds_1.mat'))\n"
   ]
  },
  {
   "cell_type": "code",
   "execution_count": 8,
   "metadata": {},
   "outputs": [
    {
     "data": {
      "text/plain": [
       "(707, 618, 3)"
      ]
     },
     "execution_count": 8,
     "metadata": {},
     "output_type": "execute_result"
    }
   ],
   "source": [
    "b = load_img('../data/original/hand_dataset/training_dataset/training_data/images/Buffy_1.jpg')\n",
    "b = img_to_array(b)\n",
    "b.shape"
   ]
  },
  {
   "cell_type": "code",
   "execution_count": 44,
   "metadata": {},
   "outputs": [],
   "source": [
    "def load_annotations_from_dir(directory):\n",
    "    annotations_dir = os.path.join(directory, 'annotations')\n",
    "    annotation_files = os.listdir(annotations_dir)\n",
    "    annotations_for_all_files = []\n",
    "    for annotation_file in annotation_files:\n",
    "        # ignore config files\n",
    "        if annotation_file.find('.') == 0:\n",
    "            continue\n",
    "        matlab_filepath = os.path.join(annotations_dir, annotation_file)\n",
    "        annotations = load_annotations(matlab_filepath)\n",
    "        annotations_for_all_files.append(annotations)\n",
    "        break\n",
    "    return annotations_for_all_files\n",
    "\n",
    "def load_images_from_dir(directory):    \n",
    "    images_dir = os.path.join(directory, 'images')\n",
    "    images = os.listdir(images_dir)\n",
    "\n",
    "    imgs = [] # TODO: Delete\n",
    "\n",
    "    for _file in images:\n",
    "        # ignore config files\n",
    "        if _file.find('.') == 0:\n",
    "            continue\n",
    "        filepath = os.path.join(images_dir, _file)\n",
    "        img = load_img(filepath, target_size=(IMAGE_SHAPE[0], IMAGE_SHAPE[1]))\n",
    "        \n",
    "        img_ORIGINAL = load_img(filepath)\n",
    "        #imgs.append(img_ORIGINAL)\n",
    "        imgs.append(img_to_array(img_ORIGINAL))\n",
    "        break\n",
    "        \n",
    "    return imgs"
   ]
  },
  {
   "cell_type": "code",
   "execution_count": 79,
   "metadata": {
    "scrolled": true
   },
   "outputs": [
    {
     "name": "stdout",
     "output_type": "stream",
     "text": [
      "707 200 0.2828854314002829\n",
      "618 200 0.32362459546925565\n"
     ]
    }
   ],
   "source": [
    "def resize_images_and_annotations(images, annotations):\n",
    "    if len(images) != len(annotations):\n",
    "        raise Exception('Length of images {} does not match length of annotations'.format(images, annotations))\n",
    "    \n",
    "    # TODO:\n",
    "    # - loop through each item\n",
    "    # - determine how much we will need to change the image for it to be in size `IMAGE_SHAPE`\n",
    "    # - the same variation that the image was changed, also change the annotations\n",
    "    \n",
    "    x_dataset = np.ndarray(shape=((len(images),) + IMAGE_SHAPE),\n",
    "                     dtype=np.float32)\n",
    "\n",
    "    i = 0\n",
    "    imgs = []\n",
    "    for (image, annotation) in zip(images, annotations):\n",
    "        resized_image = cv2.resize(image, (IMAGE_SHAPE[0], IMAGE_SHAPE[1]))\n",
    "        \n",
    "        original_width, original_height, original_depth = image.shape\n",
    "        resized_image = cv2.resize(image, (IMAGE_SHAPE[0], IMAGE_SHAPE[1]))\n",
    "        new_width, new_height, new_depth = resized_image.shape\n",
    "        width_change = new_width / original_width\n",
    "        height_change = new_height / original_height\n",
    "        print(original_width, width, width_change)\n",
    "        print(original_height, new_height, height_change)\n",
    "        \n",
    "        # now resize the annotations\n",
    "        \n",
    "        imgs.append(resized_image)\n",
    "\n",
    "        \n",
    "        i += 1\n",
    "        break\n",
    "        if i % 250 == 0:\n",
    "            print(\"%d images to array\" % i)\n",
    "    return (images, annotations)\n",
    "            \n",
    "def load_images_as_np(directory):\n",
    "    \n",
    "    input_shape = (IMAGE_SHAPE[2], IMAGE_SHAPE[1], IMAGE_SHAPE[0])\n",
    "\n",
    "    images_original = load_images_from_dir(directory)\n",
    "    annotations_original = load_annotations_from_dir(directory)\n",
    "    \n",
    "    x_dataset, y_dataset = resize_images_and_annotations(images_original, annotations_original)\n",
    "\n",
    "\n",
    "            \n",
    "    return x_dataset, y_dataset\n",
    "x, y = load_images_as_np(IMAGE_TRAIN_DIR)"
   ]
  },
  {
   "cell_type": "code",
   "execution_count": 80,
   "metadata": {},
   "outputs": [],
   "source": [
    "image = x[0]\n"
   ]
  },
  {
   "cell_type": "code",
   "execution_count": 81,
   "metadata": {},
   "outputs": [
    {
     "data": {
      "image/png": "[encoded data removed]",
      "text/plain": [
       "<Figure size 432x288 with 1 Axes>"
      ]
     },
     "metadata": {},
     "output_type": "display_data"
    }
   ],
   "source": [
    "def display_image_with_annotations(img, annotations):\n",
    "    plt.imshow(array_to_img(img))\n",
    "    b = plt.gca()\n",
    "    for annotation in annotations:\n",
    "        line = plt.Polygon(annotation, closed=None, fill=None, edgecolor='r')\n",
    "        b.add_patch(line)\n",
    "\n",
    "first_annotations_from_first_video = y[0]\n",
    "first_image = x[0]\n",
    "display_image_with_annotations(first_image, first_annotations_from_first_video)"
   ]
  },
  {
   "cell_type": "code",
   "execution_count": null,
   "metadata": {},
   "outputs": [],
   "source": [
    "def create_data_generator():\n",
    "    # All images will be rescaled by 1./255\n",
    "    train_datagen = ImageDataGenerator(\n",
    "        rescale=1./255,\n",
    "        rotation_range=40,\n",
    "        width_shift_range=0.2,\n",
    "        height_shift_range=0.2,\n",
    "        shear_range=0.2,\n",
    "        zoom_range=0.2,\n",
    "        horizontal_flip=True,\n",
    "    )\n",
    "    validation_datagen = ImageDataGenerator(rescale=1./255)\n",
    "\n",
    "    train_generator = train_datagen.flow(\n",
    "            # This is the target directory\n",
    "            IMAGE_TRAIN_DIR,\n",
    "            batch_size=20,)\n",
    "\n",
    "    validation_generator = validation_datagen.flow(\n",
    "            IMAGE_VALIDATION_DIR,\n",
    "            batch_size=20,)\n",
    "    \n",
    "    return [train_generator, validation_generator]\n",
    "\n",
    "create_data_generator()"
   ]
  },
  {
   "cell_type": "code",
   "execution_count": null,
   "metadata": {},
   "outputs": [],
   "source": []
  }
 ],
 "metadata": {
  "kernelspec": {
   "display_name": "Python 3",
   "language": "python",
   "name": "python3"
  },
  "language_info": {
   "codemirror_mode": {
    "name": "ipython",
    "version": 3
   },
   "file_extension": ".py",
   "mimetype": "text/x-python",
   "name": "python",
   "nbconvert_exporter": "python",
   "pygments_lexer": "ipython3",
   "version": "3.6.5"
  }
 },
 "nbformat": 4,
 "nbformat_minor": 2
}
