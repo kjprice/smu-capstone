{
 "cells": [
  {
   "cell_type": "code",
   "execution_count": 1,
   "metadata": {},
   "outputs": [
    {
     "name": "stderr",
     "output_type": "stream",
     "text": [
      "/usr/local/lib/python3.6/site-packages/h5py/__init__.py:36: FutureWarning: Conversion of the second argument of issubdtype from `float` to `np.floating` is deprecated. In future, it will be treated as `np.float64 == np.dtype(float).type`.\n",
      "  from ._conv import register_converters as _register_converters\n",
      "Using TensorFlow backend.\n"
     ]
    }
   ],
   "source": [
    "import numpy as np\n",
    "import keras\n",
    "from keras import models, layers\n",
    "from keras.models import load_model, Model\n",
    "from keras.preprocessing.image import ImageDataGenerator, img_to_array, load_img, array_to_img\n",
    "from keras.layers import Dense\n",
    "\n",
    "import matplotlib.pyplot as plt\n",
    "import matplotlib.patches as patches\n",
    "\n",
    "\n",
    "import scipy.io\n",
    "import cv2\n",
    "import os"
   ]
  },
  {
   "cell_type": "code",
   "execution_count": 2,
   "metadata": {},
   "outputs": [],
   "source": [
    "HANDS_DATASET = '../data/original/hand_dataset'\n",
    "\n",
    "IMAGE_TEST_DIR = os.path.join(HANDS_DATASET, 'test_dataset/test_data')\n",
    "IMAGE_VALIDATION_DIR = os.path.join(HANDS_DATASET, 'validation_dataset/validation_data')\n",
    "IMAGE_TRAIN_DIR = os.path.join(HANDS_DATASET, 'training_dataset/training_data')\n",
    "\n",
    "IMAGE_SHAPE=(128, 128, 3)\n",
    "MAX_HANDS_TO_DETECT = 4\n",
    "FLATTENED_DIMENSIONS = MAX_HANDS_TO_DETECT * 4 * 2\n"
   ]
  },
  {
   "cell_type": "code",
   "execution_count": 3,
   "metadata": {},
   "outputs": [],
   "source": [
    "conv_base = load_model('../data/models/2018-10-09 20:54:49___0.940677957009461.h5')"
   ]
  },
  {
   "cell_type": "code",
   "execution_count": 4,
   "metadata": {},
   "outputs": [
    {
     "name": "stdout",
     "output_type": "stream",
     "text": [
      "_________________________________________________________________\n",
      "Layer (type)                 Output Shape              Param #   \n",
      "=================================================================\n",
      "conv2d_5 (Conv2D)            (None, 126, 126, 32)      896       \n",
      "_________________________________________________________________\n",
      "max_pooling2d_5 (MaxPooling2 (None, 63, 63, 32)        0         \n",
      "_________________________________________________________________\n",
      "conv2d_6 (Conv2D)            (None, 61, 61, 64)        18496     \n",
      "_________________________________________________________________\n",
      "max_pooling2d_6 (MaxPooling2 (None, 30, 30, 64)        0         \n",
      "_________________________________________________________________\n",
      "conv2d_7 (Conv2D)            (None, 28, 28, 128)       73856     \n",
      "_________________________________________________________________\n",
      "max_pooling2d_7 (MaxPooling2 (None, 14, 14, 128)       0         \n",
      "_________________________________________________________________\n",
      "conv2d_8 (Conv2D)            (None, 12, 12, 128)       147584    \n",
      "_________________________________________________________________\n",
      "max_pooling2d_8 (MaxPooling2 (None, 6, 6, 128)         0         \n",
      "_________________________________________________________________\n",
      "dropout_2 (Dropout)          (None, 6, 6, 128)         0         \n",
      "_________________________________________________________________\n",
      "flatten_2 (Flatten)          (None, 4608)              0         \n",
      "_________________________________________________________________\n",
      "dense_3 (Dense)              (None, 512)               2359808   \n",
      "_________________________________________________________________\n",
      "dense_4 (Dense)              (None, 1)                 513       \n",
      "=================================================================\n",
      "Total params: 2,601,153\n",
      "Trainable params: 2,601,153\n",
      "Non-trainable params: 0\n",
      "_________________________________________________________________\n"
     ]
    }
   ],
   "source": [
    "conv_base.summary()"
   ]
  },
  {
   "cell_type": "code",
   "execution_count": 5,
   "metadata": {},
   "outputs": [],
   "source": [
    "# Create new model\n",
    "# Get input\n",
    "new_input = conv_base.input\n",
    "# Find the layer to connect\n",
    "hidden_layer = conv_base.layers[-2].output\n",
    "# Connect a new layer on it\n",
    "new_output = Dense(2) (hidden_layer)\n",
    "# Build a new model\n",
    "conv_base = Model(new_input, new_output)"
   ]
  },
  {
   "cell_type": "code",
   "execution_count": 6,
   "metadata": {},
   "outputs": [
    {
     "name": "stdout",
     "output_type": "stream",
     "text": [
      "_________________________________________________________________\n",
      "Layer (type)                 Output Shape              Param #   \n",
      "=================================================================\n",
      "conv2d_5_input (InputLayer)  (None, 128, 128, 3)       0         \n",
      "_________________________________________________________________\n",
      "conv2d_5 (Conv2D)            (None, 126, 126, 32)      896       \n",
      "_________________________________________________________________\n",
      "max_pooling2d_5 (MaxPooling2 (None, 63, 63, 32)        0         \n",
      "_________________________________________________________________\n",
      "conv2d_6 (Conv2D)            (None, 61, 61, 64)        18496     \n",
      "_________________________________________________________________\n",
      "max_pooling2d_6 (MaxPooling2 (None, 30, 30, 64)        0         \n",
      "_________________________________________________________________\n",
      "conv2d_7 (Conv2D)            (None, 28, 28, 128)       73856     \n",
      "_________________________________________________________________\n",
      "max_pooling2d_7 (MaxPooling2 (None, 14, 14, 128)       0         \n",
      "_________________________________________________________________\n",
      "conv2d_8 (Conv2D)            (None, 12, 12, 128)       147584    \n",
      "_________________________________________________________________\n",
      "max_pooling2d_8 (MaxPooling2 (None, 6, 6, 128)         0         \n",
      "_________________________________________________________________\n",
      "dropout_2 (Dropout)          (None, 6, 6, 128)         0         \n",
      "_________________________________________________________________\n",
      "flatten_2 (Flatten)          (None, 4608)              0         \n",
      "_________________________________________________________________\n",
      "dense_3 (Dense)              (None, 512)               2359808   \n",
      "_________________________________________________________________\n",
      "dense_1 (Dense)              (None, 2)                 1026      \n",
      "=================================================================\n",
      "Total params: 2,601,666\n",
      "Trainable params: 2,601,666\n",
      "Non-trainable params: 0\n",
      "_________________________________________________________________\n"
     ]
    }
   ],
   "source": [
    "conv_base.summary()"
   ]
  },
  {
   "cell_type": "markdown",
   "metadata": {},
   "source": [
    "## TODO:\n",
    "\n",
    "- Load all annotations\n",
    "- Create histogram/table of how how many hands are typically in an image\n",
    "- Take only a subset of the hands\n",
    "- Draw the square around image\n",
    "- Make sure they line up"
   ]
  },
  {
   "cell_type": "code",
   "execution_count": 7,
   "metadata": {},
   "outputs": [
    {
     "data": {
      "text/plain": [
       "5"
      ]
     },
     "execution_count": 7,
     "metadata": {},
     "output_type": "execute_result"
    }
   ],
   "source": [
    "def load_annotations(file):\n",
    "    f = scipy.io.loadmat(file)\n",
    "    #print(f.keys())\n",
    "    #print(f['boxes'])\n",
    "    #print(f)\n",
    "    data = f.get('boxes')\n",
    "    data = np.array(data)\n",
    "    \n",
    "    # We only want the rectangular points from each annotation\n",
    "    image_annotations = []\n",
    "    for hand in data[0]:\n",
    "        # I'm not entirely sure why, but the shape of each file seems to be wrapped in a lot of empty lists\n",
    "        polygon_points = hand[0][0]\n",
    "        # We only want the first four items (that actually make up the polygon)\n",
    "        polygon_points = list(polygon_points)[:4]\n",
    "        # Again, each point has an empty list wrapped around\n",
    "        polygon_points = [point[0] for point in polygon_points]\n",
    "        # points are actually reversed, we want them to be [x, y], but matlab really likes them as [y, x]\n",
    "        image_annotations.append([[point[1], point[0]] for point in polygon_points])\n",
    "        \n",
    "\n",
    "    return image_annotations\n",
    "\n",
    "len(load_annotations('/Users/kjprice/Library/Projects/smu/capstone/data/original/hand_dataset/validation_dataset/validation_data/annotations/Movie_4weds_1.mat'))\n"
   ]
  },
  {
   "cell_type": "code",
   "execution_count": 8,
   "metadata": {},
   "outputs": [
    {
     "data": {
      "text/plain": [
       "(707, 618, 3)"
      ]
     },
     "execution_count": 8,
     "metadata": {},
     "output_type": "execute_result"
    }
   ],
   "source": [
    "b = load_img('../data/original/hand_dataset/training_dataset/training_data/images/Buffy_1.jpg')\n",
    "b = img_to_array(b)\n",
    "b.shape"
   ]
  },
  {
   "cell_type": "code",
   "execution_count": 9,
   "metadata": {},
   "outputs": [],
   "source": [
    "def load_annotations_from_dir(directory):\n",
    "    annotations_dir = os.path.join(directory, 'annotations')\n",
    "    annotation_files = os.listdir(annotations_dir)\n",
    "    annotations_for_all_files = []\n",
    "    for annotation_file in annotation_files:\n",
    "        # ignore config files\n",
    "        if annotation_file.find('.') == 0:\n",
    "            continue\n",
    "        matlab_filepath = os.path.join(annotations_dir, annotation_file)\n",
    "        annotations = load_annotations(matlab_filepath)\n",
    "        annotations_for_all_files.append(annotations)\n",
    "        # break\n",
    "    return annotations_for_all_files\n",
    "\n",
    "def load_images_from_dir(directory):    \n",
    "    images_dir = os.path.join(directory, 'images')\n",
    "    images = os.listdir(images_dir)\n",
    "\n",
    "    imgs = [] # TODO: Delete\n",
    "\n",
    "    for _file in images:\n",
    "        # ignore config files\n",
    "        if _file.find('.') == 0:\n",
    "            continue\n",
    "        filepath = os.path.join(images_dir, _file)\n",
    "        img = load_img(filepath, target_size=(IMAGE_SHAPE[0], IMAGE_SHAPE[1]))\n",
    "        \n",
    "        img_ORIGINAL = load_img(filepath)\n",
    "        #imgs.append(img_ORIGINAL)\n",
    "        imgs.append(img_to_array(img_ORIGINAL))\n",
    "        # break\n",
    "        \n",
    "    return imgs"
   ]
  },
  {
   "cell_type": "code",
   "execution_count": 10,
   "metadata": {},
   "outputs": [],
   "source": [
    "c = [1]\n",
    "if 0 in c:\n",
    "    print('yo')"
   ]
  },
  {
   "cell_type": "code",
   "execution_count": 11,
   "metadata": {
    "scrolled": true
   },
   "outputs": [],
   "source": [
    "def resize_images_and_annotations(images, annotations):\n",
    "    if len(images) != len(annotations):\n",
    "        raise Exception('Length of images {} does not match length of annotations'.format(images, annotations))\n",
    "        global MAX_HANDS_TO_DETECT, FLATTENED_DIMENSIONS\n",
    "        \n",
    "    \n",
    "    new_images = []\n",
    "    new_annotations = []\n",
    "    for (image, annotation) in zip(images, annotations):\n",
    "        resized_image = cv2.resize(image, (IMAGE_SHAPE[0], IMAGE_SHAPE[1]))\n",
    "        \n",
    "        original_height, original_width, original_depth = image.shape\n",
    "        resized_image = cv2.resize(image, (IMAGE_SHAPE[0], IMAGE_SHAPE[1]))\n",
    "        new_height, new_width, new_depth = resized_image.shape\n",
    "        width_change = new_width / original_width\n",
    "        height_change = new_height / original_height\n",
    "\n",
    "        new_annotation = []\n",
    "        for hand_count in range(MAX_HANDS_TO_DETECT):\n",
    "            # we have run out of hands, insert a hand with no points\n",
    "            if len(annotation) <= hand_count:\n",
    "                new_annotation.append([[0, 0], [0, 0], [0, 0], [0, 0]])\n",
    "                continue\n",
    "            hand = annotation[hand_count]\n",
    "\n",
    "            new_hand = []\n",
    "            for point in hand:\n",
    "                x, y = point\n",
    "                new_x = x * width_change\n",
    "                new_y = y * height_change\n",
    "                new_point = [new_x, new_y]\n",
    "                new_hand.append(new_point)\n",
    "\n",
    "            new_annotation.append(new_hand)\n",
    "\n",
    "        new_annotations.append(new_annotation)\n",
    "        new_images.append(resized_image)\n",
    "        flattened_annotations = np.reshape(new_annotations, (len(new_annotations), FLATTENED_DIMENSIONS))\n",
    "    return (new_images, flattened_annotations)\n",
    "            \n",
    "def load_images_as_np(directory):\n",
    "    \n",
    "    input_shape = (IMAGE_SHAPE[2], IMAGE_SHAPE[1], IMAGE_SHAPE[0])\n",
    "\n",
    "    images_original = load_images_from_dir(directory)\n",
    "    annotations_original = load_annotations_from_dir(directory)\n",
    "    \n",
    "    x_dataset, y_dataset = resize_images_and_annotations(images_original, annotations_original)\n",
    "\n",
    "\n",
    "            \n",
    "    return x_dataset, y_dataset\n",
    "x, y = load_images_as_np(IMAGE_TRAIN_DIR)"
   ]
  },
  {
   "cell_type": "code",
   "execution_count": 12,
   "metadata": {},
   "outputs": [
    {
     "data": {
      "text/plain": [
       "(4069, 32)"
      ]
     },
     "execution_count": 12,
     "metadata": {},
     "output_type": "execute_result"
    }
   ],
   "source": [
    "a = np.array(y)\n",
    "a.shape\n"
   ]
  },
  {
   "cell_type": "code",
   "execution_count": 13,
   "metadata": {},
   "outputs": [
    {
     "data": {
      "text/plain": [
       "(4069, 4, 4, 2)"
      ]
     },
     "execution_count": 13,
     "metadata": {},
     "output_type": "execute_result"
    }
   ],
   "source": [
    "def hands_from_flat_annotations(annotations):\n",
    "    annotations = np.array(annotations)\n",
    "    return annotations.reshape(len(annotations), 4, 4, 2).tolist()\n",
    "np.array(hands_from_flat_annotations(y)).shape"
   ]
  },
  {
   "cell_type": "code",
   "execution_count": 14,
   "metadata": {},
   "outputs": [
    {
     "data": {
      "image/png": "[encoded data removed]",
      "text/plain": [
       "<Figure size 432x288 with 1 Axes>"
      ]
     },
     "metadata": {},
     "output_type": "display_data"
    }
   ],
   "source": [
    "def display_image_with_annotations(img, annotations):\n",
    "    plt.imshow(array_to_img(img))\n",
    "    b = plt.gca()\n",
    "    for annotation in annotations:\n",
    "        line = plt.Polygon(annotation, closed=None, fill=None, edgecolor='r')\n",
    "        b.add_patch(line)\n",
    "\n",
    "first_annotations_from_first_video = hands_from_flat_annotations([y[0]])\n",
    "first_image = x[0]\n",
    "display_image_with_annotations(first_image, first_annotations_from_first_video[0])"
   ]
  },
  {
   "cell_type": "code",
   "execution_count": 15,
   "metadata": {},
   "outputs": [],
   "source": [
    "model = models.Sequential()\n",
    "model.add(conv_base)\n",
    "\n",
    "# model.add(layers.Flatten()) # flatten layer already exists\n",
    "model.add(layers.Dense(256, activation='relu'))\n",
    "model.add(layers.Dense(FLATTENED_DIMENSIONS)) # linear\n",
    "model.compile(optimizer='rmsprop', loss='mse', metrics=['mae'])\n"
   ]
  },
  {
   "cell_type": "code",
   "execution_count": 16,
   "metadata": {},
   "outputs": [
    {
     "name": "stdout",
     "output_type": "stream",
     "text": [
      "_________________________________________________________________\n",
      "Layer (type)                 Output Shape              Param #   \n",
      "=================================================================\n",
      "model_1 (Model)              (None, 2)                 2601666   \n",
      "_________________________________________________________________\n",
      "dense_2 (Dense)              (None, 256)               768       \n",
      "_________________________________________________________________\n",
      "dense_3 (Dense)              (None, 32)                8224      \n",
      "=================================================================\n",
      "Total params: 2,610,658\n",
      "Trainable params: 2,610,658\n",
      "Non-trainable params: 0\n",
      "_________________________________________________________________\n"
     ]
    }
   ],
   "source": [
    "model.summary()"
   ]
  },
  {
   "cell_type": "code",
   "execution_count": 20,
   "metadata": {},
   "outputs": [],
   "source": [
    "def plot_mae(history):\n",
    "    mae = history.history['mean_absolute_error']\n",
    "\n",
    "    plt.plot(range(1, len(mae) + 1), mae)\n",
    "    plt.xlabel('Epochs')\n",
    "    plt.ylabel('Validation MAE')\n",
    "    plt.show()"
   ]
  },
  {
   "cell_type": "code",
   "execution_count": 22,
   "metadata": {},
   "outputs": [
    {
     "data": {
      "image/png": "[encoded data removed]",
      "text/plain": [
       "<Figure size 432x288 with 1 Axes>"
      ]
     },
     "metadata": {},
     "output_type": "display_data"
    }
   ],
   "source": [
    "num_epochs = 20\n",
    "history = model.fit([x], y,\n",
    "                    epochs=num_epochs, batch_size=1, verbose=0)\n",
    "\n",
    "plot_mae(history)"
   ]
  }
 ],
 "metadata": {
  "kernelspec": {
   "display_name": "Python 3",
   "language": "python",
   "name": "python3"
  },
  "language_info": {
   "codemirror_mode": {
    "name": "ipython",
    "version": 3
   },
   "file_extension": ".py",
   "mimetype": "text/x-python",
   "name": "python",
   "nbconvert_exporter": "python",
   "pygments_lexer": "ipython3",
   "version": "3.6.5"
  }
 },
 "nbformat": 4,
 "nbformat_minor": 2
}
