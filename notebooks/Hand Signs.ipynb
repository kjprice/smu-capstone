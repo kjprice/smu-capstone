{
 "cells": [
  {
   "cell_type": "code",
   "execution_count": 1,
   "metadata": {},
   "outputs": [
    {
     "name": "stderr",
     "output_type": "stream",
     "text": [
      "/usr/local/lib/python3.6/site-packages/h5py/__init__.py:36: FutureWarning: Conversion of the second argument of issubdtype from `float` to `np.floating` is deprecated. In future, it will be treated as `np.float64 == np.dtype(float).type`.\n",
      "  from ._conv import register_converters as _register_converters\n",
      "Using TensorFlow backend.\n"
     ]
    }
   ],
   "source": [
    "import os, shutil, copy, ntpath\n",
    "from keras import models\n",
    "from keras import layers\n"
   ]
  },
  {
   "cell_type": "code",
   "execution_count": 2,
   "metadata": {},
   "outputs": [],
   "source": [
    "#directory definitions\n",
    "# this code has changed since last tested/used\n",
    "\n",
    "#original_dataset_dir = r'C:\\Users\\aln15\\Documents\\SMUHomeWork\\Capstone\\asl_alphabet_train\\asl_alphabet_train'\n",
    "base_dir =  '../data/original/asl_alphabet'\n",
    "#base_dir = 'C:/Users/aln15/Documents/SMUHomeWork/Capstone/handsigns'\n",
    "\n",
    "#os.mkdir(base_dir)\n",
    "\n",
    "train_dir = os.path.join(base_dir,'train_asl')\n",
    "\n",
    "#os.mkdir(train_dir)\n",
    "\n",
    "validation_dir = os.path.join(base_dir,'validation_asl')\n",
    "#os.mkdir(validation_dir)\n",
    "\n",
    "\n",
    "test_dir = os.path.join(base_dir,'test_asl')\n",
    "#os.mkdir(test_dir)\n"
   ]
  },
  {
   "cell_type": "markdown",
   "metadata": {},
   "source": [
    "   # copy datafiles into directory structure for modelling\n",
    "   #untested since last change\n",
    "\n",
    "asl_folders = ['A','B','C','D','E','F','G','H','I','J','K','L','M','N','O','P','Q','R','S','T','U','V','W','X','Y','Z','del','space','nothing']\n",
    "\n",
    "\n",
    "for signFolder in range (len(asl_folders)):\n",
    "   sign_dir = os.path.join(original_dataset_dir, asl_folders[signFolder])\n",
    "   letter_folder = os.path.join(asl_folders[signFolder] + str(\"\\\\\"))\n",
    "\n",
    "   test_out_dir = ntpath.dirname(os.path.join(test_dir, letter_folder))\n",
    "   #os.mkdir(test_out_dir)\n",
    "\n",
    "   val_out_dir = ntpath.dirname(os.path.join(var_dir, letter_folder))\n",
    "   #os.mkdir(val_out_dir)\n",
    "\n",
    "   train_out_dir = ntpath.dirname(os.path.join(train_dir, letter_folder))\n",
    "    #os.mkdir(train_out_dir)\n",
    "\n",
    "for fileCounter in range (3000,3001):\n",
    "        fname = asl_folders[signFolder]+str(fileCounter) + '.jpg'\n",
    "        src = os.path.join(sign_dir,fname)\n",
    "        \n",
    "        if fileCounter <=1200:\n",
    "            dat = ntpath.dirname(os.path.join(train_out_dir))\n",
    "        if fileCounter > 1200 and fileCounter <=1950: \n",
    "            dat = ntpath.dirname(os.path.join(validation_out_dir))\n",
    "        if fileCounter > 1950 and fileCounter <=3000:\n",
    "            dat = ntpath.dirname(os.path.join(test_out_dir))\n",
    "                     \n",
    "        shutil.copy(src, out_dir)\n",
    "        #print(\"Source: \", src, \"Destination: \", out_dir)\n",
    "\n",
    "    # 29 signs                      \n",
    "    # number of training samples/sign = 1749\n",
    "    # number of validation samples/sign = 501\n",
    "    # number of test samples/sign = 750\n",
    "    # of training samples total = 50,721\n",
    "    # of validation samples total = 14,429\n",
    "    # of test samples total = 21,750\n",
    "    \n",
    "    # balanced multi-class problem\n",
    "    #classification accuracy is the appropriate measure of success\n",
    "    \n",
    "    #network architecture notes\n",
    "    # final layer will have density size of 29 (number of signs) and activation of softmax \n",
    "    #Convnet = stack of alternated Conv2D (with relu activation and MaxPooling2D layers\n",
    "    #one layer of Conv2D + MaxPooling2D  (increases the capacity of the netwwork and reduces the size of the feature maps prior     #to the Flatten layer\n",
    "    #input size of 28 x 28\n",
    "    "
   ]
  },
  {
   "cell_type": "code",
   "execution_count": 3,
   "metadata": {},
   "outputs": [],
   "source": [
    "#data generation setip\n",
    "import keras\n",
    "from keras.preprocessing.image import ImageDataGenerator\n",
    "#image size (original = 28)\n",
    "tarsize = 150\n",
    "batchsize = 20"
   ]
  },
  {
   "cell_type": "markdown",
   "metadata": {},
   "source": [
    "# for tensorboard display (doesn't work yet)\n",
    "my_log_dir = ntpath.dirname(r'C:\\Users\\aln15\\Documents\\SMUHomeWork\\Capstone\\hsmodellogs')\n",
    "#os.mkdir(my_log_dir)\n",
    "tensorboard = keras.callbacks.TensorBoard(\n",
    "    log_dir=my_log_dir,\n",
    "    histogram_freq=1,\n",
    "    write_images=True)\n"
   ]
  },
  {
   "cell_type": "markdown",
   "metadata": {},
   "source": [
    "#augnmentation\n",
    "train_datagen = ImageDataGenerator(\n",
    "           rotation_range = 0,\n",
    "           width_shift_range = .2,\n",
    "           height_shift_range = .2,\n",
    "           shear_range = .2,\n",
    "           zoom_range = .2,\n",
    "           horizontal_flip = False,\n",
    "           fill_mode = 'nearest'\n",
    ")\n",
    "\n",
    "test_datagen = ImageDataGenerator(rescale=1./255)\n",
    "#---------end augmentation "
   ]
  },
  {
   "cell_type": "code",
   "execution_count": 4,
   "metadata": {},
   "outputs": [],
   "source": [
    "# dataset definition without augmentation\n",
    "train_datagen = ImageDataGenerator(rescale=1./255)\n",
    "test_datagen = ImageDataGenerator(rescale=1./255)\n",
    "# end without augmentation"
   ]
  },
  {
   "cell_type": "code",
   "execution_count": 5,
   "metadata": {},
   "outputs": [
    {
     "name": "stdout",
     "output_type": "stream",
     "text": [
      "Found 86987 images belonging to 29 classes.\n"
     ]
    }
   ],
   "source": [
    "#create generators\n",
    "train_generator = train_datagen.flow_from_directory(\n",
    "           base_dir,\n",
    "           target_size = (tarsize, tarsize),\n",
    "           batch_size=batchsize,\n",
    "           class_mode = 'categorical'\n",
    ")\n"
   ]
  },
  {
   "cell_type": "markdown",
   "metadata": {},
   "source": [
    "\n",
    "validation_generator = train_datagen.flow_from_directory(\n",
    "         validation_dir,\n",
    "         target_size = (tarsize,tarsize),\n",
    "         batch_size = batchsize,\n",
    "         class_mode='categorical'\n",
    ")\n",
    "test_generator = test_datagen.flow_from_directory(\n",
    "         test_dir,\n",
    "         target_size = (tarsize,tarsize),\n",
    "         batch_size = batchsize,\n",
    "         class_mode='categorical'\n",
    ")\n",
    "\n",
    "\n",
    "#------end of dataset definitions "
   ]
  },
  {
   "cell_type": "code",
   "execution_count": 9,
   "metadata": {},
   "outputs": [
    {
     "name": "stdout",
     "output_type": "stream",
     "text": [
      "_________________________________________________________________\n",
      "Layer (type)                 Output Shape              Param #   \n",
      "=================================================================\n",
      "conv2d_6 (Conv2D)            (None, 148, 148, 16)      448       \n",
      "_________________________________________________________________\n",
      "max_pooling2d_5 (MaxPooling2 (None, 74, 74, 16)        0         \n",
      "_________________________________________________________________\n",
      "conv2d_7 (Conv2D)            (None, 72, 72, 32)        4640      \n",
      "_________________________________________________________________\n",
      "max_pooling2d_6 (MaxPooling2 (None, 36, 36, 32)        0         \n",
      "_________________________________________________________________\n",
      "conv2d_8 (Conv2D)            (None, 34, 34, 64)        18496     \n",
      "_________________________________________________________________\n",
      "max_pooling2d_7 (MaxPooling2 (None, 17, 17, 64)        0         \n",
      "_________________________________________________________________\n",
      "conv2d_9 (Conv2D)            (None, 15, 15, 128)       73856     \n",
      "_________________________________________________________________\n",
      "max_pooling2d_8 (MaxPooling2 (None, 7, 7, 128)         0         \n",
      "_________________________________________________________________\n",
      "conv2d_10 (Conv2D)           (None, 5, 5, 256)         295168    \n",
      "_________________________________________________________________\n",
      "flatten_2 (Flatten)          (None, 6400)              0         \n",
      "_________________________________________________________________\n",
      "dropout_2 (Dropout)          (None, 6400)              0         \n",
      "_________________________________________________________________\n",
      "dense_3 (Dense)              (None, 128)               819328    \n",
      "_________________________________________________________________\n",
      "dense_4 (Dense)              (None, 29)                3741      \n",
      "=================================================================\n",
      "Total params: 1,215,677\n",
      "Trainable params: 1,215,677\n",
      "Non-trainable params: 0\n",
      "_________________________________________________________________\n"
     ]
    }
   ],
   "source": [
    "#modelling...setup, definition, compile, run and test\n",
    "\n",
    "callbacks_list = [\n",
    " #        tensorboard,\n",
    "         keras.callbacks.EarlyStopping(monitor='acc', patience=2),\n",
    "         keras.callbacks.ModelCheckpoint(filepath = '../data/models/handsigns/handsigns.h5', monitor = 'val_loss', save_best_only = True),\n",
    "         keras.callbacks.ReduceLROnPlateau(monitor='val_loss', factor = 0.1, patience=10)\n",
    "]\n",
    "\n",
    "\n",
    "model = models.Sequential()\n",
    "model.add(layers.Conv2D(16, (3, 3), activation='relu', input_shape=(tarsize, tarsize, 3)))\n",
    "model.add(layers.MaxPooling2D((2, 2)))\n",
    "model.add(layers.Conv2D(32, (3, 3), activation='relu'))\n",
    "model.add(layers.MaxPooling2D((2, 2)))\n",
    "model.add(layers.Conv2D(64, (3, 3), activation='relu'))\n",
    "model.add(layers.MaxPooling2D((2, 2)))\n",
    "model.add(layers.Conv2D(128, (3, 3), activation='relu'))\n",
    "model.add(layers.MaxPooling2D((2, 2)))\n",
    "model.add(layers.Conv2D(256, (3, 3), activation='relu'))\n",
    "\n",
    "#Add a classfier on top of the convnet\n",
    "model.add(layers.Flatten())\n",
    "model.add(layers.Dropout(.5))\n",
    "model.add(layers.Dense(128, activation='relu'))\n",
    "#model.add(layers.BatchNormalization())\n",
    "model.add(layers.Dense(29, activation='softmax'))\n",
    "\n",
    "#compile the model\n",
    "model.compile(optimizer='rmsprop', loss='categorical_crossentropy', metrics=['accuracy'])\n",
    "\n",
    "model.summary()\n"
   ]
  },
  {
   "cell_type": "code",
   "execution_count": 10,
   "metadata": {},
   "outputs": [
    {
     "name": "stdout",
     "output_type": "stream",
     "text": [
      "Epoch 1/10\n",
      "4350/4350 [==============================] - 1507s 346ms/step - loss: 0.6973 - acc: 0.7858\n",
      "Epoch 2/10\n"
     ]
    },
    {
     "name": "stderr",
     "output_type": "stream",
     "text": [
      "/usr/local/lib/python3.6/site-packages/keras/callbacks.py:432: RuntimeWarning: Can save best model only with val_loss available, skipping.\n",
      "  'skipping.' % (self.monitor), RuntimeWarning)\n",
      "/usr/local/lib/python3.6/site-packages/keras/callbacks.py:1043: RuntimeWarning: Reduce LR on plateau conditioned on metric `val_loss` which is not available. Available metrics are: loss,acc,lr\n",
      "  (self.monitor, ','.join(list(logs.keys()))), RuntimeWarning\n"
     ]
    },
    {
     "name": "stdout",
     "output_type": "stream",
     "text": [
      "4350/4350 [==============================] - 1510s 347ms/step - loss: 0.1345 - acc: 0.9643\n",
      "Epoch 3/10\n",
      "4350/4350 [==============================] - 1496s 344ms/step - loss: 0.1180 - acc: 0.9744\n",
      "Epoch 4/10\n",
      "4350/4350 [==============================] - 1492s 343ms/step - loss: 0.1426 - acc: 0.9765\n",
      "Epoch 5/10\n",
      "4350/4350 [==============================] - 1488s 342ms/step - loss: 0.1786 - acc: 0.9781\n",
      "Epoch 6/10\n",
      "4350/4350 [==============================] - 1524s 350ms/step - loss: 0.2723 - acc: 0.9755\n",
      "Epoch 7/10\n",
      "4350/4350 [==============================] - 1491s 343ms/step - loss: 0.4677 - acc: 0.9657\n"
     ]
    }
   ],
   "source": [
    "history= model.fit_generator (\n",
    "           train_generator,\n",
    "           # steps_per_epoch = 100,\n",
    "           epochs = 10,\n",
    "           callbacks = callbacks_list,\n",
    "           #validation_data=validation_generator,\n",
    "           verbose=1,\n",
    "           #shuffle = FALSE,\n",
    "           #validation_split=.1,\n",
    "           validation_steps = 50)\n",
    "\n",
    "\n",
    "\n",
    "\n",
    "#test_loss, test_acc = model.evaluate_generator(test_generator,steps=50)\n",
    "#print('test_acc: ',test_acc)\n",
    "\n",
    "#save the model\n",
    "model.save('../data/models/handsigns/handsigns_try2aug.h5')\n",
    "\n"
   ]
  },
  {
   "cell_type": "code",
   "execution_count": 12,
   "metadata": {},
   "outputs": [
    {
     "ename": "NameError",
     "evalue": "name 'val_loss_values' is not defined",
     "output_type": "error",
     "traceback": [
      "\u001b[0;31m---------------------------------------------------------------------------\u001b[0m",
      "\u001b[0;31mNameError\u001b[0m                                 Traceback (most recent call last)",
      "\u001b[0;32m<ipython-input-12-fbaacbfc456e>\u001b[0m in \u001b[0;36m<module>\u001b[0;34m()\u001b[0m\n\u001b[1;32m     10\u001b[0m \u001b[0;34m\u001b[0m\u001b[0m\n\u001b[1;32m     11\u001b[0m \u001b[0mplt\u001b[0m\u001b[0;34m.\u001b[0m\u001b[0mplot\u001b[0m\u001b[0;34m(\u001b[0m\u001b[0mepochs\u001b[0m\u001b[0;34m,\u001b[0m \u001b[0mloss_values\u001b[0m\u001b[0;34m,\u001b[0m \u001b[0;34m'bo'\u001b[0m\u001b[0;34m,\u001b[0m \u001b[0mlabel\u001b[0m \u001b[0;34m=\u001b[0m \u001b[0;34m'Training Loss'\u001b[0m\u001b[0;34m)\u001b[0m\u001b[0;34m\u001b[0m\u001b[0m\n\u001b[0;32m---> 12\u001b[0;31m \u001b[0mplt\u001b[0m\u001b[0;34m.\u001b[0m\u001b[0mplot\u001b[0m\u001b[0;34m(\u001b[0m\u001b[0mepochs\u001b[0m\u001b[0;34m,\u001b[0m\u001b[0mval_loss_values\u001b[0m\u001b[0;34m,\u001b[0m \u001b[0;34m'b'\u001b[0m\u001b[0;34m,\u001b[0m \u001b[0mlabel\u001b[0m \u001b[0;34m=\u001b[0m \u001b[0;34m'Validation Loss'\u001b[0m\u001b[0;34m)\u001b[0m\u001b[0;34m\u001b[0m\u001b[0m\n\u001b[0m\u001b[1;32m     13\u001b[0m \u001b[0mplt\u001b[0m\u001b[0;34m.\u001b[0m\u001b[0mtitle\u001b[0m\u001b[0;34m(\u001b[0m\u001b[0;34m'Training and Validation Losses'\u001b[0m\u001b[0;34m)\u001b[0m\u001b[0;34m\u001b[0m\u001b[0m\n\u001b[1;32m     14\u001b[0m \u001b[0mplt\u001b[0m\u001b[0;34m.\u001b[0m\u001b[0mxlabel\u001b[0m\u001b[0;34m=\u001b[0m\u001b[0;34m'Epochs'\u001b[0m\u001b[0;34m\u001b[0m\u001b[0m\n",
      "\u001b[0;31mNameError\u001b[0m: name 'val_loss_values' is not defined"
     ]
    },
    {
     "data": {
      "image/png": "[encoded data removed]",
      "text/plain": [
       "<Figure size 432x288 with 1 Axes>"
      ]
     },
     "metadata": {},
     "output_type": "display_data"
    }
   ],
   "source": [
    "#visualization of model performance\n",
    "import matplotlib.pyplot as plt\n",
    "\n",
    "history_dict = history.history\n",
    "loss_values = history_dict['loss']\n",
    "#val_loss_values =  history_dict['val_loss']\n",
    "acc_values = history_dict['acc']\n",
    "\n",
    "epochs = range(1, len(acc_values) + 1)\n",
    "\n",
    "plt.plot(epochs, loss_values, 'bo', label = 'Training Loss')\n",
    "plt.plot(epochs,val_loss_values, 'b', label = 'Validation Loss')\n",
    "plt.title('Training and Validation Losses')\n",
    "plt.xlabel='Epochs'\n",
    "plt.ylabel='Loss'\n",
    "plt.legend()"
   ]
  },
  {
   "cell_type": "code",
   "execution_count": 14,
   "metadata": {},
   "outputs": [
    {
     "data": {
      "image/png": "[encoded data removed]",
      "text/plain": [
       "<Figure size 432x288 with 1 Axes>"
      ]
     },
     "metadata": {},
     "output_type": "display_data"
    }
   ],
   "source": [
    "plt.clf()\n",
    "acc_values = history_dict['acc']\n",
    "#val_acc_values = history_dict['val_acc']\n",
    "\n",
    "plt.plot(epochs, acc_values, 'bo', label='Training acc')\n",
    "#plt.plot(epochs,val_acc_values, 'b', label='Validation accuracy')\n",
    "plt.xlabel = 'Epochs'\n",
    "plt.ylabel = 'Loss'\n",
    "plt.legend()\n",
    "\n",
    "plt.show()"
   ]
  },
  {
   "cell_type": "code",
   "execution_count": null,
   "metadata": {},
   "outputs": [],
   "source": [
    "\n"
   ]
  }
 ],
 "metadata": {
  "kernelspec": {
   "display_name": "Python 3",
   "language": "python",
   "name": "python3"
  },
  "language_info": {
   "codemirror_mode": {
    "name": "ipython",
    "version": 3
   },
   "file_extension": ".py",
   "mimetype": "text/x-python",
   "name": "python",
   "nbconvert_exporter": "python",
   "pygments_lexer": "ipython3",
   "version": "3.6.5"
  }
 },
 "nbformat": 4,
 "nbformat_minor": 2
}
