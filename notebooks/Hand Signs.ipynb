{
 "cells": [
  {
   "cell_type": "code",
   "execution_count": 4,
   "metadata": {},
   "outputs": [],
   "source": [
    "import os, shutil, copy, ntpath, datetime\n",
    "import keras\n",
    "from keras import models, layers, callbacks\n",
    "from keras.preprocessing.image import ImageDataGenerator, load_img, img_to_array, array_to_img\n",
    "\n",
    "import matplotlib.pyplot as plt\n",
    "\n",
    "import boto3\n",
    "import glob\n",
    "import ntpath\n",
    "import re\n",
    "\n",
    "import numpy as np"
   ]
  },
  {
   "cell_type": "code",
   "execution_count": 5,
   "metadata": {},
   "outputs": [],
   "source": [
    "#### Settings\n",
    "IMAGE_SHAPE=(150, 150, 3)\n",
    "\n",
    "#LIMIT_BATCHES = 2\n",
    "LIMIT_BATCHES = None\n",
    "\n",
    "NUM_EPOCHS = 20\n",
    "BATCH_SIZE = 20\n",
    "NUM_CLASSES = 29\n",
    "\n",
    "# PRETRAIN_MODEL = 'conv_base_local'\n",
    "# PRETRAIN_MODEL = 'conv_base_vgg16'\n",
    "PRETRAIN_MODEL = None"
   ]
  },
  {
   "cell_type": "code",
   "execution_count": 6,
   "metadata": {},
   "outputs": [],
   "source": [
    "#### FilePath Information\n",
    "DATA_DIR = '../data'\n",
    "ASL_ALPHABET_DATASET = os.path.join(DATA_DIR, 'original/asl_alphabet')\n",
    "\n",
    "\n",
    "SAVED_MODEL_DIR = os.path.join(DATA_DIR, 'models/asl_alphabet')"
   ]
  },
  {
   "cell_type": "code",
   "execution_count": 7,
   "metadata": {},
   "outputs": [],
   "source": [
    "#data generation setip\n"
   ]
  },
  {
   "cell_type": "code",
   "execution_count": 8,
   "metadata": {},
   "outputs": [],
   "source": [
    "# dataset definition without augmentation\n",
    "train_datagen = ImageDataGenerator(rescale=1./255, validation_split=0.1)\n",
    "test_datagen = ImageDataGenerator(rescale=1./255)\n",
    "# end without augmentation"
   ]
  },
  {
   "cell_type": "code",
   "execution_count": 9,
   "metadata": {},
   "outputs": [
    {
     "name": "stdout",
     "output_type": "stream",
     "text": [
      "Found 78289 images belonging to 29 classes.\n",
      "Found 8698 images belonging to 29 classes.\n"
     ]
    }
   ],
   "source": [
    "#create generators\n",
    "train_generator = train_datagen.flow_from_directory(\n",
    "           ASL_ALPHABET_DATASET,\n",
    "           target_size = (IMAGE_SHAPE[0], IMAGE_SHAPE[0]),\n",
    "           batch_size=BATCH_SIZE,\n",
    "           class_mode = 'categorical',\n",
    "           subset='training'\n",
    ")\n",
    "\n",
    "#create generators\n",
    "validation_generator = train_datagen.flow_from_directory(\n",
    "           ASL_ALPHABET_DATASET,\n",
    "           target_size = (IMAGE_SHAPE[0], IMAGE_SHAPE[0]),\n",
    "           batch_size=BATCH_SIZE,\n",
    "           class_mode = 'categorical',\n",
    "           subset='validation'\n",
    ")\n"
   ]
  },
  {
   "cell_type": "code",
   "execution_count": 10,
   "metadata": {},
   "outputs": [
    {
     "name": "stdout",
     "output_type": "stream",
     "text": [
      "_________________________________________________________________\n",
      "Layer (type)                 Output Shape              Param #   \n",
      "=================================================================\n",
      "conv2d_1 (Conv2D)            (None, 148, 148, 16)      448       \n",
      "_________________________________________________________________\n",
      "max_pooling2d_1 (MaxPooling2 (None, 74, 74, 16)        0         \n",
      "_________________________________________________________________\n",
      "conv2d_2 (Conv2D)            (None, 72, 72, 32)        4640      \n",
      "_________________________________________________________________\n",
      "max_pooling2d_2 (MaxPooling2 (None, 36, 36, 32)        0         \n",
      "_________________________________________________________________\n",
      "conv2d_3 (Conv2D)            (None, 34, 34, 64)        18496     \n",
      "_________________________________________________________________\n",
      "max_pooling2d_3 (MaxPooling2 (None, 17, 17, 64)        0         \n",
      "_________________________________________________________________\n",
      "conv2d_4 (Conv2D)            (None, 15, 15, 128)       73856     \n",
      "_________________________________________________________________\n",
      "max_pooling2d_4 (MaxPooling2 (None, 7, 7, 128)         0         \n",
      "_________________________________________________________________\n",
      "conv2d_5 (Conv2D)            (None, 5, 5, 256)         295168    \n",
      "_________________________________________________________________\n",
      "flatten_1 (Flatten)          (None, 6400)              0         \n",
      "_________________________________________________________________\n",
      "dropout_1 (Dropout)          (None, 6400)              0         \n",
      "_________________________________________________________________\n",
      "dense_1 (Dense)              (None, 128)               819328    \n",
      "_________________________________________________________________\n",
      "dense_2 (Dense)              (None, 29)                3741      \n",
      "=================================================================\n",
      "Total params: 1,215,677\n",
      "Trainable params: 1,215,677\n",
      "Non-trainable params: 0\n",
      "_________________________________________________________________\n"
     ]
    }
   ],
   "source": [
    "callbacks_list = [\n",
    "         callbacks.EarlyStopping(monitor='acc', patience=2),\n",
    "         callbacks.ModelCheckpoint(filepath = '../data/models/handsigns/handsigns.h5', monitor = 'val_loss', save_best_only = True),\n",
    "         callbacks.ReduceLROnPlateau(monitor='val_loss', factor = 0.1, patience=10)\n",
    "]\n",
    "\n",
    "\n",
    "model = models.Sequential()\n",
    "model.add(layers.Conv2D(16, (3, 3), activation='relu', input_shape=IMAGE_SHAPE))\n",
    "model.add(layers.MaxPooling2D((2, 2)))\n",
    "model.add(layers.Conv2D(32, (3, 3), activation='relu'))\n",
    "model.add(layers.MaxPooling2D((2, 2)))\n",
    "model.add(layers.Conv2D(64, (3, 3), activation='relu'))\n",
    "model.add(layers.MaxPooling2D((2, 2)))\n",
    "model.add(layers.Conv2D(128, (3, 3), activation='relu'))\n",
    "model.add(layers.MaxPooling2D((2, 2)))\n",
    "model.add(layers.Conv2D(256, (3, 3), activation='relu'))\n",
    "\n",
    "#Add a classfier on top of the convnet\n",
    "model.add(layers.Flatten())\n",
    "model.add(layers.Dropout(.5))\n",
    "model.add(layers.Dense(128, activation='relu'))\n",
    "#model.add(layers.BatchNormalization())\n",
    "model.add(layers.Dense(NUM_CLASSES, activation='softmax'))\n",
    "\n",
    "#compile the model\n",
    "optimizer = keras.optimizers.RMSprop(lr=0.0001)\n",
    "model.compile(optimizer=optimizer, loss='categorical_crossentropy', metrics=['accuracy'])\n",
    "\n",
    "model.summary()\n"
   ]
  },
  {
   "cell_type": "code",
   "execution_count": 8,
   "metadata": {},
   "outputs": [
    {
     "name": "stdout",
     "output_type": "stream",
     "text": [
      "Epoch 1/20\n",
      "3915/3915 [==============================] - 1432s 366ms/step - loss: 1.7416 - acc: 0.4838 - val_loss: 1.5607 - val_acc: 0.5131\n",
      "Epoch 2/20\n",
      "3915/3915 [==============================] - 1410s 360ms/step - loss: 0.4611 - acc: 0.8479 - val_loss: 0.8668 - val_acc: 0.7318\n",
      "Epoch 3/20\n",
      "3915/3915 [==============================] - 1395s 356ms/step - loss: 0.1996 - acc: 0.9325 - val_loss: 0.8362 - val_acc: 0.7840\n",
      "Epoch 4/20\n",
      "3915/3915 [==============================] - 1386s 354ms/step - loss: 0.1156 - acc: 0.9612 - val_loss: 0.7600 - val_acc: 0.7957\n",
      "Epoch 5/20\n",
      "3915/3915 [==============================] - 1378s 352ms/step - loss: 0.0788 - acc: 0.9740 - val_loss: 0.7523 - val_acc: 0.8175\n",
      "Epoch 6/20\n",
      "3915/3915 [==============================] - 1363s 348ms/step - loss: 0.0588 - acc: 0.9804 - val_loss: 0.9358 - val_acc: 0.8228\n",
      "Epoch 7/20\n",
      "3915/3915 [==============================] - 1343s 343ms/step - loss: 0.0463 - acc: 0.9851 - val_loss: 0.9919 - val_acc: 0.8104\n",
      "Epoch 8/20\n",
      "3915/3915 [==============================] - 1336s 341ms/step - loss: 0.0388 - acc: 0.9876 - val_loss: 0.9295 - val_acc: 0.8390\n",
      "Epoch 9/20\n",
      "3915/3915 [==============================] - 1339s 342ms/step - loss: 0.0335 - acc: 0.9898 - val_loss: 0.9868 - val_acc: 0.8356\n",
      "Epoch 10/20\n",
      "3915/3915 [==============================] - 1364s 349ms/step - loss: 0.0272 - acc: 0.9914 - val_loss: 1.2537 - val_acc: 0.8223\n",
      "Epoch 11/20\n",
      "3915/3915 [==============================] - 1375s 351ms/step - loss: 0.0239 - acc: 0.9927 - val_loss: 1.2097 - val_acc: 0.8129\n",
      "Epoch 12/20\n",
      "3915/3915 [==============================] - 1378s 352ms/step - loss: 0.0228 - acc: 0.9931 - val_loss: 0.9290 - val_acc: 0.8492\n",
      "Epoch 13/20\n",
      "3915/3915 [==============================] - 1368s 349ms/step - loss: 0.0204 - acc: 0.9938 - val_loss: 1.0418 - val_acc: 0.8350\n",
      "Epoch 14/20\n",
      "3915/3915 [==============================] - 1366s 349ms/step - loss: 0.0187 - acc: 0.9942 - val_loss: 1.1620 - val_acc: 0.8301\n",
      "Epoch 15/20\n",
      "3915/3915 [==============================] - 1368s 349ms/step - loss: 0.0169 - acc: 0.9947 - val_loss: 1.1538 - val_acc: 0.8436\n",
      "Epoch 16/20\n",
      "3915/3915 [==============================] - 1359s 347ms/step - loss: 0.0181 - acc: 0.9947 - val_loss: 1.2123 - val_acc: 0.8481\n",
      "Epoch 17/20\n",
      "3915/3915 [==============================] - 1369s 350ms/step - loss: 0.0183 - acc: 0.9950 - val_loss: 1.1173 - val_acc: 0.8502\n",
      "Epoch 18/20\n",
      "3915/3915 [==============================] - 1351s 345ms/step - loss: 0.0142 - acc: 0.9959 - val_loss: 1.2014 - val_acc: 0.8394\n",
      "Epoch 19/20\n",
      "3915/3915 [==============================] - 1363s 348ms/step - loss: 0.0158 - acc: 0.9958 - val_loss: 1.0900 - val_acc: 0.8408\n",
      "Epoch 20/20\n",
      "3915/3915 [==============================] - 1345s 343ms/step - loss: 0.0148 - acc: 0.9960 - val_loss: 1.1933 - val_acc: 0.8350\n"
     ]
    }
   ],
   "source": [
    "history= model.fit_generator (\n",
    "           train_generator,\n",
    "           epochs = NUM_EPOCHS,\n",
    "           steps_per_epoch=LIMIT_BATCHES,\n",
    "           #callbacks = callbacks_list,\n",
    "           validation_data=validation_generator,\n",
    "           verbose=1)"
   ]
  },
  {
   "cell_type": "code",
   "execution_count": 9,
   "metadata": {},
   "outputs": [
    {
     "data": {
      "image/png": "[encoded data removed]",
      "text/plain": [
       "<Figure size 432x288 with 1 Axes>"
      ]
     },
     "metadata": {},
     "output_type": "display_data"
    }
   ],
   "source": [
    "#visualization of model performance\n",
    "history_dict = history.history\n",
    "loss_values = history_dict['loss']\n",
    "val_loss_values =  history_dict['val_loss']\n",
    "acc_values = history_dict['acc']\n",
    "\n",
    "epochs = range(1, len(acc_values) + 1)\n",
    "\n",
    "plt.plot(epochs, loss_values, 'bo', label = 'Training Loss')\n",
    "plt.plot(epochs,val_loss_values, 'b', label = 'Validation Loss')\n",
    "plt.title('Training and Validation Losses')\n",
    "plt.xlabel='Epochs'\n",
    "plt.ylabel='Loss'\n",
    "plt.legend()\n",
    "plt.show()"
   ]
  },
  {
   "cell_type": "code",
   "execution_count": 10,
   "metadata": {},
   "outputs": [
    {
     "data": {
      "image/png": "[encoded data removed]",
      "text/plain": [
       "<Figure size 432x288 with 1 Axes>"
      ]
     },
     "metadata": {},
     "output_type": "display_data"
    }
   ],
   "source": [
    "plt.clf()\n",
    "acc_values = history_dict['acc']\n",
    "val_acc_values = history_dict['val_acc']\n",
    "\n",
    "plt.plot(epochs, acc_values, 'bo', label='Training acc')\n",
    "plt.plot(epochs,val_acc_values, 'b', label='Validation accuracy')\n",
    "plt.xlabel = 'Epochs'\n",
    "plt.ylabel = 'Loss'\n",
    "plt.legend()\n",
    "\n",
    "plt.show()"
   ]
  },
  {
   "cell_type": "markdown",
   "metadata": {},
   "source": [
    "## Save things"
   ]
  },
  {
   "cell_type": "code",
   "execution_count": 11,
   "metadata": {},
   "outputs": [],
   "source": [
    "def get_test_filenames():\n",
    "    glob_filepath = os.path.join(ASL_ALPHABET_DATASET, '*_test.jpg')\n",
    "    filepaths_with_test_string = glob.glob(glob_filepath)\n",
    "    just_filenames = [ntpath.basename(f) for f in filepaths_with_test_string]\n",
    "    return just_filenames"
   ]
  },
  {
   "cell_type": "code",
   "execution_count": 12,
   "metadata": {},
   "outputs": [],
   "source": [
    "def get_label_from_filename(filename):\n",
    "    # example \"F_test.jpg\" will be just \"F\"\n",
    "    return re.split('_', filename)[0]"
   ]
  },
  {
   "cell_type": "code",
   "execution_count": 13,
   "metadata": {},
   "outputs": [],
   "source": [
    "def load_image_from_filename(filename):\n",
    "    filepath = os.path.join(ASL_ALPHABET_DATASET, filename)\n",
    "    img = load_img(filepath, target_size=(IMAGE_SHAPE[0], IMAGE_SHAPE[1]))\n",
    "    return img_to_array(img)"
   ]
  },
  {
   "cell_type": "code",
   "execution_count": 14,
   "metadata": {},
   "outputs": [],
   "source": [
    "def get_label_encoded(label):\n",
    "    encoding = np.zeros(NUM_CLASSES)\n",
    "    index = train_generator.class_indices[label]\n",
    "    encoding[index] = 1\n",
    "    return encoding"
   ]
  },
  {
   "cell_type": "code",
   "execution_count": 15,
   "metadata": {},
   "outputs": [],
   "source": [
    "def get_test_data():\n",
    "    test_filenames = get_test_filenames()\n",
    "    labels = [get_label_from_filename(filename) for filename in test_filenames]\n",
    "    label_encoded = [get_label_encoded(label) for label in labels]\n",
    "    images = [load_image_from_filename(filename) for filename in test_filenames]\n",
    "    return (images, label_encoded)"
   ]
  },
  {
   "cell_type": "code",
   "execution_count": 16,
   "metadata": {},
   "outputs": [],
   "source": [
    "x_test, y_test = get_test_data()"
   ]
  },
  {
   "cell_type": "code",
   "execution_count": 17,
   "metadata": {},
   "outputs": [
    {
     "name": "stdout",
     "output_type": "stream",
     "text": [
      "Tried to create \"../data/models/asl_alphabet\" but it already exists\n",
      "28/28 [==============================] - 0s 6ms/step\n",
      "saving file ../data/models/asl_alphabet/2018-12-07 04:36:16___0.9285714030265808.h5\n"
     ]
    }
   ],
   "source": [
    "def ensure_model_directory_exists():\n",
    "    try:\n",
    "        os.mkdir(SAVED_MODEL_DIR)\n",
    "    except:\n",
    "        print('Tried to create \"{}\" but it already exists'.format(SAVED_MODEL_DIR))\n",
    "\n",
    "def save_model():\n",
    "    ensure_model_directory_exists()\n",
    "    \n",
    "    evaluate_model_with_test_data = model.evaluate([x_test], np.array(y_test))\n",
    "\n",
    "    accuracy_of_model = evaluate_model_with_test_data[-1]\n",
    "    timestamp_raw = str(datetime.datetime.now())\n",
    "    timestamp_without_milliseconds = timestamp_raw.split('.')[0]\n",
    "    \n",
    "    model_filename = '{}___{}.h5'.format(timestamp_without_milliseconds, accuracy_of_model)\n",
    "    model_filepath = os.path.join(SAVED_MODEL_DIR, model_filename)\n",
    "    \n",
    "    print('saving file {}'.format(model_filepath))\n",
    "\n",
    "    model.save(model_filepath)\n",
    "    return accuracy_of_model\n",
    "mae = save_model()"
   ]
  },
  {
   "cell_type": "code",
   "execution_count": 18,
   "metadata": {},
   "outputs": [
    {
     "name": "stdout",
     "output_type": "stream",
     "text": [
      "text sent\n"
     ]
    }
   ],
   "source": [
    "# Send text message when complete (if the environment variable \"TEXT_PHONENUMBER\" is set)\n",
    "if 'TEXT_PHONENUMBER' in os.environ:\n",
    "    text_phonenumber = os.environ['TEXT_PHONENUMBER']\n",
    "    client = boto3.client('sns')\n",
    "    client.publish(PhoneNumber=text_phonenumber, Message='Model Finished with mae {}'.format(mae))\n",
    "    print('text sent')"
   ]
  },
  {
   "cell_type": "markdown",
   "metadata": {},
   "source": [
    "# Find Largest Errors"
   ]
  },
  {
   "cell_type": "code",
   "execution_count": 1,
   "metadata": {},
   "outputs": [
    {
     "name": "stderr",
     "output_type": "stream",
     "text": [
      "/usr/local/lib/python3.6/site-packages/h5py/__init__.py:36: FutureWarning: Conversion of the second argument of issubdtype from `float` to `np.floating` is deprecated. In future, it will be treated as `np.float64 == np.dtype(float).type`.\n",
      "  from ._conv import register_converters as _register_converters\n",
      "Using TensorFlow backend.\n"
     ]
    }
   ],
   "source": [
    "from keras.models import load_model"
   ]
  },
  {
   "cell_type": "code",
   "execution_count": 17,
   "metadata": {},
   "outputs": [],
   "source": [
    "model = load_model('../data/models/asl_alphabet/2018-12-07 04:36:16___0.9285714030265808.h5')"
   ]
  },
  {
   "cell_type": "code",
   "execution_count": 11,
   "metadata": {},
   "outputs": [],
   "source": [
    "a = model.evaluate_generator(validation_generator)"
   ]
  },
  {
   "cell_type": "code",
   "execution_count": 18,
   "metadata": {},
   "outputs": [],
   "source": [
    "images, class_vectors = next(validation_generator)"
   ]
  },
  {
   "cell_type": "code",
   "execution_count": 19,
   "metadata": {},
   "outputs": [],
   "source": [
    "c = None\n",
    "validations = []\n",
    "\n",
    "# validations.append()\n",
    "c = class_vectors\n",
    "#print(class_vectors)\n",
    "predictions = model.predict(images)\n",
    "for class_vector, prediction in zip(class_vectors, predictions):\n",
    "    true_class = class_vector.argmax(axis=-1)\n",
    "    validations.append({\n",
    "        'true_class': true_class,\n",
    "        'prediction': prediction.argmax(axis=-1)\n",
    "    })"
   ]
  },
  {
   "cell_type": "code",
   "execution_count": 20,
   "metadata": {},
   "outputs": [
    {
     "data": {
      "text/plain": [
       "array([[0.00000000e+00, 0.00000000e+00, 0.00000000e+00, 0.00000000e+00,\n",
       "        0.00000000e+00, 0.00000000e+00, 1.99440245e-25, 8.40012464e-22,\n",
       "        0.00000000e+00, 1.00000000e+00, 0.00000000e+00, 0.00000000e+00,\n",
       "        2.55382264e-23, 4.80194917e-25, 0.00000000e+00, 9.49025303e-11,\n",
       "        0.00000000e+00, 0.00000000e+00, 0.00000000e+00, 0.00000000e+00,\n",
       "        0.00000000e+00, 0.00000000e+00, 0.00000000e+00, 0.00000000e+00,\n",
       "        5.67189482e-15, 0.00000000e+00, 0.00000000e+00, 0.00000000e+00,\n",
       "        4.47875984e-33],\n",
       "       [9.75211902e-16, 8.84716501e-05, 4.95582650e-36, 7.68870478e-09,\n",
       "        9.99790370e-01, 3.63708424e-10, 1.17071758e-13, 7.53269331e-23,\n",
       "        1.21258083e-04, 4.51425378e-31, 2.03227683e-14, 9.77872887e-21,\n",
       "        1.62732516e-17, 1.52296958e-15, 3.01610391e-15, 0.00000000e+00,\n",
       "        0.00000000e+00, 3.27070937e-27, 1.26836161e-27, 2.26248977e-33,\n",
       "        9.90182060e-27, 3.07024048e-26, 8.88086601e-15, 2.08909906e-22,\n",
       "        5.34948671e-33, 0.00000000e+00, 6.39550177e-30, 0.00000000e+00,\n",
       "        4.86563744e-33],\n",
       "       [1.02417755e-33, 2.74692137e-34, 1.62307390e-37, 2.34392883e-32,\n",
       "        1.39522383e-35, 2.14857564e-22, 8.32577236e-12, 3.35433551e-17,\n",
       "        6.84331287e-21, 6.85019055e-11, 1.01823269e-26, 4.09113874e-33,\n",
       "        1.95051288e-12, 6.22420033e-16, 7.02614253e-16, 2.30255593e-13,\n",
       "        4.27384608e-16, 3.31227390e-24, 6.62599536e-19, 3.71674266e-29,\n",
       "        2.96307444e-30, 7.29018004e-19, 7.61126222e-22, 4.58993785e-19,\n",
       "        4.01308153e-10, 3.27418906e-36, 2.95660403e-08, 7.92394598e-22,\n",
       "        1.00000000e+00],\n",
       "       [7.34193930e-22, 2.40514339e-37, 3.15406646e-31, 0.00000000e+00,\n",
       "        3.28795860e-20, 8.53265050e-26, 1.24339386e-10, 6.51798100e-16,\n",
       "        1.58138774e-20, 1.00000000e+00, 1.35872847e-37, 5.20142242e-25,\n",
       "        3.70345769e-19, 1.46948818e-08, 4.97245976e-33, 9.96084690e-19,\n",
       "        4.21132312e-33, 1.26963908e-35, 5.25947172e-22, 6.16753827e-26,\n",
       "        6.39256309e-33, 4.42178730e-33, 0.00000000e+00, 2.54822242e-19,\n",
       "        3.45428639e-16, 1.48757025e-38, 7.34253280e-28, 0.00000000e+00,\n",
       "        1.59717477e-20],\n",
       "       [6.39314864e-33, 0.00000000e+00, 1.00000000e+00, 3.95373526e-22,\n",
       "        6.11828353e-33, 0.00000000e+00, 0.00000000e+00, 0.00000000e+00,\n",
       "        0.00000000e+00, 0.00000000e+00, 0.00000000e+00, 2.75914136e-22,\n",
       "        0.00000000e+00, 0.00000000e+00, 2.51657552e-19, 0.00000000e+00,\n",
       "        0.00000000e+00, 0.00000000e+00, 0.00000000e+00, 0.00000000e+00,\n",
       "        0.00000000e+00, 0.00000000e+00, 0.00000000e+00, 0.00000000e+00,\n",
       "        0.00000000e+00, 1.14923923e-28, 5.16281380e-33, 0.00000000e+00,\n",
       "        0.00000000e+00],\n",
       "       [0.00000000e+00, 0.00000000e+00, 1.00000000e+00, 4.60984357e-31,\n",
       "        0.00000000e+00, 0.00000000e+00, 0.00000000e+00, 0.00000000e+00,\n",
       "        0.00000000e+00, 0.00000000e+00, 0.00000000e+00, 1.07105939e-32,\n",
       "        0.00000000e+00, 0.00000000e+00, 6.02762994e-27, 0.00000000e+00,\n",
       "        0.00000000e+00, 0.00000000e+00, 0.00000000e+00, 0.00000000e+00,\n",
       "        0.00000000e+00, 0.00000000e+00, 0.00000000e+00, 0.00000000e+00,\n",
       "        0.00000000e+00, 0.00000000e+00, 0.00000000e+00, 0.00000000e+00,\n",
       "        0.00000000e+00],\n",
       "       [7.98961087e-19, 7.77425285e-19, 5.04351770e-21, 3.42859750e-22,\n",
       "        1.06160203e-17, 9.32137767e-24, 3.09133740e-17, 1.05745168e-16,\n",
       "        2.83306150e-17, 1.54351606e-15, 5.81926795e-20, 6.05426803e-20,\n",
       "        1.29788377e-14, 4.08649690e-15, 2.17650509e-17, 4.44570536e-17,\n",
       "        1.14384031e-16, 1.52120494e-14, 1.20662790e-12, 2.53711207e-15,\n",
       "        1.22730678e-12, 5.94293816e-15, 2.56798977e-14, 5.65540216e-14,\n",
       "        3.43224289e-14, 2.11154673e-16, 3.42573349e-15, 1.00000000e+00,\n",
       "        8.27664895e-14],\n",
       "       [3.52110390e-21, 1.00000000e+00, 0.00000000e+00, 1.09193171e-29,\n",
       "        3.16019588e-09, 0.00000000e+00, 4.17064230e-30, 0.00000000e+00,\n",
       "        2.18995241e-27, 0.00000000e+00, 6.58744542e-31, 2.96289962e-26,\n",
       "        3.74338985e-16, 5.88278552e-29, 7.18220701e-31, 0.00000000e+00,\n",
       "        0.00000000e+00, 1.88726621e-20, 0.00000000e+00, 0.00000000e+00,\n",
       "        2.23500276e-20, 1.00772471e-36, 0.00000000e+00, 1.10235995e-24,\n",
       "        0.00000000e+00, 0.00000000e+00, 0.00000000e+00, 0.00000000e+00,\n",
       "        0.00000000e+00],\n",
       "       [2.27207282e-18, 3.90635965e-38, 1.33690782e-23, 3.69865141e-30,\n",
       "        4.48553450e-24, 1.07457986e-23, 7.35084049e-10, 1.47462424e-11,\n",
       "        2.91705656e-24, 1.16660122e-08, 1.64327669e-31, 5.58701923e-26,\n",
       "        1.67145256e-11, 1.00381170e-13, 1.53038359e-22, 9.99710262e-01,\n",
       "        2.89659452e-04, 2.38043743e-20, 3.34987843e-14, 6.21577460e-17,\n",
       "        8.40713976e-16, 8.65881328e-14, 7.05723921e-34, 3.54146378e-18,\n",
       "        5.44480745e-11, 6.48220612e-22, 1.90203257e-12, 1.48484293e-16,\n",
       "        6.87946174e-13],\n",
       "       [1.23472185e-12, 3.83695311e-16, 4.57331617e-16, 1.61519737e-13,\n",
       "        2.78659826e-13, 9.05680578e-22, 7.74166409e-17, 1.00795415e-20,\n",
       "        8.47878964e-15, 7.12862232e-21, 1.71571438e-11, 2.68025688e-11,\n",
       "        3.79802467e-10, 8.89136245e-14, 4.39923598e-10, 1.73993423e-21,\n",
       "        9.20533632e-20, 2.88360199e-04, 1.68246494e-04, 1.41996553e-10,\n",
       "        2.27658134e-02, 3.96330415e-06, 9.62207337e-14, 9.76773739e-01,\n",
       "        4.86976685e-19, 3.02704978e-14, 4.87183159e-18, 2.03217413e-12,\n",
       "        5.99840871e-23],\n",
       "       [1.04424372e-17, 4.57682327e-14, 0.00000000e+00, 3.61951940e-12,\n",
       "        1.31186386e-19, 1.56044393e-07, 2.81028785e-32, 0.00000000e+00,\n",
       "        2.89577688e-13, 0.00000000e+00, 9.82996285e-01, 7.04800075e-16,\n",
       "        3.86089637e-23, 1.83175890e-27, 1.88030548e-19, 0.00000000e+00,\n",
       "        0.00000000e+00, 8.01818883e-21, 6.84427801e-38, 2.45377512e-34,\n",
       "        2.60052494e-28, 1.69745293e-02, 2.90280077e-05, 3.70179922e-24,\n",
       "        3.96466657e-33, 9.88962559e-29, 0.00000000e+00, 0.00000000e+00,\n",
       "        2.44550124e-37],\n",
       "       [1.14757478e-35, 1.35000780e-14, 0.00000000e+00, 0.00000000e+00,\n",
       "        5.76131503e-18, 0.00000000e+00, 4.62902988e-25, 2.40219581e-33,\n",
       "        6.49018564e-18, 1.12456380e-19, 7.81804387e-23, 1.50949885e-22,\n",
       "        5.40876241e-12, 1.15752568e-25, 1.99537951e-37, 0.00000000e+00,\n",
       "        0.00000000e+00, 1.29720332e-10, 4.12262213e-21, 1.46872328e-19,\n",
       "        1.00000000e+00, 6.18201237e-15, 6.12058853e-20, 1.62608954e-10,\n",
       "        6.16912013e-32, 1.18779635e-38, 3.12091376e-31, 1.59265992e-13,\n",
       "        5.17402851e-27],\n",
       "       [9.99999642e-01, 2.79696704e-26, 1.87436300e-15, 2.60162634e-18,\n",
       "        3.18282162e-07, 1.42029639e-27, 3.86469728e-21, 8.61294985e-37,\n",
       "        1.47288146e-25, 8.41902542e-35, 2.01198440e-33, 3.03514089e-11,\n",
       "        2.19674728e-18, 4.01487571e-23, 3.88414615e-14, 1.08369265e-32,\n",
       "        9.40935261e-27, 3.17116635e-35, 9.51188428e-19, 3.20754534e-19,\n",
       "        6.48171001e-29, 2.88809416e-36, 0.00000000e+00, 9.03227972e-16,\n",
       "        8.07820748e-34, 1.18805156e-20, 3.67501434e-34, 9.68902321e-34,\n",
       "        1.37254026e-34],\n",
       "       [6.62184202e-14, 1.21819031e-19, 1.66904573e-16, 2.15621720e-09,\n",
       "        2.69303690e-14, 1.48889563e-19, 1.85346439e-32, 0.00000000e+00,\n",
       "        7.11981992e-23, 0.00000000e+00, 7.20686152e-13, 9.99999762e-01,\n",
       "        1.71591203e-20, 5.73683416e-27, 2.23930954e-07, 0.00000000e+00,\n",
       "        4.66244437e-36, 1.92362053e-22, 2.04755016e-30, 6.99521829e-18,\n",
       "        1.68526032e-28, 2.35718048e-25, 3.21632238e-24, 1.81128595e-20,\n",
       "        9.93255598e-38, 3.41539727e-23, 1.23696988e-31, 0.00000000e+00,\n",
       "        0.00000000e+00],\n",
       "       [1.89028694e-33, 0.00000000e+00, 1.00000000e+00, 3.29631603e-24,\n",
       "        0.00000000e+00, 0.00000000e+00, 0.00000000e+00, 0.00000000e+00,\n",
       "        0.00000000e+00, 0.00000000e+00, 0.00000000e+00, 1.24728173e-22,\n",
       "        0.00000000e+00, 0.00000000e+00, 1.27481026e-16, 0.00000000e+00,\n",
       "        3.68526310e-27, 0.00000000e+00, 0.00000000e+00, 3.13706580e-37,\n",
       "        0.00000000e+00, 0.00000000e+00, 0.00000000e+00, 0.00000000e+00,\n",
       "        0.00000000e+00, 3.57930389e-32, 0.00000000e+00, 0.00000000e+00,\n",
       "        0.00000000e+00],\n",
       "       [4.53239841e-27, 7.06604405e-05, 0.00000000e+00, 8.73329277e-20,\n",
       "        2.73208651e-16, 2.05373462e-19, 1.07571660e-22, 1.72365840e-30,\n",
       "        2.69573361e-12, 1.17374969e-35, 5.32782115e-02, 2.05031480e-18,\n",
       "        2.86119377e-23, 3.44238502e-22, 4.40143423e-29, 0.00000000e+00,\n",
       "        0.00000000e+00, 1.48087560e-19, 1.11827510e-35, 0.00000000e+00,\n",
       "        4.08197967e-15, 1.94794438e-08, 9.46651161e-01, 5.08631208e-22,\n",
       "        2.25493355e-33, 0.00000000e+00, 0.00000000e+00, 0.00000000e+00,\n",
       "        1.97686477e-28],\n",
       "       [3.50118607e-25, 7.25921114e-22, 8.60904732e-32, 1.98486129e-29,\n",
       "        9.63150546e-22, 4.22140122e-32, 2.32336951e-24, 9.25978335e-27,\n",
       "        3.46300269e-22, 2.10278116e-23, 4.74181028e-19, 3.13704310e-17,\n",
       "        7.44866967e-15, 2.41518715e-22, 7.30299281e-20, 1.00079800e-25,\n",
       "        2.09737249e-24, 2.13020144e-06, 2.21100135e-11, 8.50634243e-18,\n",
       "        9.99997854e-01, 3.05042081e-12, 2.59005896e-23, 6.38711237e-11,\n",
       "        3.07867907e-25, 2.22934680e-25, 1.60599883e-21, 3.53981183e-16,\n",
       "        2.00939800e-16],\n",
       "       [6.65720627e-02, 9.67208762e-14, 8.88265859e-05, 2.82805500e-04,\n",
       "        9.30662155e-01, 8.31529778e-09, 2.26775697e-03, 1.38419188e-17,\n",
       "        3.57465012e-07, 5.61776197e-19, 6.61418505e-21, 1.15112880e-05,\n",
       "        3.41724038e-10, 9.52573464e-06, 2.68324256e-05, 2.28413177e-10,\n",
       "        4.51694515e-11, 3.11355704e-18, 1.97130801e-09, 6.06054573e-12,\n",
       "        1.69188373e-16, 1.12575829e-14, 2.55055738e-23, 7.80954870e-05,\n",
       "        1.01584670e-08, 1.57764131e-08, 7.75044213e-17, 2.28486207e-19,\n",
       "        1.69564250e-18],\n",
       "       [0.00000000e+00, 1.77904005e-31, 1.85331780e-34, 1.08389199e-27,\n",
       "        8.63304633e-34, 1.83528887e-31, 1.60187183e-10, 1.23736923e-08,\n",
       "        6.58069451e-18, 4.39493823e-11, 4.51625580e-25, 1.14751644e-26,\n",
       "        1.49586194e-18, 3.77619951e-15, 5.12234069e-15, 2.23768204e-08,\n",
       "        3.61541027e-12, 2.55807236e-20, 9.91297058e-15, 6.74840121e-26,\n",
       "        7.02963104e-11, 7.19515780e-10, 6.17320325e-17, 1.39094073e-16,\n",
       "        2.71756223e-14, 7.24434775e-32, 1.71874467e-06, 3.14258131e-07,\n",
       "        9.99997973e-01],\n",
       "       [2.15001550e-18, 3.34332639e-16, 2.08768138e-22, 4.11683324e-17,\n",
       "        9.05874275e-18, 8.42161019e-18, 8.27789831e-18, 3.62945567e-21,\n",
       "        5.33586684e-13, 6.02723990e-20, 9.34237479e-11, 1.05348262e-15,\n",
       "        1.15562900e-10, 2.04318414e-13, 2.57318333e-10, 2.34089942e-18,\n",
       "        2.31062357e-22, 3.60377896e-07, 1.60722533e-10, 5.53917907e-14,\n",
       "        8.74510631e-10, 9.98719454e-01, 1.28006737e-03, 6.05754096e-08,\n",
       "        2.89685641e-14, 3.65017058e-14, 6.15104234e-20, 1.43173047e-14,\n",
       "        1.84269540e-15]], dtype=float32)"
      ]
     },
     "execution_count": 20,
     "metadata": {},
     "output_type": "execute_result"
    }
   ],
   "source": [
    "predictions"
   ]
  },
  {
   "cell_type": "code",
   "execution_count": 25,
   "metadata": {},
   "outputs": [],
   "source": [
    "#plt.imshow(array_to_img(images[3]))"
   ]
  },
  {
   "cell_type": "code",
   "execution_count": 26,
   "metadata": {},
   "outputs": [],
   "source": [
    "#validation_generator.class_indices"
   ]
  },
  {
   "cell_type": "code",
   "execution_count": 21,
   "metadata": {},
   "outputs": [
    {
     "data": {
      "text/plain": [
       "[{'true_class': 9, 'prediction': 9},\n",
       " {'true_class': 8, 'prediction': 4},\n",
       " {'true_class': 28, 'prediction': 28},\n",
       " {'true_class': 9, 'prediction': 9},\n",
       " {'true_class': 2, 'prediction': 2},\n",
       " {'true_class': 2, 'prediction': 2},\n",
       " {'true_class': 27, 'prediction': 27},\n",
       " {'true_class': 1, 'prediction': 1},\n",
       " {'true_class': 15, 'prediction': 15},\n",
       " {'true_class': 20, 'prediction': 23},\n",
       " {'true_class': 10, 'prediction': 10},\n",
       " {'true_class': 20, 'prediction': 20},\n",
       " {'true_class': 0, 'prediction': 0},\n",
       " {'true_class': 11, 'prediction': 11},\n",
       " {'true_class': 2, 'prediction': 2},\n",
       " {'true_class': 10, 'prediction': 22},\n",
       " {'true_class': 20, 'prediction': 20},\n",
       " {'true_class': 0, 'prediction': 4},\n",
       " {'true_class': 28, 'prediction': 28},\n",
       " {'true_class': 22, 'prediction': 21}]"
      ]
     },
     "execution_count": 21,
     "metadata": {},
     "output_type": "execute_result"
    }
   ],
   "source": [
    "validations"
   ]
  },
  {
   "cell_type": "code",
   "execution_count": 28,
   "metadata": {},
   "outputs": [],
   "source": [
    "# go through each predicted item\n",
    "# get its true class\n",
    "# Find the ones that are wrong\n",
    "# Order by which are MOST wrong\n"
   ]
  }
 ],
 "metadata": {
  "kernelspec": {
   "display_name": "Python 3",
   "language": "python",
   "name": "python3"
  },
  "language_info": {
   "codemirror_mode": {
    "name": "ipython",
    "version": 3
   },
   "file_extension": ".py",
   "mimetype": "text/x-python",
   "name": "python",
   "nbconvert_exporter": "python",
   "pygments_lexer": "ipython3",
   "version": "3.6.5"
  }
 },
 "nbformat": 4,
 "nbformat_minor": 2
}
