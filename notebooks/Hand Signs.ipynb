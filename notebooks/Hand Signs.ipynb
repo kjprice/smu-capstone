{
 "cells": [
  {
   "cell_type": "code",
   "execution_count": 1,
   "metadata": {},
   "outputs": [
    {
     "name": "stderr",
     "output_type": "stream",
     "text": [
      "/usr/local/lib/python3.6/site-packages/h5py/__init__.py:36: FutureWarning: Conversion of the second argument of issubdtype from `float` to `np.floating` is deprecated. In future, it will be treated as `np.float64 == np.dtype(float).type`.\n",
      "  from ._conv import register_converters as _register_converters\n",
      "Using TensorFlow backend.\n"
     ]
    }
   ],
   "source": [
    "import os, shutil, copy, ntpath, datetime\n",
    "import keras\n",
    "from keras import models, layers, callbacks\n",
    "from keras.preprocessing.image import ImageDataGenerator, load_img, img_to_array, array_to_img\n",
    "\n",
    "import matplotlib.pyplot as plt\n",
    "\n",
    "import boto3\n",
    "import glob\n",
    "import ntpath\n",
    "import re\n",
    "\n",
    "import numpy as np"
   ]
  },
  {
   "cell_type": "code",
   "execution_count": 2,
   "metadata": {},
   "outputs": [],
   "source": [
    "#### Settings\n",
    "IMAGE_SHAPE=(150, 150, 3)\n",
    "\n",
    "#LIMIT_BATCHES = 2\n",
    "LIMIT_BATCHES = None\n",
    "\n",
    "NUM_EPOCHS = 20\n",
    "BATCH_SIZE = 20\n",
    "NUM_CLASSES = 29\n",
    "\n",
    "# PRETRAIN_MODEL = 'conv_base_local'\n",
    "# PRETRAIN_MODEL = 'conv_base_vgg16'\n",
    "PRETRAIN_MODEL = None"
   ]
  },
  {
   "cell_type": "code",
   "execution_count": 3,
   "metadata": {},
   "outputs": [],
   "source": [
    "#### FilePath Information\n",
    "DATA_DIR = '../data'\n",
    "ASL_ALPHABET_DATASET = os.path.join(DATA_DIR, 'original/asl_alphabet')\n",
    "\n",
    "\n",
    "SAVED_MODEL_DIR = os.path.join(DATA_DIR, 'models/asl_alphabet')"
   ]
  },
  {
   "cell_type": "code",
   "execution_count": 4,
   "metadata": {},
   "outputs": [],
   "source": [
    "#data generation setip\n"
   ]
  },
  {
   "cell_type": "code",
   "execution_count": 5,
   "metadata": {},
   "outputs": [],
   "source": [
    "# dataset definition with augmentation\n",
    "train_datagen = ImageDataGenerator(\n",
    "    rescale=1./255,\n",
    "    validation_split=0.1,\n",
    "    horizontal_flip=True,\n",
    "    rotation_range=20,\n",
    "    width_shift_range=0.2,\n",
    "    height_shift_range=0.2,\n",
    "    )\n",
    "test_datagen = ImageDataGenerator(rescale=1./255)\n",
    "# end without augmentation"
   ]
  },
  {
   "cell_type": "code",
   "execution_count": 6,
   "metadata": {},
   "outputs": [
    {
     "name": "stdout",
     "output_type": "stream",
     "text": [
      "Found 78289 images belonging to 29 classes.\n",
      "Found 8698 images belonging to 29 classes.\n"
     ]
    }
   ],
   "source": [
    "#create generators\n",
    "train_generator = train_datagen.flow_from_directory(\n",
    "           ASL_ALPHABET_DATASET,\n",
    "           target_size = (IMAGE_SHAPE[0], IMAGE_SHAPE[0]),\n",
    "           batch_size=BATCH_SIZE,\n",
    "           class_mode = 'categorical',\n",
    "           subset='training'\n",
    ")\n",
    "\n",
    "#create generators\n",
    "validation_generator = train_datagen.flow_from_directory(\n",
    "           ASL_ALPHABET_DATASET,\n",
    "           target_size = (IMAGE_SHAPE[0], IMAGE_SHAPE[0]),\n",
    "           batch_size=BATCH_SIZE,\n",
    "           class_mode = 'categorical',\n",
    "           subset='validation'\n",
    ")\n"
   ]
  },
  {
   "cell_type": "code",
   "execution_count": 7,
   "metadata": {},
   "outputs": [
    {
     "name": "stdout",
     "output_type": "stream",
     "text": [
      "_________________________________________________________________\n",
      "Layer (type)                 Output Shape              Param #   \n",
      "=================================================================\n",
      "conv2d_1 (Conv2D)            (None, 148, 148, 16)      448       \n",
      "_________________________________________________________________\n",
      "max_pooling2d_1 (MaxPooling2 (None, 74, 74, 16)        0         \n",
      "_________________________________________________________________\n",
      "conv2d_2 (Conv2D)            (None, 72, 72, 32)        4640      \n",
      "_________________________________________________________________\n",
      "max_pooling2d_2 (MaxPooling2 (None, 36, 36, 32)        0         \n",
      "_________________________________________________________________\n",
      "conv2d_3 (Conv2D)            (None, 34, 34, 64)        18496     \n",
      "_________________________________________________________________\n",
      "max_pooling2d_3 (MaxPooling2 (None, 17, 17, 64)        0         \n",
      "_________________________________________________________________\n",
      "conv2d_4 (Conv2D)            (None, 15, 15, 128)       73856     \n",
      "_________________________________________________________________\n",
      "max_pooling2d_4 (MaxPooling2 (None, 7, 7, 128)         0         \n",
      "_________________________________________________________________\n",
      "conv2d_5 (Conv2D)            (None, 5, 5, 256)         295168    \n",
      "_________________________________________________________________\n",
      "flatten_1 (Flatten)          (None, 6400)              0         \n",
      "_________________________________________________________________\n",
      "dropout_1 (Dropout)          (None, 6400)              0         \n",
      "_________________________________________________________________\n",
      "dense_1 (Dense)              (None, 128)               819328    \n",
      "_________________________________________________________________\n",
      "dense_2 (Dense)              (None, 29)                3741      \n",
      "=================================================================\n",
      "Total params: 1,215,677\n",
      "Trainable params: 1,215,677\n",
      "Non-trainable params: 0\n",
      "_________________________________________________________________\n"
     ]
    }
   ],
   "source": [
    "callbacks_list = [\n",
    "         callbacks.EarlyStopping(monitor='acc', patience=2),\n",
    "         callbacks.ModelCheckpoint(filepath = '../data/models/handsigns/handsigns.h5', monitor = 'val_loss', save_best_only = True),\n",
    "         callbacks.ReduceLROnPlateau(monitor='val_loss', factor = 0.1, patience=10)\n",
    "]\n",
    "\n",
    "\n",
    "model = models.Sequential()\n",
    "model.add(layers.Conv2D(16, (3, 3), activation='relu', input_shape=IMAGE_SHAPE))\n",
    "model.add(layers.MaxPooling2D((2, 2)))\n",
    "model.add(layers.Conv2D(32, (3, 3), activation='relu'))\n",
    "model.add(layers.MaxPooling2D((2, 2)))\n",
    "model.add(layers.Conv2D(64, (3, 3), activation='relu'))\n",
    "model.add(layers.MaxPooling2D((2, 2)))\n",
    "model.add(layers.Conv2D(128, (3, 3), activation='relu'))\n",
    "model.add(layers.MaxPooling2D((2, 2)))\n",
    "model.add(layers.Conv2D(256, (3, 3), activation='relu'))\n",
    "\n",
    "#Add a classfier on top of the convnet\n",
    "model.add(layers.Flatten())\n",
    "model.add(layers.Dropout(.5))\n",
    "model.add(layers.Dense(128, activation='relu'))\n",
    "#model.add(layers.BatchNormalization())\n",
    "model.add(layers.Dense(NUM_CLASSES, activation='softmax'))\n",
    "\n",
    "#compile the model\n",
    "optimizer = keras.optimizers.RMSprop(lr=0.0001)\n",
    "model.compile(optimizer=optimizer, loss='categorical_crossentropy', metrics=['accuracy'])\n",
    "\n",
    "model.summary()\n"
   ]
  },
  {
   "cell_type": "code",
   "execution_count": 8,
   "metadata": {},
   "outputs": [
    {
     "name": "stdout",
     "output_type": "stream",
     "text": [
      "Epoch 1/20\n",
      "3915/3915 [==============================] - 2024s 517ms/step - loss: 2.8387 - acc: 0.1790 - val_loss: 2.2824 - val_acc: 0.2867\n",
      "Epoch 2/20\n",
      "3915/3915 [==============================] - 2025s 517ms/step - loss: 1.7799 - acc: 0.4402 - val_loss: 1.5110 - val_acc: 0.5172\n",
      "Epoch 3/20\n",
      "3915/3915 [==============================] - 1961s 501ms/step - loss: 1.2377 - acc: 0.5977 - val_loss: 1.4033 - val_acc: 0.5220\n",
      "Epoch 4/20\n",
      "3915/3915 [==============================] - 1953s 499ms/step - loss: 0.9259 - acc: 0.6964 - val_loss: 1.0985 - val_acc: 0.6323\n",
      "Epoch 5/20\n",
      "3915/3915 [==============================] - 2019s 516ms/step - loss: 0.7249 - acc: 0.7578 - val_loss: 1.0108 - val_acc: 0.6507\n",
      "Epoch 6/20\n",
      "3915/3915 [==============================] - 2063s 527ms/step - loss: 0.5950 - acc: 0.7993 - val_loss: 0.8833 - val_acc: 0.7072\n",
      "Epoch 7/20\n",
      "3915/3915 [==============================] - 1957s 500ms/step - loss: 0.5110 - acc: 0.8265 - val_loss: 0.7980 - val_acc: 0.7253\n",
      "Epoch 8/20\n",
      "3915/3915 [==============================] - 1902s 486ms/step - loss: 0.4465 - acc: 0.8494 - val_loss: 0.7326 - val_acc: 0.7583\n",
      "Epoch 9/20\n",
      "3915/3915 [==============================] - 1880s 480ms/step - loss: 0.3970 - acc: 0.8656 - val_loss: 0.6829 - val_acc: 0.7848\n",
      "Epoch 10/20\n",
      "3915/3915 [==============================] - 1934s 494ms/step - loss: 0.3532 - acc: 0.8808 - val_loss: 0.6705 - val_acc: 0.7751\n",
      "Epoch 11/20\n",
      "3915/3915 [==============================] - 1929s 493ms/step - loss: 0.3296 - acc: 0.8899 - val_loss: 0.5998 - val_acc: 0.8059\n",
      "Epoch 12/20\n",
      "3915/3915 [==============================] - 1949s 498ms/step - loss: 0.3054 - acc: 0.8985 - val_loss: 0.6100 - val_acc: 0.7905\n",
      "Epoch 13/20\n",
      "3915/3915 [==============================] - 1964s 502ms/step - loss: 0.2846 - acc: 0.9047 - val_loss: 0.6680 - val_acc: 0.7871\n",
      "Epoch 14/20\n",
      "3915/3915 [==============================] - 2036s 520ms/step - loss: 0.2676 - acc: 0.9106 - val_loss: 0.6139 - val_acc: 0.8128\n",
      "Epoch 15/20\n",
      "3915/3915 [==============================] - 2044s 522ms/step - loss: 0.2523 - acc: 0.9163 - val_loss: 0.6021 - val_acc: 0.8178\n",
      "Epoch 16/20\n",
      "3915/3915 [==============================] - 2064s 527ms/step - loss: 0.2433 - acc: 0.9189 - val_loss: 0.6069 - val_acc: 0.8156\n",
      "Epoch 17/20\n",
      "3915/3915 [==============================] - 1961s 501ms/step - loss: 0.2356 - acc: 0.9236 - val_loss: 0.5844 - val_acc: 0.8266\n",
      "Epoch 18/20\n",
      "3915/3915 [==============================] - 1421s 363ms/step - loss: 0.2259 - acc: 0.9254 - val_loss: 0.6019 - val_acc: 0.8273\n",
      "Epoch 19/20\n",
      "3915/3915 [==============================] - 1339s 342ms/step - loss: 0.2188 - acc: 0.9286 - val_loss: 0.6974 - val_acc: 0.8025\n",
      "Epoch 20/20\n",
      "3915/3915 [==============================] - 1325s 338ms/step - loss: 0.2155 - acc: 0.9307 - val_loss: 0.6457 - val_acc: 0.8121\n"
     ]
    }
   ],
   "source": [
    "history= model.fit_generator (\n",
    "           train_generator,\n",
    "           epochs = NUM_EPOCHS,\n",
    "           steps_per_epoch=LIMIT_BATCHES,\n",
    "           #callbacks = callbacks_list,\n",
    "           validation_data=validation_generator,\n",
    "           verbose=1)"
   ]
  },
  {
   "cell_type": "code",
   "execution_count": 9,
   "metadata": {},
   "outputs": [
    {
     "data": {
      "image/png": "[encoded data removed]",
      "text/plain": [
       "<Figure size 432x288 with 1 Axes>"
      ]
     },
     "metadata": {},
     "output_type": "display_data"
    }
   ],
   "source": [
    "#visualization of model performance\n",
    "history_dict = history.history\n",
    "loss_values = history_dict['loss']\n",
    "val_loss_values =  history_dict['val_loss']\n",
    "acc_values = history_dict['acc']\n",
    "\n",
    "epochs = range(1, len(acc_values) + 1)\n",
    "\n",
    "plt.plot(epochs, loss_values, 'bo', label = 'Training Loss')\n",
    "plt.plot(epochs,val_loss_values, 'b', label = 'Validation Loss')\n",
    "plt.title('Training and Validation Losses')\n",
    "plt.xlabel='Epochs'\n",
    "plt.ylabel='Loss'\n",
    "plt.legend()\n",
    "plt.show()"
   ]
  },
  {
   "cell_type": "code",
   "execution_count": 10,
   "metadata": {},
   "outputs": [
    {
     "data": {
      "image/png": "[encoded data removed]",
      "text/plain": [
       "<Figure size 432x288 with 1 Axes>"
      ]
     },
     "metadata": {},
     "output_type": "display_data"
    }
   ],
   "source": [
    "plt.clf()\n",
    "acc_values = history_dict['acc']\n",
    "val_acc_values = history_dict['val_acc']\n",
    "\n",
    "plt.plot(epochs, acc_values, 'bo', label='Training acc')\n",
    "plt.plot(epochs,val_acc_values, 'b', label='Validation accuracy')\n",
    "plt.xlabel = 'Epochs'\n",
    "plt.ylabel = 'Loss'\n",
    "plt.legend()\n",
    "\n",
    "plt.show()"
   ]
  },
  {
   "cell_type": "markdown",
   "metadata": {},
   "source": [
    "## Save things"
   ]
  },
  {
   "cell_type": "code",
   "execution_count": 11,
   "metadata": {},
   "outputs": [],
   "source": [
    "def get_test_filenames():\n",
    "    glob_filepath = os.path.join(ASL_ALPHABET_DATASET, '*_test.jpg')\n",
    "    filepaths_with_test_string = glob.glob(glob_filepath)\n",
    "    just_filenames = [ntpath.basename(f) for f in filepaths_with_test_string]\n",
    "    return just_filenames"
   ]
  },
  {
   "cell_type": "code",
   "execution_count": 12,
   "metadata": {},
   "outputs": [],
   "source": [
    "def get_label_from_filename(filename):\n",
    "    # example \"F_test.jpg\" will be just \"F\"\n",
    "    return re.split('_', filename)[0]"
   ]
  },
  {
   "cell_type": "code",
   "execution_count": 13,
   "metadata": {},
   "outputs": [],
   "source": [
    "def load_image_from_filename(filename):\n",
    "    filepath = os.path.join(ASL_ALPHABET_DATASET, filename)\n",
    "    img = load_img(filepath, target_size=(IMAGE_SHAPE[0], IMAGE_SHAPE[1]))\n",
    "    return img_to_array(img)"
   ]
  },
  {
   "cell_type": "code",
   "execution_count": 14,
   "metadata": {},
   "outputs": [],
   "source": [
    "def get_label_encoded(label):\n",
    "    encoding = np.zeros(NUM_CLASSES)\n",
    "    index = train_generator.class_indices[label]\n",
    "    encoding[index] = 1\n",
    "    return encoding"
   ]
  },
  {
   "cell_type": "code",
   "execution_count": 15,
   "metadata": {},
   "outputs": [],
   "source": [
    "def get_test_data():\n",
    "    test_filenames = get_test_filenames()\n",
    "    labels = [get_label_from_filename(filename) for filename in test_filenames]\n",
    "    label_encoded = [get_label_encoded(label) for label in labels]\n",
    "    images = [load_image_from_filename(filename) for filename in test_filenames]\n",
    "    return (images, label_encoded)"
   ]
  },
  {
   "cell_type": "code",
   "execution_count": 16,
   "metadata": {},
   "outputs": [],
   "source": [
    "x_test, y_test = get_test_data()"
   ]
  },
  {
   "cell_type": "code",
   "execution_count": 17,
   "metadata": {},
   "outputs": [
    {
     "name": "stdout",
     "output_type": "stream",
     "text": [
      "Tried to create \"../data/models/asl_alphabet\" but it already exists\n",
      "28/28 [==============================] - 0s 6ms/step\n",
      "saving file ../data/models/asl_alphabet/2018-12-07 23:33:04___0.25.h5\n"
     ]
    }
   ],
   "source": [
    "def ensure_model_directory_exists():\n",
    "    try:\n",
    "        os.mkdir(SAVED_MODEL_DIR)\n",
    "    except:\n",
    "        print('Tried to create \"{}\" but it already exists'.format(SAVED_MODEL_DIR))\n",
    "\n",
    "def save_model():\n",
    "    ensure_model_directory_exists()\n",
    "    \n",
    "    evaluate_model_with_test_data = model.evaluate([x_test], np.array(y_test))\n",
    "\n",
    "    accuracy_of_model = evaluate_model_with_test_data[-1]\n",
    "    timestamp_raw = str(datetime.datetime.now())\n",
    "    timestamp_without_milliseconds = timestamp_raw.split('.')[0]\n",
    "    \n",
    "    model_filename = '{}___{}.h5'.format(timestamp_without_milliseconds, accuracy_of_model)\n",
    "    model_filepath = os.path.join(SAVED_MODEL_DIR, model_filename)\n",
    "    \n",
    "    print('saving file {}'.format(model_filepath))\n",
    "\n",
    "    model.save(model_filepath)\n",
    "    return accuracy_of_model\n",
    "mae = save_model()"
   ]
  },
  {
   "cell_type": "code",
   "execution_count": 18,
   "metadata": {},
   "outputs": [
    {
     "name": "stdout",
     "output_type": "stream",
     "text": [
      "text sent\n"
     ]
    }
   ],
   "source": [
    "# Send text message when complete (if the environment variable \"TEXT_PHONENUMBER\" is set)\n",
    "if 'TEXT_PHONENUMBER' in os.environ:\n",
    "    text_phonenumber = os.environ['TEXT_PHONENUMBER']\n",
    "    client = boto3.client('sns')\n",
    "    client.publish(PhoneNumber=text_phonenumber, Message='Model Finished with mae {}'.format(mae))\n",
    "    print('text sent')"
   ]
  },
  {
   "cell_type": "markdown",
   "metadata": {},
   "source": [
    "# Find Largest Errors"
   ]
  },
  {
   "cell_type": "code",
   "execution_count": 19,
   "metadata": {},
   "outputs": [],
   "source": [
    "from keras.models import load_model"
   ]
  },
  {
   "cell_type": "code",
   "execution_count": 20,
   "metadata": {},
   "outputs": [],
   "source": [
    "# model = load_model('../data/models/asl_alphabet/2018-12-07 04:36:16___0.9285714030265808.h5')"
   ]
  },
  {
   "cell_type": "code",
   "execution_count": 21,
   "metadata": {},
   "outputs": [],
   "source": [
    "# a = model.evaluate_generator(validation_generator)"
   ]
  },
  {
   "cell_type": "code",
   "execution_count": null,
   "metadata": {},
   "outputs": [],
   "source": []
  },
  {
   "cell_type": "code",
   "execution_count": 22,
   "metadata": {},
   "outputs": [
    {
     "data": {
      "text/plain": [
       "array([[9.75617953e-03, 3.62603503e-10, 2.70631544e-30, 5.53198869e-28,\n",
       "        9.90242064e-01, 1.03389550e-24, 6.60965033e-11, 6.41788799e-18,\n",
       "        8.89756180e-08, 4.81760534e-11, 2.08694889e-17, 2.28957878e-21,\n",
       "        1.68517317e-06, 3.58702317e-15, 4.33020660e-24, 3.79260688e-26,\n",
       "        7.84179687e-32, 5.06381484e-18, 5.50380921e-11, 6.57438730e-13,\n",
       "        1.27383694e-21, 1.62449609e-21, 5.69893949e-26, 9.82230139e-13,\n",
       "        1.02856339e-20, 1.61706598e-19, 5.68762698e-25, 7.12961521e-24,\n",
       "        7.07664752e-30],\n",
       "       [3.05974039e-34, 6.54805396e-26, 0.00000000e+00, 4.92475792e-18,\n",
       "        3.64521292e-31, 6.55348658e-23, 2.75556504e-15, 1.90556079e-21,\n",
       "        1.08904557e-13, 9.36951680e-22, 9.99992609e-01, 2.71673229e-19,\n",
       "        5.02827370e-33, 0.00000000e+00, 5.53437635e-24, 1.78830551e-30,\n",
       "        2.81751235e-38, 2.72356844e-13, 0.00000000e+00, 4.97817995e-23,\n",
       "        6.90621037e-26, 7.35203457e-06, 8.43338782e-15, 4.44596980e-28,\n",
       "        1.54376612e-27, 4.25788226e-24, 1.01597300e-37, 0.00000000e+00,\n",
       "        7.69529011e-36],\n",
       "       [7.57027173e-16, 3.04606058e-13, 8.96177732e-23, 1.97127924e-15,\n",
       "        2.20686938e-15, 4.27560181e-23, 3.92092934e-13, 6.79858322e-11,\n",
       "        7.42318298e-05, 7.09096046e-11, 2.36815072e-06, 4.09518903e-12,\n",
       "        4.67877554e-14, 1.52866221e-19, 5.07165978e-13, 2.01233410e-19,\n",
       "        7.68150357e-18, 9.99784887e-01, 1.79562542e-13, 1.09853877e-08,\n",
       "        1.35980183e-04, 2.37660333e-06, 3.54249963e-10, 9.08441464e-08,\n",
       "        1.83962437e-13, 2.91941333e-08, 7.57536327e-14, 2.63330337e-19,\n",
       "        6.64424502e-16],\n",
       "       [2.47853038e-19, 3.32318490e-28, 2.92373520e-25, 8.89116924e-20,\n",
       "        1.30747811e-21, 7.80667757e-16, 2.61118129e-16, 3.20745321e-21,\n",
       "        7.88766188e-13, 4.08293577e-09, 1.81706058e-15, 2.51730006e-13,\n",
       "        8.65856031e-16, 4.08091263e-16, 1.87799993e-12, 1.18001220e-10,\n",
       "        1.89571495e-18, 8.21469162e-17, 2.64616523e-10, 1.43533834e-05,\n",
       "        1.99846526e-19, 1.97717412e-10, 1.78625701e-08, 2.19052954e-09,\n",
       "        9.99743164e-01, 2.42458118e-04, 1.64710646e-19, 6.01518327e-31,\n",
       "        1.95745628e-13],\n",
       "       [1.02254056e-11, 4.53301323e-13, 1.38712762e-15, 1.15700277e-04,\n",
       "        1.92226196e-07, 9.99000013e-01, 8.83764704e-04, 5.09456496e-12,\n",
       "        1.26477507e-12, 4.51009239e-12, 2.89154811e-10, 2.39167349e-07,\n",
       "        6.32922260e-19, 3.71963965e-25, 5.76067904e-08, 3.19915925e-12,\n",
       "        2.97038511e-28, 1.26268733e-20, 5.78314777e-27, 4.91759584e-12,\n",
       "        1.55472759e-26, 6.08637489e-14, 2.58093351e-12, 5.73504568e-16,\n",
       "        9.98288900e-21, 2.42642905e-14, 4.44404701e-36, 0.00000000e+00,\n",
       "        3.01231571e-31],\n",
       "       [1.38277925e-13, 7.08244905e-16, 1.18732713e-08, 5.84578386e-10,\n",
       "        6.68773995e-11, 3.98758630e-11, 9.99902368e-01, 9.76700394e-05,\n",
       "        2.75038078e-15, 4.33567487e-10, 4.33613454e-19, 8.53831640e-14,\n",
       "        2.97095588e-23, 4.40206389e-28, 2.07816344e-16, 2.24688282e-10,\n",
       "        5.53361131e-21, 1.09951196e-28, 4.38929685e-31, 6.16852246e-23,\n",
       "        1.03522908e-32, 6.52451861e-28, 4.76061200e-31, 9.97660739e-26,\n",
       "        1.74891050e-28, 1.13973034e-16, 1.04116281e-30, 2.18449037e-35,\n",
       "        7.40752529e-30],\n",
       "       [3.24948081e-18, 4.21955617e-17, 5.12466359e-19, 2.12393574e-18,\n",
       "        6.52675613e-17, 5.35831768e-21, 2.36560744e-13, 7.21699422e-10,\n",
       "        5.16056252e-12, 1.44995282e-09, 3.62786320e-12, 7.51958255e-19,\n",
       "        3.61159713e-12, 5.98455951e-10, 4.81479917e-12, 2.75803345e-08,\n",
       "        1.91087224e-07, 3.01656286e-07, 6.65541044e-09, 3.33563732e-11,\n",
       "        7.43308859e-10, 5.92766991e-09, 6.29256230e-11, 1.46936810e-10,\n",
       "        4.12794604e-10, 4.10489847e-08, 4.71404915e-09, 9.99999404e-01,\n",
       "        1.34845989e-11],\n",
       "       [2.41298505e-04, 1.08492150e-05, 3.69576475e-04, 3.34655010e-06,\n",
       "        1.55437257e-04, 2.99789320e-07, 4.52173321e-04, 1.28747837e-03,\n",
       "        1.02632577e-04, 2.02848129e-02, 3.35521668e-06, 4.20574099e-04,\n",
       "        2.43469879e-01, 4.47369128e-01, 1.82023525e-01, 8.90203007e-03,\n",
       "        1.31746279e-02, 4.31350782e-04, 7.85979070e-03, 6.61936495e-03,\n",
       "        4.02633334e-04, 6.43241510e-05, 3.74663105e-05, 6.06754329e-03,\n",
       "        1.15123892e-03, 1.53723825e-02, 4.36106361e-02, 8.67459676e-06,\n",
       "        1.03588769e-04],\n",
       "       [1.13328826e-15, 6.64805627e-19, 4.35998598e-11, 6.69457691e-19,\n",
       "        2.13375307e-15, 5.50399466e-19, 4.22437432e-12, 6.20867358e-09,\n",
       "        1.58396950e-18, 2.86636270e-09, 3.40901487e-21, 1.08528415e-15,\n",
       "        1.20462595e-09, 5.50520963e-05, 1.78901937e-05, 1.91597547e-02,\n",
       "        9.80539799e-01, 2.27832042e-14, 4.77762705e-06, 7.44886734e-07,\n",
       "        2.47998999e-14, 1.31842974e-14, 1.14231115e-16, 1.55939470e-10,\n",
       "        1.86751303e-09, 1.39628519e-05, 2.07953155e-04, 1.24246551e-11,\n",
       "        4.38542128e-12],\n",
       "       [2.95089394e-19, 1.01966166e-19, 5.61799383e-21, 3.20666909e-22,\n",
       "        1.80529274e-17, 4.65391893e-25, 1.27298160e-16, 1.83651176e-13,\n",
       "        6.19326706e-14, 4.57607008e-11, 1.85366977e-15, 3.77523412e-17,\n",
       "        1.87205373e-07, 3.85253770e-05, 7.33115542e-07, 2.82115565e-07,\n",
       "        8.96376775e-07, 3.24396424e-05, 9.58649397e-01, 1.74634799e-03,\n",
       "        2.02851038e-06, 5.01364935e-04, 1.26134953e-04, 9.93351918e-03,\n",
       "        2.21733991e-02, 6.77841436e-03, 1.62405231e-05, 3.36204593e-08,\n",
       "        6.74946543e-10],\n",
       "       [2.30745041e-21, 4.27628431e-25, 2.88783878e-21, 9.25811903e-30,\n",
       "        5.17034634e-22, 7.10683842e-32, 1.11076065e-06, 9.99998927e-01,\n",
       "        9.61899900e-21, 5.98178842e-12, 3.06442426e-24, 1.51603006e-29,\n",
       "        6.66503492e-17, 1.40376780e-15, 3.54077623e-15, 4.39288085e-11,\n",
       "        1.23801065e-11, 3.09049249e-20, 5.53374718e-20, 2.30337441e-17,\n",
       "        1.42962288e-20, 9.54566313e-23, 1.80935148e-27, 1.12958416e-12,\n",
       "        9.73715051e-26, 4.94909886e-12, 4.62051924e-11, 7.44899568e-21,\n",
       "        2.97242466e-21],\n",
       "       [1.62269139e-11, 1.97364847e-17, 1.69672871e-20, 8.10846853e-24,\n",
       "        6.78146567e-11, 9.26249394e-24, 3.08437954e-13, 6.94113414e-14,\n",
       "        7.76963418e-08, 2.46293007e-06, 1.50495562e-14, 9.48220582e-12,\n",
       "        4.15639697e-05, 7.03678950e-07, 2.85043378e-11, 7.66235423e-14,\n",
       "        1.50556095e-11, 1.47871440e-08, 9.34608161e-01, 6.24523945e-02,\n",
       "        5.81503468e-09, 1.83763016e-09, 1.77481586e-12, 2.81309150e-03,\n",
       "        2.01137482e-05, 6.13985176e-05, 4.71560957e-10, 7.21191295e-14,\n",
       "        2.05362290e-11],\n",
       "       [1.05372246e-10, 2.89230438e-16, 7.16614341e-24, 3.37602532e-13,\n",
       "        2.62684770e-11, 1.22609409e-10, 2.30052546e-08, 2.88951196e-10,\n",
       "        9.99950767e-01, 2.03485415e-05, 2.74143549e-05, 6.85467683e-07,\n",
       "        1.92671302e-15, 1.97736330e-20, 1.67745473e-14, 2.34410843e-17,\n",
       "        7.46287423e-24, 3.05778292e-10, 1.21468072e-15, 3.49818924e-11,\n",
       "        8.39816293e-17, 6.33549959e-08, 1.96164951e-09, 4.74042854e-12,\n",
       "        7.80047031e-08, 6.60405931e-07, 1.54910650e-25, 1.12623453e-26,\n",
       "        1.37185630e-18],\n",
       "       [7.36709498e-03, 3.41648818e-04, 4.52220684e-06, 3.55728588e-07,\n",
       "        6.31050617e-02, 2.75388775e-05, 1.20724283e-01, 1.62692200e-02,\n",
       "        3.24083418e-01, 4.43273783e-01, 2.08465954e-05, 5.29624580e-04,\n",
       "        2.35038549e-02, 4.92041872e-04, 1.76190078e-04, 4.26561382e-05,\n",
       "        4.92202560e-07, 2.00861535e-07, 6.42764292e-07, 1.90508254e-05,\n",
       "        4.57208627e-09, 1.82233872e-08, 4.88923746e-08, 4.52398399e-06,\n",
       "        3.55365296e-06, 8.90733918e-06, 5.75376937e-08, 2.82526344e-07,\n",
       "        5.77617287e-10],\n",
       "       [4.95778501e-01, 1.83656024e-08, 3.32116689e-17, 7.24129046e-18,\n",
       "        4.13834125e-01, 1.66961223e-09, 4.48764971e-04, 2.52106691e-08,\n",
       "        8.80411565e-02, 1.76696887e-03, 1.38655493e-11, 4.11760539e-07,\n",
       "        1.29554057e-04, 1.46737122e-07, 5.73099185e-13, 5.70455575e-13,\n",
       "        5.46615580e-19, 3.88700375e-16, 8.64162648e-12, 1.35226983e-07,\n",
       "        3.17197572e-21, 7.76282006e-17, 5.81158146e-16, 8.70023931e-12,\n",
       "        1.35212267e-11, 1.17732206e-07, 8.24904823e-26, 9.84289210e-17,\n",
       "        3.37008405e-25],\n",
       "       [8.26637248e-09, 5.11380605e-10, 4.86632530e-07, 4.42733544e-10,\n",
       "        1.16926371e-08, 1.99365524e-09, 1.72982345e-05, 2.06688826e-04,\n",
       "        2.34465176e-08, 8.59296822e-04, 1.40690781e-09, 5.84109117e-08,\n",
       "        1.53593384e-04, 2.00970527e-02, 4.63492423e-03, 8.22697282e-01,\n",
       "        1.44197896e-01, 1.58612067e-07, 2.49223958e-04, 1.99932678e-04,\n",
       "        1.71617032e-07, 1.86289938e-07, 8.17106809e-08, 1.39373251e-05,\n",
       "        5.45034651e-04, 1.68242783e-03, 4.43805521e-03, 5.19686409e-06,\n",
       "        1.09594919e-06],\n",
       "       [1.44500472e-20, 4.85643513e-21, 7.14444879e-23, 4.79080947e-25,\n",
       "        2.14469156e-18, 1.97697876e-28, 3.77435844e-19, 1.22107370e-15,\n",
       "        2.22186536e-17, 1.33272476e-13, 2.86158299e-19, 1.52210102e-20,\n",
       "        3.95292318e-07, 3.93082300e-05, 3.23264935e-08, 1.81441166e-07,\n",
       "        1.87250720e-07, 5.24877237e-07, 9.98662591e-01, 2.32616530e-05,\n",
       "        2.92651265e-07, 7.17923513e-06, 7.67084600e-07, 9.67370695e-04,\n",
       "        2.04292126e-04, 8.41579094e-05, 8.99495899e-06, 4.51968759e-07,\n",
       "        9.95291263e-12],\n",
       "       [4.12025413e-17, 7.32773248e-19, 2.27147501e-09, 1.89401054e-18,\n",
       "        7.16115382e-19, 1.26443507e-24, 6.05125208e-16, 2.57617504e-11,\n",
       "        8.47712382e-21, 4.58031182e-13, 3.52963758e-23, 2.89205874e-16,\n",
       "        4.27059943e-09, 2.33736118e-05, 1.50047045e-03, 1.06719899e-05,\n",
       "        2.74527781e-02, 2.69490783e-13, 1.32378339e-08, 5.27328492e-09,\n",
       "        1.56057545e-11, 6.69669436e-16, 1.48162738e-17, 2.10498147e-10,\n",
       "        5.69422938e-12, 3.05513481e-09, 9.71012712e-01, 5.13591041e-14,\n",
       "        1.27686237e-10],\n",
       "       [5.24214407e-13, 5.03238368e-14, 8.79561461e-17, 1.65271732e-16,\n",
       "        5.16345473e-12, 3.46469149e-18, 2.01043279e-11, 1.32839489e-10,\n",
       "        1.99597694e-09, 3.43504603e-08, 6.96240938e-12, 2.06132138e-12,\n",
       "        1.14679897e-05, 5.13712657e-05, 1.63740842e-05, 1.46845622e-07,\n",
       "        1.18527907e-07, 5.48294466e-03, 7.33557105e-01, 1.83611605e-02,\n",
       "        6.55068561e-06, 3.45630897e-03, 1.57416519e-03, 5.04644774e-02,\n",
       "        5.31250937e-03, 1.81704611e-01, 5.59214129e-07, 3.06884344e-11,\n",
       "        1.13118992e-09],\n",
       "       [2.43869362e-16, 1.31216669e-11, 1.67777813e-07, 9.99998808e-01,\n",
       "        1.29770265e-16, 4.41465198e-11, 9.61005667e-12, 1.11386188e-14,\n",
       "        3.27413280e-15, 8.06357581e-19, 1.22167620e-09, 2.52122785e-08,\n",
       "        1.14191705e-22, 1.70880559e-25, 1.05756067e-06, 9.51241364e-13,\n",
       "        5.44440405e-19, 7.47028776e-19, 3.28203407e-31, 2.56663830e-19,\n",
       "        1.22267461e-23, 1.17960423e-15, 8.44002488e-18, 2.73113075e-26,\n",
       "        1.95711697e-24, 2.65074581e-22, 1.74231685e-24, 8.83224369e-36,\n",
       "        6.16518503e-24]], dtype=float32)"
      ]
     },
     "execution_count": 22,
     "metadata": {},
     "output_type": "execute_result"
    }
   ],
   "source": [
    "images, class_vectors = next(validation_generator)\n",
    "\n",
    "c = None\n",
    "validations = []\n",
    "\n",
    "# validations.append()\n",
    "c = class_vectors\n",
    "#print(class_vectors)\n",
    "predictions = model.predict(images)\n",
    "for class_vector, prediction in zip(class_vectors, predictions):\n",
    "    true_class = class_vector.argmax(axis=-1)\n",
    "    validations.append({\n",
    "        'true_class': true_class,\n",
    "        'prediction': prediction.argmax(axis=-1)\n",
    "    })\n",
    "predictions"
   ]
  },
  {
   "cell_type": "code",
   "execution_count": 23,
   "metadata": {},
   "outputs": [],
   "source": [
    "#plt.imshow(array_to_img(images[3]))"
   ]
  },
  {
   "cell_type": "code",
   "execution_count": 24,
   "metadata": {},
   "outputs": [],
   "source": [
    "#validation_generator.class_indices"
   ]
  },
  {
   "cell_type": "code",
   "execution_count": 25,
   "metadata": {},
   "outputs": [],
   "source": [
    "#validations"
   ]
  },
  {
   "cell_type": "code",
   "execution_count": 26,
   "metadata": {},
   "outputs": [],
   "source": [
    "# go through each predicted item\n",
    "# get its true class\n",
    "# Find the ones that are wrong\n",
    "# Order by which are MOST wrong\n"
   ]
  }
 ],
 "metadata": {
  "kernelspec": {
   "display_name": "Python 3",
   "language": "python",
   "name": "python3"
  },
  "language_info": {
   "codemirror_mode": {
    "name": "ipython",
    "version": 3
   },
   "file_extension": ".py",
   "mimetype": "text/x-python",
   "name": "python",
   "nbconvert_exporter": "python",
   "pygments_lexer": "ipython3",
   "version": "3.6.5"
  }
 },
 "nbformat": 4,
 "nbformat_minor": 2
}
