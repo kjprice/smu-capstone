{
 "cells": [
  {
   "cell_type": "code",
   "execution_count": 1,
   "metadata": {},
   "outputs": [
    {
     "name": "stderr",
     "output_type": "stream",
     "text": [
      "/usr/local/lib/python3.6/site-packages/h5py/__init__.py:36: FutureWarning: Conversion of the second argument of issubdtype from `float` to `np.floating` is deprecated. In future, it will be treated as `np.float64 == np.dtype(float).type`.\n",
      "  from ._conv import register_converters as _register_converters\n",
      "Using TensorFlow backend.\n"
     ]
    }
   ],
   "source": [
    "import os, shutil, copy, ntpath, datetime\n",
    "import keras\n",
    "from keras import models, layers, callbacks\n",
    "from keras.preprocessing.image import ImageDataGenerator, load_img, img_to_array\n",
    "\n",
    "import matplotlib.pyplot as plt\n",
    "\n",
    "import boto3\n",
    "import glob\n",
    "import ntpath\n",
    "import re\n",
    "\n",
    "import numpy as np"
   ]
  },
  {
   "cell_type": "code",
   "execution_count": 2,
   "metadata": {},
   "outputs": [],
   "source": [
    "#### Settings\n",
    "IMAGE_SHAPE=(150, 150, 3)\n",
    "\n",
    "#LIMIT_BATCHES = 2\n",
    "LIMIT_BATCHES = None\n",
    "\n",
    "NUM_EPOCHS = 20\n",
    "BATCH_SIZE = 20\n",
    "NUM_CLASSES = 29\n",
    "\n",
    "# PRETRAIN_MODEL = 'conv_base_local'\n",
    "# PRETRAIN_MODEL = 'conv_base_vgg16'\n",
    "PRETRAIN_MODEL = None"
   ]
  },
  {
   "cell_type": "code",
   "execution_count": 3,
   "metadata": {},
   "outputs": [],
   "source": [
    "#### FilePath Information\n",
    "DATA_DIR = '../data'\n",
    "ASL_ALPHABET_DATASET = os.path.join(DATA_DIR, 'original/asl_alphabet')\n",
    "\n",
    "\n",
    "SAVED_MODEL_DIR = os.path.join(DATA_DIR, 'models/asl_alphabet')"
   ]
  },
  {
   "cell_type": "code",
   "execution_count": 4,
   "metadata": {},
   "outputs": [],
   "source": [
    "#data generation setip\n"
   ]
  },
  {
   "cell_type": "code",
   "execution_count": 5,
   "metadata": {},
   "outputs": [],
   "source": [
    "# dataset definition without augmentation\n",
    "train_datagen = ImageDataGenerator(rescale=1./255, validation_split=0.1)\n",
    "test_datagen = ImageDataGenerator(rescale=1./255)\n",
    "# end without augmentation"
   ]
  },
  {
   "cell_type": "code",
   "execution_count": 6,
   "metadata": {},
   "outputs": [
    {
     "name": "stdout",
     "output_type": "stream",
     "text": [
      "Found 78289 images belonging to 29 classes.\n",
      "Found 8698 images belonging to 29 classes.\n"
     ]
    }
   ],
   "source": [
    "#create generators\n",
    "train_generator = train_datagen.flow_from_directory(\n",
    "           ASL_ALPHABET_DATASET,\n",
    "           target_size = (IMAGE_SHAPE[0], IMAGE_SHAPE[0]),\n",
    "           batch_size=BATCH_SIZE,\n",
    "           class_mode = 'categorical',\n",
    "           subset='training'\n",
    ")\n",
    "\n",
    "#create generators\n",
    "validation_generator = train_datagen.flow_from_directory(\n",
    "           ASL_ALPHABET_DATASET,\n",
    "           target_size = (IMAGE_SHAPE[0], IMAGE_SHAPE[0]),\n",
    "           batch_size=BATCH_SIZE,\n",
    "           class_mode = 'categorical',\n",
    "           subset='validation'\n",
    ")\n"
   ]
  },
  {
   "cell_type": "code",
   "execution_count": 7,
   "metadata": {},
   "outputs": [
    {
     "name": "stdout",
     "output_type": "stream",
     "text": [
      "_________________________________________________________________\n",
      "Layer (type)                 Output Shape              Param #   \n",
      "=================================================================\n",
      "conv2d_1 (Conv2D)            (None, 148, 148, 16)      448       \n",
      "_________________________________________________________________\n",
      "max_pooling2d_1 (MaxPooling2 (None, 74, 74, 16)        0         \n",
      "_________________________________________________________________\n",
      "conv2d_2 (Conv2D)            (None, 72, 72, 32)        4640      \n",
      "_________________________________________________________________\n",
      "max_pooling2d_2 (MaxPooling2 (None, 36, 36, 32)        0         \n",
      "_________________________________________________________________\n",
      "conv2d_3 (Conv2D)            (None, 34, 34, 64)        18496     \n",
      "_________________________________________________________________\n",
      "max_pooling2d_3 (MaxPooling2 (None, 17, 17, 64)        0         \n",
      "_________________________________________________________________\n",
      "conv2d_4 (Conv2D)            (None, 15, 15, 128)       73856     \n",
      "_________________________________________________________________\n",
      "max_pooling2d_4 (MaxPooling2 (None, 7, 7, 128)         0         \n",
      "_________________________________________________________________\n",
      "conv2d_5 (Conv2D)            (None, 5, 5, 256)         295168    \n",
      "_________________________________________________________________\n",
      "flatten_1 (Flatten)          (None, 6400)              0         \n",
      "_________________________________________________________________\n",
      "dropout_1 (Dropout)          (None, 6400)              0         \n",
      "_________________________________________________________________\n",
      "dense_1 (Dense)              (None, 128)               819328    \n",
      "_________________________________________________________________\n",
      "dense_2 (Dense)              (None, 29)                3741      \n",
      "=================================================================\n",
      "Total params: 1,215,677\n",
      "Trainable params: 1,215,677\n",
      "Non-trainable params: 0\n",
      "_________________________________________________________________\n"
     ]
    }
   ],
   "source": [
    "callbacks_list = [\n",
    "         callbacks.EarlyStopping(monitor='acc', patience=2),\n",
    "         callbacks.ModelCheckpoint(filepath = '../data/models/handsigns/handsigns.h5', monitor = 'val_loss', save_best_only = True),\n",
    "         callbacks.ReduceLROnPlateau(monitor='val_loss', factor = 0.1, patience=10)\n",
    "]\n",
    "\n",
    "\n",
    "model = models.Sequential()\n",
    "model.add(layers.Conv2D(16, (3, 3), activation='relu', input_shape=IMAGE_SHAPE))\n",
    "model.add(layers.MaxPooling2D((2, 2)))\n",
    "model.add(layers.Conv2D(32, (3, 3), activation='relu'))\n",
    "model.add(layers.MaxPooling2D((2, 2)))\n",
    "model.add(layers.Conv2D(64, (3, 3), activation='relu'))\n",
    "model.add(layers.MaxPooling2D((2, 2)))\n",
    "model.add(layers.Conv2D(128, (3, 3), activation='relu'))\n",
    "model.add(layers.MaxPooling2D((2, 2)))\n",
    "model.add(layers.Conv2D(256, (3, 3), activation='relu'))\n",
    "\n",
    "#Add a classfier on top of the convnet\n",
    "model.add(layers.Flatten())\n",
    "model.add(layers.Dropout(.5))\n",
    "model.add(layers.Dense(128, activation='relu'))\n",
    "#model.add(layers.BatchNormalization())\n",
    "model.add(layers.Dense(NUM_CLASSES, activation='softmax'))\n",
    "\n",
    "#compile the model\n",
    "model.compile(optimizer='rmsprop', loss='categorical_crossentropy', metrics=['accuracy'])\n",
    "\n",
    "model.summary()\n"
   ]
  },
  {
   "cell_type": "code",
   "execution_count": 8,
   "metadata": {},
   "outputs": [
    {
     "name": "stdout",
     "output_type": "stream",
     "text": [
      "Epoch 1/20\n",
      "3915/3915 [==============================] - 1117s 285ms/step - loss: 0.6875 - acc: 0.7906 - val_loss: 0.5346 - val_acc: 0.8500\n",
      "Epoch 2/20\n",
      "3915/3915 [==============================] - 1091s 279ms/step - loss: 0.1187 - acc: 0.9671 - val_loss: 0.6545 - val_acc: 0.8727\n",
      "Epoch 3/20\n",
      "3915/3915 [==============================] - 1092s 279ms/step - loss: 0.1113 - acc: 0.9760 - val_loss: 0.5631 - val_acc: 0.8989\n",
      "Epoch 4/20\n",
      "3915/3915 [==============================] - 1090s 278ms/step - loss: 0.1080 - acc: 0.9800 - val_loss: 0.9281 - val_acc: 0.8810\n",
      "Epoch 5/20\n",
      "3915/3915 [==============================] - 1098s 280ms/step - loss: 0.1480 - acc: 0.9804 - val_loss: 1.6092 - val_acc: 0.8450\n",
      "Epoch 6/20\n",
      "3915/3915 [==============================] - 1085s 277ms/step - loss: 0.1928 - acc: 0.9799 - val_loss: 1.8284 - val_acc: 0.8628\n",
      "Epoch 7/20\n",
      "3915/3915 [==============================] - 1097s 280ms/step - loss: 0.3256 - acc: 0.9738 - val_loss: 1.4983 - val_acc: 0.8935\n",
      "Epoch 8/20\n",
      "3915/3915 [==============================] - 1084s 277ms/step - loss: 0.5163 - acc: 0.9637 - val_loss: 1.4851 - val_acc: 0.9004\n",
      "Epoch 9/20\n",
      "3915/3915 [==============================] - 1088s 278ms/step - loss: 0.6533 - acc: 0.9566 - val_loss: 2.2098 - val_acc: 0.8569\n",
      "Epoch 10/20\n",
      "3915/3915 [==============================] - 1092s 279ms/step - loss: 0.8746 - acc: 0.9433 - val_loss: 2.9273 - val_acc: 0.8149\n",
      "Epoch 11/20\n",
      "3915/3915 [==============================] - 1103s 282ms/step - loss: 1.0954 - acc: 0.9302 - val_loss: 2.2722 - val_acc: 0.8567\n",
      "Epoch 12/20\n",
      "3915/3915 [==============================] - 1100s 281ms/step - loss: 1.2344 - acc: 0.9217 - val_loss: 2.2423 - val_acc: 0.8584\n",
      "Epoch 13/20\n",
      "3915/3915 [==============================] - 1098s 280ms/step - loss: 1.5386 - acc: 0.9034 - val_loss: 2.5574 - val_acc: 0.8394\n",
      "Epoch 14/20\n",
      "3915/3915 [==============================] - 1096s 280ms/step - loss: 1.6115 - acc: 0.8989 - val_loss: 2.8745 - val_acc: 0.8204\n",
      "Epoch 15/20\n",
      "3915/3915 [==============================] - 1093s 279ms/step - loss: 2.1513 - acc: 0.8656 - val_loss: 4.8608 - val_acc: 0.6973\n",
      "Epoch 16/20\n",
      "3915/3915 [==============================] - 1091s 279ms/step - loss: 2.0584 - acc: 0.8715 - val_loss: 2.7632 - val_acc: 0.8279\n",
      "Epoch 17/20\n",
      "3915/3915 [==============================] - 1100s 281ms/step - loss: 2.2884 - acc: 0.8572 - val_loss: 4.1784 - val_acc: 0.7398\n",
      "Epoch 18/20\n",
      "3915/3915 [==============================] - 1097s 280ms/step - loss: 2.2698 - acc: 0.8585 - val_loss: 3.0307 - val_acc: 0.8116\n",
      "Epoch 19/20\n",
      "3915/3915 [==============================] - 1090s 278ms/step - loss: 2.0858 - acc: 0.8701 - val_loss: 3.4631 - val_acc: 0.7845\n",
      "Epoch 20/20\n",
      "3915/3915 [==============================] - 1092s 279ms/step - loss: 2.2687 - acc: 0.8587 - val_loss: 4.8062 - val_acc: 0.7010\n"
     ]
    }
   ],
   "source": [
    "history= model.fit_generator (\n",
    "           train_generator,\n",
    "           epochs = NUM_EPOCHS,\n",
    "           steps_per_epoch=LIMIT_BATCHES,\n",
    "           #callbacks = callbacks_list,\n",
    "           validation_data=validation_generator,\n",
    "           verbose=1)"
   ]
  },
  {
   "cell_type": "code",
   "execution_count": 9,
   "metadata": {},
   "outputs": [
    {
     "data": {
      "image/png": "[encoded data removed]",
      "text/plain": [
       "<Figure size 432x288 with 1 Axes>"
      ]
     },
     "metadata": {},
     "output_type": "display_data"
    }
   ],
   "source": [
    "#visualization of model performance\n",
    "history_dict = history.history\n",
    "loss_values = history_dict['loss']\n",
    "val_loss_values =  history_dict['val_loss']\n",
    "acc_values = history_dict['acc']\n",
    "\n",
    "epochs = range(1, len(acc_values) + 1)\n",
    "\n",
    "plt.plot(epochs, loss_values, 'bo', label = 'Training Loss')\n",
    "plt.plot(epochs,val_loss_values, 'b', label = 'Validation Loss')\n",
    "plt.title('Training and Validation Losses')\n",
    "plt.xlabel='Epochs'\n",
    "plt.ylabel='Loss'\n",
    "plt.legend()\n",
    "plt.show()"
   ]
  },
  {
   "cell_type": "code",
   "execution_count": 10,
   "metadata": {},
   "outputs": [
    {
     "data": {
      "image/png": "[encoded data removed]",
      "text/plain": [
       "<Figure size 432x288 with 1 Axes>"
      ]
     },
     "metadata": {},
     "output_type": "display_data"
    }
   ],
   "source": [
    "plt.clf()\n",
    "acc_values = history_dict['acc']\n",
    "val_acc_values = history_dict['val_acc']\n",
    "\n",
    "plt.plot(epochs, acc_values, 'bo', label='Training acc')\n",
    "plt.plot(epochs,val_acc_values, 'b', label='Validation accuracy')\n",
    "plt.xlabel = 'Epochs'\n",
    "plt.ylabel = 'Loss'\n",
    "plt.legend()\n",
    "\n",
    "plt.show()"
   ]
  },
  {
   "cell_type": "markdown",
   "metadata": {},
   "source": [
    "## Save things"
   ]
  },
  {
   "cell_type": "code",
   "execution_count": 11,
   "metadata": {},
   "outputs": [],
   "source": [
    "def get_test_filenames():\n",
    "    glob_filepath = os.path.join(ASL_ALPHABET_DATASET, '*_test.jpg')\n",
    "    filepaths_with_test_string = glob.glob(glob_filepath)\n",
    "    just_filenames = [ntpath.basename(f) for f in filepaths_with_test_string]\n",
    "    return just_filenames"
   ]
  },
  {
   "cell_type": "code",
   "execution_count": 12,
   "metadata": {},
   "outputs": [],
   "source": [
    "def get_label_from_filename(filename):\n",
    "    # example \"F_test.jpg\" will be just \"F\"\n",
    "    return re.split('_', filename)[0]"
   ]
  },
  {
   "cell_type": "code",
   "execution_count": 13,
   "metadata": {},
   "outputs": [],
   "source": [
    "def load_image_from_filename(filename):\n",
    "    filepath = os.path.join(ASL_ALPHABET_DATASET, filename)\n",
    "    img = load_img(filepath, target_size=(IMAGE_SHAPE[0], IMAGE_SHAPE[1]))\n",
    "    return img_to_array(img)"
   ]
  },
  {
   "cell_type": "code",
   "execution_count": 14,
   "metadata": {},
   "outputs": [],
   "source": [
    "def get_label_encoded(label):\n",
    "    encoding = np.zeros(NUM_CLASSES)\n",
    "    index = train_generator.class_indices[label]\n",
    "    encoding[index] = 1\n",
    "    return encoding"
   ]
  },
  {
   "cell_type": "code",
   "execution_count": 15,
   "metadata": {},
   "outputs": [],
   "source": [
    "def get_test_data():\n",
    "    test_filenames = get_test_filenames()\n",
    "    labels = [get_label_from_filename(filename) for filename in test_filenames]\n",
    "    label_encoded = [get_label_encoded(label) for label in labels]\n",
    "    images = [load_image_from_filename(filename) for filename in test_filenames]\n",
    "    return (images, label_encoded)"
   ]
  },
  {
   "cell_type": "code",
   "execution_count": 16,
   "metadata": {},
   "outputs": [],
   "source": [
    "x_test, y_test = get_test_data()"
   ]
  },
  {
   "cell_type": "code",
   "execution_count": 17,
   "metadata": {},
   "outputs": [
    {
     "name": "stdout",
     "output_type": "stream",
     "text": [
      "Tried to create \"../data/models/asl_alphabet\" but it already exists\n",
      "28/28 [==============================] - 0s 5ms/step\n",
      "saving file ../data/models/asl_alphabet/2018-11-26 03:09:19___0.9285714030265808.h5\n"
     ]
    }
   ],
   "source": [
    "def ensure_model_directory_exists():\n",
    "    try:\n",
    "        os.mkdir(SAVED_MODEL_DIR)\n",
    "    except:\n",
    "        print('Tried to create \"{}\" but it already exists'.format(SAVED_MODEL_DIR))\n",
    "\n",
    "def save_model():\n",
    "    ensure_model_directory_exists()\n",
    "    \n",
    "    evaluate_model_with_test_data = model.evaluate([x_test], np.array(y_test))\n",
    "\n",
    "    accuracy_of_model = evaluate_model_with_test_data[-1]\n",
    "    timestamp_raw = str(datetime.datetime.now())\n",
    "    timestamp_without_milliseconds = timestamp_raw.split('.')[0]\n",
    "    \n",
    "    model_filename = '{}___{}.h5'.format(timestamp_without_milliseconds, accuracy_of_model)\n",
    "    model_filepath = os.path.join(SAVED_MODEL_DIR, model_filename)\n",
    "    \n",
    "    print('saving file {}'.format(model_filepath))\n",
    "\n",
    "    model.save(model_filepath)\n",
    "    return accuracy_of_model\n",
    "mae = save_model()"
   ]
  },
  {
   "cell_type": "code",
   "execution_count": 18,
   "metadata": {},
   "outputs": [
    {
     "name": "stdout",
     "output_type": "stream",
     "text": [
      "text sent\n"
     ]
    }
   ],
   "source": [
    "# Send text message when complete (if the environment variable \"TEXT_PHONENUMBER\" is set)\n",
    "if 'TEXT_PHONENUMBER' in os.environ:\n",
    "    text_phonenumber = os.environ['TEXT_PHONENUMBER']\n",
    "    client = boto3.client('sns')\n",
    "    client.publish(PhoneNumber=text_phonenumber, Message='Model Finished with mae {}'.format(mae))\n",
    "    print('text sent')"
   ]
  },
  {
   "cell_type": "code",
   "execution_count": null,
   "metadata": {},
   "outputs": [],
   "source": []
  }
 ],
 "metadata": {
  "kernelspec": {
   "display_name": "Python 3",
   "language": "python",
   "name": "python3"
  },
  "language_info": {
   "codemirror_mode": {
    "name": "ipython",
    "version": 3
   },
   "file_extension": ".py",
   "mimetype": "text/x-python",
   "name": "python",
   "nbconvert_exporter": "python",
   "pygments_lexer": "ipython3",
   "version": "3.6.5"
  }
 },
 "nbformat": 4,
 "nbformat_minor": 2
}
