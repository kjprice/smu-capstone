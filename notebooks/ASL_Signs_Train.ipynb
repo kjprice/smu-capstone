{
 "cells": [
  {
   "cell_type": "markdown",
   "metadata": {
    "colab_type": "text",
    "id": "view-in-github"
   },
   "source": [
    "<a href=\"https://colab.research.google.com/github/kjprice/smu-capstone/blob/master/notebooks/ASL_Signs_collab.ipynb\" target=\"_parent\"><img src=\"https://colab.research.google.com/assets/colab-badge.svg\" alt=\"Open In Colab\"/></a>"
   ]
  },
  {
   "cell_type": "code",
   "execution_count": 1,
   "metadata": {
    "colab": {
     "base_uri": "https://localhost:8080/",
     "height": 34
    },
    "colab_type": "code",
    "id": "HAnQGDSx324u",
    "outputId": "095764c8-7c75-4b40-f830-67ca588505c0"
   },
   "outputs": [
    {
     "name": "stderr",
     "output_type": "stream",
     "text": [
      "Using TensorFlow backend.\n"
     ]
    }
   ],
   "source": [
    "import os, shutil, copy, ntpath, datetime, zipfile, json\n",
    "import keras\n",
    "from keras import models, layers, callbacks\n",
    "\n",
    "from keras.applications.vgg16 import VGG16\n",
    "from keras.applications.vgg19 import VGG19\n",
    "from keras.applications.xception import Xception\n",
    "from keras.applications.resnet50 import ResNet50\n",
    "\n",
    "from keras.preprocessing.image import ImageDataGenerator, load_img, img_to_array, array_to_img\n",
    "import tensorflow as tf\n",
    "from sklearn.model_selection import train_test_split\n",
    "\n",
    "import matplotlib.pyplot as plt\n",
    "\n",
    "#import boto3\n",
    "import glob\n",
    "import ntpath\n",
    "import re\n",
    "\n",
    "import numpy as np\n",
    "import pandas as pd"
   ]
  },
  {
   "cell_type": "markdown",
   "metadata": {
    "colab_type": "text",
    "id": "o9Ou5mxYWo2Q"
   },
   "source": [
    "#### Settings"
   ]
  },
  {
   "cell_type": "code",
   "execution_count": 2,
   "metadata": {
    "colab": {},
    "colab_type": "code",
    "id": "phLs5u0-4Nyi"
   },
   "outputs": [],
   "source": [
    "IMAGE_SHAPE=(150, 150, 3)\n",
    "\n",
    "LIMIT_BATCHES = 800\n",
    "#LIMIT_BATCHES = 593\n",
    "#LIMIT_BATCHES = None\n",
    "\n",
    "NUM_EPOCHS = 10\n",
    "BATCH_SIZE = 27\n",
    "\n",
    "# PRETRAIN_MODEL = 'conv_base_local'\n",
    "PRETRAIN_MODEL = VGG16\n",
    "#PRETRAIN_MODEL = VGG19\n",
    "#PRETRAIN_MODEL = Xception\n",
    "#PRETRAIN_MODEL = ResNet50\n",
    "# PRETRAIN_MODEL = None\n",
    "\n",
    "UNFREEZE_LAYERS=3\n",
    "\n",
    "USE_PREPROCESSED_IMAGES = False\n",
    "\n",
    "TEST_TRAIN_SPLIT = .95 # Train Size"
   ]
  },
  {
   "cell_type": "markdown",
   "metadata": {
    "colab_type": "text",
    "id": "CSjmfPFnWzRb"
   },
   "source": [
    "#### Set Folders"
   ]
  },
  {
   "cell_type": "code",
   "execution_count": 3,
   "metadata": {
    "colab": {},
    "colab_type": "code",
    "id": "0Rppk6Wzd4-x"
   },
   "outputs": [],
   "source": [
    "def ensure_directory_exists(directory):\n",
    "  try:\n",
    "    return os.makedirs(directory)\n",
    "  except:\n",
    "    return None\n",
    " "
   ]
  },
  {
   "cell_type": "code",
   "execution_count": 4,
   "metadata": {
    "colab": {},
    "colab_type": "code",
    "id": "zIdRa0sm5AhF"
   },
   "outputs": [],
   "source": [
    "DATA_DIRECTORY = os.path.join('..', 'data')\n",
    "\n",
    "MODEL_TIMESTAMP = str(datetime.datetime.now()).replace(' ', '__')\n",
    "\n",
    "SAVED_MODEL_DIR = os.path.join(DATA_DIRECTORY, 'models/asl_alphabet')\n",
    "SAVED_CLASS_DIR = os.path.join(DATA_DIRECTORY, 'models/asl_alphabet_class_names')"
   ]
  },
  {
   "cell_type": "code",
   "execution_count": 5,
   "metadata": {
    "colab": {},
    "colab_type": "code",
    "id": "YAWebnKyblNW"
   },
   "outputs": [],
   "source": [
    "#### Local FilePath Information\n",
    "\n",
    "LOCAL_DATASET_DIR = os.path.join(DATA_DIRECTORY, 'fabricated', 'asl_alphabet')\n",
    "TRAIN_DATASET_NAME = 'processed_asl_train'\n",
    "\n",
    "LOCAL_TRAIN_DIR = os.path.join(LOCAL_DATASET_DIR, TRAIN_DATASET_NAME)\n"
   ]
  },
  {
   "cell_type": "markdown",
   "metadata": {
    "colab_type": "text",
    "id": "MnC4-vwjW7-K"
   },
   "source": [
    "#### Download Data"
   ]
  },
  {
   "cell_type": "code",
   "execution_count": 6,
   "metadata": {},
   "outputs": [
    {
     "data": {
      "text/plain": [
       "'../data/fabricated/asl_alphabet'"
      ]
     },
     "execution_count": 6,
     "metadata": {},
     "output_type": "execute_result"
    }
   ],
   "source": [
    "LOCAL_DATASET_DIR"
   ]
  },
  {
   "cell_type": "markdown",
   "metadata": {
    "colab_type": "text",
    "id": "f96ajmJRXAGh"
   },
   "source": [
    "#### Extract Data"
   ]
  },
  {
   "cell_type": "code",
   "execution_count": 7,
   "metadata": {
    "colab": {
     "base_uri": "https://localhost:8080/",
     "height": 34
    },
    "colab_type": "code",
    "id": "C4E1HtcesI4c",
    "outputId": "692903b6-c6e7-491a-836f-abbf112411ba"
   },
   "outputs": [
    {
     "name": "stdout",
     "output_type": "stream",
     "text": [
      "['processed_ahe_grayscale_inverted_asl_test', 'processed_inverted_rgb_ahe_test', 'processed_rgb_ahe_test', 'processed_ahe_grayscale_asl_test', 'split_asl_alphabet_train', 'processed_original_test', 'processed_asl_train', 'split_asl_alphabet_test', 'processed_grayscale_test']\n"
     ]
    }
   ],
   "source": [
    "AVAILABLE_DATASETS = os.listdir(LOCAL_DATASET_DIR)\n",
    "print(AVAILABLE_DATASETS)"
   ]
  },
  {
   "cell_type": "code",
   "execution_count": 8,
   "metadata": {
    "colab": {
     "base_uri": "https://localhost:8080/",
     "height": 34
    },
    "colab_type": "code",
    "id": "oDAeef0Rrxjv",
    "outputId": "8117bbcc-3762-4885-bde6-af30b01257ea"
   },
   "outputs": [
    {
     "name": "stdout",
     "output_type": "stream",
     "text": [
      "We have one training set and 7 test sets\n"
     ]
    }
   ],
   "source": [
    "if not TRAIN_DATASET_NAME in AVAILABLE_DATASETS:\n",
    "  raise Exception('we are expecting to see {} as one of the available datasets'.format(TRAIN_DATASET_NAME))\n",
    "TEST_DATASET_NAMES = [dataset for dataset in AVAILABLE_DATASETS if dataset != TRAIN_DATASET_NAME and 'test' in dataset]\n",
    "print('We have one training set and {} test sets'.format(len(TEST_DATASET_NAMES)))\n",
    "LOCAL_TEST_DIRS = [os.path.join(LOCAL_DATASET_DIR, name) for name in TEST_DATASET_NAMES]"
   ]
  },
  {
   "cell_type": "markdown",
   "metadata": {
    "colab_type": "text",
    "id": "OjHf45KsXOsC"
   },
   "source": [
    "#### Create Split training/test data"
   ]
  },
  {
   "cell_type": "code",
   "execution_count": 9,
   "metadata": {
    "colab": {},
    "colab_type": "code",
    "id": "vev8HX3nZGIR"
   },
   "outputs": [],
   "source": [
    "def get_sign_folders(from_folder):\n",
    "  # https://stackoverflow.com/questions/973473/getting-a-list-of-all-subdirectories-in-the-current-directory\n",
    "  folders = next(os.walk(from_folder))[1]\n",
    "  return folders"
   ]
  },
  {
   "cell_type": "code",
   "execution_count": 10,
   "metadata": {
    "colab": {
     "base_uri": "https://localhost:8080/",
     "height": 34
    },
    "colab_type": "code",
    "id": "KJZYGiwnXX0q",
    "outputId": "beae7e87-9b5a-459a-a81f-6d5c011baf42"
   },
   "outputs": [
    {
     "name": "stdout",
     "output_type": "stream",
     "text": [
      "We have 41 folders\n"
     ]
    }
   ],
   "source": [
    "# A, B, C, D, DELETE, etc\n",
    "ASL_FOLDERS = get_sign_folders(LOCAL_TRAIN_DIR)\n",
    "NUM_CLASSES = len(ASL_FOLDERS)\n",
    "\n",
    "print('We have {} folders'.format(NUM_CLASSES))"
   ]
  },
  {
   "cell_type": "markdown",
   "metadata": {
    "colab_type": "text",
    "id": "0BMLNPEuXHzs"
   },
   "source": [
    "#### Create Data Generators"
   ]
  },
  {
   "cell_type": "code",
   "execution_count": 11,
   "metadata": {
    "colab": {},
    "colab_type": "code",
    "id": "x2CeJieJxZDK"
   },
   "outputs": [],
   "source": [
    "def create_test_datagen(directory):\n",
    "  test_datagen = ImageDataGenerator(rescale=1./255)\n",
    "  return test_datagen.flow_from_directory(\n",
    "         directory,\n",
    "         target_size = (IMAGE_SHAPE[0], IMAGE_SHAPE[0]),\n",
    "         batch_size = BATCH_SIZE,\n",
    "         color_mode = \"rgb\",\n",
    "         class_mode='categorical'\n",
    "  )"
   ]
  },
  {
   "cell_type": "code",
   "execution_count": 12,
   "metadata": {
    "colab": {},
    "colab_type": "code",
    "id": "kvTJuHhc5DVF"
   },
   "outputs": [],
   "source": [
    "# dataset definition with augmentation\n",
    "train_datagen = ImageDataGenerator(\n",
    "    rescale=1./255,\n",
    "    validation_split=0.1,\n",
    "    horizontal_flip=True,\n",
    "    rotation_range=20,\n",
    "    width_shift_range=0.2,\n",
    "    height_shift_range=0.2,\n",
    "    )"
   ]
  },
  {
   "cell_type": "code",
   "execution_count": 13,
   "metadata": {
    "colab": {
     "base_uri": "https://localhost:8080/",
     "height": 102
    },
    "colab_type": "code",
    "id": "zb8nTrZ25Eje",
    "outputId": "601cb045-5a4e-4024-e083-999a0e91097a"
   },
   "outputs": [
    {
     "name": "stdout",
     "output_type": "stream",
     "text": [
      "Found 34340 images belonging to 41 classes.\n",
      "Found 3793 images belonging to 41 classes.\n",
      "Found 0 images belonging to 41 classes.\n",
      "Found 0 images belonging to 41 classes.\n",
      "Found 690 images belonging to 41 classes.\n",
      "Found 690 images belonging to 41 classes.\n",
      "Found 690 images belonging to 41 classes.\n",
      "Found 690 images belonging to 41 classes.\n",
      "Found 0 images belonging to 41 classes.\n"
     ]
    }
   ],
   "source": [
    "#create generators\n",
    "train_generator = train_datagen.flow_from_directory(\n",
    "           LOCAL_TRAIN_DIR,\n",
    "           target_size = (IMAGE_SHAPE[0], IMAGE_SHAPE[0]),\n",
    "           batch_size=BATCH_SIZE,\n",
    "           class_mode = 'categorical',\n",
    "           subset='training'\n",
    ")\n",
    "\n",
    "#create generators\n",
    "validation_generator = train_datagen.flow_from_directory(\n",
    "           LOCAL_TRAIN_DIR,\n",
    "           target_size = (IMAGE_SHAPE[0], IMAGE_SHAPE[0]),\n",
    "           batch_size=BATCH_SIZE,\n",
    "           class_mode = 'categorical',\n",
    "           subset='validation'\n",
    ")\n",
    "\n",
    "test_generators = [create_test_datagen(dir) for dir in LOCAL_TEST_DIRS]"
   ]
  },
  {
   "cell_type": "code",
   "execution_count": 14,
   "metadata": {
    "colab": {},
    "colab_type": "code",
    "id": "z-hzZZed2Vhz"
   },
   "outputs": [],
   "source": [
    "def save_generator_classes(gen=train_generator):\n",
    "    label_map = (gen.class_indices)\n",
    "\n",
    "    filename = os.path.join(SAVED_CLASS_DIR, '{}-data.json'.format(MODEL_TIMESTAMP))\n",
    "    print('saving {}'.format(filename))\n",
    "    with open(filename, 'w') as outfile:\n",
    "        json.dump(label_map, outfile)"
   ]
  },
  {
   "cell_type": "markdown",
   "metadata": {
    "colab_type": "text",
    "id": "NcuHxZtKAqgx"
   },
   "source": [
    "# Models"
   ]
  },
  {
   "cell_type": "code",
   "execution_count": 15,
   "metadata": {
    "colab": {
     "base_uri": "https://localhost:8080/",
     "height": 122
    },
    "colab_type": "code",
    "id": "hra5i3ArajnH",
    "outputId": "75f5c8d0-745a-4208-91bc-63b00afb44b8"
   },
   "outputs": [],
   "source": [
    "conv_base2 = VGG16(weights='imagenet',\n",
    "                      include_top=False,\n",
    "                      input_shape=(IMAGE_SHAPE[0], IMAGE_SHAPE[1], IMAGE_SHAPE[2]))"
   ]
  },
  {
   "cell_type": "code",
   "execution_count": 16,
   "metadata": {
    "colab": {},
    "colab_type": "code",
    "id": "gntQjfO2akt2"
   },
   "outputs": [],
   "source": [
    "def freeze_layers(layers):\n",
    "  num_layers = len(layers)\n",
    "  num_layers_to_freeze = num_layers - UNFREEZE_LAYERS\n",
    "  for i in range(0, num_layers_to_freeze):\n",
    "    layers[i].trainable = False\n"
   ]
  },
  {
   "cell_type": "code",
   "execution_count": 17,
   "metadata": {
    "colab": {},
    "colab_type": "code",
    "id": "4Ob6_zTgAoED"
   },
   "outputs": [],
   "source": [
    "def create_pretrained_model(BASE):   \n",
    "    conv_base = BASE(weights='imagenet',\n",
    "                      include_top=False,\n",
    "                      input_shape=(IMAGE_SHAPE[0], IMAGE_SHAPE[1], IMAGE_SHAPE[2]))\n",
    "    print(conv_base.summary())\n",
    "    \n",
    "    freeze_layers(conv_base.layers)\n",
    "    \n",
    "    model = models.Sequential()\n",
    "    model.add(conv_base)\n",
    "    model.add(layers.Flatten())\n",
    "    model.add(layers.Dense(256, activation='relu'))\n",
    "    model.add(layers.Dense(NUM_CLASSES, activation='softmax'))\n",
    "\n",
    "    optimizer = keras.optimizers.RMSprop(lr=0.0001)\n",
    "    model.compile(optimizer=optimizer, loss='categorical_crossentropy', metrics=['accuracy'])\n",
    "\n",
    "    model.summary()\n",
    "    return model\n",
    "    \n",
    "    "
   ]
  },
  {
   "cell_type": "code",
   "execution_count": 18,
   "metadata": {
    "colab": {},
    "colab_type": "code",
    "id": "oPP5cfCt5IrU"
   },
   "outputs": [],
   "source": [
    "def create_blank_model():\n",
    "    model = models.Sequential()\n",
    "    model.add(layers.Conv2D(16, (3, 3), activation='relu', input_shape=IMAGE_SHAPE))\n",
    "    model.add(layers.MaxPooling2D((2, 2)))\n",
    "    model.add(layers.Conv2D(32, (3, 3), activation='relu'))\n",
    "    model.add(layers.MaxPooling2D((2, 2)))\n",
    "    model.add(layers.Conv2D(64, (3, 3), activation='relu'))\n",
    "    model.add(layers.MaxPooling2D((2, 2)))\n",
    "    model.add(layers.Conv2D(128, (3, 3), activation='relu'))\n",
    "    model.add(layers.MaxPooling2D((2, 2)))\n",
    "    model.add(layers.Conv2D(256, (3, 3), activation='relu'))\n",
    "\n",
    "    #Add a classfier on top of the convnet\n",
    "    model.add(layers.Flatten())\n",
    "    model.add(layers.Dropout(.5))\n",
    "    model.add(layers.Dense(128, activation='relu'))\n",
    "    #model.add(layers.BatchNormalization())\n",
    "    model.add(layers.Dense(NUM_CLASSES, activation='softmax'))\n",
    "\n",
    "    #compile the model\n",
    "    optimizer = keras.optimizers.RMSprop(lr=0.0001)\n",
    "    model.compile(optimizer=optimizer, loss='categorical_crossentropy', metrics=['accuracy'])\n",
    "\n",
    "    print(model.summary())\n",
    "    return model\n"
   ]
  },
  {
   "cell_type": "code",
   "execution_count": 19,
   "metadata": {
    "colab": {
     "base_uri": "https://localhost:8080/",
     "height": 1054
    },
    "colab_type": "code",
    "id": "2B_b7B_kAyct",
    "outputId": "0ba06a14-9465-4732-ecaf-928c2c625c37"
   },
   "outputs": [
    {
     "name": "stdout",
     "output_type": "stream",
     "text": [
      "_________________________________________________________________\n",
      "Layer (type)                 Output Shape              Param #   \n",
      "=================================================================\n",
      "input_2 (InputLayer)         (None, 150, 150, 3)       0         \n",
      "_________________________________________________________________\n",
      "block1_conv1 (Conv2D)        (None, 150, 150, 64)      1792      \n",
      "_________________________________________________________________\n",
      "block1_conv2 (Conv2D)        (None, 150, 150, 64)      36928     \n",
      "_________________________________________________________________\n",
      "block1_pool (MaxPooling2D)   (None, 75, 75, 64)        0         \n",
      "_________________________________________________________________\n",
      "block2_conv1 (Conv2D)        (None, 75, 75, 128)       73856     \n",
      "_________________________________________________________________\n",
      "block2_conv2 (Conv2D)        (None, 75, 75, 128)       147584    \n",
      "_________________________________________________________________\n",
      "block2_pool (MaxPooling2D)   (None, 37, 37, 128)       0         \n",
      "_________________________________________________________________\n",
      "block3_conv1 (Conv2D)        (None, 37, 37, 256)       295168    \n",
      "_________________________________________________________________\n",
      "block3_conv2 (Conv2D)        (None, 37, 37, 256)       590080    \n",
      "_________________________________________________________________\n",
      "block3_conv3 (Conv2D)        (None, 37, 37, 256)       590080    \n",
      "_________________________________________________________________\n",
      "block3_pool (MaxPooling2D)   (None, 18, 18, 256)       0         \n",
      "_________________________________________________________________\n",
      "block4_conv1 (Conv2D)        (None, 18, 18, 512)       1180160   \n",
      "_________________________________________________________________\n",
      "block4_conv2 (Conv2D)        (None, 18, 18, 512)       2359808   \n",
      "_________________________________________________________________\n",
      "block4_conv3 (Conv2D)        (None, 18, 18, 512)       2359808   \n",
      "_________________________________________________________________\n",
      "block4_pool (MaxPooling2D)   (None, 9, 9, 512)         0         \n",
      "_________________________________________________________________\n",
      "block5_conv1 (Conv2D)        (None, 9, 9, 512)         2359808   \n",
      "_________________________________________________________________\n",
      "block5_conv2 (Conv2D)        (None, 9, 9, 512)         2359808   \n",
      "_________________________________________________________________\n",
      "block5_conv3 (Conv2D)        (None, 9, 9, 512)         2359808   \n",
      "_________________________________________________________________\n",
      "block5_pool (MaxPooling2D)   (None, 4, 4, 512)         0         \n",
      "=================================================================\n",
      "Total params: 14,714,688\n",
      "Trainable params: 14,714,688\n",
      "Non-trainable params: 0\n",
      "_________________________________________________________________\n",
      "None\n",
      "_________________________________________________________________\n",
      "Layer (type)                 Output Shape              Param #   \n",
      "=================================================================\n",
      "vgg16 (Model)                (None, 4, 4, 512)         14714688  \n",
      "_________________________________________________________________\n",
      "flatten_1 (Flatten)          (None, 8192)              0         \n",
      "_________________________________________________________________\n",
      "dense_1 (Dense)              (None, 256)               2097408   \n",
      "_________________________________________________________________\n",
      "dense_2 (Dense)              (None, 41)                10537     \n",
      "=================================================================\n",
      "Total params: 16,822,633\n",
      "Trainable params: 6,827,561\n",
      "Non-trainable params: 9,995,072\n",
      "_________________________________________________________________\n"
     ]
    }
   ],
   "source": [
    "if not PRETRAIN_MODEL:\n",
    "    model = create_blank_model()\n",
    "else:\n",
    "    model = create_pretrained_model(PRETRAIN_MODEL)"
   ]
  },
  {
   "cell_type": "code",
   "execution_count": 20,
   "metadata": {
    "colab": {
     "base_uri": "https://localhost:8080/",
     "height": 85
    },
    "colab_type": "code",
    "id": "1YCgPt1OLp22",
    "outputId": "d7802b43-e70c-45a9-b69f-b50cdf2c9a7b"
   },
   "outputs": [
    {
     "name": "stdout",
     "output_type": "stream",
     "text": [
      "total batches 1272\n",
      "steps_per_epoch_train 800\n",
      "steps_per_epoch_test 0.0\n",
      "steps_per_epoch_val 88.67924528301886\n"
     ]
    }
   ],
   "source": [
    "steps_per_epoch = None\n",
    "\n",
    "if LIMIT_BATCHES is None:\n",
    "  steps_per_epoch_train = len(train_generator)\n",
    "  steps_per_epoch_val = len(validation_generator)\n",
    "  steps_per_epoch_test = len(test_generators[0])\n",
    "else:\n",
    "  steps_per_epoch_train = LIMIT_BATCHES\n",
    "  steps_per_epoch_val = (LIMIT_BATCHES / len(train_generator)) * len(validation_generator)\n",
    "  steps_per_epoch_test = (LIMIT_BATCHES / len(train_generator)) * len(test_generators[0])\n",
    "\n",
    "print('total batches {}'.format(len(train_generator)))\n",
    "print('steps_per_epoch_train {}'.format(steps_per_epoch_train))\n",
    "print('steps_per_epoch_test {}'.format(steps_per_epoch_test))\n",
    "print('steps_per_epoch_val {}'.format(steps_per_epoch_val))\n"
   ]
  },
  {
   "cell_type": "code",
   "execution_count": 21,
   "metadata": {
    "colab": {
     "base_uri": "https://localhost:8080/",
     "height": 768
    },
    "colab_type": "code",
    "id": "NMfeDeRO5RU3",
    "outputId": "4147a330-5547-4bfd-dc00-d732ecef93cd"
   },
   "outputs": [
    {
     "name": "stdout",
     "output_type": "stream",
     "text": [
      "Epoch 1/10\n",
      "800/800 [==============================] - 2101s 3s/step - loss: 2.3244 - acc: 0.3415 - val_loss: 1.0740 - val_acc: 0.6583\n",
      "\n",
      "Epoch 00001: val_acc improved from -inf to 0.65834, saving model to ../data/models/asl_alphabet/weights-improvement-2019-05-27__08:08:27.199875-01-0.66.hdf5\n",
      "Epoch 2/10\n",
      "800/800 [==============================] - 2119s 3s/step - loss: 1.1719 - acc: 0.6297 - val_loss: 0.6193 - val_acc: 0.7869\n",
      "\n",
      "Epoch 00002: val_acc improved from 0.65834 to 0.78694, saving model to ../data/models/asl_alphabet/weights-improvement-2019-05-27__08:08:27.199875-02-0.79.hdf5\n",
      "Epoch 3/10\n",
      "800/800 [==============================] - 2130s 3s/step - loss: 0.7657 - acc: 0.7512 - val_loss: 0.4303 - val_acc: 0.8535\n",
      "\n",
      "Epoch 00003: val_acc improved from 0.78694 to 0.85352, saving model to ../data/models/asl_alphabet/weights-improvement-2019-05-27__08:08:27.199875-03-0.85.hdf5\n",
      "Epoch 4/10\n",
      "800/800 [==============================] - 2213s 3s/step - loss: 0.5550 - acc: 0.8153 - val_loss: 0.5398 - val_acc: 0.8330\n",
      "\n",
      "Epoch 00004: val_acc did not improve from 0.85352\n",
      "Epoch 5/10\n",
      "800/800 [==============================] - 2203s 3s/step - loss: 0.4371 - acc: 0.8552 - val_loss: 0.4550 - val_acc: 0.8510\n",
      "\n",
      "Epoch 00005: val_acc did not improve from 0.85352\n",
      "Epoch 6/10\n",
      "800/800 [==============================] - 2144s 3s/step - loss: 0.3716 - acc: 0.8805 - val_loss: 0.4257 - val_acc: 0.8739\n",
      "\n",
      "Epoch 00006: val_acc improved from 0.85352 to 0.87391, saving model to ../data/models/asl_alphabet/weights-improvement-2019-05-27__08:08:27.199875-06-0.87.hdf5\n",
      "Epoch 7/10\n",
      "800/800 [==============================] - 2229s 3s/step - loss: 0.3248 - acc: 0.8959 - val_loss: 0.3598 - val_acc: 0.8987\n",
      "\n",
      "Epoch 00007: val_acc improved from 0.87391 to 0.89870, saving model to ../data/models/asl_alphabet/weights-improvement-2019-05-27__08:08:27.199875-07-0.90.hdf5\n",
      "Epoch 8/10\n",
      "800/800 [==============================] - 2208s 3s/step - loss: 0.2871 - acc: 0.9088 - val_loss: 0.3256 - val_acc: 0.9092\n",
      "\n",
      "Epoch 00008: val_acc improved from 0.89870 to 0.90917, saving model to ../data/models/asl_alphabet/weights-improvement-2019-05-27__08:08:27.199875-08-0.91.hdf5\n",
      "Epoch 9/10\n",
      "800/800 [==============================] - 2107s 3s/step - loss: 0.2659 - acc: 0.9176 - val_loss: 0.1852 - val_acc: 0.9430\n",
      "\n",
      "Epoch 00009: val_acc improved from 0.90917 to 0.94299, saving model to ../data/models/asl_alphabet/weights-improvement-2019-05-27__08:08:27.199875-09-0.94.hdf5\n",
      "Epoch 10/10\n",
      "800/800 [==============================] - 2102s 3s/step - loss: 0.2390 - acc: 0.9261 - val_loss: 0.2755 - val_acc: 0.9272\n",
      "\n",
      "Epoch 00010: val_acc did not improve from 0.94299\n"
     ]
    }
   ],
   "source": [
    "weight_filename = \"weights-improvement-\" + MODEL_TIMESTAMP + \"-{epoch:02d}-{val_acc:.2f}.hdf5\"\n",
    "\n",
    "saved_model_filepath = os.path.join(SAVED_MODEL_DIR, weight_filename)\n",
    "callbacks_list = [callbacks.ModelCheckpoint(saved_model_filepath, monitor='val_acc', verbose=1, save_best_only=True, mode='max')]\n",
    "\n",
    "history= model.fit_generator (\n",
    "  train_generator,\n",
    "  epochs = NUM_EPOCHS,\n",
    "  steps_per_epoch=steps_per_epoch_train,\n",
    "  validation_steps=steps_per_epoch_val,\n",
    "  callbacks = callbacks_list,\n",
    "  validation_data=validation_generator,\n",
    "  verbose=1 \\\n",
    ")"
   ]
  },
  {
   "cell_type": "code",
   "execution_count": 22,
   "metadata": {
    "colab": {
     "base_uri": "https://localhost:8080/",
     "height": 362
    },
    "colab_type": "code",
    "id": "soviW5rN5UKG",
    "outputId": "afd9a14c-0e4a-4098-b38e-cb26fc69c3bc"
   },
   "outputs": [
    {
     "data": {
      "image/png": "[encoded data removed]",
      "text/plain": [
       "<Figure size 432x288 with 1 Axes>"
      ]
     },
     "metadata": {
      "needs_background": "light"
     },
     "output_type": "display_data"
    }
   ],
   "source": [
    "#visualization of model performance\n",
    "history_dict = history.history\n",
    "loss_values = history_dict['loss']\n",
    "val_loss_values =  history_dict['val_loss']\n",
    "acc_values = history_dict['acc']\n",
    "\n",
    "epochs = range(1, len(acc_values) + 1)\n",
    "\n",
    "plt.plot(epochs, loss_values, 'bo', label = 'Training Loss')\n",
    "plt.plot(epochs,val_loss_values, 'b', label = 'Validation Loss')\n",
    "plt.title('Training and Validation Losses')\n",
    "plt.xlabel='Epochs'\n",
    "plt.ylabel='Loss'\n",
    "plt.legend()\n",
    "plt.show()"
   ]
  },
  {
   "cell_type": "code",
   "execution_count": 23,
   "metadata": {
    "colab": {
     "base_uri": "https://localhost:8080/",
     "height": 347
    },
    "colab_type": "code",
    "id": "u9k7xD8S5VWN",
    "outputId": "ec0dade2-4571-492c-9682-4c39b6c3369a"
   },
   "outputs": [
    {
     "data": {
      "image/png": "[encoded data removed]",
      "text/plain": [
       "<Figure size 432x288 with 1 Axes>"
      ]
     },
     "metadata": {
      "needs_background": "light"
     },
     "output_type": "display_data"
    }
   ],
   "source": [
    "plt.clf()\n",
    "acc_values = history_dict['acc']\n",
    "val_acc_values = history_dict['val_acc']\n",
    "\n",
    "plt.plot(epochs, acc_values, 'bo', label='Training acc')\n",
    "plt.plot(epochs,val_acc_values, 'b', label='Validation accuracy')\n",
    "plt.xlabel = 'Epochs'\n",
    "plt.ylabel = 'Loss'\n",
    "plt.legend()\n",
    "\n",
    "plt.show()"
   ]
  },
  {
   "cell_type": "markdown",
   "metadata": {
    "colab_type": "text",
    "id": "4tLl5VA5evNq"
   },
   "source": [
    "## Validate against each of the test generators"
   ]
  },
  {
   "cell_type": "code",
   "execution_count": 24,
   "metadata": {
    "colab": {},
    "colab_type": "code",
    "id": "2bbNHtAR2mc_"
   },
   "outputs": [
    {
     "name": "stdout",
     "output_type": "stream",
     "text": [
      "saving ../data/models/asl_alphabet_class_names/2019-05-27__08:08:27.199875-data.json\n"
     ]
    }
   ],
   "source": [
    "save_generator_classes(train_generator)"
   ]
  },
  {
   "cell_type": "code",
   "execution_count": 25,
   "metadata": {
    "colab": {
     "base_uri": "https://localhost:8080/",
     "height": 68
    },
    "colab_type": "code",
    "id": "3jVBPSk4eT0i",
    "outputId": "5a8f2070-4af2-420f-aa59-692dcc1274ac"
   },
   "outputs": [
    {
     "name": "stdout",
     "output_type": "stream",
     "text": [
      "cannot run generator <keras_preprocessing.image.DirectoryIterator object at 0x1a27cb4438>\n",
      "cannot run generator <keras_preprocessing.image.DirectoryIterator object at 0x1a27c947b8>\n",
      "cannot run generator <keras_preprocessing.image.DirectoryIterator object at 0x1a27cb4f60>\n",
      "cannot run generator <keras_preprocessing.image.DirectoryIterator object at 0x1a27c94828>\n",
      "cannot run generator <keras_preprocessing.image.DirectoryIterator object at 0x1a27cb42b0>\n",
      "cannot run generator <keras_preprocessing.image.DirectoryIterator object at 0x1a27c8fc88>\n",
      "cannot run generator <keras_preprocessing.image.DirectoryIterator object at 0x1a27c8feb8>\n"
     ]
    }
   ],
   "source": [
    "for generator, _dir in zip(test_generators, LOCAL_TEST_DIRS):\n",
    "    epoch_steps = steps_per_epoch_test\n",
    "    if epoch_steps == 0:\n",
    "        epoch_steps = None\n",
    "    try:\n",
    "        test_loss, test_acc = model.evaluate_generator(generator, steps=epoch_steps)\n",
    "        print('{}: {}'.format(_dir, test_acc))\n",
    "    except:\n",
    "        print('cannot run generator {}'.format(generator))"
   ]
  }
 ],
 "metadata": {
  "accelerator": "GPU",
  "colab": {
   "collapsed_sections": [],
   "include_colab_link": true,
   "name": "ASL Signs.ipynb",
   "provenance": [],
   "version": "0.3.2"
  },
  "kernelspec": {
   "display_name": "Python 3",
   "language": "python",
   "name": "python3"
  },
  "language_info": {
   "codemirror_mode": {
    "name": "ipython",
    "version": 3
   },
   "file_extension": ".py",
   "mimetype": "text/x-python",
   "name": "python",
   "nbconvert_exporter": "python",
   "pygments_lexer": "ipython3",
   "version": "3.6.8"
  }
 },
 "nbformat": 4,
 "nbformat_minor": 1
}
