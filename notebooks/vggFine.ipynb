{
  "nbformat": 4,
  "nbformat_minor": 0,
  "metadata": {
    "colab": {
      "name": "vggFine",
      "version": "0.3.2",
      "provenance": [],
      "collapsed_sections": []
    },
    "kernelspec": {
      "name": "python3",
      "display_name": "Python 3"
    },
    "accelerator": "GPU"
  },
  "cells": [
    {
      "metadata": {
        "id": "CgR4mMjic19L",
        "colab_type": "code",
        "outputId": "132c8287-1c44-4070-edec-6fd5e332a413",
        "colab": {
          "base_uri": "https://localhost:8080/",
          "height": 34
        }
      },
      "cell_type": "code",
      "source": [
        "from google.colab import drive\n",
        "drive.mount('/content/gdrive')"
      ],
      "execution_count": 1,
      "outputs": [
        {
          "output_type": "stream",
          "text": [
            "Drive already mounted at /content/gdrive; to attempt to forcibly remount, call drive.mount(\"/content/gdrive\", force_remount=True).\n"
          ],
          "name": "stdout"
        }
      ]
    },
    {
      "metadata": {
        "id": "klbyNFvefpbt",
        "colab_type": "code",
        "outputId": "aef7d5a8-1655-4ee0-92d2-d06d6a0d34a7",
        "colab": {
          "base_uri": "https://localhost:8080/",
          "height": 34
        }
      },
      "cell_type": "code",
      "source": [
        "with open('/content/gdrive/My Drive/foo.txt', 'w') as f:\n",
        "  f.write('Hello Google Drive!')\n",
        "!cat /content/gdrive/My\\ Drive/foo.txt"
      ],
      "execution_count": 2,
      "outputs": [
        {
          "output_type": "stream",
          "text": [
            "Hello Google Drive!"
          ],
          "name": "stdout"
        }
      ]
    },
    {
      "metadata": {
        "id": "PJW8kvIwfvnX",
        "colab_type": "code",
        "outputId": "4733f118-f1e7-4d13-e24e-6e52f3cb5df1",
        "colab": {
          "base_uri": "https://localhost:8080/",
          "height": 34
        }
      },
      "cell_type": "code",
      "source": [
        "import os, shutil, copy, ntpath, datetime, zipfile\n",
        "import keras\n",
        "from keras import models, layers, callbacks\n",
        "from keras.preprocessing.image import ImageDataGenerator, load_img, img_to_array, array_to_img\n",
        "import tensorflow as tf\n",
        "\n",
        "import matplotlib.pyplot as plt\n",
        "\n",
        "import boto3\n",
        "import glob\n",
        "import ntpath\n",
        "import re\n",
        "\n",
        "import numpy as np\n",
        "import pandas as pd"
      ],
      "execution_count": 3,
      "outputs": [
        {
          "output_type": "stream",
          "text": [
            "Using TensorFlow backend.\n"
          ],
          "name": "stderr"
        }
      ]
    },
    {
      "metadata": {
        "id": "7lJMkDlrfyGX",
        "colab_type": "code",
        "outputId": "1b055d4d-2f7b-410c-8648-78a633f2f4e8",
        "colab": {
          "base_uri": "https://localhost:8080/",
          "height": 34
        }
      },
      "cell_type": "code",
      "source": [
        "device_name = tf.test.gpu_device_name()\n",
        "if device_name != '/device:GPU:0':\n",
        "  raise SystemError('GPU device not found')\n",
        "print('Found GPU at: {}'.format(device_name))"
      ],
      "execution_count": 4,
      "outputs": [
        {
          "output_type": "stream",
          "text": [
            "Found GPU at: /device:GPU:0\n"
          ],
          "name": "stdout"
        }
      ]
    },
    {
      "metadata": {
        "id": "K5EdtL9kf3d9",
        "colab_type": "code",
        "colab": {}
      },
      "cell_type": "code",
      "source": [
        "#### Settings\n",
        "IMAGE_SHAPE=(200, 200, 3)\n",
        "\n",
        "LIMIT_BATCHES = 30\n",
        "#LIMIT_BATCHES = None\n",
        "\n",
        "NUM_EPOCHS = 40\n",
        "BATCH_SIZE = 25\n",
        "NUM_CLASSES = 29\n",
        "\n",
        "# PRETRAIN_MODEL = 'conv_base_local'\n",
        "# PRETRAIN_MODEL = 'conv_base_vgg16'\n",
        "PRETRAIN_MODEL = None"
      ],
      "execution_count": 0,
      "outputs": []
    },
    {
      "metadata": {
        "id": "-v2yt86Ff7JR",
        "colab_type": "code",
        "colab": {}
      },
      "cell_type": "code",
      "source": [
        "import os\n",
        "\n",
        "#### FilePath Information\n",
        "DATA_DIR = '/content/gdrive/My Drive/'\n",
        "#ASL_ALPHABET_DATASET_ZIP = os.path.join(DATA_DIR, 'asl_alphabet_train2.zip')\n",
        "#LOCAL_DATASET_ZIP = '/tmp/asl_alphabet_train2.zip'\n",
        "#LOCAL_DATASET = '/tmp/asl_alphabet_train2'\n",
        "\n",
        "\n",
        "#ASL_ALPHABET_TEST_DATASET_ZIP = os.path.join(DATA_DIR, 'asl_alphabet_test2.zip')\n",
        "#LOCAL_TEST_DATASET_ZIP = '/tmp/asl_alphabet_test2.zip'\n",
        "#LOCAL_TEST_DATASET = '/tmp/asl_alphabet_test2'\n",
        "\n",
        "\n",
        "#SAVED_MODEL_DIR = os.path.join(DATA_DIR, 'models/asl_alphabet')\n",
        "\n",
        "ASL_ALPHABET_DATASET_ZIP = os.path.join(DATA_DIR, 'asl_alphabet_train1.zip')\n",
        "LOCAL_DATASET_ZIP = '/tmp/asl_alphabet_train1.zip'\n",
        "LOCAL_DATASET = '/tmp/asl_alphabet_train1'\n",
        "\n",
        "\n",
        "ASL_ALPHABET_TEST_DATASET_ZIP = os.path.join(DATA_DIR, 'handsigns.zip')\n",
        "LOCAL_TEST_DATASET_ZIP = '/tmp/handsigns.zip'\n",
        "LOCAL_TEST_DATASET = '/tmp/handsigns'\n",
        "\n",
        "\n",
        "SAVED_MODEL_DIR = os.path.join(DATA_DIR, 'models/asl_handsigns')"
      ],
      "execution_count": 0,
      "outputs": []
    },
    {
      "metadata": {
        "id": "jP8qT8nMgJ3Z",
        "colab_type": "code",
        "colab": {}
      },
      "cell_type": "code",
      "source": [
        "if not os.path.isfile(LOCAL_DATASET_ZIP):\n",
        "  %time shutil.copy(ASL_ALPHABET_DATASET_ZIP, LOCAL_DATASET_ZIP)"
      ],
      "execution_count": 0,
      "outputs": []
    },
    {
      "metadata": {
        "id": "Sm_G3QuwtFE2",
        "colab_type": "code",
        "colab": {}
      },
      "cell_type": "code",
      "source": [
        "if not os.path.isfile(LOCAL_TEST_DATASET_ZIP):\n",
        "  %time shutil.copy(ASL_ALPHABET_TEST_DATASET_ZIP, LOCAL_TEST_DATASET_ZIP)"
      ],
      "execution_count": 0,
      "outputs": []
    },
    {
      "metadata": {
        "id": "fxZnK5RMgNxH",
        "colab_type": "code",
        "outputId": "1a03b13a-09c2-464b-98af-f274e8c2735f",
        "colab": {
          "base_uri": "https://localhost:8080/",
          "height": 50
        }
      },
      "cell_type": "code",
      "source": [
        "if not os.path.isdir(LOCAL_DATASET):\n",
        "  with zipfile.ZipFile(LOCAL_DATASET_ZIP, 'r') as zip_ref:\n",
        "      %time zip_ref.extractall('/tmp')\n",
        "   \n",
        "if not os.path.isdir(LOCAL_TEST_DATASET):\n",
        "  with zipfile.ZipFile(LOCAL_TEST_DATASET_ZIP, 'r') as zip_ref:\n",
        "      %time zip_ref.extractall('/tmp')\n"
      ],
      "execution_count": 9,
      "outputs": [
        {
          "output_type": "stream",
          "text": [
            "CPU times: user 5.56 s, sys: 2.77 s, total: 8.33 s\n",
            "Wall time: 8.6 s\n"
          ],
          "name": "stdout"
        }
      ]
    },
    {
      "metadata": {
        "id": "KzO95og1g5R4",
        "colab_type": "code",
        "colab": {}
      },
      "cell_type": "code",
      "source": [
        "# dataset definition with augmentation\n",
        "train_datagen = ImageDataGenerator(\n",
        "    rescale=1./255,\n",
        "    validation_split=0.1,\n",
        "    horizontal_flip=True,\n",
        "    rotation_range=20,\n",
        "    width_shift_range=0.2,\n",
        "    height_shift_range=0.2\n",
        ")\n",
        "\n",
        "test_datagen = ImageDataGenerator(\n",
        "    rescale=1./255\n",
        ")\n",
        "\n",
        "# end with augmentation\n",
        "LOCAL_TEST1_DATASET = '/tmp/asl_alphabet_test1'\n",
        "LOCAL_AHE_TEST_DATASET = '/tmp/ahe_asl_test1a'\n",
        "LOCAL_AHE_NEG_TEST_DATASET = '/tmp/ahe_neg_asl_test1n'\n",
        "LOCAL_FC_AHE_TEST_DATASET = '/tmp/fc_ahe_asl_test1'\n",
        "LOCAL_FC_AHE_NEG_TEST_DATASET = '/tmp/fc_ahe_neg_asl_test1'\n",
        "\n",
        "\n",
        "\n",
        "\n"
      ],
      "execution_count": 0,
      "outputs": []
    },
    {
      "metadata": {
        "id": "yK1sU-gchC1l",
        "colab_type": "code",
        "outputId": "aace42c9-5a34-43e3-8a4c-c28de63b0088",
        "colab": {
          "base_uri": "https://localhost:8080/",
          "height": 134
        }
      },
      "cell_type": "code",
      "source": [
        "\n",
        "\n",
        "#create generators\n",
        "train_generator = train_datagen.flow_from_directory(\n",
        "           LOCAL_DATASET,\n",
        "           target_size = (IMAGE_SHAPE[0], IMAGE_SHAPE[0]),\n",
        "           batch_size=BATCH_SIZE,\n",
        "           class_mode = 'categorical',\n",
        "           color_mode = \"rgb\",\n",
        "           subset='training'\n",
        ")\n",
        "\n",
        "#create generators\n",
        "\n",
        "validation_generator = train_datagen.flow_from_directory(\n",
        "           LOCAL_DATASET,\n",
        "           target_size = (IMAGE_SHAPE[0], IMAGE_SHAPE[0]),\n",
        "           batch_size=BATCH_SIZE,\n",
        "           class_mode = 'categorical',\n",
        "           color_mode = \"rgb\",\n",
        "           subset='validation'\n",
        ")\n",
        "\n",
        "test1_generator = test_datagen.flow_from_directory(\n",
        "         LOCAL_TEST1_DATASET,\n",
        "         target_size = (IMAGE_SHAPE[0], IMAGE_SHAPE[0]),\n",
        "         batch_size = BATCH_SIZE,\n",
        "         color_mode = \"rgb\",\n",
        "         class_mode='categorical'\n",
        ")\n",
        "\n",
        "ahe_test_generator = test_datagen.flow_from_directory(\n",
        "         LOCAL_AHE_TEST_DATASET,\n",
        "         target_size = (IMAGE_SHAPE[0], IMAGE_SHAPE[0]),\n",
        "         batch_size = BATCH_SIZE,\n",
        "         color_mode = \"rgb\",\n",
        "         class_mode='categorical'\n",
        ")\n",
        "ahe_neg_test_generator = test_datagen.flow_from_directory(\n",
        "         LOCAL_AHE_NEG_TEST_DATASET,\n",
        "         target_size = (IMAGE_SHAPE[0], IMAGE_SHAPE[0]),\n",
        "         batch_size = BATCH_SIZE,\n",
        "         color_mode = \"rgb\",\n",
        "         class_mode='categorical'\n",
        ")\n",
        "fc_ahe_test_generator = test_datagen.flow_from_directory(\n",
        "         LOCAL_FC_AHE_TEST_DATASET,\n",
        "         target_size = (IMAGE_SHAPE[0], IMAGE_SHAPE[0]),\n",
        "         batch_size = BATCH_SIZE,\n",
        "         color_mode = \"rgb\",\n",
        "         class_mode='categorical'\n",
        ")\n",
        "fc_ahe_neg_test_generator = test_datagen.flow_from_directory(\n",
        "         LOCAL_FC_AHE_NEG_TEST_DATASET,\n",
        "         target_size = (IMAGE_SHAPE[0], IMAGE_SHAPE[0]),\n",
        "         batch_size = BATCH_SIZE,\n",
        "         color_mode = \"rgb\",\n",
        "         class_mode='categorical'\n",
        ")\n",
        "\n"
      ],
      "execution_count": 11,
      "outputs": [
        {
          "output_type": "stream",
          "text": [
            "Found 371114 images belonging to 29 classes.\n",
            "Found 41221 images belonging to 29 classes.\n",
            "Found 4239 images belonging to 29 classes.\n",
            "Found 4239 images belonging to 29 classes.\n",
            "Found 4239 images belonging to 29 classes.\n",
            "Found 4239 images belonging to 29 classes.\n",
            "Found 4239 images belonging to 29 classes.\n"
          ],
          "name": "stdout"
        }
      ]
    },
    {
      "metadata": {
        "id": "q4_lIasrYOLu",
        "colab_type": "code",
        "outputId": "c98d63a8-4e5e-49f1-e9d6-425c4d5641ee",
        "colab": {
          "base_uri": "https://localhost:8080/",
          "height": 773
        }
      },
      "cell_type": "code",
      "source": [
        "from keras.applications import VGG16\n",
        "\n",
        "conv_base = VGG16(weights='imagenet',\n",
        "                  include_top=False,\n",
        "                  input_shape=(IMAGE_SHAPE[0], IMAGE_SHAPE[1], IMAGE_SHAPE[2]))\n",
        "conv_base.summary()"
      ],
      "execution_count": 12,
      "outputs": [
        {
          "output_type": "stream",
          "text": [
            "_________________________________________________________________\n",
            "Layer (type)                 Output Shape              Param #   \n",
            "=================================================================\n",
            "input_1 (InputLayer)         (None, 200, 200, 3)       0         \n",
            "_________________________________________________________________\n",
            "block1_conv1 (Conv2D)        (None, 200, 200, 64)      1792      \n",
            "_________________________________________________________________\n",
            "block1_conv2 (Conv2D)        (None, 200, 200, 64)      36928     \n",
            "_________________________________________________________________\n",
            "block1_pool (MaxPooling2D)   (None, 100, 100, 64)      0         \n",
            "_________________________________________________________________\n",
            "block2_conv1 (Conv2D)        (None, 100, 100, 128)     73856     \n",
            "_________________________________________________________________\n",
            "block2_conv2 (Conv2D)        (None, 100, 100, 128)     147584    \n",
            "_________________________________________________________________\n",
            "block2_pool (MaxPooling2D)   (None, 50, 50, 128)       0         \n",
            "_________________________________________________________________\n",
            "block3_conv1 (Conv2D)        (None, 50, 50, 256)       295168    \n",
            "_________________________________________________________________\n",
            "block3_conv2 (Conv2D)        (None, 50, 50, 256)       590080    \n",
            "_________________________________________________________________\n",
            "block3_conv3 (Conv2D)        (None, 50, 50, 256)       590080    \n",
            "_________________________________________________________________\n",
            "block3_pool (MaxPooling2D)   (None, 25, 25, 256)       0         \n",
            "_________________________________________________________________\n",
            "block4_conv1 (Conv2D)        (None, 25, 25, 512)       1180160   \n",
            "_________________________________________________________________\n",
            "block4_conv2 (Conv2D)        (None, 25, 25, 512)       2359808   \n",
            "_________________________________________________________________\n",
            "block4_conv3 (Conv2D)        (None, 25, 25, 512)       2359808   \n",
            "_________________________________________________________________\n",
            "block4_pool (MaxPooling2D)   (None, 12, 12, 512)       0         \n",
            "_________________________________________________________________\n",
            "block5_conv1 (Conv2D)        (None, 12, 12, 512)       2359808   \n",
            "_________________________________________________________________\n",
            "block5_conv2 (Conv2D)        (None, 12, 12, 512)       2359808   \n",
            "_________________________________________________________________\n",
            "block5_conv3 (Conv2D)        (None, 12, 12, 512)       2359808   \n",
            "_________________________________________________________________\n",
            "block5_pool (MaxPooling2D)   (None, 6, 6, 512)         0         \n",
            "=================================================================\n",
            "Total params: 14,714,688\n",
            "Trainable params: 14,714,688\n",
            "Non-trainable params: 0\n",
            "_________________________________________________________________\n"
          ],
          "name": "stdout"
        }
      ]
    },
    {
      "metadata": {
        "id": "JSQwbSQDSH6T",
        "colab_type": "code",
        "outputId": "2b8b5172-32e9-4627-f8c4-1d36df76ec75",
        "colab": {
          "base_uri": "https://localhost:8080/",
          "height": 269
        }
      },
      "cell_type": "code",
      "source": [
        "# uaing augmentation to eliminate overfitting\n",
        "\n",
        "from keras import models\n",
        "from keras import layers\n",
        "\n",
        "model = models.Sequential()\n",
        "model.add(conv_base)\n",
        "model.add(layers.Flatten())\n",
        "model.add(layers.Dense(256, activation='relu'))\n",
        "model.add(layers.Dense(29, activation='sigmoid'))\n",
        "\n",
        "optimizer = keras.optimizers.RMSprop(lr=0.0001)\n",
        "model.compile(optimizer=optimizer, loss='categorical_crossentropy', metrics=['accuracy'])\n",
        "\n",
        "model.summary()"
      ],
      "execution_count": 13,
      "outputs": [
        {
          "output_type": "stream",
          "text": [
            "_________________________________________________________________\n",
            "Layer (type)                 Output Shape              Param #   \n",
            "=================================================================\n",
            "vgg16 (Model)                (None, 6, 6, 512)         14714688  \n",
            "_________________________________________________________________\n",
            "flatten_1 (Flatten)          (None, 18432)             0         \n",
            "_________________________________________________________________\n",
            "dense_1 (Dense)              (None, 256)               4718848   \n",
            "_________________________________________________________________\n",
            "dense_2 (Dense)              (None, 29)                7453      \n",
            "=================================================================\n",
            "Total params: 19,440,989\n",
            "Trainable params: 19,440,989\n",
            "Non-trainable params: 0\n",
            "_________________________________________________________________\n"
          ],
          "name": "stdout"
        }
      ]
    },
    {
      "metadata": {
        "id": "daLUAJpeF7GO",
        "colab_type": "code",
        "outputId": "b8e3df46-1c92-4304-fbc2-18e16ae17631",
        "colab": {
          "base_uri": "https://localhost:8080/",
          "height": 50
        }
      },
      "cell_type": "code",
      "source": [
        "\n",
        "\n",
        "# must freeze the pre-trained convnet layers before running the model \n",
        "print('This is the number of trainable weights '\n",
        "      'before freezing the conv base:', len(model.trainable_weights))\n",
        "conv_base.trainable = False\n",
        "print('This is the number of trainable weights '\n",
        "      'after freezing the conv base:', len(model.trainable_weights))"
      ],
      "execution_count": 14,
      "outputs": [
        {
          "output_type": "stream",
          "text": [
            "This is the number of trainable weights before freezing the conv base: 30\n",
            "This is the number of trainable weights after freezing the conv base: 4\n"
          ],
          "name": "stdout"
        }
      ]
    },
    {
      "metadata": {
        "id": "KAkHmxU2B-Ku",
        "colab_type": "text"
      },
      "cell_type": "markdown",
      "source": [
        ""
      ]
    },
    {
      "metadata": {
        "id": "HeLXxvO5gR4A",
        "colab_type": "code",
        "colab": {}
      },
      "cell_type": "code",
      "source": [
        "optimizer = keras.optimizers.RMSprop(lr=0.0001)\n",
        "model.compile(optimizer=optimizer, loss='categorical_crossentropy', metrics=['accuracy'])\n"
      ],
      "execution_count": 0,
      "outputs": []
    },
    {
      "metadata": {
        "id": "pfqf99wZaItr",
        "colab_type": "code",
        "colab": {}
      },
      "cell_type": "code",
      "source": [
        "# model = keras.models.load_model('/content/gdrive/My Drive/handsigns.h5')"
      ],
      "execution_count": 0,
      "outputs": []
    },
    {
      "metadata": {
        "id": "OUbbVMI5F2Y_",
        "colab_type": "code",
        "outputId": "6ee4704f-22e4-412c-f361-eab57a0c63c9",
        "colab": {
          "base_uri": "https://localhost:8080/",
          "height": 1058
        }
      },
      "cell_type": "code",
      "source": [
        "steps_per_epoch = None\n",
        "\n",
        "if LIMIT_BATCHES is None: \n",
        "  steps_per_epoch_train = len(train_generator) \n",
        "  steps_per_epoch_val = len(validation_generator) \n",
        "\n",
        "else: \n",
        "  steps_per_epoch_train = len(train_generator)/(BATCH_SIZE) \n",
        "  steps_per_epoch_val = len(validation_generator)/BATCH_SIZE\n",
        "\n",
        "callbacks_list = [ callbacks.EarlyStopping(monitor='acc', patience=3), \n",
        "                  callbacks.ModelCheckpoint(filepath = 'handsigns.h5', \n",
        "                  monitor = 'val_loss', \n",
        "                  save_best_only = True), \n",
        "                  callbacks.ReduceLROnPlateau(monitor='val_loss', \n",
        "                  factor = 0.1, \n",
        "                  patience=3) ]\n",
        "\n",
        "\n",
        "history = model.fit_generator(train_generator,\n",
        "                    epochs=NUM_EPOCHS,\n",
        "                    callbacks = callbacks_list,\n",
        "                    verbose = 1,\n",
        "                    steps_per_epoch = steps_per_epoch_train,\n",
        "                    validation_steps = steps_per_epoch_val,\n",
        "                    validation_data=validation_generator)"
      ],
      "execution_count": 17,
      "outputs": [
        {
          "output_type": "stream",
          "text": [
            "Epoch 1/40\n",
            "594/593 [==============================] - 235s 396ms/step - loss: 2.4238 - acc: 0.3362 - val_loss: 2.0002 - val_acc: 0.4309\n",
            "Epoch 2/40\n",
            "594/593 [==============================] - 230s 387ms/step - loss: 1.4508 - acc: 0.5954 - val_loss: 1.5202 - val_acc: 0.5794\n",
            "Epoch 3/40\n",
            "594/593 [==============================] - 229s 386ms/step - loss: 1.1301 - acc: 0.6790 - val_loss: 1.3084 - val_acc: 0.6230\n",
            "Epoch 4/40\n",
            "594/593 [==============================] - 229s 386ms/step - loss: 0.9615 - acc: 0.7146 - val_loss: 1.1874 - val_acc: 0.6485\n",
            "Epoch 5/40\n",
            "594/593 [==============================] - 230s 387ms/step - loss: 0.8578 - acc: 0.7464 - val_loss: 1.0650 - val_acc: 0.6909\n",
            "Epoch 6/40\n",
            "594/593 [==============================] - 230s 387ms/step - loss: 0.7822 - acc: 0.7646 - val_loss: 1.0723 - val_acc: 0.6679\n",
            "Epoch 7/40\n",
            "594/593 [==============================] - 229s 386ms/step - loss: 0.7331 - acc: 0.7823 - val_loss: 1.0505 - val_acc: 0.6794\n",
            "Epoch 8/40\n",
            "594/593 [==============================] - 230s 387ms/step - loss: 0.6834 - acc: 0.7925 - val_loss: 1.0668 - val_acc: 0.6727\n",
            "Epoch 9/40\n",
            "594/593 [==============================] - 230s 386ms/step - loss: 0.6500 - acc: 0.8014 - val_loss: 0.9813 - val_acc: 0.7036\n",
            "Epoch 10/40\n",
            "594/593 [==============================] - 231s 389ms/step - loss: 0.6076 - acc: 0.8116 - val_loss: 0.9837 - val_acc: 0.6982\n",
            "Epoch 11/40\n",
            "594/593 [==============================] - 230s 388ms/step - loss: 0.5958 - acc: 0.8154 - val_loss: 0.9768 - val_acc: 0.7085\n",
            "Epoch 12/40\n",
            "594/593 [==============================] - 231s 389ms/step - loss: 0.5659 - acc: 0.8232 - val_loss: 0.8217 - val_acc: 0.7455\n",
            "Epoch 13/40\n",
            "594/593 [==============================] - 231s 389ms/step - loss: 0.5389 - acc: 0.8321 - val_loss: 0.9306 - val_acc: 0.7079\n",
            "Epoch 14/40\n",
            "594/593 [==============================] - 230s 388ms/step - loss: 0.5241 - acc: 0.8359 - val_loss: 0.8869 - val_acc: 0.7127\n",
            "Epoch 15/40\n",
            "594/593 [==============================] - 230s 387ms/step - loss: 0.5068 - acc: 0.8432 - val_loss: 0.8910 - val_acc: 0.7333\n",
            "Epoch 16/40\n",
            "594/593 [==============================] - 229s 385ms/step - loss: 0.4346 - acc: 0.8687 - val_loss: 0.7230 - val_acc: 0.7745\n",
            "Epoch 17/40\n",
            "594/593 [==============================] - 229s 385ms/step - loss: 0.4128 - acc: 0.8743 - val_loss: 0.7572 - val_acc: 0.7618\n",
            "Epoch 18/40\n",
            "594/593 [==============================] - 229s 385ms/step - loss: 0.4168 - acc: 0.8778 - val_loss: 0.7976 - val_acc: 0.7461\n",
            "Epoch 19/40\n",
            "594/593 [==============================] - 228s 385ms/step - loss: 0.4058 - acc: 0.8789 - val_loss: 0.7508 - val_acc: 0.7667\n",
            "Epoch 20/40\n",
            "594/593 [==============================] - 228s 384ms/step - loss: 0.4061 - acc: 0.8783 - val_loss: 0.7149 - val_acc: 0.7830\n",
            "Epoch 21/40\n",
            "594/593 [==============================] - 229s 385ms/step - loss: 0.4116 - acc: 0.8782 - val_loss: 0.7416 - val_acc: 0.7618\n",
            "Epoch 22/40\n",
            "594/593 [==============================] - 228s 385ms/step - loss: 0.4013 - acc: 0.8790 - val_loss: 0.7319 - val_acc: 0.7770\n",
            "Epoch 23/40\n",
            "594/593 [==============================] - 229s 385ms/step - loss: 0.4006 - acc: 0.8815 - val_loss: 0.7378 - val_acc: 0.7685\n",
            "Epoch 24/40\n",
            "594/593 [==============================] - 228s 385ms/step - loss: 0.4018 - acc: 0.8794 - val_loss: 0.7285 - val_acc: 0.7624\n",
            "Epoch 25/40\n",
            "594/593 [==============================] - 231s 389ms/step - loss: 0.3992 - acc: 0.8812 - val_loss: 0.7289 - val_acc: 0.7673\n",
            "Epoch 26/40\n",
            "594/593 [==============================] - 223s 376ms/step - loss: 0.3984 - acc: 0.8817 - val_loss: 0.7053 - val_acc: 0.7715\n",
            "Epoch 27/40\n",
            "594/593 [==============================] - 224s 377ms/step - loss: 0.3944 - acc: 0.8824 - val_loss: 0.7486 - val_acc: 0.7594\n",
            "Epoch 28/40\n",
            "594/593 [==============================] - 224s 377ms/step - loss: 0.3867 - acc: 0.8865 - val_loss: 0.7673 - val_acc: 0.7503\n",
            "Epoch 29/40\n",
            "594/593 [==============================] - 224s 377ms/step - loss: 0.4017 - acc: 0.8813 - val_loss: 0.7465 - val_acc: 0.7582\n",
            "Epoch 30/40\n",
            "594/593 [==============================] - 224s 377ms/step - loss: 0.3997 - acc: 0.8859 - val_loss: 0.7706 - val_acc: 0.7497\n",
            "Epoch 31/40\n",
            "594/593 [==============================] - 224s 377ms/step - loss: 0.3939 - acc: 0.8846 - val_loss: 0.7730 - val_acc: 0.7467\n"
          ],
          "name": "stdout"
        }
      ]
    },
    {
      "metadata": {
        "id": "EEnc9-JNwVSi",
        "colab_type": "code",
        "outputId": "c0b30778-18c3-415f-b58a-4806e5065b55",
        "colab": {
          "base_uri": "https://localhost:8080/",
          "height": 706
        }
      },
      "cell_type": "code",
      "source": [
        "import matplotlib.pyplot as plt\n",
        "\n",
        "acc = history.history['acc']\n",
        "val_acc = history.history['val_acc']\n",
        "loss = history.history['loss']\n",
        "val_loss = history.history['val_loss']\n",
        "\n",
        "epochs = range(len(acc))\n",
        "\n",
        "plt.plot(epochs, acc, 'bo', label='Training acc')\n",
        "plt.plot(epochs, val_acc, 'b', label='Validation acc')\n",
        "plt.title('Training and validation accuracy')\n",
        "plt.legend()\n",
        "\n",
        "plt.figure()\n",
        "\n",
        "plt.plot(epochs, loss, 'bo', label='Training loss')\n",
        "plt.plot(epochs, val_loss, 'b', label='Validation loss')\n",
        "plt.title('Training and validation loss')\n",
        "plt.legend()\n",
        "\n",
        "plt.show()"
      ],
      "execution_count": 18,
      "outputs": [
        {
          "output_type": "display_data",
          "data": {
            "image/png": "[encoded data removed]",
            "text/plain": [
              "<matplotlib.figure.Figure at 0x7fb46403f5c0>"
            ]
          },
          "metadata": {
            "tags": []
          }
        },
        {
          "output_type": "display_data",
          "data": {
            "image/png": "[encoded data removed]",
            "text/plain": [
              "<matplotlib.figure.Figure at 0x7fb461e5f630>"
            ]
          },
          "metadata": {
            "tags": []
          }
        }
      ]
    },
    {
      "metadata": {
        "id": "2OWWFiFLJUeL",
        "colab_type": "code",
        "outputId": "340c3830-1542-43db-98d1-dd1a44acf411",
        "colab": {
          "base_uri": "https://localhost:8080/",
          "height": 101
        }
      },
      "cell_type": "code",
      "source": [
        "test_loss, test_acc = model.evaluate_generator(test1_generator,steps=len(test1_generator)/BATCH_SIZE)\n",
        "print('test1_acc: ',test_acc)\n",
        "test_loss, test_acc = model.evaluate_generator(ahe_test_generator,len(ahe_test_generator)/BATCH_SIZE)\n",
        "print('ahe_test_acc: ',test_acc)\n",
        "test_loss, test_acc = model.evaluate_generator(ahe_neg_test_generator,len(ahe_neg_test_generator)/BATCH_SIZE)\n",
        "print('ahe__neg_test_acc: ',test_acc)\n",
        "\n",
        "test_loss, test_acc = model.evaluate_generator(fc_ahe_test_generator,len(fc_ahe_test_generator)/BATCH_SIZE)\n",
        "print('fc_ahe_test_acc: ',test_acc)\n",
        "test_loss, test_acc = model.evaluate_generator(fc_ahe_neg_test_generator,len(fc_ahe_neg_test_generator)/BATCH_SIZE)\n",
        "print('fc_ahe__neg_test_acc: ',test_acc)"
      ],
      "execution_count": 24,
      "outputs": [
        {
          "output_type": "stream",
          "text": [
            "test1_acc:  0.9257142884390694\n",
            "ahe_test_acc:  0.9199999911444527\n",
            "ahe__neg_test_acc:  0.9371428574834552\n",
            "fc_ahe_test_acc:  0.8971428615706307\n",
            "fc_ahe__neg_test_acc:  0.9199999911444527\n"
          ],
          "name": "stdout"
        }
      ]
    },
    {
      "metadata": {
        "id": "UFgWzHK7M9Jj",
        "colab_type": "code",
        "colab": {}
      },
      "cell_type": "code",
      "source": [
        "from shutil import copyfile\n",
        "copyfile('handsigns.h5', '/content/gdrive/My Drive/copied_handsigns_preFT.h5')\n",
        "model.save('/content/gdrive/My Drive/saved_handsigns_preFT.h5')"
      ],
      "execution_count": 0,
      "outputs": []
    },
    {
      "metadata": {
        "id": "5Qbom79-Xzsn",
        "colab_type": "code",
        "colab": {}
      },
      "cell_type": "code",
      "source": [
        "#fine tuning the model\n",
        "conv_base.trainable = True\n",
        "\n",
        "set_trainable = False\n",
        "for layer in conv_base.layers:\n",
        "    if layer.name == 'block5_conv1':\n",
        "        set_trainable = True\n",
        "    if set_trainable:\n",
        "        layer.trainable = True\n",
        "    else:\n",
        "        layer.trainable = False"
      ],
      "execution_count": 0,
      "outputs": []
    },
    {
      "metadata": {
        "id": "5-zqPy7NZTNz",
        "colab_type": "code",
        "colab": {
          "base_uri": "https://localhost:8080/",
          "height": 521
        },
        "outputId": "3b0f5891-e2b0-4aff-9f4c-3f84c0b82970"
      },
      "cell_type": "code",
      "source": [
        "optimizer = keras.optimizers.RMSprop(lr=0.0001)\n",
        "model.compile(optimizer=optimizer, loss='categorical_crossentropy', metrics=['accuracy'])\n",
        "\n",
        "callbacks_list = [ callbacks.EarlyStopping(monitor='acc', patience=3), \n",
        "                  callbacks.ModelCheckpoint(filepath = 'handsigns.h5', \n",
        "                  monitor = 'val_loss', \n",
        "                  save_best_only = True), \n",
        "                  callbacks.ReduceLROnPlateau(monitor='val_loss', \n",
        "                  factor = 0.1, \n",
        "                  patience=3) ]\n",
        "\n",
        "\n",
        "history = model.fit_generator(train_generator,\n",
        "                    epochs=NUM_EPOCHS,\n",
        "                    callbacks = callbacks_list,\n",
        "                    verbose = 1,\n",
        "                    steps_per_epoch = steps_per_epoch_train,\n",
        "                    validation_steps = steps_per_epoch_val,\n",
        "                    validation_data=validation_generator)\n",
        "\n"
      ],
      "execution_count": 27,
      "outputs": [
        {
          "output_type": "stream",
          "text": [
            "Epoch 1/40\n",
            "594/593 [==============================] - 240s 404ms/step - loss: 0.6081 - acc: 0.8254 - val_loss: 0.5887 - val_acc: 0.8224\n",
            "Epoch 2/40\n",
            "594/593 [==============================] - 235s 396ms/step - loss: 0.2682 - acc: 0.9164 - val_loss: 0.5107 - val_acc: 0.8679\n",
            "Epoch 3/40\n",
            "594/593 [==============================] - 235s 396ms/step - loss: 0.2030 - acc: 0.9395 - val_loss: 0.7062 - val_acc: 0.8430\n",
            "Epoch 4/40\n",
            "594/593 [==============================] - 234s 394ms/step - loss: 0.1710 - acc: 0.9510 - val_loss: 0.4234 - val_acc: 0.8824\n",
            "Epoch 5/40\n",
            "594/593 [==============================] - 233s 392ms/step - loss: 0.1508 - acc: 0.9554 - val_loss: 0.4945 - val_acc: 0.8964\n",
            "Epoch 6/40\n",
            "594/593 [==============================] - 234s 394ms/step - loss: 0.1491 - acc: 0.9605 - val_loss: 0.5055 - val_acc: 0.8988\n",
            "Epoch 7/40\n",
            "594/593 [==============================] - 234s 394ms/step - loss: 0.1457 - acc: 0.9614 - val_loss: 0.4658 - val_acc: 0.8994\n",
            "Epoch 8/40\n",
            "594/593 [==============================] - 233s 393ms/step - loss: 0.0625 - acc: 0.9807 - val_loss: 0.3401 - val_acc: 0.9285\n",
            "Epoch 9/40\n",
            "594/593 [==============================] - 232s 391ms/step - loss: 0.0446 - acc: 0.9872 - val_loss: 0.4107 - val_acc: 0.9218\n",
            "Epoch 10/40\n",
            "594/593 [==============================] - 232s 391ms/step - loss: 0.0433 - acc: 0.9873 - val_loss: 0.3848 - val_acc: 0.9279\n",
            "Epoch 11/40\n",
            "594/593 [==============================] - 230s 387ms/step - loss: 0.0457 - acc: 0.9875 - val_loss: 0.2864 - val_acc: 0.9333\n",
            "Epoch 12/40\n",
            "594/593 [==============================] - 232s 391ms/step - loss: 0.0363 - acc: 0.9905 - val_loss: 0.3644 - val_acc: 0.9321\n",
            "Epoch 13/40\n",
            "594/593 [==============================] - 228s 384ms/step - loss: 0.0368 - acc: 0.9904 - val_loss: 0.3607 - val_acc: 0.9333\n",
            "Epoch 14/40\n",
            "594/593 [==============================] - 228s 383ms/step - loss: 0.0363 - acc: 0.9899 - val_loss: 0.2777 - val_acc: 0.9388\n",
            "Epoch 15/40\n",
            "594/593 [==============================] - 228s 384ms/step - loss: 0.0361 - acc: 0.9895 - val_loss: 0.2524 - val_acc: 0.9406\n"
          ],
          "name": "stdout"
        }
      ]
    },
    {
      "metadata": {
        "id": "UqIzdlPPcOkA",
        "colab_type": "code",
        "colab": {}
      },
      "cell_type": "code",
      "source": [
        "model.save('/content/gdrive/My Drive/handsignsFT.h5')"
      ],
      "execution_count": 0,
      "outputs": []
    },
    {
      "metadata": {
        "id": "c17YKOkyccV5",
        "colab_type": "code",
        "colab": {
          "base_uri": "https://localhost:8080/",
          "height": 706
        },
        "outputId": "b1412a31-a5f0-45f9-cfdf-87637c8a6524"
      },
      "cell_type": "code",
      "source": [
        "def smooth_curve(points, factor=0.8):\n",
        "  smoothed_points = []\n",
        "  for point in points:\n",
        "    if smoothed_points:\n",
        "      previous = smoothed_points[-1]\n",
        "      smoothed_points.append(previous * factor + point * (1 - factor))\n",
        "    else:\n",
        "      smoothed_points.append(point)\n",
        "  return smoothed_points\n",
        "\n",
        "plt.plot(epochs,\n",
        "         smooth_curve(acc), 'bo', label='Smoothed training acc')\n",
        "plt.plot(epochs,\n",
        "         smooth_curve(val_acc), 'b', label='Smoothed validation acc')\n",
        "plt.title('Training and validation accuracy')\n",
        "plt.legend()\n",
        "\n",
        "plt.figure()\n",
        "\n",
        "plt.plot(epochs,\n",
        "         smooth_curve(loss), 'bo', label='Smoothed training loss')\n",
        "plt.plot(epochs,\n",
        "         smooth_curve(val_loss), 'b', label='Smoothed validation loss')\n",
        "plt.title('Training and validation loss')\n",
        "plt.legend()\n",
        "\n",
        "plt.show()"
      ],
      "execution_count": 28,
      "outputs": [
        {
          "output_type": "display_data",
          "data": {
            "image/png": "[encoded data removed]",
            "text/plain": [
              "<matplotlib.figure.Figure at 0x7fb44a44f438>"
            ]
          },
          "metadata": {
            "tags": []
          }
        },
        {
          "output_type": "display_data",
          "data": {
            "image/png": "[encoded data removed]",
            "text/plain": [
              "<matplotlib.figure.Figure at 0x7fb44ffd24e0>"
            ]
          },
          "metadata": {
            "tags": []
          }
        }
      ]
    },
    {
      "metadata": {
        "id": "LpvnDCDfdH_O",
        "colab_type": "code",
        "colab": {
          "base_uri": "https://localhost:8080/",
          "height": 101
        },
        "outputId": "ba4890b1-f82b-4f0d-f8ae-d38a7eebcfdb"
      },
      "cell_type": "code",
      "source": [
        "test_loss, test_acc = model.evaluate_generator(test1_generator,steps=len(test1_generator)/BATCH_SIZE)\n",
        "print('test1_acc: ',test_acc)\n",
        "test_loss, test_acc = model.evaluate_generator(ahe_test_generator,len(ahe_test_generator)/BATCH_SIZE)\n",
        "print('ahe_test_acc: ',test_acc)\n",
        "test_loss, test_acc = model.evaluate_generator(ahe_neg_test_generator,len(ahe_neg_test_generator)/BATCH_SIZE)\n",
        "print('ahe__neg_test_acc: ',test_acc)\n",
        "\n",
        "test_loss, test_acc = model.evaluate_generator(fc_ahe_test_generator,len(fc_ahe_test_generator)/BATCH_SIZE)\n",
        "print('fc_ahe_test_acc: ',test_acc)\n",
        "test_loss, test_acc = model.evaluate_generator(fc_ahe_neg_test_generator,len(fc_ahe_neg_test_generator)/BATCH_SIZE)\n",
        "print('fc_ahe__neg_test_acc: ',test_acc)"
      ],
      "execution_count": 29,
      "outputs": [
        {
          "output_type": "stream",
          "text": [
            "test1_acc:  0.9885714309556144\n",
            "ahe_test_acc:  0.9942857112203326\n",
            "ahe__neg_test_acc:  0.9885714224406651\n",
            "fc_ahe_test_acc:  1.0\n",
            "fc_ahe__neg_test_acc:  1.0\n"
          ],
          "name": "stdout"
        }
      ]
    },
    {
      "metadata": {
        "id": "aHbAWy2VdpEh",
        "colab_type": "code",
        "colab": {}
      },
      "cell_type": "code",
      "source": [
        "# atudy miss classified images\n",
        "fnames = validation_generator.filenames\n",
        " \n",
        "ground_truth = validation_generator.classes\n",
        " \n",
        "label2index = validation_generator.class_indices\n",
        " \n",
        "# Getting the mapping from class index to class label\n",
        "idx2label = dict((v,k) for k,v in label2index.iteritems())\n",
        " \n",
        "predictions = model.predict_classes(validation_features)\n",
        "prob = model.predict(validation_features)\n",
        " \n",
        "errors = np.where(predictions != ground_truth)[0]\n",
        "print(\"No of errors = {}/{}\".format(len(errors),nVal))"
      ],
      "execution_count": 0,
      "outputs": []
    },
    {
      "metadata": {
        "id": "VbhwQrw8d1EO",
        "colab_type": "code",
        "colab": {}
      },
      "cell_type": "code",
      "source": [
        "for i in range(len(errors)):\n",
        "    pred_class = np.argmax(prob[errors[i]])\n",
        "    pred_label = idx2label[pred_class]\n",
        "     \n",
        "    print('Original label:{}, Prediction :{}, confidence : {:.3f}'.format(\n",
        "        fnames[errors[i]].split('/')[0],\n",
        "        pred_label,\n",
        "        prob[errors[i]][pred_class]))\n",
        "     \n",
        "    original = load_img('{}/{}'.format(validation_dir,fnames[errors[i]]))\n",
        "    plt.imshow(original)\n",
        "    plt.show()"
      ],
      "execution_count": 0,
      "outputs": []
    },
    {
      "metadata": {
        "id": "XSB4zYz-eAuM",
        "colab_type": "code",
        "colab": {}
      },
      "cell_type": "code",
      "source": [
        "# heat charts for each test image dataset\n"
      ],
      "execution_count": 0,
      "outputs": []
    },
    {
      "metadata": {
        "id": "tmOX5_TGgD7a",
        "colab_type": "code",
        "colab": {}
      },
      "cell_type": "code",
      "source": [
        "# algorithm for maximizing predictability using all test prediction datasets"
      ],
      "execution_count": 0,
      "outputs": []
    }
  ]
}