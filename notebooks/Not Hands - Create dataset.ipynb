{
 "cells": [
  {
   "cell_type": "markdown",
   "metadata": {},
   "source": [
    "TODO:\n",
    "\n",
    "- Load all images from \"Hands\"\n",
    "- Load same number of images from image-net\n",
    " - Store these images in their own directory\n",
    "- Take a scatterplot of the sizes of all of the images in both datasets\n",
    "- Create training/test set for each of the filenames\n",
    "- Create the CNN model\n",
    "- Train model on images\n"
   ]
  },
  {
   "cell_type": "code",
   "execution_count": 27,
   "metadata": {},
   "outputs": [],
   "source": [
    "import pandas as pd\n",
    "import matplotlib.pyplot as plt\n",
    "import keras\n",
    "import os\n",
    "from shutil import copyfile"
   ]
  },
  {
   "cell_type": "code",
   "execution_count": 21,
   "metadata": {},
   "outputs": [],
   "source": [
    "DATA_DIRECTORY = '../data'\n",
    "HANDS_DATA_DIRECTORY = os.path.join(DATA_DIRECTORY, 'hands')\n",
    "NOT_HANDS_ORIGINAL_DATA_DIRECTORY = os.path.join(DATA_DIRECTORY, 'not-hands-original')\n",
    "NOT_HANDS_DATA_DIRECTORY = os.path.join(DATA_DIRECTORY, 'not-hands')"
   ]
  },
  {
   "cell_type": "markdown",
   "metadata": {},
   "source": [
    "# Create not-hands Directory"
   ]
  },
  {
   "cell_type": "code",
   "execution_count": 32,
   "metadata": {},
   "outputs": [
    {
     "name": "stdout",
     "output_type": "stream",
     "text": [
      "Found 11076 files from the hands dataset\n",
      "Found 20971 files from the not-hands dataset\n",
      " (Removing 9895 files from the not-hands dataset)\n",
      "Tried to create \"../data/not-hands\" but it already exists\n",
      "Copying 11076 files to new \"not-hands\" directory\n"
     ]
    }
   ],
   "source": [
    "def get_filenames_for_hands_dataset():\n",
    "    files = os.listdir(HANDS_DATA_DIRECTORY)\n",
    "    return files\n",
    "\n",
    "def get_filenames_for_not_hands_original_dataset():\n",
    "    files = os.listdir(NOT_HANDS_ORIGINAL_DATA_DIRECTORY)\n",
    "    return files\n",
    "\n",
    "def ensure_new_directory_exists():\n",
    "    try:\n",
    "        os.mkdir(NOT_HANDS_DATA_DIRECTORY)\n",
    "    except:\n",
    "        print('Tried to create \"{}\" but it already exists'.format(NOT_HANDS_DATA_DIRECTORY))\n",
    "\n",
    "def copy_files_to_new_dataset(filenames):\n",
    "    print('Copying {} files to new \"not-hands\" directory'.format(len(filenames)))\n",
    "    for filename in filenames:\n",
    "        from_file = os.path.join(NOT_HANDS_ORIGINAL_DATA_DIRECTORY, filename)\n",
    "        to_file = os.path.join(NOT_HANDS_DATA_DIRECTORY, filename)\n",
    "        copyfile(from_file, to_file)\n",
    "\n",
    "def create_dataset_for_nothands():\n",
    "    filenames_for_hands_dataset = get_filenames_for_hands_dataset()\n",
    "    num_files_to_use = len(get_filenames_for_hands_dataset())\n",
    "    print('Found {} files from the hands dataset'.format(num_files_to_use))\n",
    "    \n",
    "    filenames_for_hands_original = get_filenames_for_not_hands_original_dataset()\n",
    "    filenames_for_hands = filenames_for_hands_original[:num_files_to_use]\n",
    "\n",
    "    print('Found {} files from the not-hands dataset'.format(len(filenames_for_hands_original)))\n",
    "    num_files_to_remove = len(filenames_for_hands_original) - len(filenames_for_hands)\n",
    "    print(' (Removing {} files from the not-hands dataset)'.format(num_files_to_remove))\n",
    "    ensure_new_directory_exists()\n",
    "    \n",
    "    copy_files_to_new_dataset(filenames_for_hands)\n",
    "    \n",
    "create_dataset_for_nothands()"
   ]
  },
  {
   "cell_type": "markdown",
   "metadata": {},
   "source": [
    "# Create Training/Test Sets"
   ]
  },
  {
   "cell_type": "markdown",
   "metadata": {},
   "source": [
    "https://github.com/kjprice/smu-machine-learning/blob/master/final/Split%20Poster%20Data.ipynb\n",
    "\n",
    "TODO:\n",
    "- Pull in list of filenames  (should already be done from above)\n",
    "- Move filenames to each of the subdirectories (not just copy)\n"
   ]
  },
  {
   "cell_type": "markdown",
   "metadata": {},
   "source": [
    "### Create stratified Cross Validation"
   ]
  },
  {
   "cell_type": "code",
   "execution_count": null,
   "metadata": {},
   "outputs": [],
   "source": [
    "y = movies_poster_merge.samuel\n",
    "X = movies_poster_merge[['filenames', 'samuel']]\n",
    "\n",
    "X_train, X_test, y_train, y_test = train_test_split(X, y, test_size=.3, stratify=y, random_state=42)\n",
    "\n",
    "posters_test_dir = 'data/posters_test'\n",
    "posters_train_dir = 'data/posters_train'\n",
    "posters_sam_train_dir = os.path.join(posters_train_dir, 'sam')\n",
    "posters_not_sam_train_dir = os.path.join(posters_train_dir, 'not_sam')\n",
    "posters_sam_test_dir = os.path.join(posters_test_dir, 'sam')\n",
    "posters_not_sam_test_dir = os.path.join(posters_test_dir, 'not_sam')\n",
    "\n",
    "directories_to_create = [\n",
    "    posters_test_dir,\n",
    "    posters_train_dir,\n",
    "    posters_sam_train_dir,\n",
    "    posters_not_sam_train_dir,\n",
    "    posters_sam_test_dir,\n",
    "    posters_not_sam_test_dir,\n",
    "]\n",
    "\n",
    "def make_sure_directories_exist():\n",
    "    for directory in directories_to_create:\n",
    "    try:\n",
    "        os.mkdir(directory)\n",
    "    except:\n",
    "        print('{} already exists'.format([directory]))\n",
    "\n",
    "def copy_files_to_new_directory():\n",
    "    make_sure_directories_exist()\n",
    "    \n",
    "    train_filenames = X_train\n",
    "    for index, row in train_filenames.iterrows():\n",
    "        filename = row.filenames\n",
    "        file_from = os.path.join(posters_dir, filename)\n",
    "        file_to = ''\n",
    "        if row.samuel:\n",
    "            file_to = os.path.join(posters_sam_train_dir, filename)\n",
    "        else:\n",
    "            file_to = os.path.join(posters_not_sam_train_dir, filename)        \n",
    "        shutil.copyfile(file_from, file_to)\n",
    "\n",
    "    test_filenames = X_test\n",
    "    for index, row in test_filenames.iterrows():\n",
    "        filename = row.filenames\n",
    "        file_from = os.path.join(posters_dir, filename)\n",
    "        file_to = ''\n",
    "        if row.samuel:\n",
    "            file_to = os.path.join(posters_sam_test_dir, filename)\n",
    "        else:\n",
    "            file_to = os.path.join(posters_not_sam_test_dir, filename)        \n",
    "        shutil.copyfile(file_from, file_to)"
   ]
  }
 ],
 "metadata": {
  "kernelspec": {
   "display_name": "Python 3",
   "language": "python",
   "name": "python3"
  },
  "language_info": {
   "codemirror_mode": {
    "name": "ipython",
    "version": 3
   },
   "file_extension": ".py",
   "mimetype": "text/x-python",
   "name": "python",
   "nbconvert_exporter": "python",
   "pygments_lexer": "ipython3",
   "version": "3.6.5"
  }
 },
 "nbformat": 4,
 "nbformat_minor": 2
}
