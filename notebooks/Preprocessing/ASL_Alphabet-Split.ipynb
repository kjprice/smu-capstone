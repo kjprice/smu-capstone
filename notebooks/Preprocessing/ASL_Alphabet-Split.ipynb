{
 "cells": [
  {
   "cell_type": "code",
   "execution_count": 1,
   "metadata": {},
   "outputs": [],
   "source": [
    "# Adaptive histogram equalization\n",
    "from sklearn.model_selection import train_test_split\n",
    "import os\n",
    "import shutil"
   ]
  },
  {
   "cell_type": "code",
   "execution_count": 2,
   "metadata": {},
   "outputs": [],
   "source": [
    "DATA_DIRECTORY = '../../data'\n",
    "\n",
    "ORIGINAL_DATA = os.path.join(DATA_DIRECTORY, 'original', 'asl-alphabet')\n",
    "FABRICATED_DATA = os.path.join(DATA_DIRECTORY, 'fabricated', 'asl_alphabet')\n",
    "\n",
    "ORIGINAL_TRAIN_DIR = os.path.join(ORIGINAL_DATA, 'asl_alphabet_train')\n",
    "\n",
    "NEW_TRAIN_DIR = os.path.join(FABRICATED_DATA, 'split_asl_alphabet_train')\n",
    "NEW_TEST_DIR = os.path.join(FABRICATED_DATA, 'split_asl_alphabet_test')\n",
    "\n",
    "FABRICATED_DIRS = [\n",
    "    NEW_TRAIN_DIR,\n",
    "    NEW_TEST_DIR\n",
    "]"
   ]
  },
  {
   "cell_type": "code",
   "execution_count": 3,
   "metadata": {},
   "outputs": [],
   "source": [
    "TEST_TRAIN_SPLIT = .95 # Train Size"
   ]
  },
  {
   "cell_type": "code",
   "execution_count": 4,
   "metadata": {},
   "outputs": [],
   "source": [
    "# Go through training folder, get just the filenames of each folder. Split these files into test/training sets"
   ]
  },
  {
   "cell_type": "code",
   "execution_count": 5,
   "metadata": {},
   "outputs": [],
   "source": [
    "# A, B, C, D, DELETE, etc\n",
    "ASL_FOLDERS = os.listdir(ORIGINAL_TRAIN_DIR)"
   ]
  },
  {
   "cell_type": "code",
   "execution_count": 6,
   "metadata": {},
   "outputs": [],
   "source": [
    "def create_test_folders_with_letter(letter):\n",
    "    for test_dir in FABRICATED_DIRS:\n",
    "        test_dir_with_letter = os.path.join(test_dir, letter)\n",
    "        os.makedirs(test_dir_with_letter)\n",
    "\n",
    "def make_sure_folders_exist():\n",
    "    for sign in ASL_FOLDERS:\n",
    "        create_test_folders_with_letter(sign)"
   ]
  },
  {
   "cell_type": "code",
   "execution_count": 7,
   "metadata": {},
   "outputs": [],
   "source": [
    "def get_folder_for_batch_type(batch_type='train'):\n",
    "    if batch_type == 'train':\n",
    "        return NEW_TRAIN_DIR\n",
    "    else:\n",
    "        return NEW_TEST_DIR"
   ]
  },
  {
   "cell_type": "code",
   "execution_count": 8,
   "metadata": {},
   "outputs": [],
   "source": [
    "def copy_files(sign, files, batch_type='train'):\n",
    "    infolder = os.path.join(ORIGINAL_TRAIN_DIR, sign)\n",
    "    for file in files:\n",
    "        infile = os.path.join(infolder, file)\n",
    "        new_dir = get_folder_for_batch_type(batch_type)\n",
    "        outdir = os.path.join(new_dir, sign)\n",
    "        outfile = os.path.join(outdir, file)\n",
    "        shutil.copyfile(infile, outfile)"
   ]
  },
  {
   "cell_type": "code",
   "execution_count": 9,
   "metadata": {},
   "outputs": [],
   "source": [
    "# this may throw errors if directories already exist\n",
    "try:\n",
    "    make_sure_folders_exist()\n",
    "except:\n",
    "    print('Cannot create all folders')"
   ]
  },
  {
   "cell_type": "code",
   "execution_count": 10,
   "metadata": {},
   "outputs": [
    {
     "name": "stderr",
     "output_type": "stream",
     "text": [
      "/Users/kjprice/anaconda3/envs/python3.6/lib/python3.6/site-packages/sklearn/model_selection/_split.py:2179: FutureWarning: From version 0.21, test_size will always complement train_size unless both are specified.\n",
      "  FutureWarning)\n"
     ]
    },
    {
     "name": "stdout",
     "output_type": "stream",
     "text": [
      "CPU times: user 5.96 s, sys: 14.9 s, total: 20.9 s\n",
      "Wall time: 47.4 s\n"
     ]
    }
   ],
   "source": [
    "# take random samples from the original dataset and create test/train images out of this\n",
    "def split_data():\n",
    "    for sign in ASL_FOLDERS:\n",
    "        filenames = os.listdir(os.path.join(ORIGINAL_TRAIN_DIR, sign))\n",
    "        train, test = train_test_split(filenames, train_size=TEST_TRAIN_SPLIT)\n",
    "        copy_files(sign, train, 'train')\n",
    "        copy_files(sign, test, 'test')\n",
    "\n",
    "%time split_data()"
   ]
  },
  {
   "cell_type": "code",
   "execution_count": 11,
   "metadata": {},
   "outputs": [
    {
     "name": "stdout",
     "output_type": "stream",
     "text": [
      "2850 images in training dir; and 150 images in testing dir\n"
     ]
    }
   ],
   "source": [
    "training_length = len(os.listdir(os.path.join(NEW_TRAIN_DIR, 'A')))\n",
    "testing_length = len(os.listdir(os.path.join(NEW_TEST_DIR, 'A')))\n",
    "\n",
    "print('{} images in training dir; and {} images in testing dir'.format(training_length, testing_length))"
   ]
  },
  {
   "cell_type": "code",
   "execution_count": null,
   "metadata": {},
   "outputs": [],
   "source": []
  }
 ],
 "metadata": {
  "kernelspec": {
   "display_name": "Python 3",
   "language": "python",
   "name": "python3"
  },
  "language_info": {
   "codemirror_mode": {
    "name": "ipython",
    "version": 3
   },
   "file_extension": ".py",
   "mimetype": "text/x-python",
   "name": "python",
   "nbconvert_exporter": "python",
   "pygments_lexer": "ipython3",
   "version": "3.6.7"
  }
 },
 "nbformat": 4,
 "nbformat_minor": 2
}
