{
 "cells": [
  {
   "cell_type": "code",
   "execution_count": 1,
   "metadata": {},
   "outputs": [],
   "source": [
    "# Adaptive histogram equalization\n",
    "from sklearn.model_selection import train_test_split\n",
    "import os\n",
    "import shutil"
   ]
  },
  {
   "cell_type": "code",
   "execution_count": 2,
   "metadata": {},
   "outputs": [],
   "source": [
    "DATA_DIRECTORY = os.path.join('..', '..', 'data')\n",
    "\n",
    "ORIGINAL_DATA = os.path.join(DATA_DIRECTORY, 'original', 'asl-alphabet')\n",
    "FABRICATED_DATA = os.path.join(DATA_DIRECTORY, 'fabricated', 'asl_alphabet')\n",
    "\n",
    "ORIGINAL_TRAIN_DIR = os.path.join(ORIGINAL_DATA, 'asl_alphabet_train')\n",
    "IMAGES_FROM_MOVIES_DIR = os.path.join(DATA_DIRECTORY, 'fabricated', 'movies')\n",
    "\n",
    "NEW_TRAIN_DIR = os.path.join(FABRICATED_DATA, 'split_asl_alphabet_train')\n",
    "NEW_TEST_DIR = os.path.join(FABRICATED_DATA, 'split_asl_alphabet_test')\n",
    "\n",
    "FABRICATED_DIRS = [\n",
    "    NEW_TRAIN_DIR,\n",
    "    NEW_TEST_DIR\n",
    "]"
   ]
  },
  {
   "cell_type": "code",
   "execution_count": 3,
   "metadata": {},
   "outputs": [],
   "source": [
    "TEST_TRAIN_SPLIT = .95 # Train Size\n",
    "DRY_RUN = False"
   ]
  },
  {
   "cell_type": "code",
   "execution_count": 4,
   "metadata": {},
   "outputs": [],
   "source": [
    "# Go through training folder, get just the filenames of each folder. Split these files into test/training sets"
   ]
  },
  {
   "cell_type": "code",
   "execution_count": 5,
   "metadata": {},
   "outputs": [],
   "source": [
    "# https://stackoverflow.com/questions/141291/how-to-list-only-top-level-directories-in-python\n",
    "# We don't want all files, just \"folders\" from the given directory\n",
    "def get_real_directories(directory):\n",
    "    return next(os.walk(directory))[1]\n"
   ]
  },
  {
   "cell_type": "code",
   "execution_count": 6,
   "metadata": {},
   "outputs": [],
   "source": [
    "def get_sign_names_from_directory(directory):\n",
    "    try:\n",
    "        return get_real_directories(directory)\n",
    "    except:\n",
    "        print('{} directory appears to not exist'.format(directory))\n",
    "        return []"
   ]
  },
  {
   "cell_type": "code",
   "execution_count": 7,
   "metadata": {},
   "outputs": [
    {
     "name": "stdout",
     "output_type": "stream",
     "text": [
      "30 total signs\n"
     ]
    }
   ],
   "source": [
    "# A, B, C, D, DELETE, etc\n",
    "TRAIN_NAMES = get_sign_names_from_directory(ORIGINAL_TRAIN_DIR)\n",
    "MOVIE_NAMES = get_sign_names_from_directory(IMAGES_FROM_MOVIES_DIR)\n",
    "\n",
    "TRAIN_PATHS = [os.path.join(ORIGINAL_TRAIN_DIR, name) for name in TRAIN_NAMES]\n",
    "MOVIE_PATHS = [os.path.join(IMAGES_FROM_MOVIES_DIR, name) for name in MOVIE_NAMES]\n",
    "\n",
    "ASL_FOLDERS = TRAIN_PATHS + MOVIE_PATHS\n",
    "ASL_SIGNS_NAMES = TRAIN_NAMES + MOVIE_NAMES\n",
    "print('{} total signs'.format(len(ASL_FOLDERS)))"
   ]
  },
  {
   "cell_type": "code",
   "execution_count": 8,
   "metadata": {},
   "outputs": [],
   "source": [
    "def create_test_folders_with_letter(letter):\n",
    "    for test_dir in FABRICATED_DIRS:\n",
    "        test_dir_with_letter = os.path.join(test_dir, letter)\n",
    "        try:\n",
    "            os.makedirs(test_dir_with_letter)\n",
    "        except:\n",
    "            continue\n",
    "\n",
    "def make_sure_folders_exist():\n",
    "    for sign in ASL_SIGNS_NAMES:\n",
    "        create_test_folders_with_letter(sign)"
   ]
  },
  {
   "cell_type": "code",
   "execution_count": 9,
   "metadata": {},
   "outputs": [],
   "source": [
    "def get_folder_for_batch_type(batch_type='train'):\n",
    "    if batch_type == 'train':\n",
    "        return NEW_TRAIN_DIR\n",
    "    else:\n",
    "        return NEW_TEST_DIR"
   ]
  },
  {
   "cell_type": "code",
   "execution_count": 10,
   "metadata": {},
   "outputs": [],
   "source": [
    "def copy_files(sign, infolder, files, batch_type='train'):\n",
    "    for file in files:\n",
    "        infile = os.path.join(infolder, file)\n",
    "        new_dir = get_folder_for_batch_type(batch_type)\n",
    "        outdir = os.path.join(new_dir, sign)\n",
    "        outfile = os.path.join(outdir, file)\n",
    "        shutil.copyfile(infile, outfile)"
   ]
  },
  {
   "cell_type": "code",
   "execution_count": 11,
   "metadata": {},
   "outputs": [],
   "source": [
    "# this may throw errors if directories already exist\n",
    "try:\n",
    "    make_sure_folders_exist()\n",
    "except:\n",
    "    print('Cannot create all folders')"
   ]
  },
  {
   "cell_type": "code",
   "execution_count": 12,
   "metadata": {},
   "outputs": [
    {
     "name": "stdout",
     "output_type": "stream",
     "text": [
      "# train | # test | sign\n",
      "-----------------------\n",
      "2850    | 150    | R\n"
     ]
    },
    {
     "name": "stderr",
     "output_type": "stream",
     "text": [
      "/Users/kjprice/anaconda3/envs/python3.6/lib/python3.6/site-packages/sklearn/model_selection/_split.py:2179: FutureWarning: From version 0.21, test_size will always complement train_size unless both are specified.\n",
      "  FutureWarning)\n"
     ]
    },
    {
     "name": "stdout",
     "output_type": "stream",
     "text": [
      "2850    | 150    | U\n",
      "2850    | 150    | I\n",
      "2850    | 150    | N\n",
      "2850    | 150    | G\n",
      "2850    | 150    | Z\n",
      "2850    | 150    | T\n",
      "2850    | 150    | S\n",
      "2850    | 150    | A\n",
      "2850    | 150    | F\n",
      "2850    | 150    | O\n",
      "2850    | 150    | H\n",
      "2850    | 150    | del\n",
      "2850    | 150    | nothing\n",
      "2850    | 150    | space\n",
      "2850    | 150    | M\n",
      "2850    | 150    | J\n",
      "2850    | 150    | C\n",
      "2850    | 150    | D\n",
      "2850    | 150    | V\n",
      "2850    | 150    | Q\n",
      "2850    | 150    | X\n",
      "2850    | 150    | E\n",
      "2850    | 150    | B\n",
      "2850    | 150    | K\n",
      "2850    | 150    | L\n",
      "2850    | 150    | Y\n",
      "2850    | 150    | P\n",
      "2850    | 150    | W\n",
      "137    | 8    | mother\n",
      "CPU times: user 6.73 s, sys: 20.8 s, total: 27.6 s\n",
      "Wall time: 55.9 s\n"
     ]
    }
   ],
   "source": [
    "# take random samples from the original dataset and create test/train images out of this\n",
    "def split_data():\n",
    "    if DRY_RUN:\n",
    "        print('This is just a dry run - will not create files')\n",
    "        print()\n",
    "    print('# train | # test | sign')\n",
    "    print('-----------------------')\n",
    "    for sign, input_folder_path in zip(ASL_SIGNS_NAMES, ASL_FOLDERS):\n",
    "        filenames = os.listdir(input_folder_path)\n",
    "        train, test = train_test_split(filenames, train_size=TEST_TRAIN_SPLIT)\n",
    "        print('{}    | {}    | {}'.format(len(train), len(test), sign))\n",
    "        if not DRY_RUN:\n",
    "            copy_files(sign, input_folder_path, train, 'train')\n",
    "            copy_files(sign, input_folder_path, test, 'test')\n",
    "\n",
    "%time split_data()"
   ]
  }
 ],
 "metadata": {
  "kernelspec": {
   "display_name": "Python 3",
   "language": "python",
   "name": "python3"
  },
  "language_info": {
   "codemirror_mode": {
    "name": "ipython",
    "version": 3
   },
   "file_extension": ".py",
   "mimetype": "text/x-python",
   "name": "python",
   "nbconvert_exporter": "python",
   "pygments_lexer": "ipython3",
   "version": "3.6.6"
  }
 },
 "nbformat": 4,
 "nbformat_minor": 2
}
