{
 "cells": [
  {
   "cell_type": "code",
   "execution_count": 1,
   "metadata": {},
   "outputs": [],
   "source": [
    "# Adaptive histogram equalization\n",
    "import cv2\n",
    "import os, ntpath, re\n",
    "from PIL import Image, ImageOps"
   ]
  },
  {
   "cell_type": "code",
   "execution_count": 2,
   "metadata": {},
   "outputs": [],
   "source": [
    "DATA_DIRECTORY = os.path.join('..', '..', 'data')\n",
    "\n",
    "ORIGINAL_DATA = os.path.join(DATA_DIRECTORY, 'original', 'asl-alphabet')\n",
    "FABRICATED_DATA = os.path.join(DATA_DIRECTORY, 'fabricated', 'asl_alphabet')\n",
    "\n",
    "\n",
    "FABRICATED_TRAIN_DIR = os.path.join(FABRICATED_DATA, 'split_asl_alphabet_train')\n",
    "FABRICATED_TEST_DIR = os.path.join(FABRICATED_DATA, 'split_asl_alphabet_test')\n",
    "\n",
    "NEW_TRAIN_DIR = os.path.join(FABRICATED_DATA, 'processed_asl_train')\n",
    "\n",
    "AHE_TEST_DIR = os.path.join(FABRICATED_DATA, 'processed_ahe_asl_test')\n",
    "AHE_NEG_TEST_DIR = os.path.join(FABRICATED_DATA, 'processed_ahe_neg_asl_test')\n",
    "NEW_UNEDITED_TEST_DIR = os.path.join(FABRICATED_DATA, 'processed_original_test')\n",
    "\n",
    "# Used to quickly create all of these directories\n",
    "FABRICATED_DIRS = [\n",
    "    NEW_TRAIN_DIR,\n",
    "    AHE_TEST_DIR,\n",
    "    AHE_NEG_TEST_DIR,\n",
    "    NEW_UNEDITED_TEST_DIR\n",
    "]\n",
    "\n",
    "# Used to declaritively define relatinships of where we will be saving images\n",
    "DIRECTORY_MAPPINGS = [\n",
    "    {'orig_dirname': FABRICATED_TRAIN_DIR, 'new_dirnames': {'ahe': NEW_TRAIN_DIR, 'ahe_inverted': NEW_TRAIN_DIR, 'original': NEW_TRAIN_DIR}},\n",
    "    {'orig_dirname': FABRICATED_TEST_DIR, 'new_dirnames': {'ahe': AHE_TEST_DIR, 'ahe_inverted': AHE_NEG_TEST_DIR, 'original': NEW_UNEDITED_TEST_DIR}}\n",
    "]\n",
    "\n",
    "# A, B, C, D, DELETE, etc\n",
    "ASL_FOLDERS = os.listdir(FABRICATED_TRAIN_DIR)"
   ]
  },
  {
   "cell_type": "code",
   "execution_count": 3,
   "metadata": {},
   "outputs": [],
   "source": [
    "TEST_RUN = True"
   ]
  },
  {
   "cell_type": "code",
   "execution_count": 4,
   "metadata": {},
   "outputs": [],
   "source": [
    "def create_test_folders_with_letter(letter):\n",
    "    for test_dir in FABRICATED_DIRS:\n",
    "        test_dir_with_letter = os.path.join(test_dir, letter)\n",
    "        os.makedirs(test_dir_with_letter)"
   ]
  },
  {
   "cell_type": "code",
   "execution_count": 5,
   "metadata": {},
   "outputs": [
    {
     "name": "stdout",
     "output_type": "stream",
     "text": [
      "successfully created 29 sets of folders\n",
      "unsuccessfully created 0 sets of folders (probably already existed)\n"
     ]
    }
   ],
   "source": [
    "def create_test_folders():\n",
    "    # create the output folders matching the train data set folders\n",
    "    successfully_created = 0\n",
    "    unsuccessfully_created = 0\n",
    "\n",
    "    for sign_name in ASL_FOLDERS:   \n",
    "        try:\n",
    "            create_test_folders_with_letter(sign_name)\n",
    "            successfully_created = successfully_created + 1\n",
    "        except:\n",
    "            unsuccessfully_created = unsuccessfully_created + 1\n",
    "\n",
    "\n",
    "    print('successfully created {} sets of folders'.format(successfully_created))\n",
    "    print('unsuccessfully created {} sets of folders (probably already existed)'.format(unsuccessfully_created))\n",
    "create_test_folders()"
   ]
  },
  {
   "cell_type": "code",
   "execution_count": 6,
   "metadata": {},
   "outputs": [
    {
     "data": {
      "text/plain": [
       "'A_reg.jpg'"
      ]
     },
     "execution_count": 6,
     "metadata": {},
     "output_type": "execute_result"
    }
   ],
   "source": [
    "def create_filename_for_fabricated_image(original_filename, enhancement):\n",
    "    parts = re.split('\\.', original_filename)\n",
    "    file_body = '.'.join(parts[:-1])\n",
    "    filename_extension = parts[-1]\n",
    "    # the sticky part between the filename and the filename extension\n",
    "    glue = enhancement\n",
    "    return '{}_{}.{}'.format(file_body, glue, filename_extension)\n",
    "create_filename_for_fabricated_image('A.jpg', 'reg')"
   ]
  },
  {
   "cell_type": "code",
   "execution_count": 7,
   "metadata": {},
   "outputs": [],
   "source": [
    "def create_ahe_image(img):\n",
    "    # create a CLAHE object (Arguments are optional).\n",
    "    clahe = cv2.createCLAHE(clipLimit=2.0, tileGridSize=(4,4))\n",
    "    cl1 = clahe.apply(img)\n",
    "    return Image.fromarray(cl1)"
   ]
  },
  {
   "cell_type": "code",
   "execution_count": 8,
   "metadata": {},
   "outputs": [],
   "source": [
    "def create_inverse_image(cl1):\n",
    "    return ImageOps.invert(cl1)"
   ]
  },
  {
   "cell_type": "code",
   "execution_count": 9,
   "metadata": {},
   "outputs": [
    {
     "name": "stdout",
     "output_type": "stream",
     "text": [
      "copying from ../../data/fabricated/asl_alphabet/split_asl_alphabet_train\n",
      "\n",
      "copying to ../../data/fabricated/asl_alphabet/processed_asl_train\n",
      "\n",
      "copying to ../../data/fabricated/asl_alphabet/processed_asl_train\n",
      "\n",
      "copying to ../../data/fabricated/asl_alphabet/processed_asl_train\n",
      "copying from ../../data/fabricated/asl_alphabet/split_asl_alphabet_test\n",
      "\n",
      "copying to ../../data/fabricated/asl_alphabet/processed_ahe_asl_test\n",
      "\n",
      "copying to ../../data/fabricated/asl_alphabet/processed_ahe_neg_asl_test\n",
      "\n",
      "copying to ../../data/fabricated/asl_alphabet/processed_original_test\n"
     ]
    }
   ],
   "source": [
    "# create enhanced images using adaptive histogram equalization (ahe)\n",
    "# create negative images of the ahe images\n",
    "def enhance_and_save_images():\n",
    "    for directory_settings in DIRECTORY_MAPPINGS:\n",
    "        from_dir = directory_settings['orig_dirname']\n",
    "        print('copying from {}'.format(from_dir))\n",
    "        dir_mapping = directory_settings['new_dirnames']\n",
    "        for dirs in dir_mapping:\n",
    "            print()\n",
    "            print('copying to {}'.format(dir_mapping[dirs]))\n",
    "\n",
    "        for sign_name in ASL_FOLDERS:\n",
    "            in_test_dir = os.path.join(from_dir, sign_name)\n",
    "            for infile in os.listdir(in_test_dir):\n",
    "                original_img = cv2.imread(os.path.join(in_test_dir, infile), 0)\n",
    "                ahe_img = create_ahe_image(original_img)\n",
    "                invert_ahe_img = create_inverse_image(ahe_img)\n",
    "\n",
    "                imgs_to_save = [Image.fromarray(original_img), ahe_img, invert_ahe_img]\n",
    "                enhancements = ['original', 'ahe', 'ahe_inverted']\n",
    "                for img, enhancement in zip(imgs_to_save, enhancements):\n",
    "                    out_dir = os.path.join(dir_mapping[enhancement], sign_name)\n",
    "                    outfile_name = create_filename_for_fabricated_image(infile, enhancement)\n",
    "                    outfile_path = os.path.join(out_dir, outfile_name)\n",
    "\n",
    "                    img.save(outfile_path)\n",
    "                if TEST_RUN:\n",
    "                    break\n",
    "enhance_and_save_images()"
   ]
  },
  {
   "cell_type": "code",
   "execution_count": null,
   "metadata": {},
   "outputs": [],
   "source": []
  }
 ],
 "metadata": {
  "kernelspec": {
   "display_name": "Python 3",
   "language": "python",
   "name": "python3"
  },
  "language_info": {
   "codemirror_mode": {
    "name": "ipython",
    "version": 3
   },
   "file_extension": ".py",
   "mimetype": "text/x-python",
   "name": "python",
   "nbconvert_exporter": "python",
   "pygments_lexer": "ipython3",
   "version": "3.6.7"
  }
 },
 "nbformat": 4,
 "nbformat_minor": 2
}
