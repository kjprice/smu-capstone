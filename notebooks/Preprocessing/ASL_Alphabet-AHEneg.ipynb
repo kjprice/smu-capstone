{
 "cells": [
  {
   "cell_type": "code",
   "execution_count": 1,
   "metadata": {},
   "outputs": [],
   "source": [
    "# Adaptive histogram equalization\n",
    "import cv2\n",
    "import os, ntpath, re, shutil\n",
    "from PIL import Image, ImageOps"
   ]
  },
  {
   "cell_type": "code",
   "execution_count": 2,
   "metadata": {},
   "outputs": [],
   "source": [
    "DATA_DIRECTORY = os.path.join('..', '..', 'data')\n",
    "\n",
    "ORIGINAL_DATA = os.path.join(DATA_DIRECTORY, 'original', 'asl-alphabet')\n",
    "FABRICATED_DATA = os.path.join(DATA_DIRECTORY, 'fabricated', 'asl_alphabet')\n",
    "\n",
    "\n",
    "FABRICATED_TRAIN_DIR = os.path.join(FABRICATED_DATA, 'split_asl_alphabet_train')\n",
    "FABRICATED_TEST_DIR = os.path.join(FABRICATED_DATA, 'split_asl_alphabet_test')\n",
    "\n",
    "NEW_TRAIN_DIR = os.path.join(FABRICATED_DATA, 'processed_asl_train')\n",
    "\n",
    "AHE_TEST_DIR = os.path.join(FABRICATED_DATA, 'processed_ahe_asl_test')\n",
    "AHE_NEG_TEST_DIR = os.path.join(FABRICATED_DATA, 'processed_ahe_neg_asl_test')\n",
    "NEW_UNEDITED_TEST_DIR = os.path.join(FABRICATED_DATA, 'processed_original_test')\n",
    "\n",
    "# Used to quickly create all of these directories\n",
    "FABRICATED_DIRS = [\n",
    "    NEW_TRAIN_DIR,\n",
    "    AHE_TEST_DIR,\n",
    "    AHE_NEG_TEST_DIR,\n",
    "    NEW_UNEDITED_TEST_DIR\n",
    "]\n",
    "\n",
    "# Used to declaritively define relatinships of where we will be saving images\n",
    "DIRECTORY_MAPPINGS = [\n",
    "    {'orig_dirname': FABRICATED_TRAIN_DIR, 'new_dirnames': {'ahe': NEW_TRAIN_DIR, 'ahe_inverted': NEW_TRAIN_DIR, 'original': NEW_TRAIN_DIR}},\n",
    "    {'orig_dirname': FABRICATED_TEST_DIR, 'new_dirnames': {'ahe': AHE_TEST_DIR, 'ahe_inverted': AHE_NEG_TEST_DIR, 'original': NEW_UNEDITED_TEST_DIR}}\n",
    "]\n",
    "\n",
    "# A, B, C, D, DELETE, etc\n",
    "ASL_FOLDERS = os.listdir(FABRICATED_TRAIN_DIR)"
   ]
  },
  {
   "cell_type": "code",
   "execution_count": 3,
   "metadata": {},
   "outputs": [],
   "source": [
    "TEST_RUN = True\n",
    "DELETE_FOLDERS = True # Delete/Empty folders before starting"
   ]
  },
  {
   "cell_type": "code",
   "execution_count": 4,
   "metadata": {},
   "outputs": [],
   "source": [
    "def delete_folders():\n",
    "    for _dir in FABRICATED_DIRS:\n",
    "        try:\n",
    "            shutil.rmtree(_dir)\n",
    "        except:\n",
    "            # nothing to do here - it's likely that the directories just don't exist yet\n",
    "            return"
   ]
  },
  {
   "cell_type": "code",
   "execution_count": 5,
   "metadata": {},
   "outputs": [],
   "source": [
    "def create_folders_with_letter(letter):\n",
    "    for _dir in FABRICATED_DIRS:\n",
    "        dir_with_letter = os.path.join(_dir, letter)\n",
    "        os.makedirs(dir_with_letter)"
   ]
  },
  {
   "cell_type": "code",
   "execution_count": 6,
   "metadata": {},
   "outputs": [
    {
     "name": "stdout",
     "output_type": "stream",
     "text": [
      "successfully created 29 sets of folders\n",
      "unsuccessfully created 0 sets of folders (probably already existed)\n"
     ]
    }
   ],
   "source": [
    "def create_folders():\n",
    "    # create the output folders matching the train data set folders\n",
    "    successfully_created = 0\n",
    "    unsuccessfully_created = 0\n",
    "\n",
    "    for sign_name in ASL_FOLDERS:   \n",
    "        try:\n",
    "            create_folders_with_letter(sign_name)\n",
    "            successfully_created = successfully_created + 1\n",
    "        except:\n",
    "            unsuccessfully_created = unsuccessfully_created + 1\n",
    "\n",
    "\n",
    "    print('successfully created {} sets of folders'.format(successfully_created))\n",
    "    print('unsuccessfully created {} sets of folders (probably already existed)'.format(unsuccessfully_created))"
   ]
  },
  {
   "cell_type": "code",
   "execution_count": 7,
   "metadata": {},
   "outputs": [
    {
     "data": {
      "text/plain": [
       "'A_reg.jpg'"
      ]
     },
     "execution_count": 7,
     "metadata": {},
     "output_type": "execute_result"
    }
   ],
   "source": [
    "def create_filename_for_fabricated_image(original_filename, enhancement):\n",
    "    parts = re.split('\\.', original_filename)\n",
    "    file_body = '.'.join(parts[:-1])\n",
    "    filename_extension = parts[-1]\n",
    "    # the sticky part between the filename and the filename extension\n",
    "    glue = enhancement\n",
    "    return '{}_{}.{}'.format(file_body, glue, filename_extension)\n",
    "create_filename_for_fabricated_image('A.jpg', 'reg')"
   ]
  },
  {
   "cell_type": "code",
   "execution_count": 8,
   "metadata": {},
   "outputs": [],
   "source": [
    "def create_ahe_image(img):\n",
    "    # create a CLAHE object (Arguments are optional).\n",
    "    clahe = cv2.createCLAHE(clipLimit=2.0, tileGridSize=(4,4))\n",
    "    cl1 = clahe.apply(img)\n",
    "    return Image.fromarray(cl1)"
   ]
  },
  {
   "cell_type": "code",
   "execution_count": 9,
   "metadata": {},
   "outputs": [],
   "source": [
    "def create_inverse_image(cl1):\n",
    "    return ImageOps.invert(cl1)"
   ]
  },
  {
   "cell_type": "code",
   "execution_count": 10,
   "metadata": {},
   "outputs": [
    {
     "name": "stdout",
     "output_type": "stream",
     "text": [
      "copying from ../../data/fabricated/asl_alphabet/split_asl_alphabet_train\n",
      "\n",
      "copying to ../../data/fabricated/asl_alphabet/processed_asl_train\n",
      "\n",
      "copying to ../../data/fabricated/asl_alphabet/processed_asl_train\n",
      "\n",
      "copying to ../../data/fabricated/asl_alphabet/processed_asl_train\n"
     ]
    },
    {
     "ename": "FileNotFoundError",
     "evalue": "[Errno 2] No such file or directory: '../../data/fabricated/asl_alphabet/processed_asl_train/R/R2837_original.jpg'",
     "output_type": "error",
     "traceback": [
      "\u001b[0;31m---------------------------------------------------------------------------\u001b[0m",
      "\u001b[0;31mFileNotFoundError\u001b[0m                         Traceback (most recent call last)",
      "\u001b[0;32m<ipython-input-10-a459d8b96ab3>\u001b[0m in \u001b[0;36m<module>\u001b[0;34m\u001b[0m\n\u001b[1;32m     29\u001b[0m                 \u001b[0;32mif\u001b[0m \u001b[0mTEST_RUN\u001b[0m\u001b[0;34m:\u001b[0m\u001b[0;34m\u001b[0m\u001b[0;34m\u001b[0m\u001b[0m\n\u001b[1;32m     30\u001b[0m                     \u001b[0;32mbreak\u001b[0m\u001b[0;34m\u001b[0m\u001b[0;34m\u001b[0m\u001b[0m\n\u001b[0;32m---> 31\u001b[0;31m \u001b[0menhance_and_save_images\u001b[0m\u001b[0;34m(\u001b[0m\u001b[0;34m)\u001b[0m\u001b[0;34m\u001b[0m\u001b[0;34m\u001b[0m\u001b[0m\n\u001b[0m",
      "\u001b[0;32m<ipython-input-10-a459d8b96ab3>\u001b[0m in \u001b[0;36menhance_and_save_images\u001b[0;34m()\u001b[0m\n\u001b[1;32m     26\u001b[0m                     \u001b[0moutfile_path\u001b[0m \u001b[0;34m=\u001b[0m \u001b[0mos\u001b[0m\u001b[0;34m.\u001b[0m\u001b[0mpath\u001b[0m\u001b[0;34m.\u001b[0m\u001b[0mjoin\u001b[0m\u001b[0;34m(\u001b[0m\u001b[0mout_dir\u001b[0m\u001b[0;34m,\u001b[0m \u001b[0moutfile_name\u001b[0m\u001b[0;34m)\u001b[0m\u001b[0;34m\u001b[0m\u001b[0;34m\u001b[0m\u001b[0m\n\u001b[1;32m     27\u001b[0m \u001b[0;34m\u001b[0m\u001b[0m\n\u001b[0;32m---> 28\u001b[0;31m                     \u001b[0mimg\u001b[0m\u001b[0;34m.\u001b[0m\u001b[0msave\u001b[0m\u001b[0;34m(\u001b[0m\u001b[0moutfile_path\u001b[0m\u001b[0;34m)\u001b[0m\u001b[0;34m\u001b[0m\u001b[0;34m\u001b[0m\u001b[0m\n\u001b[0m\u001b[1;32m     29\u001b[0m                 \u001b[0;32mif\u001b[0m \u001b[0mTEST_RUN\u001b[0m\u001b[0;34m:\u001b[0m\u001b[0;34m\u001b[0m\u001b[0;34m\u001b[0m\u001b[0m\n\u001b[1;32m     30\u001b[0m                     \u001b[0;32mbreak\u001b[0m\u001b[0;34m\u001b[0m\u001b[0;34m\u001b[0m\u001b[0m\n",
      "\u001b[0;32m~/anaconda3/envs/python3.6/lib/python3.6/site-packages/PIL/Image.py\u001b[0m in \u001b[0;36msave\u001b[0;34m(self, fp, format, **params)\u001b[0m\n\u001b[1;32m   1964\u001b[0m                 \u001b[0;31m# Open also for reading (\"+\"), because TIFF save_all\u001b[0m\u001b[0;34m\u001b[0m\u001b[0;34m\u001b[0m\u001b[0;34m\u001b[0m\u001b[0m\n\u001b[1;32m   1965\u001b[0m                 \u001b[0;31m# writer needs to go back and edit the written data.\u001b[0m\u001b[0;34m\u001b[0m\u001b[0;34m\u001b[0m\u001b[0;34m\u001b[0m\u001b[0m\n\u001b[0;32m-> 1966\u001b[0;31m                 \u001b[0mfp\u001b[0m \u001b[0;34m=\u001b[0m \u001b[0mbuiltins\u001b[0m\u001b[0;34m.\u001b[0m\u001b[0mopen\u001b[0m\u001b[0;34m(\u001b[0m\u001b[0mfilename\u001b[0m\u001b[0;34m,\u001b[0m \u001b[0;34m\"w+b\"\u001b[0m\u001b[0;34m)\u001b[0m\u001b[0;34m\u001b[0m\u001b[0;34m\u001b[0m\u001b[0m\n\u001b[0m\u001b[1;32m   1967\u001b[0m \u001b[0;34m\u001b[0m\u001b[0m\n\u001b[1;32m   1968\u001b[0m         \u001b[0;32mtry\u001b[0m\u001b[0;34m:\u001b[0m\u001b[0;34m\u001b[0m\u001b[0;34m\u001b[0m\u001b[0m\n",
      "\u001b[0;31mFileNotFoundError\u001b[0m: [Errno 2] No such file or directory: '../../data/fabricated/asl_alphabet/processed_asl_train/R/R2837_original.jpg'"
     ]
    }
   ],
   "source": [
    "# create enhanced images using adaptive histogram equalization (ahe)\n",
    "# create negative images of the ahe images\n",
    "def enhance_and_save_images():\n",
    "    if DELETE_FOLDERS:\n",
    "        delete_folders()\n",
    "    create_folders()\n",
    "    for directory_settings in DIRECTORY_MAPPINGS:\n",
    "        from_dir = directory_settings['orig_dirname']\n",
    "        print('copying from {}'.format(from_dir))\n",
    "        dir_mapping = directory_settings['new_dirnames']\n",
    "        for dirs in dir_mapping:\n",
    "            print()\n",
    "            print('copying to {}'.format(dir_mapping[dirs]))\n",
    "\n",
    "        for sign_name in ASL_FOLDERS:\n",
    "            in_dir = os.path.join(from_dir, sign_name)\n",
    "            for infile in os.listdir(in_dir):\n",
    "                original_img = cv2.imread(os.path.join(in_dir, infile), 0)\n",
    "                ahe_img = create_ahe_image(original_img)\n",
    "                invert_ahe_img = create_inverse_image(ahe_img)\n",
    "\n",
    "                imgs_to_save = [Image.fromarray(original_img), ahe_img, invert_ahe_img]\n",
    "                enhancements = ['original', 'ahe', 'ahe_inverted']\n",
    "                for img, enhancement in zip(imgs_to_save, enhancements):\n",
    "                    out_dir = os.path.join(dir_mapping[enhancement], sign_name)\n",
    "                    outfile_name = create_filename_for_fabricated_image(infile, enhancement)\n",
    "                    outfile_path = os.path.join(out_dir, outfile_name)\n",
    "\n",
    "                    img.save(outfile_path)\n",
    "                if TEST_RUN:\n",
    "                    break\n",
    "enhance_and_save_images()"
   ]
  },
  {
   "cell_type": "code",
   "execution_count": null,
   "metadata": {},
   "outputs": [],
   "source": []
  }
 ],
 "metadata": {
  "kernelspec": {
   "display_name": "Python 3",
   "language": "python",
   "name": "python3"
  },
  "language_info": {
   "codemirror_mode": {
    "name": "ipython",
    "version": 3
   },
   "file_extension": ".py",
   "mimetype": "text/x-python",
   "name": "python",
   "nbconvert_exporter": "python",
   "pygments_lexer": "ipython3",
   "version": "3.6.7"
  }
 },
 "nbformat": 4,
 "nbformat_minor": 2
}
