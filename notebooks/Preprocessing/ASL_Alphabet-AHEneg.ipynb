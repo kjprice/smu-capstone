{
 "cells": [
  {
   "cell_type": "code",
   "execution_count": 1,
   "metadata": {},
   "outputs": [],
   "source": [
    "# Adaptive histogram equalization\n",
    "import cv2\n",
    "import os, ntpath\n",
    "from PIL import Image, ImageOps"
   ]
  },
  {
   "cell_type": "code",
   "execution_count": 2,
   "metadata": {},
   "outputs": [],
   "source": [
    "DATA_DIRECTORY = '../../data'\n",
    "\n",
    "ORIGINAL_DATA = os.path.join(DATA_DIRECTORY, 'original', 'asl-alphabet')\n",
    "FABRICATED_DATA = os.path.join(DATA_DIRECTORY, 'fabricated', 'asl_alphabet')\n",
    "\n",
    "\n",
    "FABRICATED_TRAIN_DIR = os.path.join(FABRICATED_DATA, 'asl_alphabet_train')\n",
    "FABRICATED_TEST_DIR = os.path.join(FABRICATED_DATA, 'asl_alphabet_test')\n",
    "\n",
    "AHE_TRAIN_DIR = os.path.join(FABRICATED_DATA, 'ahe_asl_train')\n",
    "AHE_TEST_DIR = os.path.join(FABRICATED_DATA, 'ahe_asl_test')\n",
    "\n",
    "AJE_NEG_TRAIN_DIR = os.path.join(FABRICATED_DATA, 'ahe_neg_asl_train')\n",
    "AHE_NEG_TEST_DIR = os.path.join(FABRICATED_DATA, 'ahe_neg_asl_test')\n",
    "\n",
    "# Used to quickly create all of these directories\n",
    "FABRICATED_DIRS = [\n",
    "    AHE_TRAIN_DIR,\n",
    "    AHE_TEST_DIR,\n",
    "    AJE_NEG_TRAIN_DIR,\n",
    "    AHE_NEG_TEST_DIR\n",
    "]\n",
    "\n",
    "# Used to declaritively define relatinships of where we will be saving images\n",
    "DIRECTORY_MAPPINGS = {\n",
    "    FABRICATED_TRAIN_DIR: { 'reg': AHE_TRAIN_DIR, 'neg': AJE_NEG_TRAIN_DIR},\n",
    "    FABRICATED_TEST_DIR: { 'reg': AHE_TEST_DIR, 'neg': AHE_NEG_TEST_DIR}\n",
    "}"
   ]
  },
  {
   "cell_type": "code",
   "execution_count": 3,
   "metadata": {},
   "outputs": [],
   "source": [
    "# A, B, C, D, DELETE, etc\n",
    "ASL_FOLDERS = os.listdir(FABRICATED_TRAIN_DIR)"
   ]
  },
  {
   "cell_type": "code",
   "execution_count": 4,
   "metadata": {},
   "outputs": [],
   "source": [
    "def create_test_folders_with_letter(letter):\n",
    "    for test_dir in FABRICATED_DIRS:\n",
    "        test_dir_with_letter = os.path.join(test_dir, letter)\n",
    "        os.makedirs(test_dir_with_letter)"
   ]
  },
  {
   "cell_type": "code",
   "execution_count": 5,
   "metadata": {},
   "outputs": [
    {
     "name": "stdout",
     "output_type": "stream",
     "text": [
      "successfully created 29 sets of folders\n",
      "unsuccessfully created 0 sets of folders (probably already existed)\n"
     ]
    }
   ],
   "source": [
    "def create_test_folders():\n",
    "    # create the output folders matching the train data set folders\n",
    "    successfully_created = 0\n",
    "    unsuccessfully_created = 0\n",
    "\n",
    "    for sign_name in ASL_FOLDERS:   \n",
    "        try:\n",
    "            create_test_folders_with_letter(sign_name)\n",
    "            successfully_created = successfully_created + 1\n",
    "        except:\n",
    "            unsuccessfully_created = unsuccessfully_created + 1\n",
    "\n",
    "\n",
    "    print('successfully created {} sets of folders'.format(successfully_created))\n",
    "    print('unsuccessfully created {} sets of folders (probably already existed)'.format(unsuccessfully_created))\n",
    "create_test_folders()"
   ]
  },
  {
   "cell_type": "code",
   "execution_count": 6,
   "metadata": {},
   "outputs": [
    {
     "name": "stdout",
     "output_type": "stream",
     "text": [
      "copying from ../../data/fabricated/asl_alphabet/asl_alphabet_train\n",
      "\n",
      "copying to ../../data/fabricated/asl_alphabet/ahe_asl_train\n",
      "\n",
      "copying to ../../data/fabricated/asl_alphabet/ahe_neg_asl_train\n",
      "copying from ../../data/fabricated/asl_alphabet/asl_alphabet_test\n",
      "\n",
      "copying to ../../data/fabricated/asl_alphabet/ahe_asl_test\n",
      "\n",
      "copying to ../../data/fabricated/asl_alphabet/ahe_neg_asl_test\n"
     ]
    }
   ],
   "source": [
    "# create enhanced images using adaptive histogram equalization (ahe)\n",
    "# create negative images of the ahe images\n",
    "def enhance_and_save_images():\n",
    "    for from_dir in DIRECTORY_MAPPINGS:\n",
    "        print('copying from {}'.format(from_dir))\n",
    "        #from_dir = FABRICATED_TEST_DIR\n",
    "        dir_mapping = DIRECTORY_MAPPINGS[from_dir]\n",
    "        for dirs in DIRECTORY_MAPPINGS[from_dir]:\n",
    "            print()\n",
    "            print('copying to {}'.format(DIRECTORY_MAPPINGS[from_dir][dirs]))\n",
    "\n",
    "        for sign_name in ASL_FOLDERS:\n",
    "            in_test_dir = os.path.join(from_dir, sign_name)\n",
    "            for infile in os.listdir(in_test_dir):\n",
    "                out_dir = os.path.join(dir_mapping['reg'], sign_name)\n",
    "                outfile = os.path.join(out_dir, infile)\n",
    "\n",
    "                img = cv2.imread(os.path.join(in_test_dir, infile), 0)\n",
    "\n",
    "                # create a CLAHE object (Arguments are optional).\n",
    "                clahe = cv2.createCLAHE(clipLimit=2.0, tileGridSize=(4,4))\n",
    "                cl1 = clahe.apply(img)\n",
    "                cv2.imwrite(outfile, cl1)\n",
    "\n",
    "                # create an inverted (negative) image\n",
    "                out_dir = os.path.join(dir_mapping['neg'], sign_name)\n",
    "                outfile = os.path.join(out_dir, infile)\n",
    "\n",
    "\n",
    "                #img = Image.open(os.path.join(ahe_dir, infile))\n",
    "                invert_ahe = ImageOps.invert(Image.fromarray(cl1))\n",
    "                invert_ahe.save(outfile)\n",
    "                break\n",
    "enhance_and_save_images()"
   ]
  },
  {
   "cell_type": "code",
   "execution_count": null,
   "metadata": {},
   "outputs": [],
   "source": []
  },
  {
   "cell_type": "code",
   "execution_count": null,
   "metadata": {},
   "outputs": [],
   "source": []
  }
 ],
 "metadata": {
  "kernelspec": {
   "display_name": "Python 3",
   "language": "python",
   "name": "python3"
  },
  "language_info": {
   "codemirror_mode": {
    "name": "ipython",
    "version": 3
   },
   "file_extension": ".py",
   "mimetype": "text/x-python",
   "name": "python",
   "nbconvert_exporter": "python",
   "pygments_lexer": "ipython3",
   "version": "3.6.7"
  }
 },
 "nbformat": 4,
 "nbformat_minor": 2
}
