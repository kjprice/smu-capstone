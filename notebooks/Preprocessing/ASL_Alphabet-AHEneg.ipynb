{
 "cells": [
  {
   "cell_type": "code",
   "execution_count": 1,
   "metadata": {},
   "outputs": [],
   "source": [
    "# Adaptive histogram equalization\n",
    "import cv2\n",
    "import os, ntpath, re, shutil\n",
    "from PIL import Image, ImageOps\n",
    "import matplotlib.pyplot as plt"
   ]
  },
  {
   "cell_type": "code",
   "execution_count": 2,
   "metadata": {},
   "outputs": [],
   "source": [
    "DATA_DIRECTORY = os.path.join('..', '..', 'data')\n",
    "\n",
    "ORIGINAL_DATA = os.path.join(DATA_DIRECTORY, 'original', 'asl-alphabet')\n",
    "FABRICATED_DATA = os.path.join(DATA_DIRECTORY, 'fabricated', 'asl_alphabet')\n",
    "\n",
    "\n",
    "FABRICATED_TRAIN_DIR = os.path.join(FABRICATED_DATA, 'split_asl_alphabet_train')\n",
    "FABRICATED_TEST_DIR = os.path.join(FABRICATED_DATA, 'split_asl_alphabet_test')\n",
    "\n",
    "NEW_TRAIN_DIR = os.path.join(FABRICATED_DATA, 'processed_asl_train')\n",
    "\n",
    "NEW_UNEDITED_TEST_DIR = os.path.join(FABRICATED_DATA, 'processed_original_test')\n",
    "NEW_GRAYSCALE_TEST_DIR = os.path.join(FABRICATED_DATA, 'processed_grayscale_test')\n",
    "NEW_GRAYSCALE_AHE_TEST_DIR = os.path.join(FABRICATED_DATA, 'processed_ahe_asl_test')\n",
    "NEW_GRAYSCALE_AHE_NEG_TEST_DIR = os.path.join(FABRICATED_DATA, 'processed_ahe_inverted_asl_test')\n",
    "NEW_RGB_AHE_TEST_DIR = os.path.join(FABRICATED_DATA, 'processed_rgb_ahe_test')\n",
    "NEW_RGB_AHE_INVERTED_TEST_DIR = os.path.join(FABRICATED_DATA, 'processed_inverted_rgb_ahe_test')\n",
    "\n",
    "\n",
    "# Used to quickly create all of these directories\n",
    "FABRICATED_DIRS = [\n",
    "    NEW_TRAIN_DIR,\n",
    "    NEW_GRAYSCALE_AHE_TEST_DIR,\n",
    "    NEW_GRAYSCALE_AHE_NEG_TEST_DIR,\n",
    "    NEW_UNEDITED_TEST_DIR,\n",
    "    NEW_GRAYSCALE_TEST_DIR,\n",
    "    NEW_RGB_AHE_TEST_DIR,\n",
    "    NEW_RGB_AHE_INVERTED_TEST_DIR\n",
    "]\n",
    "\n",
    "# Used to declaritively define relatinships of where we will be saving images\n",
    "DIRECTORY_MAPPINGS = [\n",
    "    # for the training directory, we just put all of the processed/original images in there\n",
    "    {'orig_dirname': FABRICATED_TRAIN_DIR, 'new_dirnames': {'ahe': NEW_TRAIN_DIR, 'ahe_inverted': NEW_TRAIN_DIR, 'original': NEW_TRAIN_DIR, 'grayscale': NEW_TRAIN_DIR, 'unkown': NEW_TRAIN_DIR, 'inverted_unknown': NEW_TRAIN_DIR}},\n",
    "    # We actually will create a new directory for each time of preprocessing for test images\n",
    "    {'orig_dirname': FABRICATED_TEST_DIR, 'new_dirnames': {'ahe': NEW_GRAYSCALE_AHE_TEST_DIR, 'ahe_inverted': NEW_GRAYSCALE_AHE_NEG_TEST_DIR, 'original': NEW_UNEDITED_TEST_DIR, 'grayscale': NEW_GRAYSCALE_TEST_DIR, 'unkown': NEW_RGB_AHE_TEST_DIR, 'inverted_unknown': NEW_RGB_AHE_INVERTED_TEST_DIR}}\n",
    "]\n",
    "\n",
    "# A, B, C, D, DELETE, etc\n",
    "ASL_FOLDERS = os.listdir(FABRICATED_TRAIN_DIR)"
   ]
  },
  {
   "cell_type": "code",
   "execution_count": 3,
   "metadata": {},
   "outputs": [],
   "source": [
    "## Settings\n",
    "TEST_RUN = False\n",
    "DELETE_FOLDERS = True # Delete/Empty folders before starting"
   ]
  },
  {
   "cell_type": "code",
   "execution_count": 4,
   "metadata": {},
   "outputs": [],
   "source": [
    "def delete_folders():\n",
    "    for _dir in FABRICATED_DIRS:\n",
    "        try:\n",
    "            shutil.rmtree(_dir)\n",
    "        except:\n",
    "            # nothing to do here - it's likely that the directories just don't exist yet\n",
    "            return"
   ]
  },
  {
   "cell_type": "code",
   "execution_count": 5,
   "metadata": {},
   "outputs": [],
   "source": [
    "def create_folders_with_letter(letter):\n",
    "    for _dir in FABRICATED_DIRS:\n",
    "        dir_with_letter = os.path.join(_dir, letter)\n",
    "        os.makedirs(dir_with_letter)"
   ]
  },
  {
   "cell_type": "code",
   "execution_count": 6,
   "metadata": {},
   "outputs": [],
   "source": [
    "def create_folders():\n",
    "    # create the output folders matching the train data set folders\n",
    "    successfully_created = 0\n",
    "    unsuccessfully_created = 0\n",
    "\n",
    "    for sign_name in ASL_FOLDERS:   \n",
    "        try:\n",
    "            create_folders_with_letter(sign_name)\n",
    "            successfully_created = successfully_created + 1\n",
    "        except:\n",
    "            unsuccessfully_created = unsuccessfully_created + 1\n",
    "\n",
    "\n",
    "    print('successfully created {} sets of folders'.format(successfully_created))\n",
    "    print('unsuccessfully created {} sets of folders (probably already existed)'.format(unsuccessfully_created))"
   ]
  },
  {
   "cell_type": "code",
   "execution_count": 7,
   "metadata": {},
   "outputs": [
    {
     "data": {
      "text/plain": [
       "'A_reg.jpg'"
      ]
     },
     "execution_count": 7,
     "metadata": {},
     "output_type": "execute_result"
    }
   ],
   "source": [
    "def create_filename_for_fabricated_image(original_filename, enhancement):\n",
    "    parts = re.split('\\.', original_filename)\n",
    "    file_body = '.'.join(parts[:-1])\n",
    "    filename_extension = parts[-1]\n",
    "    # the sticky part between the filename and the filename extension\n",
    "    glue = enhancement\n",
    "    return '{}_{}.{}'.format(file_body, glue, filename_extension)\n",
    "create_filename_for_fabricated_image('A.jpg', 'reg')"
   ]
  },
  {
   "cell_type": "code",
   "execution_count": 8,
   "metadata": {},
   "outputs": [],
   "source": [
    "def create_ahe_image(img):\n",
    "    # create a CLAHE object (Arguments are optional).\n",
    "    clahe = cv2.createCLAHE(clipLimit=2.0, tileGridSize=(4,4))\n",
    "    ahe_img = clahe.apply(img)\n",
    "    return Image.fromarray(ahe_img)"
   ]
  },
  {
   "cell_type": "code",
   "execution_count": 9,
   "metadata": {},
   "outputs": [],
   "source": [
    "def create_inverse_image(img):\n",
    "    return ImageOps.invert(img)"
   ]
  },
  {
   "cell_type": "code",
   "execution_count": 10,
   "metadata": {},
   "outputs": [],
   "source": [
    "# need to determine what exactly this one is doing\n",
    "def create_somerandomother_image(img):\n",
    "    #-----Converting image to LAB Color model----------------------------------- \n",
    "    lab = cv2.cvtColor(img, cv2.COLOR_BGR2LAB)\n",
    "    #cv2.imshow(\"lab\",lab)\n",
    "\n",
    "    #-----Splitting the LAB image to different channels-------------------------\n",
    "    l, a, b = cv2.split(lab)\n",
    "\n",
    "    #-----Applying CLAHE to L-channel-------------------------------------------\n",
    "    clahe = cv2.createCLAHE(clipLimit=15.0, tileGridSize=(10,10))\n",
    "    cl = clahe.apply(l)\n",
    "    #cv2.imshow('CLAHE output', cl)\n",
    "\n",
    "    #-----Merge the CLAHE enhanced L-channel with the a and b channel-----------\n",
    "    limg = cv2.merge((cl,a,b))\n",
    "    #cv2.imshow('limg', limg)\n",
    "\n",
    "    #-----Converting image from LAB Color model to RGB model--------------------\n",
    "    final = cv2.cvtColor(limg, cv2.COLOR_LAB2RGB)\n",
    "    return Image.fromarray(final)"
   ]
  },
  {
   "cell_type": "code",
   "execution_count": 11,
   "metadata": {},
   "outputs": [],
   "source": [
    "def process_and_save_each_image_in_path(in_dir, sign_name, dir_mapping):\n",
    "    for infile in os.listdir(in_dir):\n",
    "        # Grayscale\n",
    "        original_img = cv2.imread(os.path.join(in_dir, infile), 1)\n",
    "        grayscale_img = cv2.cvtColor(original_img, cv2.COLOR_BGR2GRAY)\n",
    "        ahe_img = create_ahe_image(grayscale_img)\n",
    "        invert_ahe_img = create_inverse_image(ahe_img)\n",
    "        \n",
    "        unkown_img = create_somerandomother_image(original_img)\n",
    "        inverted_unknown = create_inverse_image(unkown_img)\n",
    "\n",
    "        imgs_to_save = [Image.fromarray(original_img), Image.fromarray(grayscale_img), ahe_img, invert_ahe_img, unkown_img, inverted_unknown]\n",
    "        enhancements = ['original', 'grayscale', 'ahe', 'ahe_inverted', 'unkown', 'inverted_unknown']\n",
    "        #filenames = [create_filename_for_fabricated_image(infile, enhancement) for enhancement in enhancements]\n",
    "        for img, enhancement in zip(imgs_to_save, enhancements):\n",
    "            outdir_base = dir_mapping[enhancement]\n",
    "            out_dir = os.path.join(outdir_base, sign_name)\n",
    "            outfile_name = create_filename_for_fabricated_image(infile, enhancement)\n",
    "            outfile_path = os.path.join(out_dir, outfile_name)\n",
    "\n",
    "            img.save(outfile_path)\n",
    "        if TEST_RUN:\n",
    "            break"
   ]
  },
  {
   "cell_type": "code",
   "execution_count": 12,
   "metadata": {},
   "outputs": [
    {
     "name": "stdout",
     "output_type": "stream",
     "text": [
      "successfully created 29 sets of folders\n",
      "unsuccessfully created 0 sets of folders (probably already existed)\n",
      "copying from ../../data/fabricated/asl_alphabet/split_asl_alphabet_train\n",
      "-- copying to ../../data/fabricated/asl_alphabet/processed_asl_train\n",
      "-- copying to ../../data/fabricated/asl_alphabet/processed_asl_train\n",
      "-- copying to ../../data/fabricated/asl_alphabet/processed_asl_train\n",
      "-- copying to ../../data/fabricated/asl_alphabet/processed_asl_train\n",
      "-- copying to ../../data/fabricated/asl_alphabet/processed_asl_train\n",
      "-- copying to ../../data/fabricated/asl_alphabet/processed_asl_train\n",
      "copying from ../../data/fabricated/asl_alphabet/split_asl_alphabet_test\n",
      "-- copying to ../../data/fabricated/asl_alphabet/processed_ahe_asl_test\n",
      "-- copying to ../../data/fabricated/asl_alphabet/processed_ahe_inverted_asl_test\n",
      "-- copying to ../../data/fabricated/asl_alphabet/processed_original_test\n",
      "-- copying to ../../data/fabricated/asl_alphabet/processed_grayscale_test\n",
      "-- copying to ../../data/fabricated/asl_alphabet/processed_rgb_ahe_test\n",
      "-- copying to ../../data/fabricated/asl_alphabet/processed_inverted_rgb_ahe_test\n",
      "CPU times: user 21min 26s, sys: 2min 20s, total: 23min 47s\n",
      "Wall time: 22min 56s\n"
     ]
    }
   ],
   "source": [
    "# create enhanced images using adaptive histogram equalization (ahe)\n",
    "# create negative images of the ahe images\n",
    "def enhance_and_save_images():\n",
    "    if DELETE_FOLDERS:\n",
    "        delete_folders()\n",
    "    create_folders()\n",
    "\n",
    "    # directory_settings Will be done for training and test image directories\n",
    "    for directory_settings in DIRECTORY_MAPPINGS:\n",
    "        from_dir = directory_settings['orig_dirname']\n",
    "        print('copying from {}'.format(from_dir))\n",
    "        dir_mapping = directory_settings['new_dirnames']\n",
    "        for dirs in dir_mapping:\n",
    "            print('-- copying to {}'.format(dir_mapping[dirs]))\n",
    "\n",
    "        for sign_name in ASL_FOLDERS:\n",
    "            in_dir = os.path.join(from_dir, sign_name)\n",
    "\n",
    "            process_and_save_each_image_in_path(in_dir, sign_name, dir_mapping)\n",
    "%time enhance_and_save_images()"
   ]
  },
  {
   "cell_type": "code",
   "execution_count": null,
   "metadata": {},
   "outputs": [],
   "source": []
  }
 ],
 "metadata": {
  "kernelspec": {
   "display_name": "Python 3",
   "language": "python",
   "name": "python3"
  },
  "language_info": {
   "codemirror_mode": {
    "name": "ipython",
    "version": 3
   },
   "file_extension": ".py",
   "mimetype": "text/x-python",
   "name": "python",
   "nbconvert_exporter": "python",
   "pygments_lexer": "ipython3",
   "version": "3.6.6"
  }
 },
 "nbformat": 4,
 "nbformat_minor": 2
}
