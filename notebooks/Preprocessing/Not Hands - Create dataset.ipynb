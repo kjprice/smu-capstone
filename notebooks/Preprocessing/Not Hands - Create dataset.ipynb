{
 "cells": [
  {
   "cell_type": "code",
   "execution_count": 1,
   "metadata": {},
   "outputs": [
    {
     "name": "stderr",
     "output_type": "stream",
     "text": [
      "/usr/local/lib/python3.6/site-packages/h5py/__init__.py:36: FutureWarning: Conversion of the second argument of issubdtype from `float` to `np.floating` is deprecated. In future, it will be treated as `np.float64 == np.dtype(float).type`.\n",
      "  from ._conv import register_converters as _register_converters\n",
      "Using TensorFlow backend.\n"
     ]
    }
   ],
   "source": [
    "import pandas as pd\n",
    "import matplotlib.pyplot as plt\n",
    "import keras\n",
    "import os\n",
    "from shutil import copyfile\n",
    "from PIL import Image"
   ]
  },
  {
   "cell_type": "code",
   "execution_count": 2,
   "metadata": {},
   "outputs": [],
   "source": [
    "DATA_DIRECTORY = '../../data'\n",
    "\n",
    "ORIGINAL_DATA = os.path.join(DATA_DIRECTORY, 'original')\n",
    "FABRICATED_DATA = os.path.join(DATA_DIRECTORY, 'fabricated')\n",
    "\n",
    "HANDS_DATA_DIRECTORY = os.path.join(ORIGINAL_DATA, 'hands')\n",
    "NOT_HANDS_ORIGINAL_DATA_DIRECTORY = os.path.join(ORIGINAL_DATA, 'not-hands-original')\n",
    "NOT_HANDS_DATA_DIRECTORY = os.path.join(FABRICATED_DATA, 'not-hands')"
   ]
  },
  {
   "cell_type": "markdown",
   "metadata": {},
   "source": [
    "# Create not-hands Directory"
   ]
  },
  {
   "cell_type": "code",
   "execution_count": 3,
   "metadata": {},
   "outputs": [],
   "source": [
    "def get_filenames_for_hands_dataset():\n",
    "    files = os.listdir(HANDS_DATA_DIRECTORY)\n",
    "    return files\n",
    "\n",
    "def get_filenames_for_not_hands_original_dataset():\n",
    "    files = os.listdir(NOT_HANDS_ORIGINAL_DATA_DIRECTORY)\n",
    "    return files\n"
   ]
  },
  {
   "cell_type": "code",
   "execution_count": 4,
   "metadata": {},
   "outputs": [],
   "source": [
    "def can_load_image(filepath):\n",
    "    try:\n",
    "        im = Image.open(filepath)\n",
    "        return True\n",
    "    except:\n",
    "        return False\n",
    "\n",
    "def large_enough(filepath):\n",
    "    filesize = os.path.getsize(filepath)\n",
    "    # image should be at least 2,000 bytes to be considered usable\n",
    "    return filesize > 2051\n",
    "\n",
    "def filter_good_images(filenames):\n",
    "    bad_images_count = 0\n",
    "    small_images_count = 0\n",
    "    good_filenames = []\n",
    "\n",
    "    for filename in filenames:\n",
    "        filepath = os.path.join(NOT_HANDS_ORIGINAL_DATA_DIRECTORY, filename)\n",
    "        if (not can_load_image(filepath)):\n",
    "            bad_images_count += 1\n",
    "            continue\n",
    "        \n",
    "        if (not large_enough(filepath)):\n",
    "            small_images_count += 1\n",
    "            continue\n",
    "\n",
    "        good_filenames.append(filename)\n",
    "\n",
    "    print('Unable to load {} images'.format(bad_images_count))\n",
    "    print('Found {} images that are too small'.format(small_images_count))\n",
    "    return good_filenames\n",
    "\n"
   ]
  },
  {
   "cell_type": "code",
   "execution_count": 5,
   "metadata": {},
   "outputs": [
    {
     "name": "stdout",
     "output_type": "stream",
     "text": [
      "Found 11076 files from the hands dataset\n",
      "Found 20971 files from the not-hands dataset\n",
      "Unable to load 6486 images\n",
      "Found 2013 images that are too small\n",
      "Found 12472 files from the not-hands dataset after removing bad files\n",
      "Copying 12472 files to new \"not-hands\" directory\n"
     ]
    }
   ],
   "source": [
    "\n",
    "\n",
    "def ensure_new_directory_exists():\n",
    "    try:\n",
    "        os.mkdir(NOT_HANDS_DATA_DIRECTORY)\n",
    "    except:\n",
    "        print('Tried to create \"{}\" but it already exists'.format(NOT_HANDS_DATA_DIRECTORY))\n",
    "\n",
    "def copy_files_to_new_dataset(filenames):\n",
    "    print('Copying {} files to new \"not-hands\" directory'.format(len(filenames)))\n",
    "    for filename in filenames:\n",
    "        from_file = os.path.join(NOT_HANDS_ORIGINAL_DATA_DIRECTORY, filename)\n",
    "        to_file = os.path.join(NOT_HANDS_DATA_DIRECTORY, filename)\n",
    "        copyfile(from_file, to_file)\n",
    "\n",
    "def create_dataset_for_nothands():\n",
    "    filenames_for_hands_dataset = get_filenames_for_hands_dataset()\n",
    "    print('Found {} files from the hands dataset'.format(len(get_filenames_for_hands_dataset())))\n",
    "    \n",
    "    filenames_for_not_hands_original = get_filenames_for_not_hands_original_dataset()\n",
    "    print('Found {} files from the not-hands dataset'.format(len(filenames_for_not_hands_original)))\n",
    "    good_filenames_for_not_hands = filter_good_images(filenames_for_not_hands_original)\n",
    "    print('Found {} files from the not-hands dataset after removing bad files'.format(len(good_filenames_for_not_hands)))\n",
    "\n",
    "    ensure_new_directory_exists()\n",
    "    \n",
    "    copy_files_to_new_dataset(good_filenames_for_not_hands)\n",
    "    \n",
    "create_dataset_for_nothands()"
   ]
  },
  {
   "cell_type": "code",
   "execution_count": null,
   "metadata": {},
   "outputs": [],
   "source": []
  }
 ],
 "metadata": {
  "kernelspec": {
   "display_name": "Python 3",
   "language": "python",
   "name": "python3"
  },
  "language_info": {
   "codemirror_mode": {
    "name": "ipython",
    "version": 3
   },
   "file_extension": ".py",
   "mimetype": "text/x-python",
   "name": "python",
   "nbconvert_exporter": "python",
   "pygments_lexer": "ipython3",
   "version": "3.6.5"
  }
 },
 "nbformat": 4,
 "nbformat_minor": 2
}
