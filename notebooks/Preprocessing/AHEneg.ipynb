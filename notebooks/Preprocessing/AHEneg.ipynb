{
 "cells": [
  {
   "cell_type": "code",
   "execution_count": 1,
   "metadata": {},
   "outputs": [],
   "source": [
    "# Adaptive histogram equalization\n",
    "import cv2\n",
    "import os, ntpath\n",
    "from PIL import Image, ImageOps"
   ]
  },
  {
   "cell_type": "code",
   "execution_count": 4,
   "metadata": {},
   "outputs": [],
   "source": [
    "DATA_DIRECTORY = '../../data'\n",
    "\n",
    "ORIGINAL_DATA = os.path.join(DATA_DIRECTORY, 'original', 'asl-alphabet')\n",
    "FABRICATED_DATA = os.path.join(DATA_DIRECTORY, 'fabricated', 'asl_alphabet')\n",
    "\n",
    "\n",
    "ORIGINAL_TRAIN_DIR = os.path.join(ORIGINAL_DATA, 'asl_alphabet_train')\n",
    "ORIGINAL_TEST_DIR = os.path.join(ORIGINAL_DATA, 'asl_alphabet_test')\n",
    "\n",
    "AHE_TRAIN_DIR = os.path.join(FABRICATED_DATA, 'ahe_asl_train')\n",
    "AHE_TEST_DIR = os.path.join(FABRICATED_DATA, 'ahe_asl_test')\n",
    "\n",
    "AJE_NEG_TRAIN_DIR = os.path.join(FABRICATED_DATA, 'ahe_neg_asl_train')\n",
    "AHE_NEG_TEST_DIR = os.path.join(FABRICATED_DATA, 'ahe_neg_asl_test')\n",
    "\n",
    "FABRICATED_DIRS = [\n",
    "    AHE_TRAIN_DIR,\n",
    "    AHE_TEST_DIR,\n",
    "    AJE_NEG_TRAIN_DIR,\n",
    "    AHE_NEG_TEST_DIR\n",
    "]"
   ]
  },
  {
   "cell_type": "code",
   "execution_count": 5,
   "metadata": {},
   "outputs": [],
   "source": [
    "# A, B, C, D, DELETE, etc\n",
    "ASL_FOLDERS = os.listdir(ORIGINAL_TRAIN_DIR)"
   ]
  },
  {
   "cell_type": "code",
   "execution_count": 6,
   "metadata": {},
   "outputs": [],
   "source": [
    "def create_test_folders_with_letter(letter):\n",
    "    for test_dir in FABRICATED_DIRS:\n",
    "        test_dir_with_letter = os.path.join(test_dir, letter)\n",
    "        os.makedirs(test_dir_with_letter)"
   ]
  },
  {
   "cell_type": "code",
   "execution_count": 7,
   "metadata": {},
   "outputs": [
    {
     "name": "stdout",
     "output_type": "stream",
     "text": [
      "successfully created 0 sets of folders\n",
      "unsuccessfully created 29 sets of folders (probably already existed)\n"
     ]
    }
   ],
   "source": [
    "def create_test_folders():\n",
    "    # create the output folders matching the train data set folders\n",
    "    successfully_created = 0\n",
    "    unsuccessfully_created = 0\n",
    "\n",
    "    for sign_name in ASL_FOLDERS:   \n",
    "        try:\n",
    "            create_test_folders_with_letter(sign_name)\n",
    "            successfully_created = successfully_created + 1\n",
    "        except:\n",
    "            unsuccessfully_created = unsuccessfully_created + 1\n",
    "\n",
    "\n",
    "    print('successfully created {} sets of folders'.format(successfully_created))\n",
    "    print('unsuccessfully created {} sets of folders (probably already existed)'.format(unsuccessfully_created))\n",
    "create_test_folders()"
   ]
  },
  {
   "cell_type": "code",
   "execution_count": 8,
   "metadata": {},
   "outputs": [
    {
     "ename": "FileNotFoundError",
     "evalue": "[Errno 2] No such file or directory: '../../data/original/asl-alphabet/asl_alphabet_test/R'",
     "output_type": "error",
     "traceback": [
      "\u001b[0;31m---------------------------------------------------------------------------\u001b[0m",
      "\u001b[0;31mFileNotFoundError\u001b[0m                         Traceback (most recent call last)",
      "\u001b[0;32m<ipython-input-8-5b77e162fa21>\u001b[0m in \u001b[0;36m<module>\u001b[0;34m\u001b[0m\n\u001b[1;32m      6\u001b[0m \u001b[0;32mfor\u001b[0m \u001b[0msign_name\u001b[0m \u001b[0;32min\u001b[0m \u001b[0mASL_FOLDERS\u001b[0m\u001b[0;34m:\u001b[0m\u001b[0;34m\u001b[0m\u001b[0;34m\u001b[0m\u001b[0m\n\u001b[1;32m      7\u001b[0m     \u001b[0min_test_dir\u001b[0m \u001b[0;34m=\u001b[0m \u001b[0mos\u001b[0m\u001b[0;34m.\u001b[0m\u001b[0mpath\u001b[0m\u001b[0;34m.\u001b[0m\u001b[0mjoin\u001b[0m\u001b[0;34m(\u001b[0m\u001b[0mORIGINAL_TEST_DIR\u001b[0m\u001b[0;34m,\u001b[0m \u001b[0msign_name\u001b[0m\u001b[0;34m)\u001b[0m\u001b[0;34m\u001b[0m\u001b[0;34m\u001b[0m\u001b[0m\n\u001b[0;32m----> 8\u001b[0;31m     \u001b[0;32mfor\u001b[0m \u001b[0minfile\u001b[0m \u001b[0;32min\u001b[0m \u001b[0mos\u001b[0m\u001b[0;34m.\u001b[0m\u001b[0mlistdir\u001b[0m\u001b[0;34m(\u001b[0m\u001b[0min_test_dir\u001b[0m\u001b[0;34m)\u001b[0m\u001b[0;34m:\u001b[0m\u001b[0;34m\u001b[0m\u001b[0;34m\u001b[0m\u001b[0m\n\u001b[0m\u001b[1;32m      9\u001b[0m         \u001b[0mindir\u001b[0m \u001b[0;34m=\u001b[0m \u001b[0mos\u001b[0m\u001b[0;34m.\u001b[0m\u001b[0mpath\u001b[0m\u001b[0;34m.\u001b[0m\u001b[0mjoin\u001b[0m\u001b[0;34m(\u001b[0m\u001b[0mORIGINAL_TEST_DIR\u001b[0m\u001b[0;34m,\u001b[0m \u001b[0msign_name\u001b[0m\u001b[0;34m)\u001b[0m\u001b[0;34m\u001b[0m\u001b[0;34m\u001b[0m\u001b[0m\n\u001b[1;32m     10\u001b[0m \u001b[0;34m\u001b[0m\u001b[0m\n",
      "\u001b[0;31mFileNotFoundError\u001b[0m: [Errno 2] No such file or directory: '../../data/original/asl-alphabet/asl_alphabet_test/R'"
     ]
    }
   ],
   "source": [
    "# create enhanced images using adaptive histogram equalization (ahe)\n",
    "# create negative images of the ahe images\n",
    "# test dataset images first next code block is training images\n",
    "\n",
    "\n",
    "for sign_name in ASL_FOLDERS:\n",
    "    in_test_dir = os.path.join(ORIGINAL_TEST_DIR, sign_name)\n",
    "    for infile in os.listdir(in_test_dir): \n",
    "        indir = os.path.join(ORIGINAL_TEST_DIR, sign_name)\n",
    "        \n",
    "        out_dir = os.path.join(AHE_TEST_DIR, sign_name)\n",
    "        outfile = os.path.join(out_dir, infile)\n",
    "\n",
    "        img = cv2.imread(os.path.join(indir, infile), 0)\n",
    "                        \n",
    "        # create a CLAHE object (Arguments are optional).\n",
    "        clahe = cv2.createCLAHE(clipLimit=2.0, tileGridSize=(4,4))\n",
    "        cl1 = clahe.apply(img)\n",
    "\n",
    "        cv2.imwrite(outfile, cl1)\n",
    "        \n",
    "        # here we are inverting the image (I suppose \"negative\")\n",
    "        ahe_dir = out_dir\n",
    "        # ahefile = os.path.join(ahe_dir,infile)\n",
    "        out_dir = ntpath.dirname(os.path.join(ahe_neg_test_dir,letter_folder))\n",
    "        outfile = os.path.join(out_dir, infile)\n",
    "        \n",
    "\n",
    "        img = Image.open(os.path.join(ahe_dir, infile))\n",
    "        invert_ahe = ImageOps.invert(img)\n",
    "        invert_ahe.save(outfile)"
   ]
  },
  {
   "cell_type": "code",
   "execution_count": null,
   "metadata": {},
   "outputs": [],
   "source": [
    "# ahe enhancement and negative images of ahe images for the training dataset images\n",
    "\n",
    "from PIL import Image\n",
    "from PIL import ImageOps\n",
    "import cv2\n",
    "\n",
    "for signFolder in range (len(ASL_FOLDERS)): \n",
    "    sign_dir = os.path.join(original_dataset_dir, ASL_FOLDERS[signFolder]) \n",
    "    letter_folder = os.path.join(ASL_FOLDERS[signFolder], str(\" \"))\n",
    "    in_train_dir = ntpath.dirname(os.path.join(train_dir, letter_folder))\n",
    "    for infile in os.listdir(in_train_dir): \n",
    "        indir = ntpath.dirname(os.path.join(train_dir,letter_folder))\n",
    "        \n",
    "        out_dir = ntpath.dirname(os.path.join(ahe_train_dir,letter_folder))\n",
    "        outfile = os.path.join(out_dir,infile)\n",
    "\n",
    "        img = cv2.imread(os.path.join(indir,infile),0)\n",
    "                        \n",
    "        # create a CLAHE object (Arguments are optional).\n",
    "        clahe = cv2.createCLAHE(clipLimit=2.0, tileGridSize=(4,4))\n",
    "        cl1 = clahe.apply(img)\n",
    "\n",
    "        cv2.imwrite(outfile,cl1)\n",
    "            \n",
    "        ahe_dir = ntpath.dirname(os.path.join(ahe_train_dir,letter_folder))\n",
    "        ahefile = os.path.join(ahe_dir,infile)\n",
    "        out_dir = ntpath.dirname(os.path.join(ahe_neg_train_dir,letter_folder))\n",
    "        outfile = os.path.join(out_dir,infile)\n",
    "        \n",
    "\n",
    "        img = Image.open(os.path.join(ahe_dir,infile))\n",
    "        invert_ahe = ImageOps.invert(img)\n",
    "        invert_ahe.save(outfile)                         \n"
   ]
  },
  {
   "cell_type": "code",
   "execution_count": null,
   "metadata": {},
   "outputs": [],
   "source": []
  }
 ],
 "metadata": {
  "kernelspec": {
   "display_name": "Python 3",
   "language": "python",
   "name": "python3"
  },
  "language_info": {
   "codemirror_mode": {
    "name": "ipython",
    "version": 3
   },
   "file_extension": ".py",
   "mimetype": "text/x-python",
   "name": "python",
   "nbconvert_exporter": "python",
   "pygments_lexer": "ipython3",
   "version": "3.6.7"
  }
 },
 "nbformat": 4,
 "nbformat_minor": 2
}
