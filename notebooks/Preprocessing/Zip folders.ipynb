{
 "cells": [
  {
   "cell_type": "code",
   "execution_count": 1,
   "metadata": {},
   "outputs": [],
   "source": [
    "import os\n"
   ]
  },
  {
   "cell_type": "code",
   "execution_count": 2,
   "metadata": {},
   "outputs": [],
   "source": [
    "# Get the absolute path here so that we can run the following cell multiple times if we want (can only run this cell once though)\n",
    "DATA_DIRECTORY_PRE_CHDIR = os.path.abspath(os.path.join('..', '..', 'data'))\n"
   ]
  },
  {
   "cell_type": "code",
   "execution_count": 3,
   "metadata": {},
   "outputs": [],
   "source": [
    "FABRICATED_DATA = os.path.join(DATA_DIRECTORY_PRE_CHDIR, 'fabricated', 'asl_alphabet')\n",
    "# We actually need to change directory so that we don't have a ton of nested paths in the zip\n",
    "os.chdir(FABRICATED_DATA)\n",
    "\n",
    "# All other folder references below will be relative to the current directory (as we have changed the working directory)\n",
    "\n",
    "ZIP_DIRECTORY = os.path.join('asl_alphabet_original.zip')\n",
    "\n",
    "FABRICATED_TRAIN_DIR = os.path.join('split_asl_alphabet_train')\n",
    "FABRICATED_TEST_DIR = os.path.join('split_asl_alphabet_test')\n",
    "NEW_RGB_AHE_TEST_DIR = os.path.join('processed_rgb_ahe_test')\n",
    "\n",
    "\n",
    "FOLDERS_TO_ZIP = [\n",
    "    FABRICATED_TRAIN_DIR,\n",
    "    FABRICATED_TEST_DIR,\n",
    "    NEW_RGB_AHE_TEST_DIR,\n",
    "]\n"
   ]
  },
  {
   "cell_type": "code",
   "execution_count": 4,
   "metadata": {},
   "outputs": [],
   "source": [
    "from zipfile import ZipFile \n",
    "  \n",
    "def get_all_file_paths(directory): \n",
    "  \n",
    "    # initializing empty file paths list \n",
    "    file_paths = [] \n",
    "  \n",
    "    # crawling through directory and subdirectories \n",
    "    for root, directories, files in os.walk(directory): \n",
    "        for filename in files: \n",
    "            # join the two strings in order to form the full filepath. \n",
    "            filepath = os.path.join(root, filename) \n",
    "            file_paths.append(filepath) \n",
    "  \n",
    "    # returning all file paths \n",
    "    return file_paths  "
   ]
  },
  {
   "cell_type": "code",
   "execution_count": 5,
   "metadata": {},
   "outputs": [
    {
     "name": "stdout",
     "output_type": "stream",
     "text": [
      "found 86931 files to zip from split_asl_alphabet_train\n",
      "found 9006 files to zip from split_asl_alphabet_test\n",
      "found 12420 files to zip from processed_rgb_ahe_test\n",
      "All 108357 files zipped successfully\n",
      "CPU times: user 14.6 s, sys: 12.8 s, total: 27.4 s\n",
      "Wall time: 1min 7s\n"
     ]
    }
   ],
   "source": [
    "def zip_all():\n",
    "    # path to folder which needs to be zipped \n",
    "    file_paths_all = []\n",
    "    number_of_files_zipped = 0\n",
    "    for directory in FOLDERS_TO_ZIP:\n",
    "        # calling function to get all file paths in the directory \n",
    "        file_paths = get_all_file_paths(directory) \n",
    "        print('found {} files to zip from {}'.format(len(file_paths), directory))\n",
    "        file_paths_all = file_paths_all + file_paths\n",
    "\n",
    "    # writing files to a zipfile \n",
    "    with ZipFile(ZIP_DIRECTORY,'w') as _zip: \n",
    "        # writing each file one by one \n",
    "        for file in file_paths_all: \n",
    "            number_of_files_zipped += 1\n",
    "            _zip.write(file) \n",
    "\n",
    "    print('All {} files zipped successfully'.format(number_of_files_zipped))\n",
    "%time zip_all()"
   ]
  }
 ],
 "metadata": {
  "kernelspec": {
   "display_name": "Python 3",
   "language": "python",
   "name": "python3"
  },
  "language_info": {
   "codemirror_mode": {
    "name": "ipython",
    "version": 3
   },
   "file_extension": ".py",
   "mimetype": "text/x-python",
   "name": "python",
   "nbconvert_exporter": "python",
   "pygments_lexer": "ipython3",
   "version": "3.6.6"
  }
 },
 "nbformat": 4,
 "nbformat_minor": 2
}
