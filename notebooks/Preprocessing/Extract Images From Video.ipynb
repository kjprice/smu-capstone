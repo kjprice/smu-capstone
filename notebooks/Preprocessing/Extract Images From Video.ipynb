{
 "cells": [
  {
   "cell_type": "code",
   "execution_count": 1,
   "metadata": {},
   "outputs": [],
   "source": [
    "import cv2\n",
    "import os\n",
    "import re\n",
    "from scipy.misc import imresize"
   ]
  },
  {
   "cell_type": "code",
   "execution_count": 2,
   "metadata": {},
   "outputs": [],
   "source": [
    "\n",
    "DATA_DIRECTORY = '../../data'\n",
    "DATA_INPUT_DIR = os.path.join(DATA_DIRECTORY, 'original', 'movies')\n",
    "DATA_OUTPUT_DIR = os.path.join(DATA_DIRECTORY, 'fabricated', 'movies')\n",
    "\n",
    "# Can accept multiple movies at once\n",
    "MOVIE_FILES = [\n",
    "    'mother.mov',\n",
    "]"
   ]
  },
  {
   "cell_type": "code",
   "execution_count": 3,
   "metadata": {},
   "outputs": [],
   "source": [
    "## Settings\n",
    "\n",
    "# Will not actually save/manipulate files, it will just show verbose info\n",
    "DRY_RUN = False\n",
    "RESIZE = (200, 200)"
   ]
  },
  {
   "cell_type": "code",
   "execution_count": 4,
   "metadata": {},
   "outputs": [
    {
     "data": {
      "text/plain": [
       "'timmy.kj'"
      ]
     },
     "execution_count": 4,
     "metadata": {},
     "output_type": "execute_result"
    }
   ],
   "source": [
    "def get_sign_from_movie_filename(filename):\n",
    "    file_parts = re.split('\\.', filename)\n",
    "    sign_name = '.'.join(file_parts[:-1])\n",
    "    return sign_name\n",
    "get_sign_from_movie_filename('timmy.kj.price')"
   ]
  },
  {
   "cell_type": "code",
   "execution_count": 5,
   "metadata": {},
   "outputs": [],
   "source": [
    "def ensure_directory_exists(directory):\n",
    "    if not os.path.isdir(directory):\n",
    "        print('creating path {}'.format(directory))\n",
    "        os.makedirs(directory)\n",
    "    else:\n",
    "        print('Nothing to do, {} already exists'.format(directory))"
   ]
  },
  {
   "cell_type": "code",
   "execution_count": 6,
   "metadata": {},
   "outputs": [],
   "source": [
    "def resize_img_array(img):\n",
    "    return imresize(img, RESIZE)"
   ]
  },
  {
   "cell_type": "code",
   "execution_count": 7,
   "metadata": {},
   "outputs": [],
   "source": [
    "def video_to_frames(video, path_output_dir):\n",
    "    count_error = 0\n",
    "    print('reading \"{}\" --- saving to \"{}\"'.format(video, path_output_dir))\n",
    "    vidcap = cv2.VideoCapture(video)\n",
    "    count_success = 0\n",
    "    while vidcap.isOpened():\n",
    "        read_success, image = vidcap.read()\n",
    "        if read_success:\n",
    "            image = resize_img_array(image)\n",
    "            if DRY_RUN:\n",
    "                write_success = True\n",
    "            else:\n",
    "                write_success = cv2.imwrite(os.path.join(path_output_dir, '%d.png') % count_success, image)\n",
    "            if write_success:\n",
    "                count_success += 1\n",
    "            else:\n",
    "                count_error += 1\n",
    "        else:\n",
    "            break\n",
    "    print('found {} images'.format(count_success + count_error))\n",
    "    print('{} images successfully saved and {} images which could not be saved'.format(count_success, count_error))\n",
    "    cv2.destroyAllWindows()\n",
    "    vidcap.release()"
   ]
  },
  {
   "cell_type": "code",
   "execution_count": 8,
   "metadata": {},
   "outputs": [
    {
     "name": "stdout",
     "output_type": "stream",
     "text": [
      "Nothing to do, ../../data/fabricated/movies/mother already exists\n",
      "reading \"../../data/original/movies/mother.mov\" --- saving to \"../../data/fabricated/movies/mother\"\n"
     ]
    },
    {
     "name": "stderr",
     "output_type": "stream",
     "text": [
      "/Users/kjprice/anaconda3/envs/python3.6/lib/python3.6/site-packages/ipykernel_launcher.py:2: DeprecationWarning: `imresize` is deprecated!\n",
      "`imresize` is deprecated in SciPy 1.0.0, and will be removed in 1.2.0.\n",
      "Use ``skimage.transform.resize`` instead.\n",
      "  \n"
     ]
    },
    {
     "name": "stdout",
     "output_type": "stream",
     "text": [
      "found 145 images\n",
      "145 images successfully saved and 0 images which could not be saved\n"
     ]
    }
   ],
   "source": [
    "def main():\n",
    "    if DRY_RUN:\n",
    "        print('this is just a test run (disable \"DRY_RUN\" to actually save images)')\n",
    "        print()\n",
    "    for filename in MOVIE_FILES:\n",
    "        input_file_path = os.path.join(DATA_INPUT_DIR, filename)\n",
    "        sign_name = get_sign_from_movie_filename(filename)\n",
    "        output_file_path = os.path.join(DATA_OUTPUT_DIR, sign_name)\n",
    "        \n",
    "        ensure_directory_exists(output_file_path)\n",
    "        video_to_frames(input_file_path, output_file_path)\n",
    "main()"
   ]
  },
  {
   "cell_type": "code",
   "execution_count": null,
   "metadata": {},
   "outputs": [],
   "source": []
  },
  {
   "cell_type": "code",
   "execution_count": null,
   "metadata": {},
   "outputs": [],
   "source": []
  }
 ],
 "metadata": {
  "kernelspec": {
   "display_name": "Python 3",
   "language": "python",
   "name": "python3"
  },
  "language_info": {
   "codemirror_mode": {
    "name": "ipython",
    "version": 3
   },
   "file_extension": ".py",
   "mimetype": "text/x-python",
   "name": "python",
   "nbconvert_exporter": "python",
   "pygments_lexer": "ipython3",
   "version": "3.6.6"
  }
 },
 "nbformat": 4,
 "nbformat_minor": 2
}
