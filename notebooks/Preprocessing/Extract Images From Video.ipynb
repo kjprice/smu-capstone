{
 "cells": [
  {
   "cell_type": "code",
   "execution_count": 1,
   "metadata": {},
   "outputs": [],
   "source": [
    "import cv2\n",
    "import os\n",
    "import re\n",
    "from scipy.misc import imresize"
   ]
  },
  {
   "cell_type": "code",
   "execution_count": 2,
   "metadata": {},
   "outputs": [],
   "source": [
    "\n",
    "DATA_DIRECTORY = '../../data'\n",
    "DATA_INPUT_DIR = os.path.join(DATA_DIRECTORY, 'original', 'movies')\n",
    "DATA_OUTPUT_DIR = os.path.join(DATA_DIRECTORY, 'fabricated', 'movies')\n",
    "\n",
    "# Can accept multiple movies at once\n",
    "#MOVIE_FILES = ['mother.mov']\n",
    "MOVIE_FILES = os.listdir(DATA_INPUT_DIR)"
   ]
  },
  {
   "cell_type": "code",
   "execution_count": 3,
   "metadata": {},
   "outputs": [],
   "source": [
    "## Settings\n",
    "\n",
    "# Will not actually save/manipulate files, it will just show verbose info\n",
    "DRY_RUN = False\n",
    "RESIZE = (200, 200)"
   ]
  },
  {
   "cell_type": "code",
   "execution_count": 4,
   "metadata": {},
   "outputs": [
    {
     "data": {
      "text/plain": [
       "('mother', 'kj_price', '1')"
      ]
     },
     "execution_count": 4,
     "metadata": {},
     "output_type": "execute_result"
    }
   ],
   "source": [
    "def get_sign_parts_from_movie_filename(filename):\n",
    "    file_parts = re.split('\\.', filename)\n",
    "    sign_info_string = '.'.join(file_parts[:-1])\n",
    "    sign_info_parts = re.split('--', sign_info_string)\n",
    "    \n",
    "    if len(sign_info_parts) != 3:\n",
    "        print('Expecting to split {} into 3 parts but only got {}'.format(filename, len(sign_info_parts)))\n",
    "        print('Be sure that {} is in the format \"signname--authorname--version.mov\"'.format(filename))\n",
    "    \n",
    "    sign_name = sign_info_parts[0]\n",
    "    author_name = sign_info_parts[1]\n",
    "    sign_version = sign_info_parts[2]\n",
    "\n",
    "    return sign_name, author_name, sign_version\n",
    "get_sign_parts_from_movie_filename('mother--kj_price--1.mov')"
   ]
  },
  {
   "cell_type": "code",
   "execution_count": 5,
   "metadata": {},
   "outputs": [],
   "source": [
    "def ensure_directory_exists(directory):\n",
    "    if not os.path.isdir(directory):\n",
    "        print('creating path {}'.format(directory))\n",
    "        os.makedirs(directory)\n",
    "    else:\n",
    "        print('Nothing to do, {} already exists'.format(directory))"
   ]
  },
  {
   "cell_type": "code",
   "execution_count": 6,
   "metadata": {},
   "outputs": [],
   "source": [
    "def resize_img_array(img):\n",
    "    return imresize(img, RESIZE)"
   ]
  },
  {
   "cell_type": "code",
   "execution_count": 7,
   "metadata": {},
   "outputs": [],
   "source": [
    "def save_video_frames_to_image_file(video, path_output_dir, author_name, sign_version):\n",
    "    count_error = 0\n",
    "    print('reading \"{}\" --- saving to \"{}\"'.format(video, path_output_dir))\n",
    "    vidcap = cv2.VideoCapture(video)\n",
    "    count_success = 0\n",
    "    while vidcap.isOpened():\n",
    "        read_success, image = vidcap.read()\n",
    "        if read_success:\n",
    "            image = resize_img_array(image)\n",
    "            if DRY_RUN:\n",
    "                write_success = True\n",
    "            else:\n",
    "                img_filename = '{}-{}-%d.png'.format(author_name, sign_version) #The \"%d\" will be auto incremented by what's in the directory\n",
    "                write_success = cv2.imwrite(os.path.join(path_output_dir, img_filename) % count_success, image)\n",
    "            if write_success:\n",
    "                count_success += 1\n",
    "            else:\n",
    "                count_error += 1\n",
    "        else:\n",
    "            break\n",
    "    print('found {} images'.format(count_success + count_error))\n",
    "    print('{} images successfully saved and {} images which could not be saved'.format(count_success, count_error))\n",
    "    cv2.destroyAllWindows()\n",
    "    vidcap.release()"
   ]
  },
  {
   "cell_type": "code",
   "execution_count": 8,
   "metadata": {},
   "outputs": [
    {
     "name": "stdout",
     "output_type": "stream",
     "text": [
      "Nothing to do, ../../data/fabricated/movies/mother already exists\n",
      "reading \"../../data/original/movies/mother--kj--1.mov\" --- saving to \"../../data/fabricated/movies/mother\"\n"
     ]
    },
    {
     "name": "stderr",
     "output_type": "stream",
     "text": [
      "/Users/kjprice/anaconda3/envs/python3.6/lib/python3.6/site-packages/ipykernel_launcher.py:2: DeprecationWarning: `imresize` is deprecated!\n",
      "`imresize` is deprecated in SciPy 1.0.0, and will be removed in 1.2.0.\n",
      "Use ``skimage.transform.resize`` instead.\n",
      "  \n"
     ]
    },
    {
     "name": "stdout",
     "output_type": "stream",
     "text": [
      "found 145 images\n",
      "145 images successfully saved and 0 images which could not be saved\n",
      "creating path ../../data/fabricated/movies/A\n",
      "reading \"../../data/original/movies/A--kj--1.mov\" --- saving to \"../../data/fabricated/movies/A\"\n",
      "found 183 images\n",
      "183 images successfully saved and 0 images which could not be saved\n",
      "Nothing to do, ../../data/fabricated/movies/father already exists\n",
      "reading \"../../data/original/movies/father--kj--1.mov\" --- saving to \"../../data/fabricated/movies/father\"\n",
      "found 175 images\n",
      "175 images successfully saved and 0 images which could not be saved\n",
      "creating path ../../data/fabricated/movies/B\n",
      "reading \"../../data/original/movies/B--kj--1.mov\" --- saving to \"../../data/fabricated/movies/B\"\n",
      "found 185 images\n",
      "185 images successfully saved and 0 images which could not be saved\n",
      "creating path ../../data/fabricated/movies/nothing\n",
      "reading \"../../data/original/movies/nothing--kj--1.mov\" --- saving to \"../../data/fabricated/movies/nothing\"\n",
      "found 155 images\n",
      "155 images successfully saved and 0 images which could not be saved\n"
     ]
    }
   ],
   "source": [
    "def main():\n",
    "    if DRY_RUN:\n",
    "        print('this is just a test run (disable \"DRY_RUN\" to actually save images)')\n",
    "        print()\n",
    "    for filename in MOVIE_FILES:\n",
    "        input_file_path = os.path.join(DATA_INPUT_DIR, filename)\n",
    "        sign_name, author_name, sign_version = get_sign_parts_from_movie_filename(filename)\n",
    "        output_file_path = os.path.join(DATA_OUTPUT_DIR, sign_name)\n",
    "        \n",
    "        ensure_directory_exists(output_file_path)\n",
    "        save_video_frames_to_image_file(input_file_path, output_file_path, author_name, sign_version)\n",
    "main()"
   ]
  },
  {
   "cell_type": "code",
   "execution_count": null,
   "metadata": {},
   "outputs": [],
   "source": []
  },
  {
   "cell_type": "code",
   "execution_count": null,
   "metadata": {},
   "outputs": [],
   "source": []
  }
 ],
 "metadata": {
  "kernelspec": {
   "display_name": "Python 3",
   "language": "python",
   "name": "python3"
  },
  "language_info": {
   "codemirror_mode": {
    "name": "ipython",
    "version": 3
   },
   "file_extension": ".py",
   "mimetype": "text/x-python",
   "name": "python",
   "nbconvert_exporter": "python",
   "pygments_lexer": "ipython3",
   "version": "3.6.6"
  }
 },
 "nbformat": 4,
 "nbformat_minor": 2
}
