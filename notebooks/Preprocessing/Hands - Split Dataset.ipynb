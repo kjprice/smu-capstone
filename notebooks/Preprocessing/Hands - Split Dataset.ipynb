{
 "cells": [
  {
   "cell_type": "markdown",
   "metadata": {},
   "source": [
    "# Create Training/Test Sets"
   ]
  },
  {
   "cell_type": "markdown",
   "metadata": {},
   "source": [
    "This is an older notebook where we tried to predict if there was a hand present in an image. It turns out this really was not very helpful.\n",
    "\n",
    "Also, note that this notebook uses [11K Images of hands](https://sites.google.com/view/11khands) which is not used in the other notebooks."
   ]
  },
  {
   "cell_type": "markdown",
   "metadata": {},
   "source": [
    "### Create Cross Validation"
   ]
  },
  {
   "cell_type": "code",
   "execution_count": 1,
   "metadata": {},
   "outputs": [],
   "source": [
    "from sklearn.model_selection import train_test_split\n",
    "import pandas as pd\n",
    "import os\n",
    "import shutil"
   ]
  },
  {
   "cell_type": "code",
   "execution_count": 2,
   "metadata": {},
   "outputs": [],
   "source": [
    "DATA_DIRECTORY = '../../data'\n",
    "\n",
    "ORIGINAL_DATA = os.path.join(DATA_DIRECTORY, 'original')\n",
    "FABRICATED_DATA = os.path.join(DATA_DIRECTORY, 'fabricated')\n",
    "\n",
    "STATIC_SIGNS_DIRECTORY = os.path.join(ORIGINAL_DATA, 'sign-language-static/user_3')\n",
    "HANDS_DATA_DIRECTORY = os.path.join(ORIGINAL_DATA, 'hands')\n",
    "NOT_HANDS_DATA_DIRECTORY = os.path.join(FABRICATED_DATA, 'not-hands')\n",
    "\n",
    "IMAGES_VALIDATION_DIR = os.path.join(FABRICATED_DATA, 'hands_validation')\n",
    "IMAGES_TRAIN_DIR = os.path.join(FABRICATED_DATA, 'hands_train')\n",
    "IMAGES_TEST_DIR = os.path.join(FABRICATED_DATA, 'hands_test')\n",
    "\n",
    "IMAGES_HANDS_TRAIN_DIR = os.path.join(IMAGES_TRAIN_DIR, 'hands')\n",
    "IMAGES_NOT_HANDS_TRAIN_DIR = os.path.join(IMAGES_TRAIN_DIR, 'not_hands')\n",
    "IMAGES_HANDS_VALIDATION_DIR = os.path.join(IMAGES_VALIDATION_DIR, 'hands')\n",
    "IMAGES_NOT_HANDS_VALIDATION_DIR = os.path.join(IMAGES_VALIDATION_DIR, 'not_hands')\n",
    "IMAGES_HANDS_TEST_DIR = os.path.join(IMAGES_TEST_DIR, 'hands')\n",
    "IMAGES_NOT_HANDS_TEST_DIR = os.path.join(IMAGES_TEST_DIR, 'not_hands')\n",
    "\n",
    "directories_to_create = [\n",
    "    IMAGES_VALIDATION_DIR,\n",
    "    IMAGES_TRAIN_DIR,\n",
    "    IMAGES_TEST_DIR,\n",
    "    IMAGES_HANDS_TRAIN_DIR,\n",
    "    IMAGES_NOT_HANDS_TRAIN_DIR,\n",
    "    IMAGES_HANDS_VALIDATION_DIR,\n",
    "    IMAGES_NOT_HANDS_VALIDATION_DIR,\n",
    "    IMAGES_HANDS_TEST_DIR,\n",
    "    IMAGES_NOT_HANDS_TEST_DIR,\n",
    "]"
   ]
  },
  {
   "cell_type": "code",
   "execution_count": 3,
   "metadata": {},
   "outputs": [],
   "source": [
    "def get_filenames_for_hands_dataset():\n",
    "    files = os.listdir(HANDS_DATA_DIRECTORY)\n",
    "    return files\n",
    "def get_filenames_for_not_hands_dataset():\n",
    "    files = os.listdir(NOT_HANDS_DATA_DIRECTORY)\n",
    "    return files\n",
    "def get_filenames_for_signs_dataset(number_items_to_pull):\n",
    "    files = os.listdir(STATIC_SIGNS_DIRECTORY)\n",
    "    return files[:number_items_to_pull]"
   ]
  },
  {
   "cell_type": "code",
   "execution_count": 4,
   "metadata": {},
   "outputs": [
    {
     "name": "stdout",
     "output_type": "stream",
     "text": [
      "Using 11076 of 11076 \"not-hands\" files for test\n",
      "  filenames  hands                                              dir\n",
      "0    A0.jpg   True  ../../data/original/sign-language-static/user_3\n",
      "1    A1.jpg   True  ../../data/original/sign-language-static/user_3\n",
      "2    A2.jpg   True  ../../data/original/sign-language-static/user_3\n",
      "3    A3.jpg   True  ../../data/original/sign-language-static/user_3\n",
      "4    A4.jpg   True  ../../data/original/sign-language-static/user_3\n",
      "5    A5.jpg   True  ../../data/original/sign-language-static/user_3\n",
      "6    A6.jpg   True  ../../data/original/sign-language-static/user_3\n",
      "7    A7.jpg   True  ../../data/original/sign-language-static/user_3\n",
      "8    A8.jpg   True  ../../data/original/sign-language-static/user_3\n",
      "9    A9.jpg   True  ../../data/original/sign-language-static/user_3\n"
     ]
    },
    {
     "name": "stderr",
     "output_type": "stream",
     "text": [
      "/usr/local/lib/python3.6/site-packages/sklearn/model_selection/_split.py:2026: FutureWarning: From version 0.21, test_size will always complement train_size unless both are specified.\n",
      "  FutureWarning)\n"
     ]
    }
   ],
   "source": [
    "\n",
    "def get_cross_validated_data():\n",
    "    TRAIN_SIZE = .85\n",
    "    hands_filenames = get_filenames_for_hands_dataset()\n",
    "    all_not_hands_filenames = get_filenames_for_not_hands_dataset()\n",
    "    \n",
    "    # only take the number of \"hands\" images so taht the they are equal - use the rest for test data\n",
    "    number_of_not_hands_to_pull = len(hands_filenames)\n",
    "    not_hands_filenames = all_not_hands_filenames[:number_of_not_hands_to_pull]\n",
    "    \n",
    "    # Create test data\n",
    "    not_hands_test = all_not_hands_filenames[-number_of_not_hands_to_pull:]\n",
    "    print('Using {} of {} \"not-hands\" files for test'.format(len(not_hands_filenames), len(not_hands_test)))\n",
    "    hands_test = get_filenames_for_signs_dataset(number_of_not_hands_to_pull)\n",
    "    test_hands_df = pd.DataFrame({\n",
    "        'filenames': hands_test\n",
    "    })\n",
    "    test_hands_df['hands'] = True\n",
    "    test_hands_df['dir'] = STATIC_SIGNS_DIRECTORY\n",
    "    \n",
    "    test_not_hands_df = pd.DataFrame({\n",
    "        'filenames': not_hands_test\n",
    "    })\n",
    "    test_not_hands_df['hands'] = False\n",
    "    test_not_hands_df['dir'] = NOT_HANDS_DATA_DIRECTORY\n",
    "    \n",
    "    X_test = pd.concat([test_hands_df, test_not_hands_df])\n",
    "    \n",
    "\n",
    "    # Create Train/Validation Data\n",
    "    hands_df = pd.DataFrame({\n",
    "        'filenames': hands_filenames\n",
    "    })\n",
    "    hands_df['hands'] = True\n",
    "    hands_df['dir'] = HANDS_DATA_DIRECTORY\n",
    "    \n",
    "    not_hands_df = pd.DataFrame({\n",
    "        'filenames': not_hands_filenames\n",
    "    })\n",
    "    not_hands_df['hands'] = False\n",
    "    not_hands_df['dir'] = NOT_HANDS_DATA_DIRECTORY\n",
    "    \n",
    "    df = pd.concat([hands_df, not_hands_df])\n",
    "\n",
    "    X_train, X_validation = train_test_split(df, train_size=TRAIN_SIZE)\n",
    "    \n",
    "    return X_train, X_validation, X_test\n",
    "print(get_cross_validated_data()[2][:10])"
   ]
  },
  {
   "cell_type": "code",
   "execution_count": 5,
   "metadata": {},
   "outputs": [],
   "source": [
    "def make_sure_directories_exist():\n",
    "    for directory in directories_to_create:\n",
    "        try:\n",
    "            os.mkdir(directory)\n",
    "        except:\n",
    "            print('{} already exists'.format([directory]))\n",
    "            \n",
    "def copy_files_per_batch(batch_type, filenames):\n",
    "    file_to = ''\n",
    "    for index, row in filenames.iterrows():\n",
    "        filename = row.filenames\n",
    "        _dir = row.dir\n",
    "        file_from = os.path.join(_dir, filename)\n",
    "        if row.hands and batch_type == 'train':\n",
    "            file_to = os.path.join(IMAGES_HANDS_TRAIN_DIR, filename)\n",
    "        elif row.hands and batch_type == 'validation':\n",
    "            file_to = os.path.join(IMAGES_HANDS_VALIDATION_DIR, filename)\n",
    "        elif row.hands and batch_type == 'test':\n",
    "            file_to = os.path.join(IMAGES_HANDS_TEST_DIR, filename)\n",
    "        elif not row.hands and batch_type == 'train':\n",
    "            file_to = os.path.join(IMAGES_NOT_HANDS_TRAIN_DIR, filename)\n",
    "        elif not row.hands and batch_type == 'validation':\n",
    "            file_to = os.path.join(IMAGES_NOT_HANDS_VALIDATION_DIR, filename)\n",
    "        elif not row.hands and batch_type == 'test':\n",
    "            file_to = os.path.join(IMAGES_NOT_HANDS_TEST_DIR, filename)\n",
    "        shutil.copyfile(file_from, file_to)\n",
    "\n",
    "def copy_files_to_new_directory():\n",
    "    make_sure_directories_exist()\n",
    "    \n",
    "    X_train, X_test, X_validation = get_cross_validated_data()\n",
    "    \n",
    "    copy_files_per_batch('train', X_train)\n",
    "    copy_files_per_batch('validation', X_validation)\n",
    "    copy_files_per_batch('test', X_test)"
   ]
  },
  {
   "cell_type": "code",
   "execution_count": 6,
   "metadata": {},
   "outputs": [
    {
     "name": "stdout",
     "output_type": "stream",
     "text": [
      "Using 11076 of 11076 \"not-hands\" files for test\n"
     ]
    },
    {
     "name": "stderr",
     "output_type": "stream",
     "text": [
      "/usr/local/lib/python3.6/site-packages/sklearn/model_selection/_split.py:2026: FutureWarning: From version 0.21, test_size will always complement train_size unless both are specified.\n",
      "  FutureWarning)\n"
     ]
    }
   ],
   "source": [
    "copy_files_to_new_directory()"
   ]
  },
  {
   "cell_type": "code",
   "execution_count": null,
   "metadata": {},
   "outputs": [],
   "source": []
  }
 ],
 "metadata": {
  "kernelspec": {
   "display_name": "Python 3",
   "language": "python",
   "name": "python3"
  },
  "language_info": {
   "codemirror_mode": {
    "name": "ipython",
    "version": 3
   },
   "file_extension": ".py",
   "mimetype": "text/x-python",
   "name": "python",
   "nbconvert_exporter": "python",
   "pygments_lexer": "ipython3",
   "version": "3.6.8"
  }
 },
 "nbformat": 4,
 "nbformat_minor": 2
}
