{
 "cells": [
  {
   "cell_type": "markdown",
   "metadata": {},
   "source": [
    "# Create Training/Test Sets"
   ]
  },
  {
   "cell_type": "markdown",
   "metadata": {},
   "source": [
    "### Create Cross Validation"
   ]
  },
  {
   "cell_type": "code",
   "execution_count": 1,
   "metadata": {},
   "outputs": [],
   "source": [
    "from sklearn.model_selection import train_test_split\n",
    "import pandas as pd\n",
    "import os\n",
    "import shutil"
   ]
  },
  {
   "cell_type": "code",
   "execution_count": 2,
   "metadata": {},
   "outputs": [],
   "source": [
    "DATA_DIRECTORY = '../../data'\n",
    "HANDS_DATA_DIRECTORY = os.path.join(DATA_DIRECTORY, 'hands')\n",
    "NOT_HANDS_DATA_DIRECTORY = os.path.join(DATA_DIRECTORY, 'not-hands')\n",
    "\n",
    "images_test_dir = os.path.join(DATA_DIRECTORY, 'hands_test')\n",
    "images_train_dir = os.path.join(DATA_DIRECTORY, 'hands_train')\n",
    "\n",
    "images_hands_train_dir = os.path.join(images_train_dir, 'hands')\n",
    "images_not_hands_train_dir = os.path.join(images_train_dir, 'not_hands')\n",
    "images_hands_test_dir = os.path.join(images_test_dir, 'hands')\n",
    "images_not_hands_test_dir = os.path.join(images_test_dir, 'not_hands')\n",
    "\n",
    "directories_to_create = [\n",
    "    images_test_dir,\n",
    "    images_train_dir,\n",
    "    images_hands_train_dir,\n",
    "    images_not_hands_train_dir,\n",
    "    images_hands_test_dir,\n",
    "    images_not_hands_test_dir,\n",
    "]"
   ]
  },
  {
   "cell_type": "code",
   "execution_count": 3,
   "metadata": {},
   "outputs": [],
   "source": [
    "def get_filenames_for_hands_dataset():\n",
    "    files = os.listdir(HANDS_DATA_DIRECTORY)\n",
    "    return files\n",
    "def get_filenames_for_not_hands_dataset():\n",
    "    files = os.listdir(NOT_HANDS_DATA_DIRECTORY)\n",
    "    return files"
   ]
  },
  {
   "cell_type": "code",
   "execution_count": 4,
   "metadata": {},
   "outputs": [
    {
     "name": "stdout",
     "output_type": "stream",
     "text": [
      "                 filenames  hands                   dir\n",
      "908    n00015388_66265.jpg  False  ../../data/not-hands\n",
      "5877      Hand_0006304.jpg   True      ../../data/hands\n",
      "349    n00015388_30189.jpg  False  ../../data/not-hands\n",
      "10529     Hand_0011175.jpg   True      ../../data/hands\n",
      "9985      Hand_0010609.jpg   True      ../../data/hands\n",
      "5272   n00433661_1288.jpeg  False  ../../data/not-hands\n",
      "2015    n00288000_7785.jpg  False  ../../data/not-hands\n",
      "1962      Hand_0002268.jpg   True      ../../data/hands\n",
      "5430      Hand_0005836.jpg   True      ../../data/hands\n",
      "6713      Hand_0007153.jpg   True      ../../data/hands\n"
     ]
    },
    {
     "name": "stderr",
     "output_type": "stream",
     "text": [
      "/usr/local/lib/python3.6/site-packages/sklearn/model_selection/_split.py:2026: FutureWarning: From version 0.21, test_size will always complement train_size unless both are specified.\n",
      "  FutureWarning)\n"
     ]
    }
   ],
   "source": [
    "def get_cross_validated_data():\n",
    "    TRAIN_SIZE = .85\n",
    "    hands_filenames = get_filenames_for_hands_dataset()\n",
    "    not_hands_filenames = get_filenames_for_not_hands_dataset()\n",
    "    \n",
    "    hands_df = pd.DataFrame({\n",
    "        'filenames': hands_filenames\n",
    "    })\n",
    "    hands_df['hands'] = True\n",
    "    hands_df['dir'] = HANDS_DATA_DIRECTORY\n",
    "    \n",
    "    not_hands_df = pd.DataFrame({\n",
    "        'filenames': not_hands_filenames\n",
    "    })\n",
    "    not_hands_df['hands'] = False\n",
    "    not_hands_df['dir'] = NOT_HANDS_DATA_DIRECTORY\n",
    "    \n",
    "    df = pd.concat([hands_df, not_hands_df])\n",
    "\n",
    "    X_train, X_test = train_test_split(df, train_size=TRAIN_SIZE)\n",
    "    \n",
    "    return X_train, X_test\n",
    "print(get_cross_validated_data()[0][:10])"
   ]
  },
  {
   "cell_type": "code",
   "execution_count": 5,
   "metadata": {},
   "outputs": [],
   "source": [
    "def make_sure_directories_exist():\n",
    "    for directory in directories_to_create:\n",
    "        try:\n",
    "            os.mkdir(directory)\n",
    "        except:\n",
    "            print('{} already exists'.format([directory]))\n",
    "\n",
    "def copy_files_to_new_directory():\n",
    "    make_sure_directories_exist()\n",
    "    \n",
    "    X_train, X_test = get_cross_validated_data()\n",
    "\n",
    "    train_filenames = X_train\n",
    "    for index, row in train_filenames.iterrows():\n",
    "        filename = row.filenames\n",
    "        _dir = row.dir\n",
    "        file_from = os.path.join(_dir, filename)\n",
    "        file_to = ''\n",
    "        if row.hands:\n",
    "            file_to = os.path.join(images_hands_train_dir, filename)\n",
    "        else:\n",
    "            file_to = os.path.join(images_not_hands_train_dir, filename)        \n",
    "        shutil.copyfile(file_from, file_to)\n",
    "\n",
    "    test_filenames = X_test\n",
    "    for index, row in test_filenames.iterrows():\n",
    "        filename = row.filenames\n",
    "        _dir = row.dir\n",
    "        file_from = os.path.join(_dir, filename)\n",
    "        file_to = ''\n",
    "        if row.hands:\n",
    "            file_to = os.path.join(images_hands_test_dir, filename)\n",
    "        else:\n",
    "            file_to = os.path.join(images_not_hands_test_dir, filename)        \n",
    "        shutil.copyfile(file_from, file_to)"
   ]
  },
  {
   "cell_type": "code",
   "execution_count": 6,
   "metadata": {},
   "outputs": [
    {
     "name": "stderr",
     "output_type": "stream",
     "text": [
      "/usr/local/lib/python3.6/site-packages/sklearn/model_selection/_split.py:2026: FutureWarning: From version 0.21, test_size will always complement train_size unless both are specified.\n",
      "  FutureWarning)\n"
     ]
    },
    {
     "name": "stdout",
     "output_type": "stream",
     "text": [
      "['../../data/hands_test'] already exists\n",
      "['../../data/hands_train'] already exists\n"
     ]
    }
   ],
   "source": [
    "copy_files_to_new_directory()"
   ]
  },
  {
   "cell_type": "code",
   "execution_count": null,
   "metadata": {},
   "outputs": [],
   "source": []
  }
 ],
 "metadata": {
  "kernelspec": {
   "display_name": "Python 3",
   "language": "python",
   "name": "python3"
  },
  "language_info": {
   "codemirror_mode": {
    "name": "ipython",
    "version": 3
   },
   "file_extension": ".py",
   "mimetype": "text/x-python",
   "name": "python",
   "nbconvert_exporter": "python",
   "pygments_lexer": "ipython3",
   "version": "3.6.5"
  }
 },
 "nbformat": 4,
 "nbformat_minor": 2
}
