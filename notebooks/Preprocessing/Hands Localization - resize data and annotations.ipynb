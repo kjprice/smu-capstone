{
 "cells": [
  {
   "cell_type": "markdown",
   "metadata": {},
   "source": [
    "# Todo\n",
    "\n"
   ]
  },
  {
   "cell_type": "code",
   "execution_count": 1,
   "metadata": {},
   "outputs": [
    {
     "name": "stderr",
     "output_type": "stream",
     "text": [
      "/usr/local/lib/python3.6/site-packages/h5py/__init__.py:36: FutureWarning: Conversion of the second argument of issubdtype from `float` to `np.floating` is deprecated. In future, it will be treated as `np.float64 == np.dtype(float).type`.\n",
      "  from ._conv import register_converters as _register_converters\n",
      "Using TensorFlow backend.\n"
     ]
    }
   ],
   "source": [
    "import numpy as np\n",
    "\n",
    "import imgaug as ia\n",
    "from imgaug import augmenters as iaa\n",
    "from keras.preprocessing.image import img_to_array, load_img, array_to_img\n",
    "\n",
    "import matplotlib.pyplot as plt\n",
    "import scipy.io\n",
    "\n",
    "import cv2\n",
    "import os"
   ]
  },
  {
   "cell_type": "code",
   "execution_count": 2,
   "metadata": {},
   "outputs": [],
   "source": [
    "DATA_PATH = '../../data'\n",
    "HANDS_DATASET = os.path.join(DATA_PATH, 'original/hand_dataset')\n",
    "LISA_HAND_DATASET = os.path.join(DATA_PATH, 'original/lisa_hands')\n",
    "IMAGE_TRAIN_DIR = os.path.join(HANDS_DATASET, 'training_dataset/training_data')\n",
    "IMAGE_TEST_DIR = os.path.join(HANDS_DATASET, 'test_dataset/test_data')\n",
    "IMAGE_VAL_DIR = os.path.join(HANDS_DATASET, 'validation_dataset/validation_data')\n",
    "# TODO: Add testing and validation\n",
    "\n",
    "NEW_HANDS_ANNOTATED_DATASET = os.path.join(DATA_PATH, 'fabricated/hands_annotated_dataset')\n",
    "NEW_HANDS_TRAIN = os.path.join(NEW_HANDS_ANNOTATED_DATASET, 'training')\n",
    "NEW_HANDS_TEST = os.path.join(NEW_HANDS_ANNOTATED_DATASET, 'test')\n",
    "NEW_HANDS_VAL = os.path.join(NEW_HANDS_ANNOTATED_DATASET, 'validation')\n",
    "                                  \n",
    "IMAGES_SUB_DIR = 'images'\n",
    "ANNOTATIONS_SUB_DIR = 'annotations'\n",
    "# TODO: Add testing and validation\n",
    "\n",
    "\n",
    "#### SETTINGS\n",
    "IMAGE_SHAPE=(225, 225)\n",
    "MAX_HANDS_TO_DETECT = 10\n",
    "FLATTENED_DIMENSIONS = MAX_HANDS_TO_DETECT * 4 * 2\n",
    "CLEAR_EXISTING_IMAGES = True\n",
    "\n",
    "LIMIT_DATA = 40\n",
    "#LIMIT_DATA = -1\n",
    "\n",
    "PERFORM_AUGMENTATION = True"
   ]
  },
  {
   "cell_type": "markdown",
   "metadata": {},
   "source": [
    "### Load annotations and images"
   ]
  },
  {
   "cell_type": "code",
   "execution_count": 3,
   "metadata": {},
   "outputs": [],
   "source": [
    "def load_annotations(file):\n",
    "    f = scipy.io.loadmat(file)\n",
    "    data = f.get('boxes')\n",
    "    data = np.array(data)\n",
    "    \n",
    "    # We only want the rectangular points from each annotation\n",
    "    image_annotations = []\n",
    "    for hand in data[0]:\n",
    "        # I'm not entirely sure why, but the shape of each file seems to be wrapped in a lot of empty lists\n",
    "        polygon_points = hand[0][0]\n",
    "        # We only want the first four items (that actually make up the polygon)\n",
    "        polygon_points = list(polygon_points)[:4]\n",
    "        # Again, each point has an empty list wrapped around\n",
    "        polygon_points = [point[0] for point in polygon_points]\n",
    "        # points are actually reversed, we want them to be [x, y], but matlab really likes them as [y, x]\n",
    "        image_annotations.append([[point[1], point[0]] for point in polygon_points])\n",
    "        \n",
    "\n",
    "    return image_annotations"
   ]
  },
  {
   "cell_type": "code",
   "execution_count": 4,
   "metadata": {},
   "outputs": [],
   "source": [
    "def load_annotations_from_dir(directory):\n",
    "    annotations_dir = os.path.join(directory, 'annotations')\n",
    "    annotation_files = os.listdir(annotations_dir)\n",
    "    annotations_for_all_files = []\n",
    "    i = 0\n",
    "    for annotation_file in annotation_files:\n",
    "        if LIMIT_DATA > -1 and i == LIMIT_DATA:\n",
    "            break\n",
    "        # ignore config files\n",
    "        if annotation_file.find('.') == 0:\n",
    "            continue\n",
    "        matlab_filepath = os.path.join(annotations_dir, annotation_file)\n",
    "        annotations = load_annotations(matlab_filepath)\n",
    "        annotations_for_all_files.append(annotations)\n",
    "        i += 1\n",
    "    return annotations_for_all_files\n",
    "\n",
    "def load_images_from_dir(directory):    \n",
    "    images_dir = os.path.join(directory, 'images')\n",
    "    image_filenames = os.listdir(images_dir)\n",
    "\n",
    "    valid_images = []\n",
    "    valid_filenames = []\n",
    "\n",
    "    i = 0\n",
    "    for _file in image_filenames:\n",
    "        if LIMIT_DATA > -1 and i == LIMIT_DATA:\n",
    "            break\n",
    "        # ignore config files\n",
    "        if _file.find('.') == 0:\n",
    "            continue\n",
    "        filepath = os.path.join(images_dir, _file)\n",
    "        # img = load_img(filepath, target_size=(IMAGE_SHAPE[0], IMAGE_SHAPE[1]))\n",
    "        \n",
    "        img_ORIGINAL = cv2.imread(filepath)\n",
    "        #imgs.append(img_ORIGINAL)\n",
    "        valid_images.append(img_to_array(img_ORIGINAL).astype('uint8'))\n",
    "        valid_filenames.append(_file)\n",
    "        i += 1\n",
    "\n",
    "        \n",
    "    return valid_images, valid_filenames"
   ]
  },
  {
   "cell_type": "markdown",
   "metadata": {},
   "source": [
    "### Resize Images"
   ]
  },
  {
   "cell_type": "code",
   "execution_count": 5,
   "metadata": {},
   "outputs": [],
   "source": [
    "# Takes a list of images and their correalted annotations (each image has a matching annotation)\n",
    "def resize_images_and_annotations(images, annotations):\n",
    "    if len(images) != len(annotations):\n",
    "        raise Exception('Length of images {} does not match length of annotations'.format(images, annotations))\n",
    "        global MAX_HANDS_TO_DETECT, FLATTENED_DIMENSIONS\n",
    "        \n",
    "    \n",
    "    new_images = []\n",
    "    new_annotations = []\n",
    "    for (image, annotation) in zip(images, annotations):\n",
    "        original_height, original_width, original_depth = image.shape\n",
    "        resized_image = cv2.resize(image, (IMAGE_SHAPE[0], IMAGE_SHAPE[1]))\n",
    "        new_height, new_width, new_depth = resized_image.shape\n",
    "        \n",
    "        width_change = new_width / original_width\n",
    "        height_change = new_height / original_height\n",
    "\n",
    "        new_annotation = []\n",
    "        for hand_count in range(MAX_HANDS_TO_DETECT):\n",
    "            # we have run out of hands, insert a hand with no points\n",
    "            if len(annotation) <= hand_count:\n",
    "                new_annotation.append([[0, 0], [0, 0], [0, 0], [0, 0]])\n",
    "                continue\n",
    "            hand = annotation[hand_count]\n",
    "\n",
    "            new_hand = []\n",
    "            for point in hand:\n",
    "                x, y = point\n",
    "                new_x = x * width_change\n",
    "                new_y = y * height_change\n",
    "                new_point = [new_x, new_y]\n",
    "                new_hand.append(new_point)\n",
    "\n",
    "            new_annotation.append(new_hand)\n",
    "\n",
    "        new_annotations.append(new_annotation)\n",
    "        new_images.append(resized_image)\n",
    "        flattened_annotations = np.reshape(new_annotations, (len(new_annotations), FLATTENED_DIMENSIONS))\n",
    "    return (new_images, flattened_annotations)"
   ]
  },
  {
   "cell_type": "markdown",
   "metadata": {},
   "source": [
    "# Load"
   ]
  },
  {
   "cell_type": "code",
   "execution_count": 6,
   "metadata": {},
   "outputs": [],
   "source": [
    "def load_and_resize_images_and_annotations(directory):\n",
    "    images_original, original_filenames = load_images_from_dir(directory)\n",
    "    annotations_original = load_annotations_from_dir(directory)\n",
    "                \n",
    "    images, annotations = resize_images_and_annotations(images_original, annotations_original)\n",
    "\n",
    "    return images, annotations, original_filenames"
   ]
  },
  {
   "cell_type": "markdown",
   "metadata": {},
   "source": [
    "def turn_annotations_into_keypoints(annotations):\n",
    "    keypoints_on_images = []\n",
    "    for hands in annotations:\n",
    "        keypoints = []\n",
    "        for hand in hands:\n",
    "            for point in hand:\n",
    "                keypoints.append(ia.Keypoint(x=point[0], y=point[1]))\n",
    "        keypoints_on_images.append(ia.KeypointsOnImage(keypoints, shape=IMAGE_SHAPE))\n",
    "    return keypoints_on_images\n",
    "\n",
    "total_number_images_augmented = 0\n",
    "def augment_images_and_keypoints(images, keypoints_on_images, total_images):\n",
    "    global total_number_images_augmented\n",
    "        \n",
    "    image_width = IMAGE_SHAPE[0]\n",
    "    image_height = IMAGE_SHAPE[1]\n",
    "    augmentors = []\n",
    "    si = 2\n",
    "    if PERFORM_AUGMENTATION:\n",
    "        augmentors = [\n",
    "            iaa.Scale({\"height\": image_height, \"width\":image_width})\n",
    "            \n",
    "        ]\n",
    "    seq = iaa.Sequential(augmentors)\n",
    "    seq_det = seq.to_deterministic() # call this for each batch again, NOT only once at the start\n",
    "    images_aug = seq_det.augment_images(images)\n",
    "    keypoints_aug = seq_det.augment_keypoints(keypoints_on_images)\n",
    "    print(keypoints_on_images[0])\n",
    "    print(keypoints_aug)\n",
    "    return images_aug, keypoints_aug\n",
    "\n",
    "def keypoints_into_annotations(keypoints_on_images):\n",
    "    annotations = []\n",
    "    for keypoints in keypoints_on_images:\n",
    "        image_annotation = []\n",
    "        for keypoint in keypoints.keypoints:\n",
    "            image_annotation.append(keypoint.x)\n",
    "            image_annotation.append(keypoint.y)\n",
    "        annotations.append(image_annotation)\n",
    "    return annotations\n",
    "        \n",
    "    \n",
    "# keypoints = turn_annotations_into_keypoints(annotations_original)\n",
    "\n",
    "# imgs, pts = augment_images_and_keypoints(images_original, keypoints, len(x_train))\n",
    "\n",
    "# keypoints_into_annotations(keypoints)[0][0:2]"
   ]
  },
  {
   "cell_type": "code",
   "execution_count": 7,
   "metadata": {},
   "outputs": [
    {
     "name": "stdout",
     "output_type": "stream",
     "text": [
      "CPU times: user 251 ms, sys: 39.3 ms, total: 290 ms\n",
      "Wall time: 292 ms\n",
      "CPU times: user 163 ms, sys: 13.3 ms, total: 177 ms\n",
      "Wall time: 177 ms\n",
      "CPU times: user 284 ms, sys: 29.9 ms, total: 314 ms\n",
      "Wall time: 314 ms\n"
     ]
    }
   ],
   "source": [
    "%time train_images, train_annotations, train_original_filenames = load_and_resize_images_and_annotations(IMAGE_TRAIN_DIR)\n",
    "%time test_images, test_annotations, test_original_filenames = load_and_resize_images_and_annotations(IMAGE_TEST_DIR)\n",
    "%time val_images, val_annotations, val_original_filenames = load_and_resize_images_and_annotations(IMAGE_VAL_DIR)\n"
   ]
  },
  {
   "cell_type": "markdown",
   "metadata": {},
   "source": [
    "## Display"
   ]
  },
  {
   "cell_type": "code",
   "execution_count": 8,
   "metadata": {},
   "outputs": [],
   "source": [
    "# takes a list of flat annotations and will turn them into actual polygon shapes (around hands)\n",
    "def hands_from_flat_annotation(annotation):\n",
    "    annotation = np.array(annotation)\n",
    "    return annotation.reshape(MAX_HANDS_TO_DETECT, 4, 2).tolist()\n",
    "    \n",
    "def hands_from_flat_annotations(annotations):\n",
    "    return [hands_from_flat_annotation(annotation) for annotation in annotations]"
   ]
  },
  {
   "cell_type": "code",
   "execution_count": 9,
   "metadata": {},
   "outputs": [
    {
     "data": {
      "image/png": "[encoded data removed]",
      "text/plain": [
       "<Figure size 432x288 with 1 Axes>"
      ]
     },
     "metadata": {},
     "output_type": "display_data"
    }
   ],
   "source": [
    "def display_image_with_annotation(img, annotations, ax = plt.gca()):\n",
    "    plt.imshow(array_to_img(img))\n",
    "    annotations = hands_from_flat_annotation(annotations)\n",
    "    for annotation in annotations:\n",
    "        line = plt.Polygon(annotation, fill=None, edgecolor='r')\n",
    "        ax.add_patch(line)\n",
    "\n",
    "first_annotations_from_first_video = train_annotations[0]\n",
    "first_image = train_images[0]\n",
    "display_image_with_annotation(first_image, first_annotations_from_first_video)"
   ]
  },
  {
   "cell_type": "markdown",
   "metadata": {},
   "source": [
    "### Save formatted images"
   ]
  },
  {
   "cell_type": "code",
   "execution_count": 10,
   "metadata": {},
   "outputs": [
    {
     "name": "stdout",
     "output_type": "stream",
     "text": [
      "Tried to create \"../../data/fabricated/hands_annotated_dataset/training/images\" but it already exists\n",
      "Emptying directory ../../data/fabricated/hands_annotated_dataset/training/images\n",
      "Tried to create \"../../data/fabricated/hands_annotated_dataset/training/annotations\" but it already exists\n",
      "Emptying directory ../../data/fabricated/hands_annotated_dataset/training/annotations\n",
      "Tried to create \"../../data/fabricated/hands_annotated_dataset/test/images\" but it already exists\n",
      "Emptying directory ../../data/fabricated/hands_annotated_dataset/test/images\n",
      "Tried to create \"../../data/fabricated/hands_annotated_dataset/test/annotations\" but it already exists\n",
      "Emptying directory ../../data/fabricated/hands_annotated_dataset/test/annotations\n",
      "Tried to create \"../../data/fabricated/hands_annotated_dataset/validation/images\" but it already exists\n",
      "Emptying directory ../../data/fabricated/hands_annotated_dataset/validation/images\n",
      "Tried to create \"../../data/fabricated/hands_annotated_dataset/validation/annotations\" but it already exists\n",
      "Emptying directory ../../data/fabricated/hands_annotated_dataset/validation/annotations\n"
     ]
    }
   ],
   "source": [
    "def empty_directory(directory):\n",
    "    for the_file in os.listdir(directory):\n",
    "        file_path = os.path.join(directory, the_file)\n",
    "        try:\n",
    "            if os.path.isfile(file_path):\n",
    "                os.unlink(file_path)\n",
    "        except Exception as e:\n",
    "            print(e)\n",
    "def ensure_model_directory_exists(directory):\n",
    "    try:\n",
    "        os.makedirs(directory)\n",
    "    except:\n",
    "        print('Tried to create \"{}\" but it already exists'.format(directory))\n",
    "        if CLEAR_EXISTING_IMAGES:\n",
    "            print('Emptying directory {}'.format(directory))\n",
    "            empty_directory(directory)\n",
    "            \n",
    "\n",
    "def save_images_and_annotations(images, filenames, annotations, directory):\n",
    "    image_directory = os.path.join(directory, IMAGES_SUB_DIR)\n",
    "    annotation_directory = os.path.join(directory, ANNOTATIONS_SUB_DIR)\n",
    "\n",
    "    ensure_model_directory_exists(image_directory)\n",
    "    ensure_model_directory_exists(annotation_directory)\n",
    "\n",
    "    for image, filename, annotation in zip(images, filenames, annotations):\n",
    "        image_file_path = os.path.join(image_directory, filename)\n",
    "        annotation_file_path = os.path.join(annotation_directory, filename)\n",
    "        cv2.imwrite(image_file_path, image)\n",
    "        np.save(annotation_file_path, annotation)\n",
    "        \n",
    "save_images_and_annotations(train_images, train_original_filenames, train_annotations, NEW_HANDS_TRAIN)\n",
    "save_images_and_annotations(test_images, test_original_filenames, test_annotations, NEW_HANDS_TEST)\n",
    "save_images_and_annotations(val_images, val_original_filenames, val_annotations, NEW_HANDS_VAL)"
   ]
  }
 ],
 "metadata": {
  "kernelspec": {
   "display_name": "Python 3",
   "language": "python",
   "name": "python3"
  },
  "language_info": {
   "codemirror_mode": {
    "name": "ipython",
    "version": 3
   },
   "file_extension": ".py",
   "mimetype": "text/x-python",
   "name": "python",
   "nbconvert_exporter": "python",
   "pygments_lexer": "ipython3",
   "version": "3.6.5"
  }
 },
 "nbformat": 4,
 "nbformat_minor": 2
}
