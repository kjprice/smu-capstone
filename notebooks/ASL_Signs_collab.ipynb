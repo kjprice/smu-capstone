{
  "nbformat": 4,
  "nbformat_minor": 0,
  "metadata": {
    "colab": {
      "name": "ASL Signs.ipynb",
      "version": "0.3.2",
      "provenance": [],
      "collapsed_sections": [],
      "include_colab_link": true
    },
    "kernelspec": {
      "name": "python3",
      "display_name": "Python 3"
    },
    "accelerator": "GPU"
  },
  "cells": [
    {
      "cell_type": "markdown",
      "metadata": {
        "id": "view-in-github",
        "colab_type": "text"
      },
      "source": [
        "<a href=\"https://colab.research.google.com/github/kjprice/smu-capstone/blob/master/notebooks/ASL_Signs_collab.ipynb\" target=\"_parent\"><img src=\"https://colab.research.google.com/assets/colab-badge.svg\" alt=\"Open In Colab\"/></a>"
      ]
    },
    {
      "metadata": {
        "id": "UFw3pyTb1Zug",
        "colab_type": "code",
        "outputId": "3a1d888a-7f4d-42a5-b323-e0d1e2b9a2b5",
        "colab": {
          "base_uri": "https://localhost:8080/",
          "height": 122
        }
      },
      "cell_type": "code",
      "source": [
        "from google.colab import drive\n",
        "drive.mount('/content/gdrive')"
      ],
      "execution_count": 1,
      "outputs": [
        {
          "output_type": "stream",
          "text": [
            "Go to this URL in a browser: https://accounts.google.com/o/oauth2/auth?client_id=947318989803-6bn6qk8qdgf4n4g3pfee6491hc0brc4i.apps.googleusercontent.com&redirect_uri=urn%3Aietf%3Awg%3Aoauth%3A2.0%3Aoob&scope=email%20https%3A%2F%2Fwww.googleapis.com%2Fauth%2Fdocs.test%20https%3A%2F%2Fwww.googleapis.com%2Fauth%2Fdrive%20https%3A%2F%2Fwww.googleapis.com%2Fauth%2Fdrive.photos.readonly%20https%3A%2F%2Fwww.googleapis.com%2Fauth%2Fpeopleapi.readonly&response_type=code\n",
            "\n",
            "Enter your authorization code:\n",
            "··········\n",
            "Mounted at /content/gdrive\n"
          ],
          "name": "stdout"
        }
      ]
    },
    {
      "metadata": {
        "id": "HAnQGDSx324u",
        "colab_type": "code",
        "outputId": "6659c914-11e1-4651-8b61-2cd275d824c5",
        "colab": {
          "base_uri": "https://localhost:8080/",
          "height": 34
        }
      },
      "cell_type": "code",
      "source": [
        "import os, shutil, copy, ntpath, datetime, zipfile, json\n",
        "import keras\n",
        "from keras import models, layers, callbacks\n",
        "\n",
        "from keras.applications.vgg16 import VGG16\n",
        "from keras.applications.vgg19 import VGG19\n",
        "from keras.applications.xception import Xception\n",
        "from keras.applications.resnet50 import ResNet50\n",
        "\n",
        "from keras.preprocessing.image import ImageDataGenerator, load_img, img_to_array, array_to_img\n",
        "import tensorflow as tf\n",
        "from sklearn.model_selection import train_test_split\n",
        "\n",
        "import matplotlib.pyplot as plt\n",
        "\n",
        "import boto3\n",
        "import glob\n",
        "import ntpath\n",
        "import re\n",
        "\n",
        "import numpy as np\n",
        "import pandas as pd"
      ],
      "execution_count": 2,
      "outputs": [
        {
          "output_type": "stream",
          "text": [
            "Using TensorFlow backend.\n"
          ],
          "name": "stderr"
        }
      ]
    },
    {
      "metadata": {
        "id": "E_uyYEWg4zJ3",
        "colab_type": "text"
      },
      "cell_type": "markdown",
      "source": [
        "## Make sure we have GPU"
      ]
    },
    {
      "metadata": {
        "id": "NjAMzX__34lW",
        "colab_type": "code",
        "outputId": "ab6fc0ea-f3cd-4cf0-aa4b-fb0dca824c58",
        "colab": {
          "base_uri": "https://localhost:8080/",
          "height": 34
        }
      },
      "cell_type": "code",
      "source": [
        "device_name = tf.test.gpu_device_name()\n",
        "if device_name != '/device:GPU:0':\n",
        "  raise SystemError('GPU device not found')\n",
        "print('Found GPU at: {}'.format(device_name))"
      ],
      "execution_count": 3,
      "outputs": [
        {
          "output_type": "stream",
          "text": [
            "Found GPU at: /device:GPU:0\n"
          ],
          "name": "stdout"
        }
      ]
    },
    {
      "metadata": {
        "id": "o9Ou5mxYWo2Q",
        "colab_type": "text"
      },
      "cell_type": "markdown",
      "source": [
        "#### Settings"
      ]
    },
    {
      "metadata": {
        "id": "phLs5u0-4Nyi",
        "colab_type": "code",
        "colab": {}
      },
      "cell_type": "code",
      "source": [
        "IMAGE_SHAPE=(150, 150, 3)\n",
        "\n",
        "LIMIT_BATCHES = 593\n",
        "#LIMIT_BATCHES = None\n",
        "\n",
        "NUM_EPOCHS = 20\n",
        "BATCH_SIZE = 20\n",
        "\n",
        "# PRETRAIN_MODEL = 'conv_base_local'\n",
        "PRETRAIN_MODEL = VGG16\n",
        "#PRETRAIN_MODEL = VGG19\n",
        "#PRETRAIN_MODEL = Xception\n",
        "#PRETRAIN_MODEL = ResNet50\n",
        "# PRETRAIN_MODEL = None\n",
        "\n",
        "UNFREEZE_LAYERS=3\n",
        "\n",
        "USE_PREPROCESSED_IMAGES = False\n",
        "\n",
        "TEST_TRAIN_SPLIT = .95 # Train Size"
      ],
      "execution_count": 0,
      "outputs": []
    },
    {
      "metadata": {
        "id": "CSjmfPFnWzRb",
        "colab_type": "text"
      },
      "cell_type": "markdown",
      "source": [
        "#### Set Folders"
      ]
    },
    {
      "metadata": {
        "id": "0Rppk6Wzd4-x",
        "colab_type": "code",
        "colab": {}
      },
      "cell_type": "code",
      "source": [
        "def ensure_directory_exists(directory):\n",
        "  try:\n",
        "    return os.makedirs(directory)\n",
        "  except:\n",
        "    return None\n",
        " "
      ],
      "execution_count": 0,
      "outputs": []
    },
    {
      "metadata": {
        "id": "zIdRa0sm5AhF",
        "colab_type": "code",
        "colab": {}
      },
      "cell_type": "code",
      "source": [
        "#### Google FilePath Information\n",
        "DATA_DIR = '/content/gdrive/My Drive/SMU/Capstone/DataSets/'\n",
        "\n",
        "MODEL_TIMESTAMP = str(datetime.datetime.now()).replace(' ', '__')\n",
        "\n",
        "SAVED_MODEL_DIR = os.path.join(DATA_DIR, 'models/asl_alphabet')\n",
        "SAVED_CLASS_DIR = os.path.join(DATA_DIR, 'models/asl_alphabet_class_names')"
      ],
      "execution_count": 0,
      "outputs": []
    },
    {
      "metadata": {
        "id": "YAWebnKyblNW",
        "colab_type": "code",
        "colab": {}
      },
      "cell_type": "code",
      "source": [
        "#### Local FilePath Information\n",
        "\n",
        "LOCAL_DATA_DIR = '/tmp/data'\n",
        "LOCAL_DATASET_DIR = os.path.join(LOCAL_DATA_DIR, 'asl_alphabet')\n"
      ],
      "execution_count": 0,
      "outputs": []
    },
    {
      "metadata": {
        "id": "JV_VNHUaEqHh",
        "colab_type": "code",
        "colab": {}
      },
      "cell_type": "code",
      "source": [
        "if USE_PREPROCESSED_IMAGES:\n",
        "  dataset_zip = os.path.join(DATA_DIR, 'asl_alphabet.zip')\n",
        "  local_dataset_zip = os.path.join(LOCAL_DATA_DIR, 'asl_alphabet.zip')\n",
        "  train_dataset_name = 'processed_asl_train'\n",
        "  temp_unzip_directory = os.path.join(LOCAL_DATA_DIR, 'fabricated/asl_alphabet')\n",
        "else:\n",
        "  dataset_zip = os.path.join(DATA_DIR, 'asl_alphabet_original.zip')\n",
        "  local_dataset_zip = os.path.join(LOCAL_DATA_DIR, 'asl_alphabet_original.zip')\n",
        "  ## train_dataset_name = 'split_asl_alphabet_train'\n",
        "  train_dataset_name = 'processed_asl_train'\n",
        "  temp_unzip_directory = LOCAL_DATASET_DIR\n",
        "  \n",
        "TRAIN_DATASET_NAME = train_dataset_name\n",
        "ASL_ALPHABET_DATASET_ZIP = dataset_zip\n",
        "LOCAL_DATASET_ZIP = local_dataset_zip\n",
        "LOCAL_TRAIN_DIR = os.path.join(LOCAL_DATASET_DIR, TRAIN_DATASET_NAME)\n",
        "TEMP_UNZIP_DIRECTORY = temp_unzip_directory"
      ],
      "execution_count": 0,
      "outputs": []
    },
    {
      "metadata": {
        "id": "MnC4-vwjW7-K",
        "colab_type": "text"
      },
      "cell_type": "markdown",
      "source": [
        "#### Download Data"
      ]
    },
    {
      "metadata": {
        "id": "eq0imulnfA6_",
        "colab_type": "code",
        "colab": {}
      },
      "cell_type": "code",
      "source": [
        "# clean start\n",
        "if os.path.isdir(LOCAL_DATASET_DIR):\n",
        "  shutil.rmtree(LOCAL_DATASET_DIR)\n"
      ],
      "execution_count": 0,
      "outputs": []
    },
    {
      "metadata": {
        "id": "Nb6FsDY4n5AE",
        "colab_type": "code",
        "colab": {}
      },
      "cell_type": "code",
      "source": [
        "ensure_directory_exists(LOCAL_DATASET_DIR)"
      ],
      "execution_count": 0,
      "outputs": []
    },
    {
      "metadata": {
        "id": "Qu0T7H4yr12e",
        "colab_type": "code",
        "outputId": "d4426fa8-d32d-4f72-c58e-8c71bd6d14c1",
        "colab": {
          "base_uri": "https://localhost:8080/",
          "height": 51
        }
      },
      "cell_type": "code",
      "source": [
        "if not os.path.isfile(LOCAL_DATASET_ZIP):\n",
        "  %time shutil.copy(ASL_ALPHABET_DATASET_ZIP, LOCAL_DATASET_ZIP)"
      ],
      "execution_count": 11,
      "outputs": [
        {
          "output_type": "stream",
          "text": [
            "CPU times: user 1.48 s, sys: 6.95 s, total: 8.44 s\n",
            "Wall time: 1min 32s\n"
          ],
          "name": "stdout"
        }
      ]
    },
    {
      "metadata": {
        "id": "f96ajmJRXAGh",
        "colab_type": "text"
      },
      "cell_type": "markdown",
      "source": [
        "#### Extract Data"
      ]
    },
    {
      "metadata": {
        "id": "giYmqznqLeWk",
        "colab_type": "code",
        "outputId": "7900d4fd-8cec-4d93-b01e-0521e303650e",
        "colab": {
          "base_uri": "https://localhost:8080/",
          "height": 51
        }
      },
      "cell_type": "code",
      "source": [
        "with zipfile.ZipFile(LOCAL_DATASET_ZIP, 'r') as zip_ref:\n",
        "    %time zip_ref.extractall(TEMP_UNZIP_DIRECTORY)"
      ],
      "execution_count": 12,
      "outputs": [
        {
          "output_type": "stream",
          "text": [
            "CPU times: user 46.5 s, sys: 27.8 s, total: 1min 14s\n",
            "Wall time: 1min 46s\n"
          ],
          "name": "stdout"
        }
      ]
    },
    {
      "metadata": {
        "id": "C4E1HtcesI4c",
        "colab_type": "code",
        "outputId": "9e4c732e-be4f-4362-80bd-9748dbfa5edf",
        "colab": {
          "base_uri": "https://localhost:8080/",
          "height": 34
        }
      },
      "cell_type": "code",
      "source": [
        "AVAILABLE_DATASETS = os.listdir(LOCAL_DATASET_DIR)\n",
        "print(AVAILABLE_DATASETS)"
      ],
      "execution_count": 13,
      "outputs": [
        {
          "output_type": "stream",
          "text": [
            "['processed_rgb_ahe_test', 'split_asl_alphabet_test', 'processed_ahe_grayscale_asl_test', 'processed_asl_train']\n"
          ],
          "name": "stdout"
        }
      ]
    },
    {
      "metadata": {
        "id": "oDAeef0Rrxjv",
        "colab_type": "code",
        "outputId": "57630c9e-069b-4a03-fc23-66a501afd952",
        "colab": {
          "base_uri": "https://localhost:8080/",
          "height": 34
        }
      },
      "cell_type": "code",
      "source": [
        "if not TRAIN_DATASET_NAME in AVAILABLE_DATASETS:\n",
        "  raise Exception('we are expecting to see {} as one of the available datasets'.format(TRAIN_DATASET_NAME))\n",
        "TEST_DATASET_NAMES = [dataset for dataset in AVAILABLE_DATASETS if dataset != TRAIN_DATASET_NAME]\n",
        "print('We have one training set and {} test sets'.format(len(TEST_DATASET_NAMES)))\n",
        "LOCAL_TEST_DIRS = [os.path.join(LOCAL_DATASET_DIR, name) for name in TEST_DATASET_NAMES]"
      ],
      "execution_count": 14,
      "outputs": [
        {
          "output_type": "stream",
          "text": [
            "We have one training set and 3 test sets\n"
          ],
          "name": "stdout"
        }
      ]
    },
    {
      "metadata": {
        "id": "OjHf45KsXOsC",
        "colab_type": "text"
      },
      "cell_type": "markdown",
      "source": [
        "#### Create Split training/test data"
      ]
    },
    {
      "metadata": {
        "id": "vev8HX3nZGIR",
        "colab_type": "code",
        "colab": {}
      },
      "cell_type": "code",
      "source": [
        "def get_sign_folders(from_folder):\n",
        "  # https://stackoverflow.com/questions/973473/getting-a-list-of-all-subdirectories-in-the-current-directory\n",
        "  folders = next(os.walk(from_folder))[1]\n",
        "  return folders"
      ],
      "execution_count": 0,
      "outputs": []
    },
    {
      "metadata": {
        "id": "KJZYGiwnXX0q",
        "colab_type": "code",
        "outputId": "d690cd9c-8595-4e59-82fd-a372c8f685b9",
        "colab": {
          "base_uri": "https://localhost:8080/",
          "height": 34
        }
      },
      "cell_type": "code",
      "source": [
        "# A, B, C, D, DELETE, etc\n",
        "ASL_FOLDERS = get_sign_folders(LOCAL_TRAIN_DIR)\n",
        "NUM_CLASSES = len(ASL_FOLDERS)\n",
        "\n",
        "print('We have {} folders'.format(NUM_CLASSES))"
      ],
      "execution_count": 16,
      "outputs": [
        {
          "output_type": "stream",
          "text": [
            "We have 43 folders\n"
          ],
          "name": "stdout"
        }
      ]
    },
    {
      "metadata": {
        "id": "0BMLNPEuXHzs",
        "colab_type": "text"
      },
      "cell_type": "markdown",
      "source": [
        "#### Create Data Generators"
      ]
    },
    {
      "metadata": {
        "id": "x2CeJieJxZDK",
        "colab_type": "code",
        "colab": {}
      },
      "cell_type": "code",
      "source": [
        "def create_test_datagen(directory):\n",
        "  test_datagen = ImageDataGenerator(rescale=1./255)\n",
        "  return test_datagen.flow_from_directory(\n",
        "         directory,\n",
        "         target_size = (IMAGE_SHAPE[0], IMAGE_SHAPE[0]),\n",
        "         batch_size = BATCH_SIZE,\n",
        "         color_mode = \"rgb\",\n",
        "         class_mode='categorical'\n",
        "  )"
      ],
      "execution_count": 0,
      "outputs": []
    },
    {
      "metadata": {
        "id": "kvTJuHhc5DVF",
        "colab_type": "code",
        "colab": {}
      },
      "cell_type": "code",
      "source": [
        "# dataset definition with augmentation\n",
        "train_datagen = ImageDataGenerator(\n",
        "    rescale=1./255,\n",
        "    validation_split=0.1,\n",
        "    horizontal_flip=True,\n",
        "    rotation_range=20,\n",
        "    width_shift_range=0.2,\n",
        "    height_shift_range=0.2,\n",
        "    )"
      ],
      "execution_count": 0,
      "outputs": []
    },
    {
      "metadata": {
        "id": "zb8nTrZ25Eje",
        "colab_type": "code",
        "outputId": "06980e64-3a56-4327-aad0-4baf7d5f5da0",
        "colab": {
          "base_uri": "https://localhost:8080/",
          "height": 102
        }
      },
      "cell_type": "code",
      "source": [
        "#create generators\n",
        "train_generator = train_datagen.flow_from_directory(\n",
        "           LOCAL_TRAIN_DIR,\n",
        "           target_size = (IMAGE_SHAPE[0], IMAGE_SHAPE[0]),\n",
        "           batch_size=BATCH_SIZE,\n",
        "           class_mode = 'categorical',\n",
        "           subset='training'\n",
        ")\n",
        "\n",
        "#create generators\n",
        "validation_generator = train_datagen.flow_from_directory(\n",
        "           LOCAL_TRAIN_DIR,\n",
        "           target_size = (IMAGE_SHAPE[0], IMAGE_SHAPE[0]),\n",
        "           batch_size=BATCH_SIZE,\n",
        "           class_mode = 'categorical',\n",
        "           subset='validation'\n",
        ")\n",
        "\n",
        "test_generators = [create_test_datagen(dir) for dir in LOCAL_TEST_DIRS]"
      ],
      "execution_count": 19,
      "outputs": [
        {
          "output_type": "stream",
          "text": [
            "Found 338825 images belonging to 43 classes.\n",
            "Found 37627 images belonging to 43 classes.\n",
            "Found 12817 images belonging to 43 classes.\n",
            "Found 12817 images belonging to 43 classes.\n",
            "Found 12817 images belonging to 43 classes.\n"
          ],
          "name": "stdout"
        }
      ]
    },
    {
      "metadata": {
        "id": "z-hzZZed2Vhz",
        "colab_type": "code",
        "colab": {}
      },
      "cell_type": "code",
      "source": [
        "def save_generator_classes(gen=train_generator):\n",
        "  label_map = (gen.class_indices)\n",
        "\n",
        "  filename = os.path.join(SAVED_CLASS_DIR, '{}-data.json'.format(MODEL_TIMESTAMP))\n",
        "  with open(filename, 'w') as outfile:\n",
        "      json.dump(label_map, outfile)"
      ],
      "execution_count": 0,
      "outputs": []
    },
    {
      "metadata": {
        "id": "NcuHxZtKAqgx",
        "colab_type": "text"
      },
      "cell_type": "markdown",
      "source": [
        "# Models"
      ]
    },
    {
      "metadata": {
        "id": "hra5i3ArajnH",
        "colab_type": "code",
        "outputId": "e0a7fcdf-aa19-4e9a-b025-7f00ee7fcbe4",
        "colab": {
          "base_uri": "https://localhost:8080/",
          "height": 122
        }
      },
      "cell_type": "code",
      "source": [
        "conv_base2 = VGG16(weights='imagenet',\n",
        "                      include_top=False,\n",
        "                      input_shape=(IMAGE_SHAPE[0], IMAGE_SHAPE[1], IMAGE_SHAPE[2]))"
      ],
      "execution_count": 21,
      "outputs": [
        {
          "output_type": "stream",
          "text": [
            "WARNING:tensorflow:From /usr/local/lib/python3.6/dist-packages/tensorflow/python/framework/op_def_library.py:263: colocate_with (from tensorflow.python.framework.ops) is deprecated and will be removed in a future version.\n",
            "Instructions for updating:\n",
            "Colocations handled automatically by placer.\n",
            "Downloading data from https://github.com/fchollet/deep-learning-models/releases/download/v0.1/vgg16_weights_tf_dim_ordering_tf_kernels_notop.h5\n",
            "58892288/58889256 [==============================] - 2s 0us/step\n"
          ],
          "name": "stdout"
        }
      ]
    },
    {
      "metadata": {
        "id": "gntQjfO2akt2",
        "colab_type": "code",
        "colab": {}
      },
      "cell_type": "code",
      "source": [
        "def freeze_layers(layers):\n",
        "  num_layers = len(layers)\n",
        "  num_layers_to_freeze = num_layers - UNFREEZE_LAYERS\n",
        "  for i in range(0, num_layers_to_freeze):\n",
        "    layers[i].trainable = False\n"
      ],
      "execution_count": 0,
      "outputs": []
    },
    {
      "metadata": {
        "id": "4Ob6_zTgAoED",
        "colab_type": "code",
        "colab": {}
      },
      "cell_type": "code",
      "source": [
        "def create_pretrained_model(BASE):   \n",
        "    conv_base = BASE(weights='imagenet',\n",
        "                      include_top=False,\n",
        "                      input_shape=(IMAGE_SHAPE[0], IMAGE_SHAPE[1], IMAGE_SHAPE[2]))\n",
        "    print(conv_base.summary())\n",
        "    \n",
        "    freeze_layers(conv_base.layers)\n",
        "    \n",
        "    model = models.Sequential()\n",
        "    model.add(conv_base)\n",
        "    model.add(layers.Flatten())\n",
        "    model.add(layers.Dense(256, activation='relu'))\n",
        "    model.add(layers.Dense(NUM_CLASSES, activation='softmax'))\n",
        "\n",
        "    optimizer = keras.optimizers.RMSprop(lr=0.0001)\n",
        "    model.compile(optimizer=optimizer, loss='categorical_crossentropy', metrics=['accuracy'])\n",
        "\n",
        "    model.summary()\n",
        "    return model\n",
        "    \n",
        "    "
      ],
      "execution_count": 0,
      "outputs": []
    },
    {
      "metadata": {
        "id": "oPP5cfCt5IrU",
        "colab_type": "code",
        "colab": {}
      },
      "cell_type": "code",
      "source": [
        "def create_blank_model():\n",
        "    model = models.Sequential()\n",
        "    model.add(layers.Conv2D(16, (3, 3), activation='relu', input_shape=IMAGE_SHAPE))\n",
        "    model.add(layers.MaxPooling2D((2, 2)))\n",
        "    model.add(layers.Conv2D(32, (3, 3), activation='relu'))\n",
        "    model.add(layers.MaxPooling2D((2, 2)))\n",
        "    model.add(layers.Conv2D(64, (3, 3), activation='relu'))\n",
        "    model.add(layers.MaxPooling2D((2, 2)))\n",
        "    model.add(layers.Conv2D(128, (3, 3), activation='relu'))\n",
        "    model.add(layers.MaxPooling2D((2, 2)))\n",
        "    model.add(layers.Conv2D(256, (3, 3), activation='relu'))\n",
        "\n",
        "    #Add a classfier on top of the convnet\n",
        "    model.add(layers.Flatten())\n",
        "    model.add(layers.Dropout(.5))\n",
        "    model.add(layers.Dense(128, activation='relu'))\n",
        "    #model.add(layers.BatchNormalization())\n",
        "    model.add(layers.Dense(NUM_CLASSES, activation='softmax'))\n",
        "\n",
        "    #compile the model\n",
        "    optimizer = keras.optimizers.RMSprop(lr=0.0001)\n",
        "    model.compile(optimizer=optimizer, loss='categorical_crossentropy', metrics=['accuracy'])\n",
        "\n",
        "    print(model.summary())\n",
        "    return model\n"
      ],
      "execution_count": 0,
      "outputs": []
    },
    {
      "metadata": {
        "id": "2B_b7B_kAyct",
        "colab_type": "code",
        "outputId": "424508d7-91fc-4722-8f60-4a1f740eb099",
        "colab": {
          "base_uri": "https://localhost:8080/",
          "height": 1054
        }
      },
      "cell_type": "code",
      "source": [
        "if not PRETRAIN_MODEL:\n",
        "    model = create_blank_model()\n",
        "else:\n",
        "    model = create_pretrained_model(PRETRAIN_MODEL)"
      ],
      "execution_count": 25,
      "outputs": [
        {
          "output_type": "stream",
          "text": [
            "_________________________________________________________________\n",
            "Layer (type)                 Output Shape              Param #   \n",
            "=================================================================\n",
            "input_2 (InputLayer)         (None, 150, 150, 3)       0         \n",
            "_________________________________________________________________\n",
            "block1_conv1 (Conv2D)        (None, 150, 150, 64)      1792      \n",
            "_________________________________________________________________\n",
            "block1_conv2 (Conv2D)        (None, 150, 150, 64)      36928     \n",
            "_________________________________________________________________\n",
            "block1_pool (MaxPooling2D)   (None, 75, 75, 64)        0         \n",
            "_________________________________________________________________\n",
            "block2_conv1 (Conv2D)        (None, 75, 75, 128)       73856     \n",
            "_________________________________________________________________\n",
            "block2_conv2 (Conv2D)        (None, 75, 75, 128)       147584    \n",
            "_________________________________________________________________\n",
            "block2_pool (MaxPooling2D)   (None, 37, 37, 128)       0         \n",
            "_________________________________________________________________\n",
            "block3_conv1 (Conv2D)        (None, 37, 37, 256)       295168    \n",
            "_________________________________________________________________\n",
            "block3_conv2 (Conv2D)        (None, 37, 37, 256)       590080    \n",
            "_________________________________________________________________\n",
            "block3_conv3 (Conv2D)        (None, 37, 37, 256)       590080    \n",
            "_________________________________________________________________\n",
            "block3_pool (MaxPooling2D)   (None, 18, 18, 256)       0         \n",
            "_________________________________________________________________\n",
            "block4_conv1 (Conv2D)        (None, 18, 18, 512)       1180160   \n",
            "_________________________________________________________________\n",
            "block4_conv2 (Conv2D)        (None, 18, 18, 512)       2359808   \n",
            "_________________________________________________________________\n",
            "block4_conv3 (Conv2D)        (None, 18, 18, 512)       2359808   \n",
            "_________________________________________________________________\n",
            "block4_pool (MaxPooling2D)   (None, 9, 9, 512)         0         \n",
            "_________________________________________________________________\n",
            "block5_conv1 (Conv2D)        (None, 9, 9, 512)         2359808   \n",
            "_________________________________________________________________\n",
            "block5_conv2 (Conv2D)        (None, 9, 9, 512)         2359808   \n",
            "_________________________________________________________________\n",
            "block5_conv3 (Conv2D)        (None, 9, 9, 512)         2359808   \n",
            "_________________________________________________________________\n",
            "block5_pool (MaxPooling2D)   (None, 4, 4, 512)         0         \n",
            "=================================================================\n",
            "Total params: 14,714,688\n",
            "Trainable params: 14,714,688\n",
            "Non-trainable params: 0\n",
            "_________________________________________________________________\n",
            "None\n",
            "_________________________________________________________________\n",
            "Layer (type)                 Output Shape              Param #   \n",
            "=================================================================\n",
            "vgg16 (Model)                (None, 4, 4, 512)         14714688  \n",
            "_________________________________________________________________\n",
            "flatten_1 (Flatten)          (None, 8192)              0         \n",
            "_________________________________________________________________\n",
            "dense_1 (Dense)              (None, 256)               2097408   \n",
            "_________________________________________________________________\n",
            "dense_2 (Dense)              (None, 43)                11051     \n",
            "=================================================================\n",
            "Total params: 16,823,147\n",
            "Trainable params: 6,828,075\n",
            "Non-trainable params: 9,995,072\n",
            "_________________________________________________________________\n"
          ],
          "name": "stdout"
        }
      ]
    },
    {
      "metadata": {
        "id": "1YCgPt1OLp22",
        "colab_type": "code",
        "outputId": "5965898b-f9b9-4c9f-a3af-5fd71fee3ef3",
        "colab": {
          "base_uri": "https://localhost:8080/",
          "height": 85
        }
      },
      "cell_type": "code",
      "source": [
        "steps_per_epoch = None\n",
        "\n",
        "if LIMIT_BATCHES is None:\n",
        "  steps_per_epoch_train = len(train_generator)\n",
        "  steps_per_epoch_val = len(validation_generator)\n",
        "  steps_per_epoch_test = len(test_generators[0])\n",
        "else:\n",
        "  steps_per_epoch_train = LIMIT_BATCHES\n",
        "  steps_per_epoch_val = (LIMIT_BATCHES / len(train_generator)) * len(validation_generator)\n",
        "  steps_per_epoch_test = (LIMIT_BATCHES / len(train_generator)) * len(test_generators[0])\n",
        "\n",
        "print('total batches {}'.format(len(train_generator)))\n",
        "print('steps_per_epoch_train {}'.format(steps_per_epoch_train))\n",
        "print('steps_per_epoch_test {}'.format(steps_per_epoch_test))\n",
        "print('steps_per_epoch_val {}'.format(steps_per_epoch_val))\n"
      ],
      "execution_count": 26,
      "outputs": [
        {
          "output_type": "stream",
          "text": [
            "total batches 16942\n",
            "steps_per_epoch_train 593\n",
            "steps_per_epoch_test 22.436135048990675\n",
            "steps_per_epoch_val 65.87333254633455\n"
          ],
          "name": "stdout"
        }
      ]
    },
    {
      "metadata": {
        "id": "NMfeDeRO5RU3",
        "colab_type": "code",
        "outputId": "112929cc-a1b0-4955-ff67-7245045b3f6a",
        "colab": {
          "base_uri": "https://localhost:8080/",
          "height": 1448
        }
      },
      "cell_type": "code",
      "source": [
        "weight_filename = \"weights-improvement-\" + MODEL_TIMESTAMP + \"-{epoch:02d}-{val_acc:.2f}.hdf5\"\n",
        "\n",
        "saved_model_filepath = os.path.join(SAVED_MODEL_DIR, weight_filename)\n",
        "callbacks_list = [callbacks.ModelCheckpoint(saved_model_filepath, monitor='val_acc', verbose=1, save_best_only=True, mode='max')]\n",
        "\n",
        "history= model.fit_generator (\n",
        "  train_generator,\n",
        "  epochs = NUM_EPOCHS,\n",
        "  steps_per_epoch=steps_per_epoch_train,\n",
        "  validation_steps=steps_per_epoch_val,\n",
        "  callbacks = callbacks_list,\n",
        "  validation_data=validation_generator,\n",
        "  verbose=1 \\\n",
        ")"
      ],
      "execution_count": 27,
      "outputs": [
        {
          "output_type": "stream",
          "text": [
            "WARNING:tensorflow:From /usr/local/lib/python3.6/dist-packages/tensorflow/python/ops/math_ops.py:3066: to_int32 (from tensorflow.python.ops.math_ops) is deprecated and will be removed in a future version.\n",
            "Instructions for updating:\n",
            "Use tf.cast instead.\n",
            "Epoch 1/20\n",
            "593/593 [==============================] - 462s 779ms/step - loss: 1.6518 - acc: 0.5269 - val_loss: 1.2165 - val_acc: 0.6439\n",
            "\n",
            "Epoch 00001: val_acc improved from -inf to 0.64394, saving model to /content/gdrive/My Drive/SMU/Capstone/DataSets/models/asl_alphabet/weights-improvement-2019-02-10__13:33:57.712145-01-0.64.hdf5\n",
            "Epoch 2/20\n",
            "593/593 [==============================] - 452s 763ms/step - loss: 0.7115 - acc: 0.7822 - val_loss: 0.9411 - val_acc: 0.7280\n",
            "\n",
            "Epoch 00002: val_acc improved from 0.64394 to 0.72803, saving model to /content/gdrive/My Drive/SMU/Capstone/DataSets/models/asl_alphabet/weights-improvement-2019-02-10__13:33:57.712145-02-0.73.hdf5\n",
            "Epoch 3/20\n",
            "593/593 [==============================] - 452s 762ms/step - loss: 0.5255 - acc: 0.8398 - val_loss: 0.7787 - val_acc: 0.7629\n",
            "\n",
            "Epoch 00003: val_acc improved from 0.72803 to 0.76288, saving model to /content/gdrive/My Drive/SMU/Capstone/DataSets/models/asl_alphabet/weights-improvement-2019-02-10__13:33:57.712145-03-0.76.hdf5\n",
            "Epoch 4/20\n",
            "593/593 [==============================] - 454s 766ms/step - loss: 0.4106 - acc: 0.8696 - val_loss: 0.7773 - val_acc: 0.7773\n",
            "\n",
            "Epoch 00004: val_acc improved from 0.76288 to 0.77727, saving model to /content/gdrive/My Drive/SMU/Capstone/DataSets/models/asl_alphabet/weights-improvement-2019-02-10__13:33:57.712145-04-0.78.hdf5\n",
            "Epoch 5/20\n",
            "593/593 [==============================] - 456s 769ms/step - loss: 0.3495 - acc: 0.8932 - val_loss: 0.6848 - val_acc: 0.8091\n",
            "\n",
            "Epoch 00005: val_acc improved from 0.77727 to 0.80909, saving model to /content/gdrive/My Drive/SMU/Capstone/DataSets/models/asl_alphabet/weights-improvement-2019-02-10__13:33:57.712145-05-0.81.hdf5\n",
            "Epoch 6/20\n",
            "593/593 [==============================] - 456s 770ms/step - loss: 0.2983 - acc: 0.9081 - val_loss: 0.6792 - val_acc: 0.8068\n",
            "\n",
            "Epoch 00006: val_acc did not improve from 0.80909\n",
            "Epoch 7/20\n",
            "593/593 [==============================] - 454s 766ms/step - loss: 0.2593 - acc: 0.9179 - val_loss: 0.7003 - val_acc: 0.8114\n",
            "\n",
            "Epoch 00007: val_acc improved from 0.80909 to 0.81136, saving model to /content/gdrive/My Drive/SMU/Capstone/DataSets/models/asl_alphabet/weights-improvement-2019-02-10__13:33:57.712145-07-0.81.hdf5\n",
            "Epoch 8/20\n",
            "593/593 [==============================] - 455s 767ms/step - loss: 0.2421 - acc: 0.9238 - val_loss: 0.6492 - val_acc: 0.8379\n",
            "\n",
            "Epoch 00008: val_acc improved from 0.81136 to 0.83788, saving model to /content/gdrive/My Drive/SMU/Capstone/DataSets/models/asl_alphabet/weights-improvement-2019-02-10__13:33:57.712145-08-0.84.hdf5\n",
            "Epoch 9/20\n",
            "593/593 [==============================] - 453s 765ms/step - loss: 0.2340 - acc: 0.9299 - val_loss: 0.6112 - val_acc: 0.8326\n",
            "\n",
            "Epoch 00009: val_acc did not improve from 0.83788\n",
            "Epoch 10/20\n",
            "593/593 [==============================] - 452s 762ms/step - loss: 0.2126 - acc: 0.9368 - val_loss: 0.6945 - val_acc: 0.8364\n",
            "\n",
            "Epoch 00010: val_acc did not improve from 0.83788\n",
            "Epoch 11/20\n",
            "593/593 [==============================] - 445s 751ms/step - loss: 0.2008 - acc: 0.9407 - val_loss: 0.5924 - val_acc: 0.8523\n",
            "\n",
            "Epoch 00011: val_acc improved from 0.83788 to 0.85227, saving model to /content/gdrive/My Drive/SMU/Capstone/DataSets/models/asl_alphabet/weights-improvement-2019-02-10__13:33:57.712145-11-0.85.hdf5\n",
            "Epoch 12/20\n",
            "593/593 [==============================] - 452s 763ms/step - loss: 0.1974 - acc: 0.9418 - val_loss: 0.6384 - val_acc: 0.8485\n",
            "\n",
            "Epoch 00012: val_acc did not improve from 0.85227\n",
            "Epoch 13/20\n",
            "593/593 [==============================] - 455s 768ms/step - loss: 0.1981 - acc: 0.9454 - val_loss: 0.7591 - val_acc: 0.8341\n",
            "\n",
            "Epoch 00013: val_acc did not improve from 0.85227\n",
            "Epoch 14/20\n",
            "593/593 [==============================] - 447s 753ms/step - loss: 0.1734 - acc: 0.9489 - val_loss: 0.6732 - val_acc: 0.8470\n",
            "\n",
            "Epoch 00014: val_acc did not improve from 0.85227\n",
            "Epoch 15/20\n",
            "593/593 [==============================] - 444s 748ms/step - loss: 0.1783 - acc: 0.9485 - val_loss: 0.8236 - val_acc: 0.8439\n",
            "\n",
            "Epoch 00015: val_acc did not improve from 0.85227\n",
            "Epoch 16/20\n",
            "593/593 [==============================] - 444s 748ms/step - loss: 0.1612 - acc: 0.9545 - val_loss: 0.6800 - val_acc: 0.8394\n",
            "\n",
            "Epoch 00016: val_acc did not improve from 0.85227\n",
            "Epoch 17/20\n",
            "593/593 [==============================] - 438s 739ms/step - loss: 0.1639 - acc: 0.9542 - val_loss: 0.7734 - val_acc: 0.8538\n",
            "\n",
            "Epoch 00017: val_acc improved from 0.85227 to 0.85379, saving model to /content/gdrive/My Drive/SMU/Capstone/DataSets/models/asl_alphabet/weights-improvement-2019-02-10__13:33:57.712145-17-0.85.hdf5\n",
            "Epoch 18/20\n",
            "593/593 [==============================] - 449s 758ms/step - loss: 0.1630 - acc: 0.9555 - val_loss: 0.6421 - val_acc: 0.8606\n",
            "\n",
            "Epoch 00018: val_acc improved from 0.85379 to 0.86061, saving model to /content/gdrive/My Drive/SMU/Capstone/DataSets/models/asl_alphabet/weights-improvement-2019-02-10__13:33:57.712145-18-0.86.hdf5\n",
            "Epoch 19/20\n",
            "593/593 [==============================] - 448s 756ms/step - loss: 0.1600 - acc: 0.9581 - val_loss: 0.7401 - val_acc: 0.8621\n",
            "\n",
            "Epoch 00019: val_acc improved from 0.86061 to 0.86212, saving model to /content/gdrive/My Drive/SMU/Capstone/DataSets/models/asl_alphabet/weights-improvement-2019-02-10__13:33:57.712145-19-0.86.hdf5\n",
            "Epoch 20/20\n",
            "593/593 [==============================] - 445s 750ms/step - loss: 0.1615 - acc: 0.9576 - val_loss: 0.7052 - val_acc: 0.8705\n",
            "\n",
            "Epoch 00020: val_acc improved from 0.86212 to 0.87045, saving model to /content/gdrive/My Drive/SMU/Capstone/DataSets/models/asl_alphabet/weights-improvement-2019-02-10__13:33:57.712145-20-0.87.hdf5\n"
          ],
          "name": "stdout"
        }
      ]
    },
    {
      "metadata": {
        "id": "soviW5rN5UKG",
        "colab_type": "code",
        "outputId": "3506bf7d-8ca4-4056-b517-14caf3ae0843",
        "colab": {
          "base_uri": "https://localhost:8080/",
          "height": 362
        }
      },
      "cell_type": "code",
      "source": [
        "#visualization of model performance\n",
        "history_dict = history.history\n",
        "loss_values = history_dict['loss']\n",
        "val_loss_values =  history_dict['val_loss']\n",
        "acc_values = history_dict['acc']\n",
        "\n",
        "epochs = range(1, len(acc_values) + 1)\n",
        "\n",
        "plt.plot(epochs, loss_values, 'bo', label = 'Training Loss')\n",
        "plt.plot(epochs,val_loss_values, 'b', label = 'Validation Loss')\n",
        "plt.title('Training and Validation Losses')\n",
        "plt.xlabel='Epochs'\n",
        "plt.ylabel='Loss'\n",
        "plt.legend()\n",
        "plt.show()"
      ],
      "execution_count": 28,
      "outputs": [
        {
          "output_type": "display_data",
          "data": {
            "image/png": "[encoded data removed]",
            "text/plain": [
              "<Figure size 576x396 with 1 Axes>"
            ]
          },
          "metadata": {
            "tags": []
          }
        }
      ]
    },
    {
      "metadata": {
        "id": "u9k7xD8S5VWN",
        "colab_type": "code",
        "outputId": "f789f951-4935-418b-d5b5-4ebb415d3495",
        "colab": {
          "base_uri": "https://localhost:8080/",
          "height": 347
        }
      },
      "cell_type": "code",
      "source": [
        "plt.clf()\n",
        "acc_values = history_dict['acc']\n",
        "val_acc_values = history_dict['val_acc']\n",
        "\n",
        "plt.plot(epochs, acc_values, 'bo', label='Training acc')\n",
        "plt.plot(epochs,val_acc_values, 'b', label='Validation accuracy')\n",
        "plt.xlabel = 'Epochs'\n",
        "plt.ylabel = 'Loss'\n",
        "plt.legend()\n",
        "\n",
        "plt.show()"
      ],
      "execution_count": 29,
      "outputs": [
        {
          "output_type": "display_data",
          "data": {
            "image/png": "[encoded data removed]",
            "text/plain": [
              "<Figure size 576x396 with 1 Axes>"
            ]
          },
          "metadata": {
            "tags": []
          }
        }
      ]
    },
    {
      "metadata": {
        "id": "4tLl5VA5evNq",
        "colab_type": "text"
      },
      "cell_type": "markdown",
      "source": [
        "## Validate against each of the test generators"
      ]
    },
    {
      "metadata": {
        "id": "2bbNHtAR2mc_",
        "colab_type": "code",
        "colab": {}
      },
      "cell_type": "code",
      "source": [
        "save_generator_classes(train_generator)"
      ],
      "execution_count": 0,
      "outputs": []
    },
    {
      "metadata": {
        "id": "3jVBPSk4eT0i",
        "colab_type": "code",
        "outputId": "f25814bd-0561-434d-bb1e-020bf87e3941",
        "colab": {
          "base_uri": "https://localhost:8080/",
          "height": 68
        }
      },
      "cell_type": "code",
      "source": [
        "for generator, _dir in zip(test_generators, LOCAL_TEST_DIRS):\n",
        "  test_loss, test_acc = model.evaluate_generator(generator, steps=steps_per_epoch_test)\n",
        "  print('{}: {}'.format(_dir, test_acc))"
      ],
      "execution_count": 31,
      "outputs": [
        {
          "output_type": "stream",
          "text": [
            "/tmp/data/asl_alphabet/processed_rgb_ahe_test: 0.9760869508204253\n",
            "/tmp/data/asl_alphabet/split_asl_alphabet_test: 0.9630434746327607\n",
            "/tmp/data/asl_alphabet/processed_ahe_grayscale_asl_test: 0.9782608643822048\n"
          ],
          "name": "stdout"
        }
      ]
    }
  ]
}