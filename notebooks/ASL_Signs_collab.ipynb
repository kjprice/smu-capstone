{
  "nbformat": 4,
  "nbformat_minor": 0,
  "metadata": {
    "colab": {
      "name": "ASL Signs.ipynb",
      "version": "0.3.2",
      "provenance": [],
      "collapsed_sections": [],
      "include_colab_link": true
    },
    "kernelspec": {
      "name": "python3",
      "display_name": "Python 3"
    },
    "accelerator": "GPU"
  },
  "cells": [
    {
      "cell_type": "markdown",
      "metadata": {
        "id": "view-in-github",
        "colab_type": "text"
      },
      "source": [
        "<a href=\"https://colab.research.google.com/github/kjprice/smu-capstone/blob/master/notebooks/ASL_Signs_collab.ipynb\" target=\"_parent\"><img src=\"https://colab.research.google.com/assets/colab-badge.svg\" alt=\"Open In Colab\"/></a>"
      ]
    },
    {
      "metadata": {
        "id": "UFw3pyTb1Zug",
        "colab_type": "code",
        "outputId": "378a45c4-aa91-4d93-b30f-895786a4f5f8",
        "colab": {
          "base_uri": "https://localhost:8080/",
          "height": 122
        }
      },
      "cell_type": "code",
      "source": [
        "from google.colab import drive\n",
        "drive.mount('/content/gdrive')"
      ],
      "execution_count": 1,
      "outputs": [
        {
          "output_type": "stream",
          "text": [
            "Go to this URL in a browser: https://accounts.google.com/o/oauth2/auth?client_id=947318989803-6bn6qk8qdgf4n4g3pfee6491hc0brc4i.apps.googleusercontent.com&redirect_uri=urn%3Aietf%3Awg%3Aoauth%3A2.0%3Aoob&scope=email%20https%3A%2F%2Fwww.googleapis.com%2Fauth%2Fdocs.test%20https%3A%2F%2Fwww.googleapis.com%2Fauth%2Fdrive%20https%3A%2F%2Fwww.googleapis.com%2Fauth%2Fdrive.photos.readonly%20https%3A%2F%2Fwww.googleapis.com%2Fauth%2Fpeopleapi.readonly&response_type=code\n",
            "\n",
            "Enter your authorization code:\n",
            "··········\n",
            "Mounted at /content/gdrive\n"
          ],
          "name": "stdout"
        }
      ]
    },
    {
      "metadata": {
        "id": "HAnQGDSx324u",
        "colab_type": "code",
        "outputId": "89e2b15a-2573-4f55-cec2-8accffe5ae3a",
        "colab": {
          "base_uri": "https://localhost:8080/",
          "height": 34
        }
      },
      "cell_type": "code",
      "source": [
        "import os, shutil, copy, ntpath, datetime, zipfile\n",
        "import keras\n",
        "from keras import models, layers, callbacks\n",
        "\n",
        "from keras.applications.vgg16 import VGG16\n",
        "from keras.applications.vgg19 import VGG19\n",
        "from keras.applications.xception import Xception\n",
        "from keras.applications.resnet50 import ResNet50\n",
        "\n",
        "from keras.preprocessing.image import ImageDataGenerator, load_img, img_to_array, array_to_img\n",
        "import tensorflow as tf\n",
        "from sklearn.model_selection import train_test_split\n",
        "\n",
        "import matplotlib.pyplot as plt\n",
        "\n",
        "import boto3\n",
        "import glob\n",
        "import ntpath\n",
        "import re\n",
        "\n",
        "import numpy as np\n",
        "import pandas as pd"
      ],
      "execution_count": 2,
      "outputs": [
        {
          "output_type": "stream",
          "text": [
            "Using TensorFlow backend.\n"
          ],
          "name": "stderr"
        }
      ]
    },
    {
      "metadata": {
        "id": "E_uyYEWg4zJ3",
        "colab_type": "text"
      },
      "cell_type": "markdown",
      "source": [
        "## Make sure we have GPU"
      ]
    },
    {
      "metadata": {
        "id": "NjAMzX__34lW",
        "colab_type": "code",
        "outputId": "79d542a7-718a-4456-a337-a33fa88cd84e",
        "colab": {
          "base_uri": "https://localhost:8080/",
          "height": 34
        }
      },
      "cell_type": "code",
      "source": [
        "device_name = tf.test.gpu_device_name()\n",
        "if device_name != '/device:GPU:0':\n",
        "  raise SystemError('GPU device not found')\n",
        "print('Found GPU at: {}'.format(device_name))"
      ],
      "execution_count": 3,
      "outputs": [
        {
          "output_type": "stream",
          "text": [
            "Found GPU at: /device:GPU:0\n"
          ],
          "name": "stdout"
        }
      ]
    },
    {
      "metadata": {
        "id": "o9Ou5mxYWo2Q",
        "colab_type": "text"
      },
      "cell_type": "markdown",
      "source": [
        "#### Settings"
      ]
    },
    {
      "metadata": {
        "id": "phLs5u0-4Nyi",
        "colab_type": "code",
        "colab": {}
      },
      "cell_type": "code",
      "source": [
        "IMAGE_SHAPE=(150, 150, 3)\n",
        "\n",
        "#LIMIT_BATCHES = 593\n",
        "LIMIT_BATCHES = None\n",
        "\n",
        "NUM_EPOCHS = 10\n",
        "BATCH_SIZE = 20\n",
        "NUM_CLASSES = 29\n",
        "\n",
        "# PRETRAIN_MODEL = 'conv_base_local'\n",
        "PRETRAIN_MODEL = VGG16\n",
        "#PRETRAIN_MODEL = VGG19\n",
        "#PRETRAIN_MODEL = Xception\n",
        "#PRETRAIN_MODEL = ResNet50\n",
        "# PRETRAIN_MODEL = None\n",
        "\n",
        "UNFREEZE_LAYERS=3\n",
        "\n",
        "USE_PREPROCESSED_IMAGES = False\n",
        "\n",
        "TEST_TRAIN_SPLIT = .95 # Train Size"
      ],
      "execution_count": 0,
      "outputs": []
    },
    {
      "metadata": {
        "id": "CSjmfPFnWzRb",
        "colab_type": "text"
      },
      "cell_type": "markdown",
      "source": [
        "#### Set Folders"
      ]
    },
    {
      "metadata": {
        "id": "zIdRa0sm5AhF",
        "colab_type": "code",
        "colab": {}
      },
      "cell_type": "code",
      "source": [
        "#### FilePath Information\n",
        "DATA_DIR = '/content/gdrive/My Drive/SMU/Capstone/DataSets/'\n",
        "\n",
        "LOCAL_DATASET_DIR = '/tmp/asl_alphabet'\n",
        "\n",
        "SAVED_MODEL_DIR = os.path.join(DATA_DIR, 'models/asl_alphabet')"
      ],
      "execution_count": 0,
      "outputs": []
    },
    {
      "metadata": {
        "id": "JV_VNHUaEqHh",
        "colab_type": "code",
        "colab": {}
      },
      "cell_type": "code",
      "source": [
        "if USE_PREPROCESSED_IMAGES:\n",
        "  dataset_zip = os.path.join(DATA_DIR, 'asl_alphabet.zip')\n",
        "  local_dataset_zip = '/tmp/asl_alphabet.zip'\n",
        "  train_dataset_name = 'processed_asl_train'\n",
        "  temp_unzip_directory = '/tmp/data/fabricated/asl_alphabet'\n",
        "else:\n",
        "  dataset_zip = os.path.join(DATA_DIR, 'asl_alphabet_original.zip')\n",
        "  local_dataset_zip = '/tmp/asl_alphabet_original.zip'\n",
        "  train_dataset_name = 'split_asl_alphabet_train'\n",
        "  temp_unzip_directory = '/tmp/asl_alphabet_original/data/fabricated/asl_alphabet'\n",
        "  \n",
        "TRAIN_DATASET_NAME = train_dataset_name\n",
        "ASL_ALPHABET_DATASET_ZIP = dataset_zip\n",
        "LOCAL_DATASET_ZIP = local_dataset_zip\n",
        "LOCAL_TRAIN_DIR = os.path.join(LOCAL_DATASET_DIR, TRAIN_DATASET_NAME)\n",
        "TEMP_UNZIP_DIRECTORY = temp_unzip_directory"
      ],
      "execution_count": 0,
      "outputs": []
    },
    {
      "metadata": {
        "id": "MnC4-vwjW7-K",
        "colab_type": "text"
      },
      "cell_type": "markdown",
      "source": [
        "#### Download Data"
      ]
    },
    {
      "metadata": {
        "id": "Qu0T7H4yr12e",
        "colab_type": "code",
        "colab": {
          "base_uri": "https://localhost:8080/",
          "height": 51
        },
        "outputId": "953a9ec2-a9bb-4520-e02e-ced454c5fe3a"
      },
      "cell_type": "code",
      "source": [
        "if not os.path.isfile(LOCAL_DATASET_ZIP):\n",
        "  %time shutil.copy(ASL_ALPHABET_DATASET_ZIP, LOCAL_DATASET_ZIP)\n"
      ],
      "execution_count": 7,
      "outputs": [
        {
          "output_type": "stream",
          "text": [
            "CPU times: user 351 ms, sys: 1.89 s, total: 2.24 s\n",
            "Wall time: 23.2 s\n"
          ],
          "name": "stdout"
        }
      ]
    },
    {
      "metadata": {
        "id": "f96ajmJRXAGh",
        "colab_type": "text"
      },
      "cell_type": "markdown",
      "source": [
        "#### Extract Data"
      ]
    },
    {
      "metadata": {
        "id": "giYmqznqLeWk",
        "colab_type": "code",
        "outputId": "35d8a654-f278-4a8d-f9bb-81182705b4bb",
        "colab": {
          "base_uri": "https://localhost:8080/",
          "height": 51
        }
      },
      "cell_type": "code",
      "source": [
        "if os.path.isdir(LOCAL_DATASET_DIR):\n",
        "  shutil.rmtree(LOCAL_DATASET_DIR)\n",
        "with zipfile.ZipFile(LOCAL_DATASET_ZIP, 'r') as zip_ref:\n",
        "    %time zip_ref.extractall('/tmp')"
      ],
      "execution_count": 8,
      "outputs": [
        {
          "output_type": "stream",
          "text": [
            "CPU times: user 17.3 s, sys: 5.96 s, total: 23.3 s\n",
            "Wall time: 24 s\n"
          ],
          "name": "stdout"
        }
      ]
    },
    {
      "metadata": {
        "id": "QGPmptZOsPgZ",
        "colab_type": "code",
        "colab": {}
      },
      "cell_type": "code",
      "source": [
        "if not os.path.isdir(TEMP_UNZIP_DIRECTORY):\n",
        "  print('not sure where the zip folder exported the directory but it is not where we expected')\n",
        "else:\n",
        "  shutil.move(TEMP_UNZIP_DIRECTORY, LOCAL_DATASET_DIR)"
      ],
      "execution_count": 0,
      "outputs": []
    },
    {
      "metadata": {
        "id": "C4E1HtcesI4c",
        "colab_type": "code",
        "outputId": "bbe48db6-edc8-45aa-c127-c0e98453afb4",
        "colab": {
          "base_uri": "https://localhost:8080/",
          "height": 34
        }
      },
      "cell_type": "code",
      "source": [
        "AVAILABLE_DATASETS = os.listdir(LOCAL_DATASET_DIR)\n",
        "print(AVAILABLE_DATASETS)"
      ],
      "execution_count": 11,
      "outputs": [
        {
          "output_type": "stream",
          "text": [
            "['split_asl_alphabet_test', 'split_asl_alphabet_train']\n"
          ],
          "name": "stdout"
        }
      ]
    },
    {
      "metadata": {
        "id": "oDAeef0Rrxjv",
        "colab_type": "code",
        "outputId": "0ab374bd-30f8-4c39-da4a-8e5c4c52139f",
        "colab": {
          "base_uri": "https://localhost:8080/",
          "height": 34
        }
      },
      "cell_type": "code",
      "source": [
        "if not TRAIN_DATASET_NAME in AVAILABLE_DATASETS:\n",
        "  raise Exception('we are expecting to see {} as one of the available datasets'.format(TRAIN_DATASET_NAME))\n",
        "TEST_DATASET_NAMES = [dataset for dataset in AVAILABLE_DATASETS if dataset != TRAIN_DATASET_NAME]\n",
        "print('We have one training set and {} test sets'.format(len(TEST_DATASET_NAMES)))\n",
        "LOCAL_TEST_DIRS = [os.path.join(LOCAL_DATASET_DIR, name) for name in TEST_DATASET_NAMES]"
      ],
      "execution_count": 12,
      "outputs": [
        {
          "output_type": "stream",
          "text": [
            "We have one training set and 1 test sets\n"
          ],
          "name": "stdout"
        }
      ]
    },
    {
      "metadata": {
        "id": "OjHf45KsXOsC",
        "colab_type": "text"
      },
      "cell_type": "markdown",
      "source": [
        "#### Create Split training/test data"
      ]
    },
    {
      "metadata": {
        "id": "vev8HX3nZGIR",
        "colab_type": "code",
        "colab": {}
      },
      "cell_type": "code",
      "source": [
        "def get_sign_folders(from_folder):\n",
        "  # https://stackoverflow.com/questions/973473/getting-a-list-of-all-subdirectories-in-the-current-directory\n",
        "  folders = next(os.walk(from_folder))[1]\n",
        "  return folders"
      ],
      "execution_count": 0,
      "outputs": []
    },
    {
      "metadata": {
        "id": "KJZYGiwnXX0q",
        "colab_type": "code",
        "colab": {}
      },
      "cell_type": "code",
      "source": [
        "# A, B, C, D, DELETE, etc\n",
        "ASL_FOLDERS = get_sign_folders(LOCAL_TRAIN_DIR)"
      ],
      "execution_count": 0,
      "outputs": []
    },
    {
      "metadata": {
        "id": "0BMLNPEuXHzs",
        "colab_type": "text"
      },
      "cell_type": "markdown",
      "source": [
        "#### Create Data Generators"
      ]
    },
    {
      "metadata": {
        "id": "x2CeJieJxZDK",
        "colab_type": "code",
        "colab": {}
      },
      "cell_type": "code",
      "source": [
        "def create_test_datagen(directory):\n",
        "  test_datagen = ImageDataGenerator(rescale=1./255)\n",
        "  return test_datagen.flow_from_directory(\n",
        "         directory,\n",
        "         target_size = (IMAGE_SHAPE[0], IMAGE_SHAPE[0]),\n",
        "         batch_size = BATCH_SIZE,\n",
        "         color_mode = \"rgb\",\n",
        "         class_mode='categorical'\n",
        "  )"
      ],
      "execution_count": 0,
      "outputs": []
    },
    {
      "metadata": {
        "id": "kvTJuHhc5DVF",
        "colab_type": "code",
        "colab": {}
      },
      "cell_type": "code",
      "source": [
        "# dataset definition with augmentation\n",
        "train_datagen = ImageDataGenerator(\n",
        "    rescale=1./255,\n",
        "    validation_split=0.1,\n",
        "    horizontal_flip=True,\n",
        "    rotation_range=20,\n",
        "    width_shift_range=0.2,\n",
        "    height_shift_range=0.2,\n",
        "    )"
      ],
      "execution_count": 0,
      "outputs": []
    },
    {
      "metadata": {
        "id": "zb8nTrZ25Eje",
        "colab_type": "code",
        "outputId": "5b75e5ed-564e-4280-8b60-7e6848aecf02",
        "colab": {
          "base_uri": "https://localhost:8080/",
          "height": 68
        }
      },
      "cell_type": "code",
      "source": [
        "#create generators\n",
        "train_generator = train_datagen.flow_from_directory(\n",
        "           LOCAL_TRAIN_DIR,\n",
        "           target_size = (IMAGE_SHAPE[0], IMAGE_SHAPE[0]),\n",
        "           batch_size=BATCH_SIZE,\n",
        "           class_mode = 'categorical',\n",
        "           subset='training'\n",
        ")\n",
        "\n",
        "#create generators\n",
        "validation_generator = train_datagen.flow_from_directory(\n",
        "           LOCAL_TRAIN_DIR,\n",
        "           target_size = (IMAGE_SHAPE[0], IMAGE_SHAPE[0]),\n",
        "           batch_size=BATCH_SIZE,\n",
        "           class_mode = 'categorical',\n",
        "           subset='validation'\n",
        ")\n",
        "\n",
        "test_generators = [create_test_datagen(dir) for dir in LOCAL_TEST_DIRS]"
      ],
      "execution_count": 17,
      "outputs": [
        {
          "output_type": "stream",
          "text": [
            "Found 74385 images belonging to 29 classes.\n",
            "Found 8265 images belonging to 29 classes.\n",
            "Found 4350 images belonging to 29 classes.\n"
          ],
          "name": "stdout"
        }
      ]
    },
    {
      "metadata": {
        "id": "NcuHxZtKAqgx",
        "colab_type": "text"
      },
      "cell_type": "markdown",
      "source": [
        "# Models"
      ]
    },
    {
      "metadata": {
        "id": "hra5i3ArajnH",
        "colab_type": "code",
        "colab": {}
      },
      "cell_type": "code",
      "source": [
        "conv_base2 = VGG16(weights='imagenet',\n",
        "                      include_top=False,\n",
        "                      input_shape=(IMAGE_SHAPE[0], IMAGE_SHAPE[1], IMAGE_SHAPE[2]))"
      ],
      "execution_count": 0,
      "outputs": []
    },
    {
      "metadata": {
        "id": "gntQjfO2akt2",
        "colab_type": "code",
        "colab": {}
      },
      "cell_type": "code",
      "source": [
        "#conv_base2.trainable = False\n",
        "#conv_base2.layers[-2].trainable\n",
        "\n",
        "def freeze_layers(layers):\n",
        "  num_layers = len(layers)\n",
        "  num_layers_to_freeze = num_layers - UNFREEZE_LAYERS\n",
        "  for i in range(0, num_layers_to_freeze):\n",
        "    layers[i].trainable = False\n"
      ],
      "execution_count": 0,
      "outputs": []
    },
    {
      "metadata": {
        "id": "XhN5yi1Bb0YW",
        "colab_type": "code",
        "colab": {
          "base_uri": "https://localhost:8080/",
          "height": 34
        },
        "outputId": "71aca563-6485-4eb5-d23e-c88364245075"
      },
      "cell_type": "code",
      "source": [
        "conv_base2.layers[-4].trainable"
      ],
      "execution_count": 38,
      "outputs": [
        {
          "output_type": "execute_result",
          "data": {
            "text/plain": [
              "False"
            ]
          },
          "metadata": {
            "tags": []
          },
          "execution_count": 38
        }
      ]
    },
    {
      "metadata": {
        "id": "4Ob6_zTgAoED",
        "colab_type": "code",
        "colab": {}
      },
      "cell_type": "code",
      "source": [
        "def create_pretrained_model(BASE):   \n",
        "    conv_base = BASE(weights='imagenet',\n",
        "                      include_top=False,\n",
        "                      input_shape=(IMAGE_SHAPE[0], IMAGE_SHAPE[1], IMAGE_SHAPE[2]))\n",
        "    print(conv_base.summary())\n",
        "    \n",
        "    freeze_layers(conv_base.layers)\n",
        "    \n",
        "    model = models.Sequential()\n",
        "    model.add(conv_base)\n",
        "    model.add(layers.Flatten())\n",
        "    model.add(layers.Dense(256, activation='relu'))\n",
        "    model.add(layers.Dense(NUM_CLASSES, activation='softmax'))\n",
        "\n",
        "    optimizer = keras.optimizers.RMSprop(lr=0.0001)\n",
        "    model.compile(optimizer=optimizer, loss='categorical_crossentropy', metrics=['accuracy'])\n",
        "\n",
        "    model.summary()\n",
        "    return model\n",
        "    \n",
        "    "
      ],
      "execution_count": 0,
      "outputs": []
    },
    {
      "metadata": {
        "id": "oPP5cfCt5IrU",
        "colab_type": "code",
        "colab": {}
      },
      "cell_type": "code",
      "source": [
        "def create_blank_model():\n",
        "    model = models.Sequential()\n",
        "    model.add(layers.Conv2D(16, (3, 3), activation='relu', input_shape=IMAGE_SHAPE))\n",
        "    model.add(layers.MaxPooling2D((2, 2)))\n",
        "    model.add(layers.Conv2D(32, (3, 3), activation='relu'))\n",
        "    model.add(layers.MaxPooling2D((2, 2)))\n",
        "    model.add(layers.Conv2D(64, (3, 3), activation='relu'))\n",
        "    model.add(layers.MaxPooling2D((2, 2)))\n",
        "    model.add(layers.Conv2D(128, (3, 3), activation='relu'))\n",
        "    model.add(layers.MaxPooling2D((2, 2)))\n",
        "    model.add(layers.Conv2D(256, (3, 3), activation='relu'))\n",
        "\n",
        "    #Add a classfier on top of the convnet\n",
        "    model.add(layers.Flatten())\n",
        "    model.add(layers.Dropout(.5))\n",
        "    model.add(layers.Dense(128, activation='relu'))\n",
        "    #model.add(layers.BatchNormalization())\n",
        "    model.add(layers.Dense(NUM_CLASSES, activation='softmax'))\n",
        "\n",
        "    #compile the model\n",
        "    optimizer = keras.optimizers.RMSprop(lr=0.0001)\n",
        "    model.compile(optimizer=optimizer, loss='categorical_crossentropy', metrics=['accuracy'])\n",
        "\n",
        "    print(model.summary())\n",
        "    return model\n"
      ],
      "execution_count": 0,
      "outputs": []
    },
    {
      "metadata": {
        "id": "2B_b7B_kAyct",
        "colab_type": "code",
        "outputId": "dbb1bd0e-fe98-411b-bba8-54824d22b41e",
        "colab": {
          "base_uri": "https://localhost:8080/",
          "height": 1054
        }
      },
      "cell_type": "code",
      "source": [
        "if not PRETRAIN_MODEL:\n",
        "    model = create_blank_model()\n",
        "else:\n",
        "    model = create_pretrained_model(PRETRAIN_MODEL)"
      ],
      "execution_count": 45,
      "outputs": [
        {
          "output_type": "stream",
          "text": [
            "_________________________________________________________________\n",
            "Layer (type)                 Output Shape              Param #   \n",
            "=================================================================\n",
            "input_4 (InputLayer)         (None, 150, 150, 3)       0         \n",
            "_________________________________________________________________\n",
            "block1_conv1 (Conv2D)        (None, 150, 150, 64)      1792      \n",
            "_________________________________________________________________\n",
            "block1_conv2 (Conv2D)        (None, 150, 150, 64)      36928     \n",
            "_________________________________________________________________\n",
            "block1_pool (MaxPooling2D)   (None, 75, 75, 64)        0         \n",
            "_________________________________________________________________\n",
            "block2_conv1 (Conv2D)        (None, 75, 75, 128)       73856     \n",
            "_________________________________________________________________\n",
            "block2_conv2 (Conv2D)        (None, 75, 75, 128)       147584    \n",
            "_________________________________________________________________\n",
            "block2_pool (MaxPooling2D)   (None, 37, 37, 128)       0         \n",
            "_________________________________________________________________\n",
            "block3_conv1 (Conv2D)        (None, 37, 37, 256)       295168    \n",
            "_________________________________________________________________\n",
            "block3_conv2 (Conv2D)        (None, 37, 37, 256)       590080    \n",
            "_________________________________________________________________\n",
            "block3_conv3 (Conv2D)        (None, 37, 37, 256)       590080    \n",
            "_________________________________________________________________\n",
            "block3_pool (MaxPooling2D)   (None, 18, 18, 256)       0         \n",
            "_________________________________________________________________\n",
            "block4_conv1 (Conv2D)        (None, 18, 18, 512)       1180160   \n",
            "_________________________________________________________________\n",
            "block4_conv2 (Conv2D)        (None, 18, 18, 512)       2359808   \n",
            "_________________________________________________________________\n",
            "block4_conv3 (Conv2D)        (None, 18, 18, 512)       2359808   \n",
            "_________________________________________________________________\n",
            "block4_pool (MaxPooling2D)   (None, 9, 9, 512)         0         \n",
            "_________________________________________________________________\n",
            "block5_conv1 (Conv2D)        (None, 9, 9, 512)         2359808   \n",
            "_________________________________________________________________\n",
            "block5_conv2 (Conv2D)        (None, 9, 9, 512)         2359808   \n",
            "_________________________________________________________________\n",
            "block5_conv3 (Conv2D)        (None, 9, 9, 512)         2359808   \n",
            "_________________________________________________________________\n",
            "block5_pool (MaxPooling2D)   (None, 4, 4, 512)         0         \n",
            "=================================================================\n",
            "Total params: 14,714,688\n",
            "Trainable params: 14,714,688\n",
            "Non-trainable params: 0\n",
            "_________________________________________________________________\n",
            "None\n",
            "_________________________________________________________________\n",
            "Layer (type)                 Output Shape              Param #   \n",
            "=================================================================\n",
            "vgg16 (Model)                (None, 4, 4, 512)         14714688  \n",
            "_________________________________________________________________\n",
            "flatten_2 (Flatten)          (None, 8192)              0         \n",
            "_________________________________________________________________\n",
            "dense_3 (Dense)              (None, 256)               2097408   \n",
            "_________________________________________________________________\n",
            "dense_4 (Dense)              (None, 29)                7453      \n",
            "=================================================================\n",
            "Total params: 16,819,549\n",
            "Trainable params: 6,824,477\n",
            "Non-trainable params: 9,995,072\n",
            "_________________________________________________________________\n"
          ],
          "name": "stdout"
        }
      ]
    },
    {
      "metadata": {
        "id": "qqEjgVBDaU1h",
        "colab_type": "code",
        "colab": {
          "base_uri": "https://localhost:8080/",
          "height": 85
        },
        "outputId": "cb1cd409-daff-48ba-d3d0-76f22b44de78"
      },
      "cell_type": "code",
      "source": [
        "model.layers"
      ],
      "execution_count": 46,
      "outputs": [
        {
          "output_type": "execute_result",
          "data": {
            "text/plain": [
              "[<keras.engine.training.Model at 0x7f3901e34d30>,\n",
              " <keras.layers.core.Flatten at 0x7f3901dc5438>,\n",
              " <keras.layers.core.Dense at 0x7f3901de3b00>,\n",
              " <keras.layers.core.Dense at 0x7f3901d6f320>]"
            ]
          },
          "metadata": {
            "tags": []
          },
          "execution_count": 46
        }
      ]
    },
    {
      "metadata": {
        "id": "1YCgPt1OLp22",
        "colab_type": "code",
        "outputId": "d0d39327-4d66-45e5-b565-42aa833d9ac3",
        "colab": {
          "base_uri": "https://localhost:8080/",
          "height": 85
        }
      },
      "cell_type": "code",
      "source": [
        "steps_per_epoch = None\n",
        "\n",
        "if LIMIT_BATCHES is None:\n",
        "  steps_per_epoch_train = len(train_generator)\n",
        "  steps_per_epoch_val = len(validation_generator)\n",
        "  steps_per_epoch_test = len(test_generators[0])\n",
        "else:\n",
        "  steps_per_epoch_train = LIMIT_BATCHES\n",
        "  steps_per_epoch_val = (LIMIT_BATCHES / len(train_generator)) * len(validation_generator)\n",
        "  steps_per_epoch_test = (LIMIT_BATCHES / len(train_generator)) * len(test_generators[0])\n",
        "\n",
        "print('total batches {}'.format(len(train_generator)))\n",
        "print('steps_per_epoch_train {}'.format(steps_per_epoch_train))\n",
        "print('steps_per_epoch_test {}'.format(steps_per_epoch_test))\n",
        "print('steps_per_epoch_val {}'.format(steps_per_epoch_val))\n"
      ],
      "execution_count": 47,
      "outputs": [
        {
          "output_type": "stream",
          "text": [
            "total batches 3720\n",
            "steps_per_epoch_train 3720\n",
            "steps_per_epoch_test 218\n",
            "steps_per_epoch_val 414\n"
          ],
          "name": "stdout"
        }
      ]
    },
    {
      "metadata": {
        "id": "NMfeDeRO5RU3",
        "colab_type": "code",
        "outputId": "423fdc7b-ef12-4fe9-8b4e-5e9b44844e5d",
        "colab": {
          "base_uri": "https://localhost:8080/",
          "height": 697
        }
      },
      "cell_type": "code",
      "source": [
        "saved_model_filepath = os.path.join(SAVED_MODEL_DIR, \"weights-improvement-{epoch:02d}-{val_acc:.2f}.hdf5\")\n",
        "callbacks_list = [callbacks.ModelCheckpoint(saved_model_filepath, monitor='val_acc', verbose=1, save_best_only=True, mode='max')]\n",
        "\n",
        "history= model.fit_generator (\n",
        "  train_generator,\n",
        "  epochs = NUM_EPOCHS,\n",
        "  steps_per_epoch=steps_per_epoch_train,\n",
        "  validation_steps=steps_per_epoch_val,\n",
        "  callbacks = callbacks_list,\n",
        "  validation_data=validation_generator,\n",
        "  verbose=1 \\\n",
        ")"
      ],
      "execution_count": 48,
      "outputs": [
        {
          "output_type": "stream",
          "text": [
            "Epoch 1/10\n",
            "3720/3720 [==============================] - 743s 200ms/step - loss: 0.4036 - acc: 0.8764 - val_loss: 0.4888 - val_acc: 0.8807\n",
            "\n",
            "Epoch 00001: val_acc improved from -inf to 0.88070, saving model to /content/gdrive/My Drive/SMU/Capstone/DataSets/models/asl_alphabet/weights-improvement-01-0.88.hdf5\n",
            "Epoch 2/10\n",
            "3720/3720 [==============================] - 737s 198ms/step - loss: 0.1168 - acc: 0.9657 - val_loss: 0.6546 - val_acc: 0.8825\n",
            "\n",
            "Epoch 00002: val_acc improved from 0.88070 to 0.88252, saving model to /content/gdrive/My Drive/SMU/Capstone/DataSets/models/asl_alphabet/weights-improvement-02-0.88.hdf5\n",
            "Epoch 3/10\n",
            "3720/3720 [==============================] - 737s 198ms/step - loss: 0.0941 - acc: 0.9744 - val_loss: 0.5938 - val_acc: 0.8840\n",
            "\n",
            "Epoch 00003: val_acc improved from 0.88252 to 0.88397, saving model to /content/gdrive/My Drive/SMU/Capstone/DataSets/models/asl_alphabet/weights-improvement-03-0.88.hdf5\n",
            "Epoch 4/10\n",
            "3720/3720 [==============================] - 747s 201ms/step - loss: 0.0863 - acc: 0.9785 - val_loss: 0.6202 - val_acc: 0.9020\n",
            "\n",
            "Epoch 00004: val_acc improved from 0.88397 to 0.90200, saving model to /content/gdrive/My Drive/SMU/Capstone/DataSets/models/asl_alphabet/weights-improvement-04-0.90.hdf5\n",
            "Epoch 5/10\n",
            "3720/3720 [==============================] - 741s 199ms/step - loss: 0.0831 - acc: 0.9809 - val_loss: 0.6655 - val_acc: 0.9037\n",
            "\n",
            "Epoch 00005: val_acc improved from 0.90200 to 0.90369, saving model to /content/gdrive/My Drive/SMU/Capstone/DataSets/models/asl_alphabet/weights-improvement-05-0.90.hdf5\n",
            "Epoch 6/10\n",
            "3720/3720 [==============================] - 749s 201ms/step - loss: 0.0822 - acc: 0.9822 - val_loss: 0.6587 - val_acc: 0.9096\n",
            "\n",
            "Epoch 00006: val_acc improved from 0.90369 to 0.90962, saving model to /content/gdrive/My Drive/SMU/Capstone/DataSets/models/asl_alphabet/weights-improvement-06-0.91.hdf5\n",
            "Epoch 7/10\n",
            "3720/3720 [==============================] - 755s 203ms/step - loss: 0.0781 - acc: 0.9843 - val_loss: 1.1613 - val_acc: 0.8745\n",
            "\n",
            "Epoch 00007: val_acc did not improve from 0.90962\n",
            "Epoch 8/10\n",
            "3720/3720 [==============================] - 756s 203ms/step - loss: 0.0828 - acc: 0.9847 - val_loss: 0.8465 - val_acc: 0.9122\n",
            "\n",
            "Epoch 00008: val_acc improved from 0.90962 to 0.91216, saving model to /content/gdrive/My Drive/SMU/Capstone/DataSets/models/asl_alphabet/weights-improvement-08-0.91.hdf5\n",
            "Epoch 9/10\n",
            "3720/3720 [==============================] - 759s 204ms/step - loss: 0.0810 - acc: 0.9851 - val_loss: 0.9650 - val_acc: 0.8938\n",
            "\n",
            "Epoch 00009: val_acc did not improve from 0.91216\n",
            "Epoch 10/10\n",
            "3720/3720 [==============================] - 754s 203ms/step - loss: 0.0801 - acc: 0.9863 - val_loss: 1.0365 - val_acc: 0.8973\n",
            "\n",
            "Epoch 00010: val_acc did not improve from 0.91216\n"
          ],
          "name": "stdout"
        }
      ]
    },
    {
      "metadata": {
        "id": "soviW5rN5UKG",
        "colab_type": "code",
        "outputId": "4cde0140-ed9a-4c27-d0ff-4c17835bbed4",
        "colab": {
          "base_uri": "https://localhost:8080/",
          "height": 362
        }
      },
      "cell_type": "code",
      "source": [
        "#visualization of model performance\n",
        "history_dict = history.history\n",
        "loss_values = history_dict['loss']\n",
        "val_loss_values =  history_dict['val_loss']\n",
        "acc_values = history_dict['acc']\n",
        "\n",
        "epochs = range(1, len(acc_values) + 1)\n",
        "\n",
        "plt.plot(epochs, loss_values, 'bo', label = 'Training Loss')\n",
        "plt.plot(epochs,val_loss_values, 'b', label = 'Validation Loss')\n",
        "plt.title('Training and Validation Losses')\n",
        "plt.xlabel='Epochs'\n",
        "plt.ylabel='Loss'\n",
        "plt.legend()\n",
        "plt.show()"
      ],
      "execution_count": 49,
      "outputs": [
        {
          "output_type": "display_data",
          "data": {
            "image/png": "[encoded data removed]",
            "text/plain": [
              "<Figure size 576x396 with 1 Axes>"
            ]
          },
          "metadata": {
            "tags": []
          }
        }
      ]
    },
    {
      "metadata": {
        "id": "u9k7xD8S5VWN",
        "colab_type": "code",
        "outputId": "ed83d18a-ae85-4ff2-9205-40d555e27c0d",
        "colab": {
          "base_uri": "https://localhost:8080/",
          "height": 347
        }
      },
      "cell_type": "code",
      "source": [
        "plt.clf()\n",
        "acc_values = history_dict['acc']\n",
        "val_acc_values = history_dict['val_acc']\n",
        "\n",
        "plt.plot(epochs, acc_values, 'bo', label='Training acc')\n",
        "plt.plot(epochs,val_acc_values, 'b', label='Validation accuracy')\n",
        "plt.xlabel = 'Epochs'\n",
        "plt.ylabel = 'Loss'\n",
        "plt.legend()\n",
        "\n",
        "plt.show()"
      ],
      "execution_count": 50,
      "outputs": [
        {
          "output_type": "display_data",
          "data": {
            "image/png": "[encoded data removed]",
            "text/plain": [
              "<Figure size 576x396 with 1 Axes>"
            ]
          },
          "metadata": {
            "tags": []
          }
        }
      ]
    },
    {
      "metadata": {
        "id": "4tLl5VA5evNq",
        "colab_type": "text"
      },
      "cell_type": "markdown",
      "source": [
        "## Validate against each of the test generators"
      ]
    },
    {
      "metadata": {
        "id": "3jVBPSk4eT0i",
        "colab_type": "code",
        "outputId": "19c9edc1-cf53-4575-cda9-c713a283cf62",
        "colab": {
          "base_uri": "https://localhost:8080/",
          "height": 34
        }
      },
      "cell_type": "code",
      "source": [
        "for generator, _dir in zip(test_generators, LOCAL_TEST_DIRS):\n",
        "  test_loss, test_acc = model.evaluate_generator(generator, steps=steps_per_epoch_test)\n",
        "  print('{}: {}'.format(_dir, test_acc))"
      ],
      "execution_count": 51,
      "outputs": [
        {
          "output_type": "stream",
          "text": [
            "/tmp/asl_alphabet/split_asl_alphabet_test: 0.9832183870775947\n"
          ],
          "name": "stdout"
        }
      ]
    },
    {
      "metadata": {
        "id": "1kyC1m6UJ_33",
        "colab_type": "code",
        "colab": {}
      },
      "cell_type": "code",
      "source": [
        ""
      ],
      "execution_count": 0,
      "outputs": []
    }
  ]
}