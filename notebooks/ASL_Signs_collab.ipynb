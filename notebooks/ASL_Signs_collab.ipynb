{
  "nbformat": 4,
  "nbformat_minor": 0,
  "metadata": {
    "colab": {
      "name": "ASL Signs.ipynb",
      "version": "0.3.2",
      "provenance": [],
      "collapsed_sections": [],
      "include_colab_link": true
    },
    "kernelspec": {
      "name": "python3",
      "display_name": "Python 3"
    },
    "accelerator": "GPU"
  },
  "cells": [
    {
      "cell_type": "markdown",
      "metadata": {
        "id": "view-in-github",
        "colab_type": "text"
      },
      "source": [
        "<a href=\"https://colab.research.google.com/github/kjprice/smu-capstone/blob/master/notebooks/ASL_Signs_collab.ipynb\" target=\"_parent\"><img src=\"https://colab.research.google.com/assets/colab-badge.svg\" alt=\"Open In Colab\"/></a>"
      ]
    },
    {
      "metadata": {
        "id": "UFw3pyTb1Zug",
        "colab_type": "code",
        "outputId": "1c240019-34ab-4405-c322-f01c48b85bc7",
        "colab": {
          "base_uri": "https://localhost:8080/",
          "height": 54
        }
      },
      "cell_type": "code",
      "source": [
        "from google.colab import drive\n",
        "drive.mount('/content/gdrive')"
      ],
      "execution_count": 1,
      "outputs": [
        {
          "output_type": "stream",
          "text": [
            "Drive already mounted at /content/gdrive; to attempt to forcibly remount, call drive.mount(\"/content/gdrive\", force_remount=True).\n"
          ],
          "name": "stdout"
        }
      ]
    },
    {
      "metadata": {
        "id": "HAnQGDSx324u",
        "colab_type": "code",
        "outputId": "d8af2d83-deb0-4304-a1b5-d7117d61e618",
        "colab": {
          "base_uri": "https://localhost:8080/",
          "height": 34
        }
      },
      "cell_type": "code",
      "source": [
        "import os, shutil, copy, ntpath, datetime, zipfile\n",
        "import keras\n",
        "from keras import models, layers, callbacks\n",
        "from keras.applications.vgg16 import VGG16\n",
        "from keras.preprocessing.image import ImageDataGenerator, load_img, img_to_array, array_to_img\n",
        "import tensorflow as tf\n",
        "from sklearn.model_selection import train_test_split\n",
        "\n",
        "import matplotlib.pyplot as plt\n",
        "\n",
        "import boto3\n",
        "import glob\n",
        "import ntpath\n",
        "import re\n",
        "\n",
        "import numpy as np\n",
        "import pandas as pd"
      ],
      "execution_count": 2,
      "outputs": [
        {
          "output_type": "stream",
          "text": [
            "Using TensorFlow backend.\n"
          ],
          "name": "stderr"
        }
      ]
    },
    {
      "metadata": {
        "id": "E_uyYEWg4zJ3",
        "colab_type": "text"
      },
      "cell_type": "markdown",
      "source": [
        "## Make sure we have GPU"
      ]
    },
    {
      "metadata": {
        "id": "NjAMzX__34lW",
        "colab_type": "code",
        "outputId": "a906497c-7875-4ffa-dee6-2f377ea6b1f2",
        "colab": {
          "base_uri": "https://localhost:8080/",
          "height": 34
        }
      },
      "cell_type": "code",
      "source": [
        "device_name = tf.test.gpu_device_name()\n",
        "if device_name != '/device:GPU:0':\n",
        "  raise SystemError('GPU device not found')\n",
        "print('Found GPU at: {}'.format(device_name))"
      ],
      "execution_count": 3,
      "outputs": [
        {
          "output_type": "stream",
          "text": [
            "Found GPU at: /device:GPU:0\n"
          ],
          "name": "stdout"
        }
      ]
    },
    {
      "metadata": {
        "id": "o9Ou5mxYWo2Q",
        "colab_type": "text"
      },
      "cell_type": "markdown",
      "source": [
        "#### Settings"
      ]
    },
    {
      "metadata": {
        "id": "phLs5u0-4Nyi",
        "colab_type": "code",
        "colab": {}
      },
      "cell_type": "code",
      "source": [
        "IMAGE_SHAPE=(150, 150, 3)\n",
        "\n",
        "LIMIT_BATCHES = 593\n",
        "#LIMIT_BATCHES = None\n",
        "\n",
        "NUM_EPOCHS = 10\n",
        "BATCH_SIZE = 20\n",
        "NUM_CLASSES = 29\n",
        "\n",
        "# PRETRAIN_MODEL = 'conv_base_local'\n",
        "PRETRAIN_MODEL = 'conv_base_vgg16'\n",
        "# PRETRAIN_MODEL = None\n",
        "\n",
        "USE_PREPROCESSED_IMAGES = False\n",
        "\n",
        "TEST_TRAIN_SPLIT = .95 # Train Size"
      ],
      "execution_count": 0,
      "outputs": []
    },
    {
      "metadata": {
        "id": "CSjmfPFnWzRb",
        "colab_type": "text"
      },
      "cell_type": "markdown",
      "source": [
        "#### Set Folders"
      ]
    },
    {
      "metadata": {
        "id": "zIdRa0sm5AhF",
        "colab_type": "code",
        "colab": {}
      },
      "cell_type": "code",
      "source": [
        "#### FilePath Information\n",
        "DATA_DIR = '/content/gdrive/My Drive/SMU/Capstone/DataSets/'\n",
        "\n",
        "LOCAL_DATASET_DIR = '/tmp/asl_alphabet'\n",
        "\n",
        "SAVED_MODEL_DIR = os.path.join(DATA_DIR, 'models/asl_alphabet')"
      ],
      "execution_count": 0,
      "outputs": []
    },
    {
      "metadata": {
        "id": "JV_VNHUaEqHh",
        "colab_type": "code",
        "colab": {}
      },
      "cell_type": "code",
      "source": [
        "if USE_PREPROCESSED_IMAGES:\n",
        "  dataset_zip = os.path.join(DATA_DIR, 'asl_alphabet.zip')\n",
        "  local_dataset_zip = '/tmp/asl_alphabet.zip'\n",
        "  train_dataset_name = 'processed_asl_train'\n",
        "  temp_unzip_directory = '/tmp/data/fabricated/asl_alphabet'\n",
        "else:\n",
        "  dataset_zip = os.path.join(DATA_DIR, 'asl_alphabet_original.zip')\n",
        "  local_dataset_zip = '/tmp/asl_alphabet_original.zip'\n",
        "  train_dataset_name = 'split_asl_alphabet_train'\n",
        "  temp_unzip_directory = '/tmp/asl_alphabet_original/data/fabricated/asl_alphabet'\n",
        "  \n",
        "TRAIN_DATASET_NAME = train_dataset_name\n",
        "ASL_ALPHABET_DATASET_ZIP = dataset_zip\n",
        "LOCAL_DATASET_ZIP = local_dataset_zip\n",
        "LOCAL_TRAIN_DIR = os.path.join(LOCAL_DATASET_DIR, TRAIN_DATASET_NAME)\n",
        "TEMP_UNZIP_DIRECTORY = temp_unzip_directory"
      ],
      "execution_count": 0,
      "outputs": []
    },
    {
      "metadata": {
        "id": "MnC4-vwjW7-K",
        "colab_type": "text"
      },
      "cell_type": "markdown",
      "source": [
        "#### Download Data"
      ]
    },
    {
      "metadata": {
        "id": "Gh8mXUKLHATI",
        "colab_type": "code",
        "colab": {
          "base_uri": "https://localhost:8080/",
          "height": 34
        },
        "outputId": "b1bf722c-213f-4dcc-fbae-aaeaba69446e"
      },
      "cell_type": "code",
      "source": [
        "os.listdir(TEMP_UNZIP_DIRECTORY)"
      ],
      "execution_count": 7,
      "outputs": [
        {
          "output_type": "execute_result",
          "data": {
            "text/plain": [
              "['split_asl_alphabet_train', 'split_asl_alphabet_test']"
            ]
          },
          "metadata": {
            "tags": []
          },
          "execution_count": 7
        }
      ]
    },
    {
      "metadata": {
        "id": "Qu0T7H4yr12e",
        "colab_type": "code",
        "colab": {}
      },
      "cell_type": "code",
      "source": [
        "if not os.path.isfile(LOCAL_DATASET_ZIP):\n",
        "  %time shutil.copy(ASL_ALPHABET_DATASET_ZIP, LOCAL_DATASET_ZIP)\n"
      ],
      "execution_count": 0,
      "outputs": []
    },
    {
      "metadata": {
        "id": "f96ajmJRXAGh",
        "colab_type": "text"
      },
      "cell_type": "markdown",
      "source": [
        "#### Extract Data"
      ]
    },
    {
      "metadata": {
        "id": "giYmqznqLeWk",
        "colab_type": "code",
        "colab": {
          "base_uri": "https://localhost:8080/",
          "height": 51
        },
        "outputId": "dfd2660e-0e17-41cb-fba0-5400b91c0f48"
      },
      "cell_type": "code",
      "source": [
        "if os.path.isdir(LOCAL_DATASET_DIR):\n",
        "  shutil.rmtree(LOCAL_DATASET_DIR)\n",
        "with zipfile.ZipFile(LOCAL_DATASET_ZIP, 'r') as zip_ref:\n",
        "    %time zip_ref.extractall('/tmp')"
      ],
      "execution_count": 9,
      "outputs": [
        {
          "output_type": "stream",
          "text": [
            "CPU times: user 19.5 s, sys: 9.58 s, total: 29.1 s\n",
            "Wall time: 31.7 s\n"
          ],
          "name": "stdout"
        }
      ]
    },
    {
      "metadata": {
        "id": "QGPmptZOsPgZ",
        "colab_type": "code",
        "colab": {}
      },
      "cell_type": "code",
      "source": [
        "if not os.path.isdir(TEMP_UNZIP_DIRECTORY):\n",
        "  print('not sure where the zip folder exported the directory but it is not where we expected')\n",
        "else:\n",
        "  shutil.move(TEMP_UNZIP_DIRECTORY, LOCAL_DATASET_DIR)"
      ],
      "execution_count": 0,
      "outputs": []
    },
    {
      "metadata": {
        "id": "C4E1HtcesI4c",
        "colab_type": "code",
        "colab": {
          "base_uri": "https://localhost:8080/",
          "height": 34
        },
        "outputId": "3f091bb3-b2d9-40e2-d61d-d53adbd9b001"
      },
      "cell_type": "code",
      "source": [
        "AVAILABLE_DATASETS = os.listdir(LOCAL_DATASET_DIR)\n",
        "print(AVAILABLE_DATASETS)"
      ],
      "execution_count": 11,
      "outputs": [
        {
          "output_type": "stream",
          "text": [
            "['split_asl_alphabet_train', 'split_asl_alphabet_test']\n"
          ],
          "name": "stdout"
        }
      ]
    },
    {
      "metadata": {
        "id": "oDAeef0Rrxjv",
        "colab_type": "code",
        "colab": {
          "base_uri": "https://localhost:8080/",
          "height": 34
        },
        "outputId": "030b4f16-165c-496c-ada1-5e8390b0535e"
      },
      "cell_type": "code",
      "source": [
        "if not TRAIN_DATASET_NAME in AVAILABLE_DATASETS:\n",
        "  raise Exception('we are expecting to see {} as one of the available datasets'.format(TRAIN_DATASET_NAME))\n",
        "TEST_DATASET_NAMES = [dataset for dataset in AVAILABLE_DATASETS if dataset != TRAIN_DATASET_NAME]\n",
        "print('We have one training set and {} test sets'.format(len(TEST_DATASET_NAMES)))\n",
        "LOCAL_TEST_DIRS = [os.path.join(LOCAL_DATASET_DIR, name) for name in TEST_DATASET_NAMES]"
      ],
      "execution_count": 12,
      "outputs": [
        {
          "output_type": "stream",
          "text": [
            "We have one training set and 1 test sets\n"
          ],
          "name": "stdout"
        }
      ]
    },
    {
      "metadata": {
        "id": "OjHf45KsXOsC",
        "colab_type": "text"
      },
      "cell_type": "markdown",
      "source": [
        "#### Create Split training/test data"
      ]
    },
    {
      "metadata": {
        "id": "vev8HX3nZGIR",
        "colab_type": "code",
        "colab": {}
      },
      "cell_type": "code",
      "source": [
        "def get_sign_folders(from_folder):\n",
        "  # https://stackoverflow.com/questions/973473/getting-a-list-of-all-subdirectories-in-the-current-directory\n",
        "  folders = next(os.walk(from_folder))[1]\n",
        "  return folders"
      ],
      "execution_count": 0,
      "outputs": []
    },
    {
      "metadata": {
        "id": "KJZYGiwnXX0q",
        "colab_type": "code",
        "colab": {}
      },
      "cell_type": "code",
      "source": [
        "# A, B, C, D, DELETE, etc\n",
        "ASL_FOLDERS = get_sign_folders(LOCAL_TRAIN_DIR)"
      ],
      "execution_count": 0,
      "outputs": []
    },
    {
      "metadata": {
        "id": "0BMLNPEuXHzs",
        "colab_type": "text"
      },
      "cell_type": "markdown",
      "source": [
        "#### Create Data Generators"
      ]
    },
    {
      "metadata": {
        "id": "x2CeJieJxZDK",
        "colab_type": "code",
        "colab": {}
      },
      "cell_type": "code",
      "source": [
        "def create_test_datagen(directory):\n",
        "  test_datagen = ImageDataGenerator(rescale=1./255)\n",
        "  return test_datagen.flow_from_directory(\n",
        "         directory,\n",
        "         target_size = (IMAGE_SHAPE[0], IMAGE_SHAPE[0]),\n",
        "         batch_size = BATCH_SIZE,\n",
        "         color_mode = \"rgb\",\n",
        "         class_mode='categorical'\n",
        "  )"
      ],
      "execution_count": 0,
      "outputs": []
    },
    {
      "metadata": {
        "id": "kvTJuHhc5DVF",
        "colab_type": "code",
        "colab": {}
      },
      "cell_type": "code",
      "source": [
        "# dataset definition with augmentation\n",
        "train_datagen = ImageDataGenerator(\n",
        "    rescale=1./255,\n",
        "    validation_split=0.1,\n",
        "    horizontal_flip=True,\n",
        "    rotation_range=20,\n",
        "    width_shift_range=0.2,\n",
        "    height_shift_range=0.2,\n",
        "    )"
      ],
      "execution_count": 0,
      "outputs": []
    },
    {
      "metadata": {
        "id": "zb8nTrZ25Eje",
        "colab_type": "code",
        "colab": {
          "base_uri": "https://localhost:8080/",
          "height": 68
        },
        "outputId": "ccb19120-6580-40fd-9e84-44af35b9b345"
      },
      "cell_type": "code",
      "source": [
        "#create generators\n",
        "train_generator = train_datagen.flow_from_directory(\n",
        "           LOCAL_TRAIN_DIR,\n",
        "           target_size = (IMAGE_SHAPE[0], IMAGE_SHAPE[0]),\n",
        "           batch_size=BATCH_SIZE,\n",
        "           class_mode = 'categorical',\n",
        "           subset='training'\n",
        ")\n",
        "\n",
        "#create generators\n",
        "validation_generator = train_datagen.flow_from_directory(\n",
        "           LOCAL_TRAIN_DIR,\n",
        "           target_size = (IMAGE_SHAPE[0], IMAGE_SHAPE[0]),\n",
        "           batch_size=BATCH_SIZE,\n",
        "           class_mode = 'categorical',\n",
        "           subset='validation'\n",
        ")\n",
        "\n",
        "test_generators = [create_test_datagen(dir) for dir in LOCAL_TEST_DIRS]"
      ],
      "execution_count": 17,
      "outputs": [
        {
          "output_type": "stream",
          "text": [
            "Found 74385 images belonging to 29 classes.\n",
            "Found 8265 images belonging to 29 classes.\n",
            "Found 4350 images belonging to 29 classes.\n"
          ],
          "name": "stdout"
        }
      ]
    },
    {
      "metadata": {
        "id": "NcuHxZtKAqgx",
        "colab_type": "text"
      },
      "cell_type": "markdown",
      "source": [
        "# Models"
      ]
    },
    {
      "metadata": {
        "id": "4Ob6_zTgAoED",
        "colab_type": "code",
        "colab": {}
      },
      "cell_type": "code",
      "source": [
        "def create_vgg_model():\n",
        "    conv_base = VGG16(weights='imagenet',\n",
        "                      include_top=False,\n",
        "                      input_shape=(IMAGE_SHAPE[0], IMAGE_SHAPE[1], IMAGE_SHAPE[2]))\n",
        "    print(conv_base.summary())\n",
        "    \n",
        "    conv_base.trainable = False\n",
        "    \n",
        "    model = models.Sequential()\n",
        "    model.add(conv_base)\n",
        "    model.add(layers.Flatten())\n",
        "    model.add(layers.Dense(256, activation='relu'))\n",
        "    model.add(layers.Dense(29, activation='sigmoid'))\n",
        "\n",
        "    optimizer = keras.optimizers.RMSprop(lr=0.0001)\n",
        "    model.compile(optimizer=optimizer, loss='categorical_crossentropy', metrics=['accuracy'])\n",
        "\n",
        "    model.summary()\n",
        "    return model\n",
        "    \n",
        "    "
      ],
      "execution_count": 0,
      "outputs": []
    },
    {
      "metadata": {
        "id": "oPP5cfCt5IrU",
        "colab_type": "code",
        "colab": {}
      },
      "cell_type": "code",
      "source": [
        "def create_blank_model():\n",
        "    model = models.Sequential()\n",
        "    model.add(layers.Conv2D(16, (3, 3), activation='relu', input_shape=IMAGE_SHAPE))\n",
        "    model.add(layers.MaxPooling2D((2, 2)))\n",
        "    model.add(layers.Conv2D(32, (3, 3), activation='relu'))\n",
        "    model.add(layers.MaxPooling2D((2, 2)))\n",
        "    model.add(layers.Conv2D(64, (3, 3), activation='relu'))\n",
        "    model.add(layers.MaxPooling2D((2, 2)))\n",
        "    model.add(layers.Conv2D(128, (3, 3), activation='relu'))\n",
        "    model.add(layers.MaxPooling2D((2, 2)))\n",
        "    model.add(layers.Conv2D(256, (3, 3), activation='relu'))\n",
        "\n",
        "    #Add a classfier on top of the convnet\n",
        "    model.add(layers.Flatten())\n",
        "    model.add(layers.Dropout(.5))\n",
        "    model.add(layers.Dense(128, activation='relu'))\n",
        "    #model.add(layers.BatchNormalization())\n",
        "    model.add(layers.Dense(NUM_CLASSES, activation='softmax'))\n",
        "\n",
        "    #compile the model\n",
        "    optimizer = keras.optimizers.RMSprop(lr=0.0001)\n",
        "    model.compile(optimizer=optimizer, loss='categorical_crossentropy', metrics=['accuracy'])\n",
        "\n",
        "    print(model.summary())\n",
        "    return model\n"
      ],
      "execution_count": 0,
      "outputs": []
    },
    {
      "metadata": {
        "id": "2B_b7B_kAyct",
        "colab_type": "code",
        "colab": {
          "base_uri": "https://localhost:8080/",
          "height": 1054
        },
        "outputId": "7900d96f-f860-45c8-b0a3-7aa2f1fd637e"
      },
      "cell_type": "code",
      "source": [
        "if not PRETRAIN_MODEL:\n",
        "    model = create_blank_model()\n",
        "elif PRETRAIN_MODEL == 'conv_base_vgg16':\n",
        "    model = create_vgg_model()"
      ],
      "execution_count": 20,
      "outputs": [
        {
          "output_type": "stream",
          "text": [
            "_________________________________________________________________\n",
            "Layer (type)                 Output Shape              Param #   \n",
            "=================================================================\n",
            "input_1 (InputLayer)         (None, 150, 150, 3)       0         \n",
            "_________________________________________________________________\n",
            "block1_conv1 (Conv2D)        (None, 150, 150, 64)      1792      \n",
            "_________________________________________________________________\n",
            "block1_conv2 (Conv2D)        (None, 150, 150, 64)      36928     \n",
            "_________________________________________________________________\n",
            "block1_pool (MaxPooling2D)   (None, 75, 75, 64)        0         \n",
            "_________________________________________________________________\n",
            "block2_conv1 (Conv2D)        (None, 75, 75, 128)       73856     \n",
            "_________________________________________________________________\n",
            "block2_conv2 (Conv2D)        (None, 75, 75, 128)       147584    \n",
            "_________________________________________________________________\n",
            "block2_pool (MaxPooling2D)   (None, 37, 37, 128)       0         \n",
            "_________________________________________________________________\n",
            "block3_conv1 (Conv2D)        (None, 37, 37, 256)       295168    \n",
            "_________________________________________________________________\n",
            "block3_conv2 (Conv2D)        (None, 37, 37, 256)       590080    \n",
            "_________________________________________________________________\n",
            "block3_conv3 (Conv2D)        (None, 37, 37, 256)       590080    \n",
            "_________________________________________________________________\n",
            "block3_pool (MaxPooling2D)   (None, 18, 18, 256)       0         \n",
            "_________________________________________________________________\n",
            "block4_conv1 (Conv2D)        (None, 18, 18, 512)       1180160   \n",
            "_________________________________________________________________\n",
            "block4_conv2 (Conv2D)        (None, 18, 18, 512)       2359808   \n",
            "_________________________________________________________________\n",
            "block4_conv3 (Conv2D)        (None, 18, 18, 512)       2359808   \n",
            "_________________________________________________________________\n",
            "block4_pool (MaxPooling2D)   (None, 9, 9, 512)         0         \n",
            "_________________________________________________________________\n",
            "block5_conv1 (Conv2D)        (None, 9, 9, 512)         2359808   \n",
            "_________________________________________________________________\n",
            "block5_conv2 (Conv2D)        (None, 9, 9, 512)         2359808   \n",
            "_________________________________________________________________\n",
            "block5_conv3 (Conv2D)        (None, 9, 9, 512)         2359808   \n",
            "_________________________________________________________________\n",
            "block5_pool (MaxPooling2D)   (None, 4, 4, 512)         0         \n",
            "=================================================================\n",
            "Total params: 14,714,688\n",
            "Trainable params: 14,714,688\n",
            "Non-trainable params: 0\n",
            "_________________________________________________________________\n",
            "None\n",
            "_________________________________________________________________\n",
            "Layer (type)                 Output Shape              Param #   \n",
            "=================================================================\n",
            "vgg16 (Model)                (None, 4, 4, 512)         14714688  \n",
            "_________________________________________________________________\n",
            "flatten_1 (Flatten)          (None, 8192)              0         \n",
            "_________________________________________________________________\n",
            "dense_1 (Dense)              (None, 256)               2097408   \n",
            "_________________________________________________________________\n",
            "dense_2 (Dense)              (None, 29)                7453      \n",
            "=================================================================\n",
            "Total params: 16,819,549\n",
            "Trainable params: 2,104,861\n",
            "Non-trainable params: 14,714,688\n",
            "_________________________________________________________________\n"
          ],
          "name": "stdout"
        }
      ]
    },
    {
      "metadata": {
        "id": "1YCgPt1OLp22",
        "colab_type": "code",
        "colab": {
          "base_uri": "https://localhost:8080/",
          "height": 85
        },
        "outputId": "3369a5c1-bcc0-422f-839a-9ae4f2257f36"
      },
      "cell_type": "code",
      "source": [
        "steps_per_epoch = None\n",
        "\n",
        "if LIMIT_BATCHES is None:\n",
        "  steps_per_epoch_train = len(train_generator)\n",
        "  steps_per_epoch_val = len(validation_generator)\n",
        "  steps_per_epoch_test = len(test_generators[0])\n",
        "else:\n",
        "  steps_per_epoch_train = LIMIT_BATCHES\n",
        "  steps_per_epoch_val = (LIMIT_BATCHES / len(train_generator)) * len(validation_generator)\n",
        "  steps_per_epoch_test = (LIMIT_BATCHES / len(train_generator)) * len(test_generators[0])\n",
        "\n",
        "print('total batches {}'.format(len(train_generator)))\n",
        "print('steps_per_epoch_train {}'.format(steps_per_epoch_train))\n",
        "print('steps_per_epoch_test {}'.format(steps_per_epoch_test))\n",
        "print('steps_per_epoch_val {}'.format(steps_per_epoch_val))\n"
      ],
      "execution_count": 21,
      "outputs": [
        {
          "output_type": "stream",
          "text": [
            "total batches 3720\n",
            "steps_per_epoch_train 593\n",
            "steps_per_epoch_test 34.75107526881721\n",
            "steps_per_epoch_val 65.99516129032259\n"
          ],
          "name": "stdout"
        }
      ]
    },
    {
      "metadata": {
        "id": "NMfeDeRO5RU3",
        "colab_type": "code",
        "colab": {
          "base_uri": "https://localhost:8080/",
          "height": 377
        },
        "outputId": "24455634-f85a-49d2-a5b3-84a3d9c1e4bd"
      },
      "cell_type": "code",
      "source": [
        "\n",
        "history= model.fit_generator (\n",
        "train_generator,\n",
        "epochs = NUM_EPOCHS,\n",
        "steps_per_epoch=steps_per_epoch_train,\n",
        "validation_steps=steps_per_epoch_val,\n",
        "#callbacks = callbacks_list,\n",
        "validation_data=validation_generator,\n",
        "verbose=1 \\\n",
        ")"
      ],
      "execution_count": 22,
      "outputs": [
        {
          "output_type": "stream",
          "text": [
            "Epoch 1/10\n",
            "593/593 [==============================] - 118s 199ms/step - loss: 2.4052 - acc: 0.3846 - val_loss: 1.9077 - val_acc: 0.4803\n",
            "Epoch 2/10\n",
            "593/593 [==============================] - 115s 193ms/step - loss: 1.3601 - acc: 0.6523 - val_loss: 1.3766 - val_acc: 0.6508\n",
            "Epoch 3/10\n",
            "593/593 [==============================] - 115s 194ms/step - loss: 1.0185 - acc: 0.7321 - val_loss: 1.1826 - val_acc: 0.6712\n",
            "Epoch 4/10\n",
            "593/593 [==============================] - 114s 192ms/step - loss: 0.8372 - acc: 0.7706 - val_loss: 0.9975 - val_acc: 0.7220\n",
            "Epoch 5/10\n",
            "593/593 [==============================] - 114s 193ms/step - loss: 0.7268 - acc: 0.8004 - val_loss: 0.9685 - val_acc: 0.7258\n",
            "Epoch 6/10\n",
            "593/593 [==============================] - 114s 193ms/step - loss: 0.6411 - acc: 0.8238 - val_loss: 0.9401 - val_acc: 0.7242\n",
            "Epoch 7/10\n",
            "593/593 [==============================] - 114s 192ms/step - loss: 0.5696 - acc: 0.8401 - val_loss: 0.9314 - val_acc: 0.7142\n",
            "Epoch 8/10\n",
            "593/593 [==============================] - 114s 192ms/step - loss: 0.5321 - acc: 0.8492 - val_loss: 0.9248 - val_acc: 0.7045\n",
            "Epoch 9/10\n",
            "593/593 [==============================] - 114s 193ms/step - loss: 0.5063 - acc: 0.8540 - val_loss: 0.8075 - val_acc: 0.7667\n",
            "Epoch 10/10\n",
            "593/593 [==============================] - 114s 193ms/step - loss: 0.4702 - acc: 0.8637 - val_loss: 0.7604 - val_acc: 0.7568\n"
          ],
          "name": "stdout"
        }
      ]
    },
    {
      "metadata": {
        "id": "soviW5rN5UKG",
        "colab_type": "code",
        "colab": {
          "base_uri": "https://localhost:8080/",
          "height": 362
        },
        "outputId": "6ad1bdbc-c4e9-4e8d-e4a0-3829d94f1aaf"
      },
      "cell_type": "code",
      "source": [
        "#visualization of model performance\n",
        "history_dict = history.history\n",
        "loss_values = history_dict['loss']\n",
        "val_loss_values =  history_dict['val_loss']\n",
        "acc_values = history_dict['acc']\n",
        "\n",
        "epochs = range(1, len(acc_values) + 1)\n",
        "\n",
        "plt.plot(epochs, loss_values, 'bo', label = 'Training Loss')\n",
        "plt.plot(epochs,val_loss_values, 'b', label = 'Validation Loss')\n",
        "plt.title('Training and Validation Losses')\n",
        "plt.xlabel='Epochs'\n",
        "plt.ylabel='Loss'\n",
        "plt.legend()\n",
        "plt.show()"
      ],
      "execution_count": 23,
      "outputs": [
        {
          "output_type": "display_data",
          "data": {
            "image/png": "[encoded data removed]",
            "text/plain": [
              "<matplotlib.figure.Figure at 0x7facb96627b8>"
            ]
          },
          "metadata": {
            "tags": []
          }
        }
      ]
    },
    {
      "metadata": {
        "id": "u9k7xD8S5VWN",
        "colab_type": "code",
        "colab": {
          "base_uri": "https://localhost:8080/",
          "height": 347
        },
        "outputId": "6bdf3d55-6de6-4348-c975-96d1f5cba3bf"
      },
      "cell_type": "code",
      "source": [
        "plt.clf()\n",
        "acc_values = history_dict['acc']\n",
        "val_acc_values = history_dict['val_acc']\n",
        "\n",
        "plt.plot(epochs, acc_values, 'bo', label='Training acc')\n",
        "plt.plot(epochs,val_acc_values, 'b', label='Validation accuracy')\n",
        "plt.xlabel = 'Epochs'\n",
        "plt.ylabel = 'Loss'\n",
        "plt.legend()\n",
        "\n",
        "plt.show()"
      ],
      "execution_count": 24,
      "outputs": [
        {
          "output_type": "display_data",
          "data": {
            "image/png": "[encoded data removed]",
            "text/plain": [
              "<matplotlib.figure.Figure at 0x7facb9656d30>"
            ]
          },
          "metadata": {
            "tags": []
          }
        }
      ]
    },
    {
      "metadata": {
        "id": "4tLl5VA5evNq",
        "colab_type": "text"
      },
      "cell_type": "markdown",
      "source": [
        "## Validate against each of the test generators"
      ]
    },
    {
      "metadata": {
        "id": "3jVBPSk4eT0i",
        "colab_type": "code",
        "colab": {
          "base_uri": "https://localhost:8080/",
          "height": 34
        },
        "outputId": "ee462bff-b78a-4c4e-af57-dfed6684677f"
      },
      "cell_type": "code",
      "source": [
        "for generator, _dir in zip(test_generators, LOCAL_TEST_DIRS):\n",
        "  test_loss, test_acc = model.evaluate_generator(generator, steps=steps_per_epoch_test)\n",
        "  print('{}: {}'.format(_dir, test_acc))"
      ],
      "execution_count": 25,
      "outputs": [
        {
          "output_type": "stream",
          "text": [
            "/tmp/asl_alphabet/split_asl_alphabet_test: 0.9371428506714957\n"
          ],
          "name": "stdout"
        }
      ]
    },
    {
      "metadata": {
        "id": "1kyC1m6UJ_33",
        "colab_type": "code",
        "colab": {}
      },
      "cell_type": "code",
      "source": [
        ""
      ],
      "execution_count": 0,
      "outputs": []
    }
  ]
}