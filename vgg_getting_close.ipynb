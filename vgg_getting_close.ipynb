{
  "nbformat": 4,
  "nbformat_minor": 0,
  "metadata": {
    "colab": {
      "name": "vgg3",
      "version": "0.3.2",
      "provenance": [],
      "collapsed_sections": []
    },
    "kernelspec": {
      "name": "python3",
      "display_name": "Python 3"
    },
    "accelerator": "GPU"
  },
  "cells": [
    {
      "metadata": {
        "id": "CgR4mMjic19L",
        "colab_type": "code",
        "outputId": "05bb4832-bef2-4691-ad2c-9262cc984759",
        "colab": {
          "base_uri": "https://localhost:8080/",
          "height": 34
        }
      },
      "cell_type": "code",
      "source": [
        "from google.colab import drive\n",
        "drive.mount('/content/gdrive')"
      ],
      "execution_count": 0,
      "outputs": [
        {
          "output_type": "stream",
          "text": [
            "Drive already mounted at /content/gdrive; to attempt to forcibly remount, call drive.mount(\"/content/gdrive\", force_remount=True).\n"
          ],
          "name": "stdout"
        }
      ]
    },
    {
      "metadata": {
        "id": "klbyNFvefpbt",
        "colab_type": "code",
        "outputId": "4291b9d5-383e-4213-ded6-46ecfbe5bf9d",
        "colab": {
          "base_uri": "https://localhost:8080/",
          "height": 34
        }
      },
      "cell_type": "code",
      "source": [
        "with open('/content/gdrive/My Drive/foo.txt', 'w') as f:\n",
        "  f.write('Hello Google Drive!')\n",
        "!cat /content/gdrive/My\\ Drive/foo.txt"
      ],
      "execution_count": 1,
      "outputs": [
        {
          "output_type": "stream",
          "text": [
            "Hello Google Drive!"
          ],
          "name": "stdout"
        }
      ]
    },
    {
      "metadata": {
        "id": "PJW8kvIwfvnX",
        "colab_type": "code",
        "outputId": "49cc5351-ad53-49f6-9d62-61f3d03a3803",
        "colab": {
          "base_uri": "https://localhost:8080/",
          "height": 34
        }
      },
      "cell_type": "code",
      "source": [
        "import os, shutil, copy, ntpath, datetime, zipfile\n",
        "import keras\n",
        "from keras import models, layers, callbacks\n",
        "from keras.preprocessing.image import ImageDataGenerator, load_img, img_to_array, array_to_img\n",
        "import tensorflow as tf\n",
        "\n",
        "import matplotlib.pyplot as plt\n",
        "\n",
        "import boto3\n",
        "import glob\n",
        "import ntpath\n",
        "import re\n",
        "\n",
        "import numpy as np\n",
        "import pandas as pd"
      ],
      "execution_count": 2,
      "outputs": [
        {
          "output_type": "stream",
          "text": [
            "Using TensorFlow backend.\n"
          ],
          "name": "stderr"
        }
      ]
    },
    {
      "metadata": {
        "id": "7lJMkDlrfyGX",
        "colab_type": "code",
        "outputId": "f6059914-1ac3-441f-d1e7-989ecc216c01",
        "colab": {
          "base_uri": "https://localhost:8080/",
          "height": 34
        }
      },
      "cell_type": "code",
      "source": [
        "device_name = tf.test.gpu_device_name()\n",
        "if device_name != '/device:GPU:0':\n",
        "  raise SystemError('GPU device not found')\n",
        "print('Found GPU at: {}'.format(device_name))"
      ],
      "execution_count": 16,
      "outputs": [
        {
          "output_type": "stream",
          "text": [
            "Found GPU at: /device:GPU:0\n"
          ],
          "name": "stdout"
        }
      ]
    },
    {
      "metadata": {
        "id": "K5EdtL9kf3d9",
        "colab_type": "code",
        "colab": {}
      },
      "cell_type": "code",
      "source": [
        "#### Settings\n",
        "IMAGE_SHAPE=(200, 200, 3)\n",
        "\n",
        "LIMIT_BATCHES = 30\n",
        "#LIMIT_BATCHES = None\n",
        "\n",
        "NUM_EPOCHS = 30\n",
        "BATCH_SIZE = 20\n",
        "NUM_CLASSES = 29\n",
        "\n",
        "# PRETRAIN_MODEL = 'conv_base_local'\n",
        "# PRETRAIN_MODEL = 'conv_base_vgg16'\n",
        "PRETRAIN_MODEL = None"
      ],
      "execution_count": 0,
      "outputs": []
    },
    {
      "metadata": {
        "id": "-v2yt86Ff7JR",
        "colab_type": "code",
        "colab": {}
      },
      "cell_type": "code",
      "source": [
        "import os\n",
        "\n",
        "#### FilePath Information\n",
        "DATA_DIR = '/content/gdrive/My Drive/'\n",
        "#ASL_ALPHABET_DATASET_ZIP = os.path.join(DATA_DIR, 'asl_alphabet_train2.zip')\n",
        "#LOCAL_DATASET_ZIP = '/tmp/asl_alphabet_train2.zip'\n",
        "#LOCAL_DATASET = '/tmp/asl_alphabet_train2'\n",
        "\n",
        "\n",
        "#ASL_ALPHABET_TEST_DATASET_ZIP = os.path.join(DATA_DIR, 'asl_alphabet_test2.zip')\n",
        "#LOCAL_TEST_DATASET_ZIP = '/tmp/asl_alphabet_test2.zip'\n",
        "#LOCAL_TEST_DATASET = '/tmp/asl_alphabet_test2'\n",
        "\n",
        "\n",
        "#SAVED_MODEL_DIR = os.path.join(DATA_DIR, 'models/asl_alphabet')\n",
        "\n",
        "ASL_ALPHABET_DATASET_ZIP = os.path.join(DATA_DIR, 'asl_alphabet_train1.zip')\n",
        "LOCAL_DATASET_ZIP = '/tmp/asl_alphabet_train1.zip'\n",
        "LOCAL_DATASET = '/tmp/asl_alphabet_train1'\n",
        "\n",
        "\n",
        "ASL_ALPHABET_TEST_DATASET_ZIP = os.path.join(DATA_DIR, 'handsigns.zip')\n",
        "LOCAL_TEST_DATASET_ZIP = '/tmp/handsigns.zip'\n",
        "LOCAL_TEST_DATASET = '/tmp/handsigns'\n",
        "\n",
        "\n",
        "SAVED_MODEL_DIR = os.path.join(DATA_DIR, 'models/asl_handsigns')"
      ],
      "execution_count": 0,
      "outputs": []
    },
    {
      "metadata": {
        "id": "jP8qT8nMgJ3Z",
        "colab_type": "code",
        "colab": {}
      },
      "cell_type": "code",
      "source": [
        "if not os.path.isfile(LOCAL_DATASET_ZIP):\n",
        "  %time shutil.copy(ASL_ALPHABET_DATASET_ZIP, LOCAL_DATASET_ZIP)"
      ],
      "execution_count": 0,
      "outputs": []
    },
    {
      "metadata": {
        "id": "Sm_G3QuwtFE2",
        "colab_type": "code",
        "colab": {}
      },
      "cell_type": "code",
      "source": [
        "if not os.path.isfile(LOCAL_TEST_DATASET_ZIP):\n",
        "  %time shutil.copy(ASL_ALPHABET_TEST_DATASET_ZIP, LOCAL_TEST_DATASET_ZIP)"
      ],
      "execution_count": 0,
      "outputs": []
    },
    {
      "metadata": {
        "id": "fxZnK5RMgNxH",
        "colab_type": "code",
        "colab": {
          "base_uri": "https://localhost:8080/",
          "height": 50
        },
        "outputId": "9f3a9f1f-b630-4e63-aceb-8c49c52c0f3b"
      },
      "cell_type": "code",
      "source": [
        "if not os.path.isdir(LOCAL_DATASET):\n",
        "  with zipfile.ZipFile(LOCAL_DATASET_ZIP, 'r') as zip_ref:\n",
        "      %time zip_ref.extractall('/tmp')\n",
        "   \n",
        "if not os.path.isdir(LOCAL_TEST_DATASET):\n",
        "  with zipfile.ZipFile(LOCAL_TEST_DATASET_ZIP, 'r') as zip_ref:\n",
        "      %time zip_ref.extractall('/tmp')\n"
      ],
      "execution_count": 21,
      "outputs": [
        {
          "output_type": "stream",
          "text": [
            "CPU times: user 5.31 s, sys: 2.56 s, total: 7.87 s\n",
            "Wall time: 8.38 s\n"
          ],
          "name": "stdout"
        }
      ]
    },
    {
      "metadata": {
        "id": "KzO95og1g5R4",
        "colab_type": "code",
        "colab": {}
      },
      "cell_type": "code",
      "source": [
        "# dataset definition with augmentation\n",
        "train_datagen = ImageDataGenerator(\n",
        "    rescale=1./255,\n",
        "    validation_split=0.1,\n",
        "    horizontal_flip=True,\n",
        "    rotation_range=20,\n",
        "    width_shift_range=0.2,\n",
        "    height_shift_range=0.2\n",
        ")\n",
        "\n",
        "test_datagen = ImageDataGenerator(\n",
        "    rescale=1./255\n",
        ")\n",
        "\n",
        "# end with augmentation\n",
        "LOCAL_TEST1_DATASET = '/tmp/asl_alphabet_test1'\n",
        "LOCAL_AHE_TEST_DATASET = '/tmp/ahe_asl_test1a'\n",
        "LOCAL_AHE_NEG_TEST_DATASET = '/tmp/ahe_neg_asl_test1n'\n",
        "LOCAL_FC_AHE_TEST_DATASET = '/tmp/fc_ahe_asl_test1'\n",
        "LOCAL_FC_AHE_NEG_TEST_DATASET = '/tmp/fc_ahe_neg_asl_test1'\n",
        "\n",
        "\n",
        "\n",
        "\n"
      ],
      "execution_count": 0,
      "outputs": []
    },
    {
      "metadata": {
        "id": "yK1sU-gchC1l",
        "colab_type": "code",
        "outputId": "22a76177-0fcf-4c93-c3b0-f53ffa8f1c9b",
        "colab": {
          "base_uri": "https://localhost:8080/",
          "height": 134
        }
      },
      "cell_type": "code",
      "source": [
        "\n",
        "\n",
        "#create generators\n",
        "train_generator = train_datagen.flow_from_directory(\n",
        "           LOCAL_DATASET,\n",
        "           target_size = (IMAGE_SHAPE[0], IMAGE_SHAPE[0]),\n",
        "           batch_size=BATCH_SIZE,\n",
        "           class_mode = 'categorical',\n",
        "           color_mode = \"rgb\",\n",
        "           subset='training'\n",
        ")\n",
        "\n",
        "#create generators\n",
        "\n",
        "validation_generator = train_datagen.flow_from_directory(\n",
        "           LOCAL_DATASET,\n",
        "           target_size = (IMAGE_SHAPE[0], IMAGE_SHAPE[0]),\n",
        "           batch_size=BATCH_SIZE,\n",
        "           class_mode = 'categorical',\n",
        "           color_mode = \"rgb\",\n",
        "           subset='validation'\n",
        ")\n",
        "\n",
        "test1_generator = test_datagen.flow_from_directory(\n",
        "         LOCAL_TEST1_DATASET,\n",
        "         target_size = (IMAGE_SHAPE[0], IMAGE_SHAPE[0]),\n",
        "         batch_size = BATCH_SIZE,\n",
        "         color_mode = \"rgb\",\n",
        "         class_mode='categorical'\n",
        ")\n",
        "\n",
        "ahe_test_generator = test_datagen.flow_from_directory(\n",
        "         LOCAL_AHE_TEST_DATASET,\n",
        "         target_size = (IMAGE_SHAPE[0], IMAGE_SHAPE[0]),\n",
        "         batch_size = BATCH_SIZE,\n",
        "         color_mode = \"rgb\",\n",
        "         class_mode='categorical'\n",
        ")\n",
        "ahe_neg_test_generator = test_datagen.flow_from_directory(\n",
        "         LOCAL_AHE_NEG_TEST_DATASET,\n",
        "         target_size = (IMAGE_SHAPE[0], IMAGE_SHAPE[0]),\n",
        "         batch_size = BATCH_SIZE,\n",
        "         color_mode = \"rgb\",\n",
        "         class_mode='categorical'\n",
        ")\n",
        "fc_ahe_test_generator = test_datagen.flow_from_directory(\n",
        "         LOCAL_FC_AHE_TEST_DATASET,\n",
        "         target_size = (IMAGE_SHAPE[0], IMAGE_SHAPE[0]),\n",
        "         batch_size = BATCH_SIZE,\n",
        "         color_mode = \"rgb\",\n",
        "         class_mode='categorical'\n",
        ")\n",
        "fc_ahe_neg_test_generator = test_datagen.flow_from_directory(\n",
        "         LOCAL_FC_AHE_NEG_TEST_DATASET,\n",
        "         target_size = (IMAGE_SHAPE[0], IMAGE_SHAPE[0]),\n",
        "         batch_size = BATCH_SIZE,\n",
        "         color_mode = \"rgb\",\n",
        "         class_mode='categorical'\n",
        ")\n",
        "\n"
      ],
      "execution_count": 30,
      "outputs": [
        {
          "output_type": "stream",
          "text": [
            "Found 371114 images belonging to 29 classes.\n",
            "Found 41221 images belonging to 29 classes.\n",
            "Found 4239 images belonging to 29 classes.\n",
            "Found 4239 images belonging to 29 classes.\n",
            "Found 4239 images belonging to 29 classes.\n",
            "Found 4239 images belonging to 29 classes.\n",
            "Found 4239 images belonging to 29 classes.\n"
          ],
          "name": "stdout"
        }
      ]
    },
    {
      "metadata": {
        "id": "q4_lIasrYOLu",
        "colab_type": "code",
        "outputId": "82ee09d7-5d87-48a8-88ef-d5abbcf881f6",
        "colab": {
          "base_uri": "https://localhost:8080/",
          "height": 773
        }
      },
      "cell_type": "code",
      "source": [
        "from keras.applications import VGG16\n",
        "\n",
        "conv_base = VGG16(weights='imagenet',\n",
        "                  include_top=False,\n",
        "                  input_shape=(IMAGE_SHAPE[0], IMAGE_SHAPE[1], IMAGE_SHAPE[2]))\n",
        "conv_base.summary()"
      ],
      "execution_count": 24,
      "outputs": [
        {
          "output_type": "stream",
          "text": [
            "_________________________________________________________________\n",
            "Layer (type)                 Output Shape              Param #   \n",
            "=================================================================\n",
            "input_2 (InputLayer)         (None, 200, 200, 3)       0         \n",
            "_________________________________________________________________\n",
            "block1_conv1 (Conv2D)        (None, 200, 200, 64)      1792      \n",
            "_________________________________________________________________\n",
            "block1_conv2 (Conv2D)        (None, 200, 200, 64)      36928     \n",
            "_________________________________________________________________\n",
            "block1_pool (MaxPooling2D)   (None, 100, 100, 64)      0         \n",
            "_________________________________________________________________\n",
            "block2_conv1 (Conv2D)        (None, 100, 100, 128)     73856     \n",
            "_________________________________________________________________\n",
            "block2_conv2 (Conv2D)        (None, 100, 100, 128)     147584    \n",
            "_________________________________________________________________\n",
            "block2_pool (MaxPooling2D)   (None, 50, 50, 128)       0         \n",
            "_________________________________________________________________\n",
            "block3_conv1 (Conv2D)        (None, 50, 50, 256)       295168    \n",
            "_________________________________________________________________\n",
            "block3_conv2 (Conv2D)        (None, 50, 50, 256)       590080    \n",
            "_________________________________________________________________\n",
            "block3_conv3 (Conv2D)        (None, 50, 50, 256)       590080    \n",
            "_________________________________________________________________\n",
            "block3_pool (MaxPooling2D)   (None, 25, 25, 256)       0         \n",
            "_________________________________________________________________\n",
            "block4_conv1 (Conv2D)        (None, 25, 25, 512)       1180160   \n",
            "_________________________________________________________________\n",
            "block4_conv2 (Conv2D)        (None, 25, 25, 512)       2359808   \n",
            "_________________________________________________________________\n",
            "block4_conv3 (Conv2D)        (None, 25, 25, 512)       2359808   \n",
            "_________________________________________________________________\n",
            "block4_pool (MaxPooling2D)   (None, 12, 12, 512)       0         \n",
            "_________________________________________________________________\n",
            "block5_conv1 (Conv2D)        (None, 12, 12, 512)       2359808   \n",
            "_________________________________________________________________\n",
            "block5_conv2 (Conv2D)        (None, 12, 12, 512)       2359808   \n",
            "_________________________________________________________________\n",
            "block5_conv3 (Conv2D)        (None, 12, 12, 512)       2359808   \n",
            "_________________________________________________________________\n",
            "block5_pool (MaxPooling2D)   (None, 6, 6, 512)         0         \n",
            "=================================================================\n",
            "Total params: 14,714,688\n",
            "Trainable params: 14,714,688\n",
            "Non-trainable params: 0\n",
            "_________________________________________________________________\n"
          ],
          "name": "stdout"
        }
      ]
    },
    {
      "metadata": {
        "id": "JSQwbSQDSH6T",
        "colab_type": "code",
        "outputId": "40536fe2-1df9-4532-8bff-2a4dbff2e866",
        "colab": {
          "base_uri": "https://localhost:8080/",
          "height": 269
        }
      },
      "cell_type": "code",
      "source": [
        "# uaing augmentation to eliminate overfitting\n",
        "\n",
        "from keras import models\n",
        "from keras import layers\n",
        "\n",
        "model = models.Sequential()\n",
        "model.add(conv_base)\n",
        "model.add(layers.Flatten())\n",
        "model.add(layers.Dense(256, activation='relu'))\n",
        "model.add(layers.Dense(29, activation='sigmoid'))\n",
        "\n",
        "optimizer = keras.optimizers.RMSprop(lr=0.0001)\n",
        "model.compile(optimizer=optimizer, loss='categorical_crossentropy', metrics=['accuracy'])\n",
        "\n",
        "model.summary()"
      ],
      "execution_count": 25,
      "outputs": [
        {
          "output_type": "stream",
          "text": [
            "_________________________________________________________________\n",
            "Layer (type)                 Output Shape              Param #   \n",
            "=================================================================\n",
            "vgg16 (Model)                (None, 6, 6, 512)         14714688  \n",
            "_________________________________________________________________\n",
            "flatten_2 (Flatten)          (None, 18432)             0         \n",
            "_________________________________________________________________\n",
            "dense_3 (Dense)              (None, 256)               4718848   \n",
            "_________________________________________________________________\n",
            "dense_4 (Dense)              (None, 29)                7453      \n",
            "=================================================================\n",
            "Total params: 19,440,989\n",
            "Trainable params: 19,440,989\n",
            "Non-trainable params: 0\n",
            "_________________________________________________________________\n"
          ],
          "name": "stdout"
        }
      ]
    },
    {
      "metadata": {
        "id": "daLUAJpeF7GO",
        "colab_type": "code",
        "outputId": "cb958eee-f5c8-4ed2-b0ef-9685abca4a97",
        "colab": {
          "base_uri": "https://localhost:8080/",
          "height": 50
        }
      },
      "cell_type": "code",
      "source": [
        "\n",
        "\n",
        "# must freeze the pre-trained convnet layers before running the model \n",
        "print('This is the number of trainable weights '\n",
        "      'before freezing the conv base:', len(model.trainable_weights))\n",
        "conv_base.trainable = False\n",
        "print('This is the number of trainable weights '\n",
        "      'after freezing the conv base:', len(model.trainable_weights))"
      ],
      "execution_count": 31,
      "outputs": [
        {
          "output_type": "stream",
          "text": [
            "This is the number of trainable weights before freezing the conv base: 4\n",
            "This is the number of trainable weights after freezing the conv base: 4\n"
          ],
          "name": "stdout"
        }
      ]
    },
    {
      "metadata": {
        "id": "HeLXxvO5gR4A",
        "colab_type": "code",
        "colab": {}
      },
      "cell_type": "code",
      "source": [
        "optimizer = keras.optimizers.RMSprop(lr=0.0001)\n",
        "model.compile(optimizer=optimizer, loss='categorical_crossentropy', metrics=['accuracy'])\n"
      ],
      "execution_count": 0,
      "outputs": []
    },
    {
      "metadata": {
        "id": "OUbbVMI5F2Y_",
        "colab_type": "code",
        "outputId": "19bbf6b7-86d5-4390-d2cb-0080cca6aa49",
        "colab": {
          "base_uri": "https://localhost:8080/",
          "height": 1025
        }
      },
      "cell_type": "code",
      "source": [
        "steps_per_epoch = None\n",
        "\n",
        "if LIMIT_BATCHES is None: \n",
        "  steps_per_epoch_train = len(train_generator) \n",
        "  steps_per_epoch_val = len(validation_generator) \n",
        "\n",
        "else: \n",
        "  steps_per_epoch_train = len(train_generator)/(BATCH_SIZE) \n",
        "  steps_per_epoch_val = len(validation_generator)/BATCH_SIZE\n",
        "\n",
        "callbacks_list = [ callbacks.EarlyStopping(monitor='acc', patience=5), \n",
        "                  callbacks.ModelCheckpoint(filepath = 'handsigns.h5', \n",
        "                  monitor = 'val_loss', \n",
        "                  save_best_only = True), \n",
        "                  callbacks.ReduceLROnPlateau(monitor='val_loss', \n",
        "                  factor = 0.1, \n",
        "                  patience=10) ]\n",
        "\n",
        "\n",
        "history = model.fit_generator(train_generator,\n",
        "                    epochs=NUM_EPOCHS,\n",
        "                    callbacks = callbacks_list,\n",
        "                    verbose = 1,\n",
        "                    steps_per_epoch = steps_per_epoch_train,\n",
        "                    validation_steps = steps_per_epoch_val,\n",
        "                    validation_data=validation_generator)"
      ],
      "execution_count": 33,
      "outputs": [
        {
          "output_type": "stream",
          "text": [
            "Epoch 1/30\n",
            "928/927 [==============================] - 311s 335ms/step - loss: 2.2495 - acc: 0.3834 - val_loss: 1.8568 - val_acc: 0.4644\n",
            "Epoch 2/30\n",
            "928/927 [==============================] - 306s 330ms/step - loss: 1.2785 - acc: 0.6379 - val_loss: 1.4066 - val_acc: 0.5933\n",
            "Epoch 3/30\n",
            "928/927 [==============================] - 304s 328ms/step - loss: 1.0078 - acc: 0.7068 - val_loss: 1.1602 - val_acc: 0.6529\n",
            "Epoch 4/30\n",
            "928/927 [==============================] - 302s 326ms/step - loss: 0.8624 - acc: 0.7435 - val_loss: 1.1878 - val_acc: 0.6442\n",
            "Epoch 5/30\n",
            "928/927 [==============================] - 301s 324ms/step - loss: 0.7634 - acc: 0.7720 - val_loss: 1.0920 - val_acc: 0.6582\n",
            "Epoch 6/30\n",
            "928/927 [==============================] - 299s 323ms/step - loss: 0.7053 - acc: 0.7831 - val_loss: 1.1184 - val_acc: 0.6817\n",
            "Epoch 7/30\n",
            "928/927 [==============================] - 299s 323ms/step - loss: 0.6545 - acc: 0.8014 - val_loss: 1.0134 - val_acc: 0.6865\n",
            "Epoch 8/30\n",
            "928/927 [==============================] - 300s 323ms/step - loss: 0.6065 - acc: 0.8093 - val_loss: 0.8777 - val_acc: 0.7341\n",
            "Epoch 9/30\n",
            "928/927 [==============================] - 301s 324ms/step - loss: 0.5816 - acc: 0.8194 - val_loss: 0.8805 - val_acc: 0.7250\n",
            "Epoch 10/30\n",
            "928/927 [==============================] - 300s 324ms/step - loss: 0.5533 - acc: 0.8266 - val_loss: 0.9484 - val_acc: 0.7005\n",
            "Epoch 11/30\n",
            "928/927 [==============================] - 297s 320ms/step - loss: 0.5256 - acc: 0.8359 - val_loss: 0.8646 - val_acc: 0.7279\n",
            "Epoch 12/30\n",
            "928/927 [==============================] - 300s 324ms/step - loss: 0.5054 - acc: 0.8383 - val_loss: 0.9250 - val_acc: 0.7154\n",
            "Epoch 13/30\n",
            "928/927 [==============================] - 300s 323ms/step - loss: 0.5019 - acc: 0.8398 - val_loss: 0.8702 - val_acc: 0.7351\n",
            "Epoch 14/30\n",
            "928/927 [==============================] - 300s 323ms/step - loss: 0.4777 - acc: 0.8481 - val_loss: 0.9256 - val_acc: 0.7269\n",
            "Epoch 15/30\n",
            "928/927 [==============================] - 299s 323ms/step - loss: 0.4630 - acc: 0.8524 - val_loss: 0.8081 - val_acc: 0.7423\n",
            "Epoch 16/30\n",
            "928/927 [==============================] - 300s 323ms/step - loss: 0.4557 - acc: 0.8540 - val_loss: 0.8051 - val_acc: 0.7514\n",
            "Epoch 17/30\n",
            "928/927 [==============================] - 301s 324ms/step - loss: 0.4479 - acc: 0.8564 - val_loss: 0.8229 - val_acc: 0.7620\n",
            "Epoch 18/30\n",
            "928/927 [==============================] - 299s 323ms/step - loss: 0.4415 - acc: 0.8578 - val_loss: 0.7757 - val_acc: 0.7505\n",
            "Epoch 19/30\n",
            "928/927 [==============================] - 301s 324ms/step - loss: 0.4215 - acc: 0.8655 - val_loss: 0.8626 - val_acc: 0.7389\n",
            "Epoch 20/30\n",
            "928/927 [==============================] - 301s 324ms/step - loss: 0.4098 - acc: 0.8654 - val_loss: 0.8517 - val_acc: 0.7385\n",
            "Epoch 21/30\n",
            "928/927 [==============================] - 292s 315ms/step - loss: 0.4098 - acc: 0.8679 - val_loss: 0.8131 - val_acc: 0.7471\n",
            "Epoch 22/30\n",
            "928/927 [==============================] - 294s 317ms/step - loss: 0.3994 - acc: 0.8723 - val_loss: 0.9200 - val_acc: 0.7250\n",
            "Epoch 23/30\n",
            "928/927 [==============================] - 296s 319ms/step - loss: 0.3934 - acc: 0.8689 - val_loss: 0.7647 - val_acc: 0.7620\n",
            "Epoch 24/30\n",
            "928/927 [==============================] - 296s 319ms/step - loss: 0.3863 - acc: 0.8725 - val_loss: 0.8061 - val_acc: 0.7481\n",
            "Epoch 25/30\n",
            "928/927 [==============================] - 297s 320ms/step - loss: 0.3890 - acc: 0.8742 - val_loss: 0.9050 - val_acc: 0.7197\n",
            "Epoch 26/30\n",
            "928/927 [==============================] - 298s 321ms/step - loss: 0.3724 - acc: 0.8839 - val_loss: 0.9031 - val_acc: 0.7476\n",
            "Epoch 27/30\n",
            "928/927 [==============================] - 298s 321ms/step - loss: 0.3756 - acc: 0.8794 - val_loss: 0.8235 - val_acc: 0.7562\n",
            "Epoch 28/30\n",
            "928/927 [==============================] - 298s 321ms/step - loss: 0.3696 - acc: 0.8812 - val_loss: 0.8219 - val_acc: 0.7572\n",
            "Epoch 29/30\n",
            "928/927 [==============================] - 299s 322ms/step - loss: 0.3567 - acc: 0.8812 - val_loss: 0.7731 - val_acc: 0.7649\n",
            "Epoch 30/30\n",
            "928/927 [==============================] - 299s 323ms/step - loss: 0.3582 - acc: 0.8852 - val_loss: 0.8003 - val_acc: 0.7683\n"
          ],
          "name": "stdout"
        }
      ]
    },
    {
      "metadata": {
        "id": "EEnc9-JNwVSi",
        "colab_type": "code",
        "colab": {
          "base_uri": "https://localhost:8080/",
          "height": 706
        },
        "outputId": "d83d72cf-98bd-4372-f802-202a106d7e61"
      },
      "cell_type": "code",
      "source": [
        "import matplotlib.pyplot as plt\n",
        "\n",
        "acc = history.history['acc']\n",
        "val_acc = history.history['val_acc']\n",
        "loss = history.history['loss']\n",
        "val_loss = history.history['val_loss']\n",
        "\n",
        "epochs = range(len(acc))\n",
        "\n",
        "plt.plot(epochs, acc, 'bo', label='Training acc')\n",
        "plt.plot(epochs, val_acc, 'b', label='Validation acc')\n",
        "plt.title('Training and validation accuracy')\n",
        "plt.legend()\n",
        "\n",
        "plt.figure()\n",
        "\n",
        "plt.plot(epochs, loss, 'bo', label='Training loss')\n",
        "plt.plot(epochs, val_loss, 'b', label='Validation loss')\n",
        "plt.title('Training and validation loss')\n",
        "plt.legend()\n",
        "\n",
        "plt.show()"
      ],
      "execution_count": 34,
      "outputs": [
        {
          "output_type": "display_data",
          "data": {
            "image/png": "[encoded data removed]",
            "text/plain": [
              "<matplotlib.figure.Figure at 0x7f4b07a75ac8>"
            ]
          },
          "metadata": {
            "tags": []
          }
        },
        {
          "output_type": "display_data",
          "data": {
            "image/png": "[encoded data removed]",
            "text/plain": [
              "<matplotlib.figure.Figure at 0x7f4b04738358>"
            ]
          },
          "metadata": {
            "tags": []
          }
        }
      ]
    },
    {
      "metadata": {
        "id": "2OWWFiFLJUeL",
        "colab_type": "code",
        "colab": {
          "base_uri": "https://localhost:8080/",
          "height": 101
        },
        "outputId": "eb799185-31dd-45ef-8fb4-57c5ed288ca1"
      },
      "cell_type": "code",
      "source": [
        "test_loss, test_acc = model.evaluate_generator(test1_generator,steps=len(test1_generator)/BATCH_SIZE)\n",
        "print('test1_acc: ',test_acc)\n",
        "test_loss, test_acc = model.evaluate_generator(ahe_test_generator,len(ahe_test_generator)/BATCH_SIZE)\n",
        "print('ahe_test_acc: ',test_acc)\n",
        "test_loss, test_acc = model.evaluate_generator(ahe_neg_test_generator,len(ahe_neg_test_generator)/BATCH_SIZE)\n",
        "print('ahe__neg_test_acc: ',test_acc)\n",
        "\n",
        "test_loss, test_acc = model.evaluate_generator(fc_ahe_test_generator,len(fc_ahe_test_generator)/BATCH_SIZE)\n",
        "print('fc_ahe_test_acc: ',test_acc)\n",
        "test_loss, test_acc = model.evaluate_generator(fc_ahe_neg_test_generator,len(fc_ahe_neg_test_generator)/BATCH_SIZE)\n",
        "print('fc_ahe__neg_test_acc: ',test_acc)"
      ],
      "execution_count": 35,
      "outputs": [
        {
          "output_type": "stream",
          "text": [
            "test1_acc:  0.922727265141227\n",
            "ahe_test_acc:  0.9681818105957725\n",
            "ahe__neg_test_acc:  0.9363636320287531\n",
            "fc_ahe_test_acc:  0.9545454491268505\n",
            "fc_ahe__neg_test_acc:  0.9272727207704023\n"
          ],
          "name": "stdout"
        }
      ]
    }
  ]
}